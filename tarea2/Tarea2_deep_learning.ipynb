{
  "nbformat": 4,
  "nbformat_minor": 0,
  "metadata": {
    "colab": {
      "name": "Tarea2_deep_learning.ipynb",
      "version": "0.3.2",
      "views": {},
      "default_view": {},
      "provenance": [],
      "collapsed_sections": []
    },
    "kernelspec": {
      "name": "python2",
      "display_name": "Python 2"
    },
    "accelerator": "GPU"
  },
  "cells": [
    {
      "metadata": {
        "id": "XUpfM3SuDS6k",
        "colab_type": "text"
      },
      "cell_type": "markdown",
      "source": [
        "# Tarea 2 : Clasificación y búsqueda por similitud de sketches usando redes convolucionales\n",
        "\n",
        "# CC6204 Deep Learning, Universidad de Chile <br/> Hoja de respuestas \n",
        "\n",
        "## Nombre: Martín Cornejo Saavedra\n",
        "Fecha para completar la tarea: 17 de junio de 2018"
      ]
    },
    {
      "metadata": {
        "id": "3nzFvqp2kkDA",
        "colab_type": "code",
        "colab": {
          "autoexec": {
            "startup": false,
            "wait_interval": 0
          }
        }
      },
      "cell_type": "code",
      "source": [
        "!pip install -U -q PyDrive ## you will have install for every colab session\n",
        "\n",
        "from pydrive.auth import GoogleAuth\n",
        "from pydrive.drive import GoogleDrive\n",
        "from google.colab import auth\n",
        "from oauth2client.client import GoogleCredentials\n",
        "\n",
        "# 1. Authenticate and create the PyDrive client.\n",
        "auth.authenticate_user()\n",
        "gauth = GoogleAuth()\n",
        "gauth.credentials = GoogleCredentials.get_application_default() \n",
        "drive = GoogleDrive(gauth)"
      ],
      "execution_count": 0,
      "outputs": []
    },
    {
      "metadata": {
        "id": "-iFzuj4Oorss",
        "colab_type": "code",
        "colab": {
          "autoexec": {
            "startup": false,
            "wait_interval": 0
          }
        }
      },
      "cell_type": "code",
      "source": [
        "from google.colab import files"
      ],
      "execution_count": 0,
      "outputs": []
    },
    {
      "metadata": {
        "id": "rZjPsrt_EnFd",
        "colab_type": "code",
        "colab": {
          "autoexec": {
            "startup": false,
            "wait_interval": 0
          }
        }
      },
      "cell_type": "code",
      "source": [
        "import tensorflow as tf\n",
        "\n",
        "import matplotlib.pyplot as plt\n",
        "import numpy as np\n",
        "\n",
        "from skimage.draw import line as drawLine\n",
        "\n",
        "import pdb\n",
        "import random\n",
        "import os\n",
        "import json"
      ],
      "execution_count": 0,
      "outputs": []
    },
    {
      "metadata": {
        "id": "lwllwdwMuZiE",
        "colab_type": "code",
        "colab": {
          "autoexec": {
            "startup": false,
            "wait_interval": 0
          },
          "base_uri": "https://localhost:8080/",
          "height": 35
        },
        "outputId": "a543475c-17c4-42e5-b80e-4deb04b2950f",
        "executionInfo": {
          "status": "ok",
          "timestamp": 1528417290219,
          "user_tz": 240,
          "elapsed": 1274,
          "user": {
            "displayName": "Martín Cornejo-Saavedra",
            "photoUrl": "https://lh3.googleusercontent.com/a/default-user=s128",
            "userId": "100137397923643336617"
          }
        }
      },
      "cell_type": "code",
      "source": [
        "tf.test.gpu_device_name()"
      ],
      "execution_count": 9,
      "outputs": [
        {
          "output_type": "execute_result",
          "data": {
            "text/plain": [
              "'/device:GPU:0'"
            ]
          },
          "metadata": {
            "tags": []
          },
          "execution_count": 9
        }
      ]
    },
    {
      "metadata": {
        "id": "Lb00DHDgGWBC",
        "colab_type": "text"
      },
      "cell_type": "markdown",
      "source": [
        "## Construcción del conjunto de datos"
      ]
    },
    {
      "metadata": {
        "id": "DWHsEQiWDRr4",
        "colab_type": "code",
        "colab": {
          "autoexec": {
            "startup": false,
            "wait_interval": 0
          }
        }
      },
      "cell_type": "code",
      "source": [
        "raw_categories = !gsutil ls -r \"gs://quickdraw_dataset/full/simplified/*\"\n",
        "\n",
        "max_num_categories = 100\n",
        "train_samples_per_cat = 1000\n",
        "test_samples_per_cat = 50"
      ],
      "execution_count": 0,
      "outputs": []
    },
    {
      "metadata": {
        "id": "2SHWwUA3Jngh",
        "colab_type": "text"
      },
      "cell_type": "markdown",
      "source": [
        "### Elegimos 100 categorias al azar y las descargamos"
      ]
    },
    {
      "metadata": {
        "id": "Io7kpyNfGHi0",
        "colab_type": "code",
        "colab": {
          "autoexec": {
            "startup": false,
            "wait_interval": 0
          }
        }
      },
      "cell_type": "code",
      "source": [
        "for idx, raw_cat in enumerate(raw_categories):\n",
        "  raw_categories[idx] = raw_cat.replace(\" \", \"\\ \")   # para que bash reconozca el espacio en la descarga\n",
        "\n",
        "random_categories = []\n",
        "\n",
        "while True:\n",
        "  rand_cat = random.randint(0, len(raw_categories)-1)\n",
        "  if rand_cat not in random_categories:\n",
        "    random_categories.append(rand_cat)\n",
        "  if len(random_categories) is max_num_categories:\n",
        "    break"
      ],
      "execution_count": 0,
      "outputs": []
    },
    {
      "metadata": {
        "id": "22Mt8lBUEX_1",
        "colab_type": "code",
        "colab": {
          "autoexec": {
            "startup": false,
            "wait_interval": 0
          },
          "base_uri": "https://localhost:8080/",
          "height": 35
        },
        "outputId": "d2f2aeac-6e60-40a2-9f36-f7c70bd77c29",
        "executionInfo": {
          "status": "ok",
          "timestamp": 1528423597467,
          "user_tz": 240,
          "elapsed": 1858,
          "user": {
            "displayName": "Martín Cornejo-Saavedra",
            "photoUrl": "https://lh3.googleusercontent.com/a/default-user=s128",
            "userId": "100137397923643336617"
          }
        }
      },
      "cell_type": "code",
      "source": [
        "!mkdir quick_draw_data\n",
        "os.chdir(\"/content/quick_draw_data\")"
      ],
      "execution_count": 6,
      "outputs": [
        {
          "output_type": "stream",
          "text": [
            "mkdir: cannot create directory ‘quick_draw_data’: File exists\r\n"
          ],
          "name": "stdout"
        }
      ]
    },
    {
      "metadata": {
        "id": "Z97Ar-OjVPh0",
        "colab_type": "code",
        "colab": {
          "autoexec": {
            "startup": false,
            "wait_interval": 0
          }
        }
      },
      "cell_type": "code",
      "source": [
        "str_random_cat = []\n",
        "\n",
        "os.system(\"mkdir train\")\n",
        "os.system(\"mkdir test\")\n",
        "\n",
        "for category in random_categories:\n",
        "  aux = raw_categories[category].replace(\"gs://quickdraw_dataset/full/simplified/\", \"\")\n",
        "  aux = aux.replace(\".ndjson\", \"\")\n",
        "  str_random_cat.append(aux)"
      ],
      "execution_count": 0,
      "outputs": []
    },
    {
      "metadata": {
        "id": "cynXyLqxHDtu",
        "colab_type": "code",
        "colab": {
          "autoexec": {
            "startup": false,
            "wait_interval": 0
          },
          "base_uri": "https://localhost:8080/",
          "height": 1835
        },
        "outputId": "9556ce9d-ccc0-4cba-ebd6-3ac6aeb78924",
        "executionInfo": {
          "status": "ok",
          "timestamp": 1528417596031,
          "user_tz": 240,
          "elapsed": 232190,
          "user": {
            "displayName": "Martín Cornejo-Saavedra",
            "photoUrl": "https://lh3.googleusercontent.com/a/default-user=s128",
            "userId": "100137397923643336617"
          }
        }
      },
      "cell_type": "code",
      "source": [
        "for idx, category in enumerate(random_categories):\n",
        "  os.system(\"gsutil cp \" + raw_categories[category] + \" .\")\n",
        "  print(\"La categoria \" + str(idx+1) + \" copiada es \" + raw_categories[category])"
      ],
      "execution_count": 14,
      "outputs": [
        {
          "output_type": "stream",
          "text": [
            "La categoria 1 copiada es gs://quickdraw_dataset/full/simplified/light\\ bulb.ndjson\n",
            "La categoria 2 copiada es gs://quickdraw_dataset/full/simplified/mosquito.ndjson\n",
            "La categoria 3 copiada es gs://quickdraw_dataset/full/simplified/paint\\ can.ndjson\n",
            "La categoria 4 copiada es gs://quickdraw_dataset/full/simplified/crayon.ndjson\n",
            "La categoria 5 copiada es gs://quickdraw_dataset/full/simplified/saw.ndjson\n",
            "La categoria 6 copiada es gs://quickdraw_dataset/full/simplified/power\\ outlet.ndjson\n",
            "La categoria 7 copiada es gs://quickdraw_dataset/full/simplified/microphone.ndjson\n",
            "La categoria 8 copiada es gs://quickdraw_dataset/full/simplified/spreadsheet.ndjson\n",
            "La categoria 9 copiada es gs://quickdraw_dataset/full/simplified/lobster.ndjson\n",
            "La categoria 10 copiada es gs://quickdraw_dataset/full/simplified/squiggle.ndjson\n",
            "La categoria 11 copiada es gs://quickdraw_dataset/full/simplified/calculator.ndjson\n",
            "La categoria 12 copiada es gs://quickdraw_dataset/full/simplified/garden\\ hose.ndjson\n",
            "La categoria 13 copiada es gs://quickdraw_dataset/full/simplified/matches.ndjson\n",
            "La categoria 14 copiada es gs://quickdraw_dataset/full/simplified/flying\\ saucer.ndjson\n",
            "La categoria 15 copiada es gs://quickdraw_dataset/full/simplified/pig.ndjson\n",
            "La categoria 16 copiada es gs://quickdraw_dataset/full/simplified/fish.ndjson\n",
            "La categoria 17 copiada es gs://quickdraw_dataset/full/simplified/tent.ndjson\n",
            "La categoria 18 copiada es gs://quickdraw_dataset/full/simplified/rain.ndjson\n",
            "La categoria 19 copiada es gs://quickdraw_dataset/full/simplified/bee.ndjson\n",
            "La categoria 20 copiada es gs://quickdraw_dataset/full/simplified/hourglass.ndjson\n",
            "La categoria 21 copiada es gs://quickdraw_dataset/full/simplified/megaphone.ndjson\n",
            "La categoria 22 copiada es gs://quickdraw_dataset/full/simplified/drums.ndjson\n",
            "La categoria 23 copiada es gs://quickdraw_dataset/full/simplified/barn.ndjson\n",
            "La categoria 24 copiada es gs://quickdraw_dataset/full/simplified/radio.ndjson\n",
            "La categoria 25 copiada es gs://quickdraw_dataset/full/simplified/van.ndjson\n",
            "La categoria 26 copiada es gs://quickdraw_dataset/full/simplified/trombone.ndjson\n",
            "La categoria 27 copiada es gs://quickdraw_dataset/full/simplified/soccer\\ ball.ndjson\n",
            "La categoria 28 copiada es gs://quickdraw_dataset/full/simplified/sweater.ndjson\n",
            "La categoria 29 copiada es gs://quickdraw_dataset/full/simplified/table.ndjson\n",
            "La categoria 30 copiada es gs://quickdraw_dataset/full/simplified/train.ndjson\n",
            "La categoria 31 copiada es gs://quickdraw_dataset/full/simplified/underwear.ndjson\n",
            "La categoria 32 copiada es gs://quickdraw_dataset/full/simplified/cloud.ndjson\n",
            "La categoria 33 copiada es gs://quickdraw_dataset/full/simplified/foot.ndjson\n",
            "La categoria 34 copiada es gs://quickdraw_dataset/full/simplified/church.ndjson\n",
            "La categoria 35 copiada es gs://quickdraw_dataset/full/simplified/parachute.ndjson\n",
            "La categoria 36 copiada es gs://quickdraw_dataset/full/simplified/dresser.ndjson\n",
            "La categoria 37 copiada es gs://quickdraw_dataset/full/simplified/bandage.ndjson\n",
            "La categoria 38 copiada es gs://quickdraw_dataset/full/simplified/lighthouse.ndjson\n",
            "La categoria 39 copiada es gs://quickdraw_dataset/full/simplified/triangle.ndjson\n",
            "La categoria 40 copiada es gs://quickdraw_dataset/full/simplified/baseball.ndjson\n",
            "La categoria 41 copiada es gs://quickdraw_dataset/full/simplified/broom.ndjson\n",
            "La categoria 42 copiada es gs://quickdraw_dataset/full/simplified/leaf.ndjson\n",
            "La categoria 43 copiada es gs://quickdraw_dataset/full/simplified/laptop.ndjson\n",
            "La categoria 44 copiada es gs://quickdraw_dataset/full/simplified/hospital.ndjson\n",
            "La categoria 45 copiada es gs://quickdraw_dataset/full/simplified/ant.ndjson\n",
            "La categoria 46 copiada es gs://quickdraw_dataset/full/simplified/diamond.ndjson\n",
            "La categoria 47 copiada es gs://quickdraw_dataset/full/simplified/wine\\ bottle.ndjson\n",
            "La categoria 48 copiada es gs://quickdraw_dataset/full/simplified/traffic\\ light.ndjson\n",
            "La categoria 49 copiada es gs://quickdraw_dataset/full/simplified/candle.ndjson\n"
          ],
          "name": "stdout"
        },
        {
          "output_type": "stream",
          "text": [
            "La categoria 50 copiada es gs://quickdraw_dataset/full/simplified/postcard.ndjson\n",
            "La categoria 51 copiada es gs://quickdraw_dataset/full/simplified/square.ndjson\n",
            "La categoria 52 copiada es gs://quickdraw_dataset/full/simplified/cake.ndjson\n",
            "La categoria 53 copiada es gs://quickdraw_dataset/full/simplified/crab.ndjson\n",
            "La categoria 54 copiada es gs://quickdraw_dataset/full/simplified/alarm\\ clock.ndjson\n",
            "La categoria 55 copiada es gs://quickdraw_dataset/full/simplified/hand.ndjson\n",
            "La categoria 56 copiada es gs://quickdraw_dataset/full/simplified/umbrella.ndjson\n",
            "La categoria 57 copiada es gs://quickdraw_dataset/full/simplified/sheep.ndjson\n",
            "La categoria 58 copiada es gs://quickdraw_dataset/full/simplified/garden.ndjson\n",
            "La categoria 59 copiada es gs://quickdraw_dataset/full/simplified/shark.ndjson\n",
            "La categoria 60 copiada es gs://quickdraw_dataset/full/simplified/saxophone.ndjson\n",
            "La categoria 61 copiada es gs://quickdraw_dataset/full/simplified/snorkel.ndjson\n",
            "La categoria 62 copiada es gs://quickdraw_dataset/full/simplified/spoon.ndjson\n",
            "La categoria 63 copiada es gs://quickdraw_dataset/full/simplified/binoculars.ndjson\n",
            "La categoria 64 copiada es gs://quickdraw_dataset/full/simplified/mailbox.ndjson\n",
            "La categoria 65 copiada es gs://quickdraw_dataset/full/simplified/rhinoceros.ndjson\n",
            "La categoria 66 copiada es gs://quickdraw_dataset/full/simplified/eye.ndjson\n",
            "La categoria 67 copiada es gs://quickdraw_dataset/full/simplified/zigzag.ndjson\n",
            "La categoria 68 copiada es gs://quickdraw_dataset/full/simplified/donut.ndjson\n",
            "La categoria 69 copiada es gs://quickdraw_dataset/full/simplified/bulldozer.ndjson\n",
            "La categoria 70 copiada es gs://quickdraw_dataset/full/simplified/coffee\\ cup.ndjson\n",
            "La categoria 71 copiada es gs://quickdraw_dataset/full/simplified/hexagon.ndjson\n",
            "La categoria 72 copiada es gs://quickdraw_dataset/full/simplified/lightning.ndjson\n",
            "La categoria 73 copiada es gs://quickdraw_dataset/full/simplified/potato.ndjson\n",
            "La categoria 74 copiada es gs://quickdraw_dataset/full/simplified/shovel.ndjson\n",
            "La categoria 75 copiada es gs://quickdraw_dataset/full/simplified/ladder.ndjson\n",
            "La categoria 76 copiada es gs://quickdraw_dataset/full/simplified/peas.ndjson\n",
            "La categoria 77 copiada es gs://quickdraw_dataset/full/simplified/hot\\ tub.ndjson\n",
            "La categoria 78 copiada es gs://quickdraw_dataset/full/simplified/bread.ndjson\n",
            "La categoria 79 copiada es gs://quickdraw_dataset/full/simplified/fan.ndjson\n",
            "La categoria 80 copiada es gs://quickdraw_dataset/full/simplified/mountain.ndjson\n",
            "La categoria 81 copiada es gs://quickdraw_dataset/full/simplified/toilet.ndjson\n",
            "La categoria 82 copiada es gs://quickdraw_dataset/full/simplified/door.ndjson\n",
            "La categoria 83 copiada es gs://quickdraw_dataset/full/simplified/rainbow.ndjson\n",
            "La categoria 84 copiada es gs://quickdraw_dataset/full/simplified/bear.ndjson\n",
            "La categoria 85 copiada es gs://quickdraw_dataset/full/simplified/sun.ndjson\n",
            "La categoria 86 copiada es gs://quickdraw_dataset/full/simplified/pizza.ndjson\n",
            "La categoria 87 copiada es gs://quickdraw_dataset/full/simplified/flower.ndjson\n",
            "La categoria 88 copiada es gs://quickdraw_dataset/full/simplified/skateboard.ndjson\n",
            "La categoria 89 copiada es gs://quickdraw_dataset/full/simplified/parrot.ndjson\n",
            "La categoria 90 copiada es gs://quickdraw_dataset/full/simplified/bucket.ndjson\n",
            "La categoria 91 copiada es gs://quickdraw_dataset/full/simplified/finger.ndjson\n",
            "La categoria 92 copiada es gs://quickdraw_dataset/full/simplified/knee.ndjson\n",
            "La categoria 93 copiada es gs://quickdraw_dataset/full/simplified/brain.ndjson\n",
            "La categoria 94 copiada es gs://quickdraw_dataset/full/simplified/stereo.ndjson\n",
            "La categoria 95 copiada es gs://quickdraw_dataset/full/simplified/computer.ndjson\n",
            "La categoria 96 copiada es gs://quickdraw_dataset/full/simplified/bench.ndjson\n",
            "La categoria 97 copiada es gs://quickdraw_dataset/full/simplified/microwave.ndjson\n",
            "La categoria 98 copiada es gs://quickdraw_dataset/full/simplified/marker.ndjson\n"
          ],
          "name": "stdout"
        },
        {
          "output_type": "stream",
          "text": [
            "La categoria 99 copiada es gs://quickdraw_dataset/full/simplified/remote\\ control.ndjson\n",
            "La categoria 100 copiada es gs://quickdraw_dataset/full/simplified/animal\\ migration.ndjson\n"
          ],
          "name": "stdout"
        }
      ]
    },
    {
      "metadata": {
        "id": "WpO2Vyh9JtfB",
        "colab_type": "code",
        "colab": {
          "autoexec": {
            "startup": false,
            "wait_interval": 0
          },
          "base_uri": "https://localhost:8080/",
          "height": 35
        },
        "outputId": "33d51d7a-0f27-4be5-cf88-edeafadaf929",
        "executionInfo": {
          "status": "ok",
          "timestamp": 1528417750845,
          "user_tz": 240,
          "elapsed": 2645,
          "user": {
            "displayName": "Martín Cornejo-Saavedra",
            "photoUrl": "https://lh3.googleusercontent.com/a/default-user=s128",
            "userId": "100137397923643336617"
          }
        }
      },
      "cell_type": "code",
      "source": [
        "categories = !ls\n",
        "print(len(categories))\n",
        "\n",
        "for cat in str_random_cat:\n",
        "  if (cat + \".ndjson\").replace(\"\\ \", \" \") not in categories:\n",
        "    print(\"falta \" + cat)"
      ],
      "execution_count": 15,
      "outputs": [
        {
          "output_type": "stream",
          "text": [
            "102\n"
          ],
          "name": "stdout"
        }
      ]
    },
    {
      "metadata": {
        "id": "NV6uyw8wFK30",
        "colab_type": "text"
      },
      "cell_type": "markdown",
      "source": [
        "### Se convierte la data en formato json a bitmaps de 128x128 y se guardan en formato .txt"
      ]
    },
    {
      "metadata": {
        "id": "pE7tDx5TYQyT",
        "colab_type": "code",
        "colab": {
          "autoexec": {
            "startup": false,
            "wait_interval": 0
          }
        }
      },
      "cell_type": "code",
      "source": [
        "def parse_line(ndjson_line):\n",
        "  \"\"\"Parse an ndjson line and return ink (as np array) and classname.\"\"\"\n",
        "  sample = json.loads(ndjson_line)\n",
        "  class_name = sample[\"word\"]\n",
        "  if not class_name:\n",
        "    print (\"Empty classname\")\n",
        "    return None, None\n",
        "  inkarray = sample[\"drawing\"]\n",
        "\n",
        "  div_scale = 2\n",
        "  \n",
        "  for idx, stroke in enumerate(inkarray):\n",
        "    if len(stroke[0]) != len(stroke[1]):\n",
        "      print(\"Inconsistent number of x and y coordinates.\")\n",
        "      return None, None\n",
        "    \n",
        "    for idy, x_coord in enumerate(stroke[0]):\n",
        "      inkarray[idx][0][idy] /= div_scale\n",
        "      inkarray[idx][1][idy] /= div_scale\n",
        "  \n",
        "  return inkarray, class_name\n",
        "\n",
        "def convert_data(trainingdata_dir,\n",
        "                 observations_per_class,\n",
        "                 output_folder,\n",
        "                 offset=0):\n",
        "  \n",
        "  file_handles = []\n",
        "  # Open all input files.\n",
        "  for filename in sorted(tf.gfile.ListDirectory(trainingdata_dir)):\n",
        "    if not filename.endswith(\".ndjson\"):\n",
        "      #print(\"Skipping\", filename)\n",
        "      continue\n",
        "    file_handles.append(\n",
        "        tf.gfile.GFile(os.path.join(trainingdata_dir, filename), \"r\"))\n",
        "    if offset:  # Fast forward all files to skip the offset.\n",
        "      count = 0\n",
        "      for _ in file_handles[-1]:\n",
        "        count += 1\n",
        "        if count == offset:\n",
        "          break\n",
        "\n",
        "    \n",
        "  reading_order = list(range(len(file_handles)))\n",
        "          \n",
        "  class_names = []  \n",
        "  class_names_pairs = []\n",
        "    \n",
        "  for idx in reading_order:\n",
        "    for pictureNum in range(observations_per_class):\n",
        "      line = file_handles[idx].readline()\n",
        "      ink = None\n",
        "      \n",
        "      while ink is None:\n",
        "        ink, class_name = parse_line(line)\n",
        "        if ink is None:\n",
        "          print (\"Couldn't parse ink from '\" + line + \"'.\")\n",
        "\n",
        "      drawing = np.zeros((128, 128), dtype=np.uint8)\n",
        "      \n",
        "      if class_name not in class_names:\n",
        "        class_names.append(class_name)  \n",
        "        class_names_pairs.append((idx, class_name))      \n",
        "        os.system(\"mkdir \" + output_folder + str(idx))\n",
        "        print(str(idx) + \";\" + class_name)\n",
        "\n",
        "      for linea in ink:\n",
        "        for idy in range(len(linea[0])-1):\n",
        "          rr, cc = drawLine(linea[1][idy], linea[0][idy], linea[1][idy+1], linea[0][idy+1])\n",
        "          drawing[rr, cc] = 1\n",
        "\n",
        "      np.savetxt(output_folder + str(idx) + \"/\" + str(pictureNum) + \".txt\", drawing, fmt=\"%d\", delimiter=\" \")\n",
        "#       file = drive.CreateFile({'parents':[{u'id': folder_id}]})\n",
        "#       file.SetContentFile(output_folder + str(idx) + \"/\" + str(pictureNum) + \".txt\")\n",
        "#       file['title'] = str(pictureNum) + \".txt\"\n",
        "#       file.Upload()\n",
        "\n",
        "  return class_names_pairs"
      ],
      "execution_count": 0,
      "outputs": []
    },
    {
      "metadata": {
        "id": "Y-WnhKa1ubKQ",
        "colab_type": "code",
        "colab": {
          "autoexec": {
            "startup": false,
            "wait_interval": 0
          },
          "base_uri": "https://localhost:8080/",
          "height": 1835
        },
        "outputId": "9c51b88c-478b-4121-cc24-6ef088a2dade",
        "executionInfo": {
          "status": "ok",
          "timestamp": 1528421479092,
          "user_tz": 240,
          "elapsed": 697430,
          "user": {
            "displayName": "Martín Cornejo-Saavedra",
            "photoUrl": "https://lh3.googleusercontent.com/a/default-user=s128",
            "userId": "100137397923643336617"
          }
        }
      },
      "cell_type": "code",
      "source": [
        "class_names_train = convert_data(\".\",\n",
        "             train_samples_per_cat,\n",
        "             \"train/\")"
      ],
      "execution_count": 28,
      "outputs": [
        {
          "output_type": "stream",
          "text": [
            "0;alarm clock\n",
            "1;animal migration\n",
            "2;ant\n",
            "3;bandage\n",
            "4;barn\n",
            "5;baseball\n",
            "6;bear\n",
            "7;bee\n",
            "8;bench\n",
            "9;binoculars\n",
            "10;brain\n",
            "11;bread\n",
            "12;broom\n",
            "13;bucket\n",
            "14;bulldozer\n",
            "15;cake\n",
            "16;calculator\n",
            "17;candle\n",
            "18;church\n",
            "19;cloud\n",
            "20;coffee cup\n",
            "21;computer\n",
            "22;crab\n",
            "23;crayon\n",
            "24;diamond\n",
            "25;donut\n",
            "26;door\n",
            "27;dresser\n",
            "28;drums\n",
            "29;eye\n",
            "30;fan\n",
            "31;finger\n",
            "32;fish\n",
            "33;flower\n",
            "34;flying saucer\n",
            "35;foot\n",
            "36;garden hose\n",
            "37;garden\n",
            "38;hand\n",
            "39;hexagon\n",
            "40;hospital\n",
            "41;hot tub\n",
            "42;hourglass\n",
            "43;knee\n",
            "44;ladder\n",
            "45;laptop\n",
            "46;leaf\n",
            "47;light bulb\n",
            "48;lighthouse\n",
            "49;lightning\n",
            "50;lobster\n",
            "51;mailbox\n",
            "52;marker\n",
            "53;matches\n",
            "54;megaphone\n",
            "55;microphone\n",
            "56;microwave\n",
            "57;mosquito\n",
            "58;mountain\n",
            "59;paint can\n",
            "60;parachute\n",
            "61;parrot\n",
            "62;peas\n",
            "63;pig\n",
            "64;pizza\n",
            "65;postcard\n",
            "66;potato\n",
            "67;power outlet\n",
            "68;radio\n",
            "69;rain\n",
            "70;rainbow\n",
            "71;remote control\n",
            "72;rhinoceros\n",
            "73;saw\n",
            "74;saxophone\n",
            "75;shark\n",
            "76;sheep\n",
            "77;shovel\n",
            "78;skateboard\n",
            "79;snorkel\n",
            "80;soccer ball\n",
            "81;spoon\n",
            "82;spreadsheet\n",
            "83;square\n",
            "84;squiggle\n",
            "85;stereo\n",
            "86;sun\n",
            "87;sweater\n",
            "88;table\n",
            "89;tent\n",
            "90;toilet\n",
            "91;traffic light\n",
            "92;train\n",
            "93;triangle\n",
            "94;trombone\n",
            "95;umbrella\n",
            "96;underwear\n",
            "97;van\n",
            "98;wine bottle\n",
            "99;zigzag\n"
          ],
          "name": "stdout"
        }
      ]
    },
    {
      "metadata": {
        "id": "pOQBSBqN9Qzx",
        "colab_type": "code",
        "colab": {
          "autoexec": {
            "startup": false,
            "wait_interval": 0
          },
          "base_uri": "https://localhost:8080/",
          "height": 1835
        },
        "outputId": "e00855fd-3a56-4f95-a94a-daaf2abddafe",
        "executionInfo": {
          "status": "ok",
          "timestamp": 1528421628268,
          "user_tz": 240,
          "elapsed": 39500,
          "user": {
            "displayName": "Martín Cornejo-Saavedra",
            "photoUrl": "https://lh3.googleusercontent.com/a/default-user=s128",
            "userId": "100137397923643336617"
          }
        }
      },
      "cell_type": "code",
      "source": [
        "class_names_test = convert_data(\".\",\n",
        "             test_samples_per_cat,\n",
        "             \"test/\",\n",
        "             train_samples_per_cat)"
      ],
      "execution_count": 29,
      "outputs": [
        {
          "output_type": "stream",
          "text": [
            "0;alarm clock\n",
            "1;animal migration\n",
            "2;ant\n",
            "3;bandage\n",
            "4;barn\n",
            "5;baseball\n",
            "6;bear\n",
            "7;bee\n",
            "8;bench\n",
            "9;binoculars\n",
            "10;brain\n",
            "11;bread\n",
            "12;broom\n",
            "13;bucket\n",
            "14;bulldozer\n",
            "15;cake\n",
            "16;calculator\n",
            "17;candle\n",
            "18;church\n",
            "19;cloud\n",
            "20;coffee cup\n",
            "21;computer\n",
            "22;crab\n",
            "23;crayon\n",
            "24;diamond\n",
            "25;donut\n",
            "26;door\n",
            "27;dresser\n",
            "28;drums\n",
            "29;eye\n",
            "30;fan\n",
            "31;finger\n",
            "32;fish\n",
            "33;flower\n",
            "34;flying saucer\n",
            "35;foot\n",
            "36;garden hose\n",
            "37;garden\n",
            "38;hand\n",
            "39;hexagon\n",
            "40;hospital\n",
            "41;hot tub\n",
            "42;hourglass\n",
            "43;knee\n",
            "44;ladder\n",
            "45;laptop\n",
            "46;leaf\n",
            "47;light bulb\n",
            "48;lighthouse\n",
            "49;lightning\n",
            "50;lobster\n",
            "51;mailbox\n",
            "52;marker\n",
            "53;matches\n",
            "54;megaphone\n",
            "55;microphone\n",
            "56;microwave\n",
            "57;mosquito\n",
            "58;mountain\n",
            "59;paint can\n",
            "60;parachute\n",
            "61;parrot\n",
            "62;peas\n",
            "63;pig\n",
            "64;pizza\n",
            "65;postcard\n",
            "66;potato\n",
            "67;power outlet\n",
            "68;radio\n",
            "69;rain\n",
            "70;rainbow\n",
            "71;remote control\n",
            "72;rhinoceros\n",
            "73;saw\n",
            "74;saxophone\n",
            "75;shark\n",
            "76;sheep\n",
            "77;shovel\n",
            "78;skateboard\n",
            "79;snorkel\n",
            "80;soccer ball\n",
            "81;spoon\n",
            "82;spreadsheet\n",
            "83;square\n",
            "84;squiggle\n",
            "85;stereo\n",
            "86;sun\n",
            "87;sweater\n",
            "88;table\n",
            "89;tent\n",
            "90;toilet\n",
            "91;traffic light\n",
            "92;train\n",
            "93;triangle\n",
            "94;trombone\n",
            "95;umbrella\n",
            "96;underwear\n",
            "97;van\n",
            "98;wine bottle\n",
            "99;zigzag\n"
          ],
          "name": "stdout"
        }
      ]
    },
    {
      "metadata": {
        "id": "Azx2iVCgzBaV",
        "colab_type": "code",
        "colab": {
          "autoexec": {
            "startup": false,
            "wait_interval": 0
          },
          "base_uri": "https://localhost:8080/",
          "height": 683
        },
        "outputId": "2c86c57f-1c18-4620-8bd6-77c9a479671c",
        "executionInfo": {
          "status": "ok",
          "timestamp": 1528423606075,
          "user_tz": 240,
          "elapsed": 1147,
          "user": {
            "displayName": "Martín Cornejo-Saavedra",
            "photoUrl": "https://lh3.googleusercontent.com/a/default-user=s128",
            "userId": "100137397923643336617"
          }
        }
      },
      "cell_type": "code",
      "source": [
        "test_imagen = np.loadtxt(\"test/3/11.txt\")\n",
        "plt.imshow(test_imagen)\n",
        "plt.show()\n",
        "\n",
        "train_imagen = np.loadtxt(\"train/3/250.txt\")\n",
        "plt.imshow(train_imagen)\n",
        "plt.show()"
      ],
      "execution_count": 7,
      "outputs": [
        {
          "output_type": "display_data",
          "data": {
            "image/png": "[encoded data removed]",
            "text/plain": [
              "<matplotlib.figure.Figure at 0x7f6998ebed90>"
            ]
          },
          "metadata": {
            "tags": []
          }
        },
        {
          "output_type": "display_data",
          "data": {
            "image/png": "[encoded data removed]",
            "text/plain": [
              "<matplotlib.figure.Figure at 0x7f69fb56ffd0>"
            ]
          },
          "metadata": {
            "tags": []
          }
        }
      ]
    },
    {
      "metadata": {
        "id": "hn2SEWbuNrHl",
        "colab_type": "code",
        "colab": {
          "autoexec": {
            "startup": false,
            "wait_interval": 0
          }
        }
      },
      "cell_type": "code",
      "source": [
        "!tar czf train.tar.gz train/\n",
        "!tar czf test.tar.gz test/\n",
        "files.download('train.tar.gz') \n",
        "files.download('test.tar.gz') "
      ],
      "execution_count": 0,
      "outputs": []
    },
    {
      "metadata": {
        "id": "JyMSjf1nOQli",
        "colab_type": "text"
      },
      "cell_type": "markdown",
      "source": [
        "### Se crea una clase para extraer datos de entrenamiento"
      ]
    },
    {
      "metadata": {
        "id": "q4dPgoCvOP9j",
        "colab_type": "code",
        "colab": {
          "autoexec": {
            "startup": false,
            "wait_interval": 0
          }
        }
      },
      "cell_type": "code",
      "source": [
        "class QuickDataset():\n",
        "  def __init__(self, data_path, samples_per_cat):            \n",
        "    self.samples = samples_per_cat\n",
        "    self.data_path = data_path + \"/\"    \n",
        "  \n",
        "  def get_batch(self, batch_size):\n",
        "    x_lista = []\n",
        "    y_lista = []    \n",
        "    \n",
        "    for _ in range(batch_size):\n",
        "      cat = np.random.randint(max_num_categories)\n",
        "      sample = np.random.randint(self.samples)\n",
        "      \n",
        "      train_input = np.loadtxt(self.data_path + str(cat) + \"/\" + str(sample) + \".txt\")\n",
        "      x_lista.append(np.resize(train_input, (1, 16384))[0])\n",
        "      y_lista.append(cat)\n",
        "  \n",
        "    return x_lista, y_lista\n",
        "    \n",
        "train_dataset = QuickDataset(\"train\", train_samples_per_cat)\n",
        "test_dataset = QuickDataset(\"test\", test_samples_per_cat)"
      ],
      "execution_count": 0,
      "outputs": []
    },
    {
      "metadata": {
        "id": "mXt86OpEaGCI",
        "colab_type": "text"
      },
      "cell_type": "markdown",
      "source": [
        "### Función de entrenamiento"
      ]
    },
    {
      "metadata": {
        "id": "kuih0U8haI4K",
        "colab_type": "code",
        "colab": {
          "autoexec": {
            "startup": false,
            "wait_interval": 0
          }
        }
      },
      "cell_type": "code",
      "source": [
        "def train_net(dnn_graph, batch_size, n_epochs, learning_rate):\n",
        "  x = tf.placeholder(tf.float16, shape=(None, 128*128))\n",
        "  y_ = tf.placeholder(tf.int64, shape=(None))\n",
        "  y_conv = dnn_graph(x, True)\n",
        "\n",
        "  cross_entropy = tf.nn.sparse_softmax_cross_entropy_with_logits(labels=y_,\n",
        "                                                            logits=y_conv)\n",
        "  cross_entropy = tf.reduce_mean(cross_entropy)\n",
        "\n",
        "  train_step = tf.train.GradientDescentOptimizer(learning_rate)\n",
        "  train_step = train_step.minimize(cross_entropy)\n",
        "\n",
        "  correct_prediction = tf.equal(tf.argmax(y_conv, 1), y_)\n",
        "  correct_prediction = tf.cast(correct_prediction, tf.float32)\n",
        "  accuracy = tf.reduce_mean(correct_prediction)\n",
        "\n",
        "  loss_array = []\n",
        "  train_acc = []\n",
        "  test_acc = []\n",
        "  \n",
        "  batches_per_epoch = max_num_categories * train_samples_per_cat / batch_size\n",
        "  \n",
        "  test_batches_per_epoch = max_num_categories * test_samples_per_cat / batch_size\n",
        "\n",
        "  with tf.Session() as sess:\n",
        "    init = tf.global_variables_initializer()\n",
        "    init.run()    \n",
        "    for idz in range(n_epochs * batches_per_epoch):\n",
        "      batch = train_dataset.get_batch(batch_size)\n",
        "        \n",
        "      if idz % (batches_per_epoch/10) == 0:\n",
        "        train_accuracy = accuracy.eval(feed_dict={x: batch[0], y_: batch[1]})\n",
        "        print('step %d, training set accuracy %g' % (idz, train_accuracy))\n",
        "        loss_array.append(cross_entropy.eval(feed_dict={x: batch[0], y_: batch[1]}))\n",
        "        train_acc.append(train_accuracy)\n",
        "\n",
        "      if idz % batches_per_epoch == 0:        \n",
        "        test_acc_aux = []\n",
        "        for idy in range(test_batches_per_epoch): \n",
        "          test_batch = test_dataset.get_batch(batch_size)\n",
        "          test_acc_aux.append(accuracy.eval(feed_dict={x: test_batch[0], y_: test_batch[1]}))  \n",
        "\n",
        "        test_acc_mean = sum(test_acc_aux)/len(test_acc_aux)  \n",
        "        print('test set accuracy ' + str(test_acc_mean))\n",
        "        test_acc.append(test_acc_mean)\n",
        "\n",
        "      sess.run(train_step, feed_dict={x: batch[0], y_: batch[1]})\n",
        "        \n",
        "  return loss_array, train_acc, test_acc"
      ],
      "execution_count": 0,
      "outputs": []
    },
    {
      "metadata": {
        "id": "gYUHVu3iFXTM",
        "colab_type": "text"
      },
      "cell_type": "markdown",
      "source": [
        "## Construcción y entrenamiento de la skNet"
      ]
    },
    {
      "metadata": {
        "id": "qeY5sZVQRGRL",
        "colab_type": "text"
      },
      "cell_type": "markdown",
      "source": [
        "### Construcción del grafo"
      ]
    },
    {
      "metadata": {
        "id": "fSiarO2jzL3g",
        "colab_type": "code",
        "colab": {
          "autoexec": {
            "startup": false,
            "wait_interval": 0
          }
        }
      },
      "cell_type": "code",
      "source": [
        "def skNet(x, training=False):\n",
        "  with tf.name_scope('reshape'):\n",
        "    x_image = tf.reshape(x, [-1, 128, 128, 1])       \n",
        "\n",
        "  conv1_1 = tf.layers.conv2d(\n",
        "    inputs=x_image,\n",
        "    filters=64,\n",
        "    kernel_size=[3, 3],\n",
        "    padding=\"same\",\n",
        "    activation=tf.nn.relu)\n",
        "  \n",
        "  conv1_1_n = tf.contrib.layers.batch_norm(conv1_1,\n",
        "                                    center=True,\n",
        "                                    scale=True, \n",
        "                                    is_training=training)\n",
        "  \n",
        "  conv1_2 = tf.layers.conv2d(\n",
        "    inputs=conv1_1_n,\n",
        "    filters=64,\n",
        "    kernel_size=[3, 3],\n",
        "    padding=\"same\",\n",
        "    activation=tf.nn.relu)\n",
        "  \n",
        "  conv1_2_n = tf.contrib.layers.batch_norm(conv1_2,\n",
        "                                    center=True,\n",
        "                                    scale=True, \n",
        "                                    is_training=training)\n",
        "\n",
        "  pool1 = tf.layers.max_pooling2d(inputs=conv1_2_n, pool_size=[3, 3], strides=2)\n",
        "  \n",
        "  conv2_1 = tf.layers.conv2d(\n",
        "    inputs=pool1,\n",
        "    filters=128,\n",
        "    kernel_size=[3, 3],\n",
        "    padding=\"same\",\n",
        "    activation=tf.nn.relu)\n",
        "  \n",
        "  conv2_1_n = tf.contrib.layers.batch_norm(conv2_1,\n",
        "                                    center=True,\n",
        "                                    scale=True, \n",
        "                                    is_training=training)\n",
        "  \n",
        "  conv2_2 = tf.layers.conv2d(\n",
        "    inputs=conv2_1_n,\n",
        "    filters=128,\n",
        "    kernel_size=[3, 3],\n",
        "    padding=\"same\",\n",
        "    activation=tf.nn.relu)\n",
        "  \n",
        "  conv2_2_n = tf.contrib.layers.batch_norm(conv2_2,\n",
        "                                    center=True,\n",
        "                                    scale=True, \n",
        "                                    is_training=training)\n",
        "\n",
        "  pool2 = tf.layers.max_pooling2d(inputs=conv2_2_n, pool_size=[3, 3], strides=2)\n",
        "  \n",
        "  conv3_1 = tf.layers.conv2d(\n",
        "    inputs=pool2,\n",
        "    filters=128,\n",
        "    kernel_size=[3, 3],\n",
        "    padding=\"same\",\n",
        "    activation=tf.nn.relu)\n",
        "  \n",
        "  conv3_1_n = tf.contrib.layers.batch_norm(conv3_1,\n",
        "                                    center=True,\n",
        "                                    scale=True, \n",
        "                                    is_training=training)\n",
        "  \n",
        "  conv3_2 = tf.layers.conv2d(\n",
        "    inputs=conv3_1_n,\n",
        "    filters=128,\n",
        "    kernel_size=[3, 3],\n",
        "    padding=\"same\",\n",
        "    activation=tf.nn.relu)\n",
        "  \n",
        "  conv3_2_n = tf.contrib.layers.batch_norm(conv3_2,\n",
        "                                    center=True,\n",
        "                                    scale=True, \n",
        "                                    is_training=training)\n",
        "\n",
        "  pool3 = tf.layers.max_pooling2d(inputs=conv3_2_n, pool_size=[3, 3], strides=2)\n",
        "  \n",
        "  conv4_1 = tf.layers.conv2d(\n",
        "    inputs=pool3,\n",
        "    filters=256,\n",
        "    kernel_size=[3, 3],\n",
        "    padding=\"same\",\n",
        "    activation=tf.nn.relu)\n",
        "  \n",
        "  conv4_1_n = tf.contrib.layers.batch_norm(conv4_1,\n",
        "                                    center=True,\n",
        "                                    scale=True, \n",
        "                                    is_training=training)\n",
        "  \n",
        "  conv4_2 = tf.layers.conv2d(\n",
        "    inputs=conv4_1_n,\n",
        "    filters=256,\n",
        "    kernel_size=[3, 3],\n",
        "    padding=\"same\",\n",
        "    activation=tf.nn.relu)\n",
        "  \n",
        "  conv4_2_n = tf.contrib.layers.batch_norm(conv4_2,\n",
        "                                    center=True,\n",
        "                                    scale=True, \n",
        "                                    is_training=training)\n",
        "\n",
        "  pool4 = tf.layers.max_pooling2d(inputs=conv4_2_n, pool_size=[3, 3], strides=2)\n",
        "\n",
        "  # Dense layer\n",
        "  \n",
        "  pool2_flat = tf.reshape(pool4, [-1, 7*7*256])\n",
        "  dense_l = tf.layers.dense(inputs=pool2_flat, units=1024, activation=tf.nn.relu)\n",
        "  \n",
        "  # Logits Layer\n",
        "  \n",
        "  logits = tf.layers.dense(inputs=dense_l, units=max_num_categories)\n",
        "  \n",
        "  return logits"
      ],
      "execution_count": 0,
      "outputs": []
    },
    {
      "metadata": {
        "id": "vCs0P712RNJJ",
        "colab_type": "text"
      },
      "cell_type": "markdown",
      "source": [
        "### Entrenamiento de skNet"
      ]
    },
    {
      "metadata": {
        "id": "nJlFunVeHA3g",
        "colab_type": "code",
        "colab": {
          "autoexec": {
            "startup": false,
            "wait_interval": 0
          },
          "base_uri": "https://localhost:8080/",
          "height": 1118
        },
        "outputId": "94089ddd-d17d-44f7-fe87-a30c387ea728",
        "executionInfo": {
          "status": "error",
          "timestamp": 1528425690857,
          "user_tz": 240,
          "elapsed": 321942,
          "user": {
            "displayName": "Martín Cornejo-Saavedra",
            "photoUrl": "https://lh3.googleusercontent.com/a/default-user=s128",
            "userId": "100137397923643336617"
          }
        }
      },
      "cell_type": "code",
      "source": [
        "loss_array, train_acc, test_acc = train_net(skNet, 100, 1, 0.001)"
      ],
      "execution_count": 21,
      "outputs": [
        {
          "output_type": "stream",
          "text": [
            "step 0, training set accuracy 0.01\n",
            "test set accuracy 0.011199999749660492\n",
            "step 100, training set accuracy 0.07\n"
          ],
          "name": "stdout"
        },
        {
          "output_type": "error",
          "ename": "KeyboardInterrupt",
          "evalue": "ignored",
          "traceback": [
            "\u001b[0;31m\u001b[0m",
            "\u001b[0;31mKeyboardInterrupt\u001b[0mTraceback (most recent call last)",
            "\u001b[0;32m<ipython-input-21-bb260313791a>\u001b[0m in \u001b[0;36m<module>\u001b[0;34m()\u001b[0m\n\u001b[0;32m----> 1\u001b[0;31m \u001b[0mloss_array\u001b[0m\u001b[0;34m,\u001b[0m \u001b[0mtrain_acc\u001b[0m\u001b[0;34m,\u001b[0m \u001b[0mtest_acc\u001b[0m \u001b[0;34m=\u001b[0m \u001b[0mtrain_net\u001b[0m\u001b[0;34m(\u001b[0m\u001b[0mskNet\u001b[0m\u001b[0;34m,\u001b[0m \u001b[0;36m100\u001b[0m\u001b[0;34m,\u001b[0m \u001b[0;36m1\u001b[0m\u001b[0;34m,\u001b[0m \u001b[0;36m0.001\u001b[0m\u001b[0;34m)\u001b[0m\u001b[0;34m\u001b[0m\u001b[0m\n\u001b[0m",
            "\u001b[0;32m<ipython-input-20-04091e4e1ef9>\u001b[0m in \u001b[0;36mtrain_net\u001b[0;34m(dnn_graph, batch_size, n_epochs, learning_rate)\u001b[0m\n\u001b[1;32m     45\u001b[0m         \u001b[0mtest_acc\u001b[0m\u001b[0;34m.\u001b[0m\u001b[0mappend\u001b[0m\u001b[0;34m(\u001b[0m\u001b[0mtest_acc_mean\u001b[0m\u001b[0;34m)\u001b[0m\u001b[0;34m\u001b[0m\u001b[0m\n\u001b[1;32m     46\u001b[0m \u001b[0;34m\u001b[0m\u001b[0m\n\u001b[0;32m---> 47\u001b[0;31m       \u001b[0msess\u001b[0m\u001b[0;34m.\u001b[0m\u001b[0mrun\u001b[0m\u001b[0;34m(\u001b[0m\u001b[0mtrain_step\u001b[0m\u001b[0;34m,\u001b[0m \u001b[0mfeed_dict\u001b[0m\u001b[0;34m=\u001b[0m\u001b[0;34m{\u001b[0m\u001b[0mx\u001b[0m\u001b[0;34m:\u001b[0m \u001b[0mbatch\u001b[0m\u001b[0;34m[\u001b[0m\u001b[0;36m0\u001b[0m\u001b[0;34m]\u001b[0m\u001b[0;34m,\u001b[0m \u001b[0my_\u001b[0m\u001b[0;34m:\u001b[0m \u001b[0mbatch\u001b[0m\u001b[0;34m[\u001b[0m\u001b[0;36m1\u001b[0m\u001b[0;34m]\u001b[0m\u001b[0;34m}\u001b[0m\u001b[0;34m)\u001b[0m\u001b[0;34m\u001b[0m\u001b[0m\n\u001b[0m\u001b[1;32m     48\u001b[0m \u001b[0;34m\u001b[0m\u001b[0m\n\u001b[1;32m     49\u001b[0m   \u001b[0;32mreturn\u001b[0m \u001b[0mloss_array\u001b[0m\u001b[0;34m,\u001b[0m \u001b[0mtrain_acc\u001b[0m\u001b[0;34m,\u001b[0m \u001b[0mtest_acc\u001b[0m\u001b[0;34m\u001b[0m\u001b[0m\n",
            "\u001b[0;32m/usr/local/lib/python2.7/dist-packages/tensorflow/python/client/session.pyc\u001b[0m in \u001b[0;36mrun\u001b[0;34m(self, fetches, feed_dict, options, run_metadata)\u001b[0m\n\u001b[1;32m    898\u001b[0m     \u001b[0;32mtry\u001b[0m\u001b[0;34m:\u001b[0m\u001b[0;34m\u001b[0m\u001b[0m\n\u001b[1;32m    899\u001b[0m       result = self._run(None, fetches, feed_dict, options_ptr,\n\u001b[0;32m--> 900\u001b[0;31m                          run_metadata_ptr)\n\u001b[0m\u001b[1;32m    901\u001b[0m       \u001b[0;32mif\u001b[0m \u001b[0mrun_metadata\u001b[0m\u001b[0;34m:\u001b[0m\u001b[0;34m\u001b[0m\u001b[0m\n\u001b[1;32m    902\u001b[0m         \u001b[0mproto_data\u001b[0m \u001b[0;34m=\u001b[0m \u001b[0mtf_session\u001b[0m\u001b[0;34m.\u001b[0m\u001b[0mTF_GetBuffer\u001b[0m\u001b[0;34m(\u001b[0m\u001b[0mrun_metadata_ptr\u001b[0m\u001b[0;34m)\u001b[0m\u001b[0;34m\u001b[0m\u001b[0m\n",
            "\u001b[0;32m/usr/local/lib/python2.7/dist-packages/tensorflow/python/client/session.pyc\u001b[0m in \u001b[0;36m_run\u001b[0;34m(self, handle, fetches, feed_dict, options, run_metadata)\u001b[0m\n\u001b[1;32m   1133\u001b[0m     \u001b[0;32mif\u001b[0m \u001b[0mfinal_fetches\u001b[0m \u001b[0;32mor\u001b[0m \u001b[0mfinal_targets\u001b[0m \u001b[0;32mor\u001b[0m \u001b[0;34m(\u001b[0m\u001b[0mhandle\u001b[0m \u001b[0;32mand\u001b[0m \u001b[0mfeed_dict_tensor\u001b[0m\u001b[0;34m)\u001b[0m\u001b[0;34m:\u001b[0m\u001b[0;34m\u001b[0m\u001b[0m\n\u001b[1;32m   1134\u001b[0m       results = self._do_run(handle, final_targets, final_fetches,\n\u001b[0;32m-> 1135\u001b[0;31m                              feed_dict_tensor, options, run_metadata)\n\u001b[0m\u001b[1;32m   1136\u001b[0m     \u001b[0;32melse\u001b[0m\u001b[0;34m:\u001b[0m\u001b[0;34m\u001b[0m\u001b[0m\n\u001b[1;32m   1137\u001b[0m       \u001b[0mresults\u001b[0m \u001b[0;34m=\u001b[0m \u001b[0;34m[\u001b[0m\u001b[0;34m]\u001b[0m\u001b[0;34m\u001b[0m\u001b[0m\n",
            "\u001b[0;32m/usr/local/lib/python2.7/dist-packages/tensorflow/python/client/session.pyc\u001b[0m in \u001b[0;36m_do_run\u001b[0;34m(self, handle, target_list, fetch_list, feed_dict, options, run_metadata)\u001b[0m\n\u001b[1;32m   1314\u001b[0m     \u001b[0;32mif\u001b[0m \u001b[0mhandle\u001b[0m \u001b[0;32mis\u001b[0m \u001b[0mNone\u001b[0m\u001b[0;34m:\u001b[0m\u001b[0;34m\u001b[0m\u001b[0m\n\u001b[1;32m   1315\u001b[0m       return self._do_call(_run_fn, feeds, fetches, targets, options,\n\u001b[0;32m-> 1316\u001b[0;31m                            run_metadata)\n\u001b[0m\u001b[1;32m   1317\u001b[0m     \u001b[0;32melse\u001b[0m\u001b[0;34m:\u001b[0m\u001b[0;34m\u001b[0m\u001b[0m\n\u001b[1;32m   1318\u001b[0m       \u001b[0;32mreturn\u001b[0m \u001b[0mself\u001b[0m\u001b[0;34m.\u001b[0m\u001b[0m_do_call\u001b[0m\u001b[0;34m(\u001b[0m\u001b[0m_prun_fn\u001b[0m\u001b[0;34m,\u001b[0m \u001b[0mhandle\u001b[0m\u001b[0;34m,\u001b[0m \u001b[0mfeeds\u001b[0m\u001b[0;34m,\u001b[0m \u001b[0mfetches\u001b[0m\u001b[0;34m)\u001b[0m\u001b[0;34m\u001b[0m\u001b[0m\n",
            "\u001b[0;32m/usr/local/lib/python2.7/dist-packages/tensorflow/python/client/session.pyc\u001b[0m in \u001b[0;36m_do_call\u001b[0;34m(self, fn, *args)\u001b[0m\n\u001b[1;32m   1320\u001b[0m   \u001b[0;32mdef\u001b[0m \u001b[0m_do_call\u001b[0m\u001b[0;34m(\u001b[0m\u001b[0mself\u001b[0m\u001b[0;34m,\u001b[0m \u001b[0mfn\u001b[0m\u001b[0;34m,\u001b[0m \u001b[0;34m*\u001b[0m\u001b[0margs\u001b[0m\u001b[0;34m)\u001b[0m\u001b[0;34m:\u001b[0m\u001b[0;34m\u001b[0m\u001b[0m\n\u001b[1;32m   1321\u001b[0m     \u001b[0;32mtry\u001b[0m\u001b[0;34m:\u001b[0m\u001b[0;34m\u001b[0m\u001b[0m\n\u001b[0;32m-> 1322\u001b[0;31m       \u001b[0;32mreturn\u001b[0m \u001b[0mfn\u001b[0m\u001b[0;34m(\u001b[0m\u001b[0;34m*\u001b[0m\u001b[0margs\u001b[0m\u001b[0;34m)\u001b[0m\u001b[0;34m\u001b[0m\u001b[0m\n\u001b[0m\u001b[1;32m   1323\u001b[0m     \u001b[0;32mexcept\u001b[0m \u001b[0merrors\u001b[0m\u001b[0;34m.\u001b[0m\u001b[0mOpError\u001b[0m \u001b[0;32mas\u001b[0m \u001b[0me\u001b[0m\u001b[0;34m:\u001b[0m\u001b[0;34m\u001b[0m\u001b[0m\n\u001b[1;32m   1324\u001b[0m       \u001b[0mmessage\u001b[0m \u001b[0;34m=\u001b[0m \u001b[0mcompat\u001b[0m\u001b[0;34m.\u001b[0m\u001b[0mas_text\u001b[0m\u001b[0;34m(\u001b[0m\u001b[0me\u001b[0m\u001b[0;34m.\u001b[0m\u001b[0mmessage\u001b[0m\u001b[0;34m)\u001b[0m\u001b[0;34m\u001b[0m\u001b[0m\n",
            "\u001b[0;32m/usr/local/lib/python2.7/dist-packages/tensorflow/python/client/session.pyc\u001b[0m in \u001b[0;36m_run_fn\u001b[0;34m(feed_dict, fetch_list, target_list, options, run_metadata)\u001b[0m\n\u001b[1;32m   1305\u001b[0m       \u001b[0mself\u001b[0m\u001b[0;34m.\u001b[0m\u001b[0m_extend_graph\u001b[0m\u001b[0;34m(\u001b[0m\u001b[0;34m)\u001b[0m\u001b[0;34m\u001b[0m\u001b[0m\n\u001b[1;32m   1306\u001b[0m       return self._call_tf_sessionrun(\n\u001b[0;32m-> 1307\u001b[0;31m           options, feed_dict, fetch_list, target_list, run_metadata)\n\u001b[0m\u001b[1;32m   1308\u001b[0m \u001b[0;34m\u001b[0m\u001b[0m\n\u001b[1;32m   1309\u001b[0m     \u001b[0;32mdef\u001b[0m \u001b[0m_prun_fn\u001b[0m\u001b[0;34m(\u001b[0m\u001b[0mhandle\u001b[0m\u001b[0;34m,\u001b[0m \u001b[0mfeed_dict\u001b[0m\u001b[0;34m,\u001b[0m \u001b[0mfetch_list\u001b[0m\u001b[0;34m)\u001b[0m\u001b[0;34m:\u001b[0m\u001b[0;34m\u001b[0m\u001b[0m\n",
            "\u001b[0;32m/usr/local/lib/python2.7/dist-packages/tensorflow/python/client/session.pyc\u001b[0m in \u001b[0;36m_call_tf_sessionrun\u001b[0;34m(self, options, feed_dict, fetch_list, target_list, run_metadata)\u001b[0m\n\u001b[1;32m   1407\u001b[0m       return tf_session.TF_SessionRun_wrapper(\n\u001b[1;32m   1408\u001b[0m           \u001b[0mself\u001b[0m\u001b[0;34m.\u001b[0m\u001b[0m_session\u001b[0m\u001b[0;34m,\u001b[0m \u001b[0moptions\u001b[0m\u001b[0;34m,\u001b[0m \u001b[0mfeed_dict\u001b[0m\u001b[0;34m,\u001b[0m \u001b[0mfetch_list\u001b[0m\u001b[0;34m,\u001b[0m \u001b[0mtarget_list\u001b[0m\u001b[0;34m,\u001b[0m\u001b[0;34m\u001b[0m\u001b[0m\n\u001b[0;32m-> 1409\u001b[0;31m           run_metadata)\n\u001b[0m\u001b[1;32m   1410\u001b[0m     \u001b[0;32melse\u001b[0m\u001b[0;34m:\u001b[0m\u001b[0;34m\u001b[0m\u001b[0m\n\u001b[1;32m   1411\u001b[0m       \u001b[0;32mwith\u001b[0m \u001b[0merrors\u001b[0m\u001b[0;34m.\u001b[0m\u001b[0mraise_exception_on_not_ok_status\u001b[0m\u001b[0;34m(\u001b[0m\u001b[0;34m)\u001b[0m \u001b[0;32mas\u001b[0m \u001b[0mstatus\u001b[0m\u001b[0;34m:\u001b[0m\u001b[0;34m\u001b[0m\u001b[0m\n",
            "\u001b[0;31mKeyboardInterrupt\u001b[0m: "
          ]
        }
      ]
    },
    {
      "metadata": {
        "id": "GMIqhZfsbniH",
        "colab_type": "code",
        "colab": {
          "autoexec": {
            "startup": false,
            "wait_interval": 0
          },
          "base_uri": "https://localhost:8080/",
          "height": 735
        },
        "outputId": "c290f1e8-d3bb-459f-c737-7eff7d3cde2a",
        "executionInfo": {
          "status": "ok",
          "timestamp": 1528412219274,
          "user_tz": 240,
          "elapsed": 1374,
          "user": {
            "displayName": "Martín Cornejo-Saavedra",
            "photoUrl": "https://lh3.googleusercontent.com/a/default-user=s128",
            "userId": "100137397923643336617"
          }
        }
      },
      "cell_type": "code",
      "source": [
        "x_axis = np.linspace(1, len(loss_array), num=len(loss_array))\n",
        "\n",
        "plt.figure()\n",
        "plt.plot(x_axis, loss_array, 'b-*')\n",
        "plt.title(\"Loss cada 100 batches - skNet\")\n",
        "plt.xlabel(\"Centenas de batches\")\n",
        "plt.ylabel(\"Cross Entropy Mean\")\n",
        "plt.savefig('loss.pdf')\n",
        "\n",
        "plt.figure()\n",
        "plt.plot(x_axis,train_acc, 'g-*')\n",
        "plt.plot(x_axis,test_acc, 'b-*')\n",
        "plt.legend([\"Train\", \"Test\"])\n",
        "plt.title(\"Accurracy - skNet\")\n",
        "plt.xlabel(\"Centenas de batches\")\n",
        "plt.ylabel(\"Accurray [%]\")\n",
        "plt.savefig('accurracy.pdf')"
      ],
      "execution_count": 37,
      "outputs": [
        {
          "output_type": "display_data",
          "data": {
            "image/png": "[encoded data removed]",
            "text/plain": [
              "<matplotlib.figure.Figure at 0x7fa7a585e390>"
            ]
          },
          "metadata": {
            "tags": []
          }
        },
        {
          "output_type": "display_data",
          "data": {
            "image/png": "[encoded data removed]",
            "text/plain": [
              "<matplotlib.figure.Figure at 0x7fa7a585ebd0>"
            ]
          },
          "metadata": {
            "tags": []
          }
        }
      ]
    },
    {
      "metadata": {
        "id": "noiUU9T9Wgkm",
        "colab_type": "text"
      },
      "cell_type": "markdown",
      "source": [
        "## Construcción y entrenamiento de la skResNet"
      ]
    },
    {
      "metadata": {
        "id": "z9aoZp_rWlzg",
        "colab_type": "text"
      },
      "cell_type": "markdown",
      "source": [
        "### Construcción del grafo"
      ]
    },
    {
      "metadata": {
        "id": "ST115cKqWiRw",
        "colab_type": "code",
        "colab": {
          "autoexec": {
            "startup": false,
            "wait_interval": 0
          }
        }
      },
      "cell_type": "code",
      "source": [
        "def skResNet(x, training=False):\n",
        "  with tf.name_scope('reshape'):\n",
        "    x_image = tf.reshape(x, [-1, 128, 128, 1])       \n",
        "\n",
        "  conv1_1 = tf.layers.conv2d(\n",
        "    inputs=x_image,\n",
        "    filters=64,\n",
        "    kernel_size=[3, 3],\n",
        "    padding=\"same\",\n",
        "    activation=tf.nn.relu)\n",
        "  \n",
        "  conv1_1_n = tf.contrib.layers.batch_norm(conv1_1,\n",
        "                                    center=True,\n",
        "                                    scale=True, \n",
        "                                    is_training=training)\n",
        "  \n",
        "  conv1_2 = tf.layers.conv2d(\n",
        "    inputs=conv1_1_n,\n",
        "    filters=64,\n",
        "    kernel_size=[3, 3],\n",
        "    padding=\"same\",\n",
        "    activation=tf.nn.relu)\n",
        "  \n",
        "  conv1_2_n = tf.contrib.layers.batch_norm(conv1_2,\n",
        "                                    center=True,\n",
        "                                    scale=True, \n",
        "                                    is_training=training)\n",
        "\n",
        "  pool1 = tf.layers.max_pooling2d(inputs=conv1_2_n, pool_size=[3, 3], strides=2)\n",
        "  \n",
        "  conv2_1 = tf.layers.conv2d(\n",
        "    inputs=pool1,\n",
        "    filters=64,\n",
        "    kernel_size=[3, 3],\n",
        "    padding=\"same\",\n",
        "    activation=tf.nn.relu)\n",
        "  \n",
        "  conv2_1_n = tf.contrib.layers.batch_norm(conv2_1,\n",
        "                                    center=True,\n",
        "                                    scale=True, \n",
        "                                    is_training=training)\n",
        "  \n",
        "  conv2_2 = tf.layers.conv2d(\n",
        "    inputs=conv2_1_n,\n",
        "    filters=64,\n",
        "    kernel_size=[3, 3],\n",
        "    padding=\"same\",\n",
        "    activation=tf.nn.relu)\n",
        "  \n",
        "  conv2_2_n = tf.contrib.layers.batch_norm(conv2_2,\n",
        "                                    center=True,\n",
        "                                    scale=True, \n",
        "                                    is_training=training)\n",
        "  \n",
        "  residual_1 = conv2_2_n + pool1\n",
        "  \n",
        "  conv3_1 = tf.layers.conv2d(\n",
        "    inputs=residual_1,\n",
        "    filters=64,\n",
        "    kernel_size=[3, 3],\n",
        "    padding=\"same\",\n",
        "    activation=tf.nn.relu)\n",
        "  \n",
        "  conv3_1_n = tf.contrib.layers.batch_norm(conv3_1,\n",
        "                                    center=True,\n",
        "                                    scale=True, \n",
        "                                    is_training=training)\n",
        "  \n",
        "  conv3_2 = tf.layers.conv2d(\n",
        "    inputs=conv3_1_n,\n",
        "    filters=64,\n",
        "    kernel_size=[3, 3],\n",
        "    padding=\"same\",\n",
        "    activation=tf.nn.relu)\n",
        "  \n",
        "  conv3_2_n = tf.contrib.layers.batch_norm(conv3_2,\n",
        "                                    center=True,\n",
        "                                    scale=True, \n",
        "                                    is_training=training)\n",
        "  \n",
        "  residual_2 = conv3_2_n + residual_1\n",
        "  \n",
        "  conv4_1 = tf.layers.conv2d(\n",
        "    inputs=residual_2,\n",
        "    filters=128,\n",
        "    kernel_size=[3, 3],\n",
        "    padding=\"same\",\n",
        "    activation=tf.nn.relu)\n",
        "  \n",
        "  conv4_1_n = tf.contrib.layers.batch_norm(conv4_1,\n",
        "                                    center=True,\n",
        "                                    scale=True, \n",
        "                                    is_training=training)\n",
        "  \n",
        "  pool2 = tf.layers.max_pooling2d(inputs=conv4_1_n, pool_size=[3, 3], strides=2)\n",
        "  \n",
        "  conv5_1 = tf.layers.conv2d(\n",
        "    inputs=pool2,\n",
        "    filters=128,\n",
        "    kernel_size=[3, 3],\n",
        "    padding=\"same\",\n",
        "    activation=tf.nn.relu)\n",
        "  \n",
        "  conv5_1_n = tf.contrib.layers.batch_norm(conv5_1,\n",
        "                                    center=True,\n",
        "                                    scale=True, \n",
        "                                    is_training=training)\n",
        "  \n",
        "  conv5_2 = tf.layers.conv2d(\n",
        "    inputs=conv5_1_n,\n",
        "    filters=128,\n",
        "    kernel_size=[3, 3],\n",
        "    padding=\"same\",\n",
        "    activation=tf.nn.relu)\n",
        "  \n",
        "  conv5_2_n = tf.contrib.layers.batch_norm(conv5_2,\n",
        "                                    center=True,\n",
        "                                    scale=True, \n",
        "                                    is_training=training)\n",
        "  \n",
        "  residual_3 = conv5_2_n + pool2\n",
        "  \n",
        "  conv6_1 = tf.layers.conv2d(\n",
        "    inputs=residual_3,\n",
        "    filters=128,\n",
        "    kernel_size=[3, 3],\n",
        "    padding=\"same\",\n",
        "    activation=tf.nn.relu)\n",
        "  \n",
        "  conv6_1_n = tf.contrib.layers.batch_norm(conv6_1,\n",
        "                                    center=True,\n",
        "                                    scale=True, \n",
        "                                    is_training=training)\n",
        "  \n",
        "  conv6_2 = tf.layers.conv2d(\n",
        "    inputs=conv6_1_n,\n",
        "    filters=128,\n",
        "    kernel_size=[3, 3],\n",
        "    padding=\"same\",\n",
        "    activation=tf.nn.relu)\n",
        "  \n",
        "  conv6_2_n = tf.contrib.layers.batch_norm(conv6_2,\n",
        "                                    center=True,\n",
        "                                    scale=True, \n",
        "                                    is_training=training)\n",
        "  \n",
        "  residual_4 = conv6_2_n + residual_3\n",
        "  \n",
        "  conv7_1 = tf.layers.conv2d(\n",
        "    inputs=residual_4,\n",
        "    filters=256,\n",
        "    kernel_size=[3, 3],\n",
        "    padding=\"same\",\n",
        "    activation=tf.nn.relu)\n",
        "  \n",
        "  conv7_1_n = tf.contrib.layers.batch_norm(conv7_1,\n",
        "                                    center=True,\n",
        "                                    scale=True, \n",
        "                                    is_training=training)\n",
        "  \n",
        "  pool3 = tf.layers.max_pooling2d(inputs=conv7_1_n, pool_size=[3, 3], strides=2)\n",
        "  \n",
        "  conv8_1 = tf.layers.conv2d(\n",
        "    inputs=pool3,\n",
        "    filters=256,\n",
        "    kernel_size=[3, 3],\n",
        "    padding=\"same\",\n",
        "    activation=tf.nn.relu)\n",
        "  \n",
        "  conv8_1_n = tf.contrib.layers.batch_norm(conv8_1,\n",
        "                                    center=True,\n",
        "                                    scale=True, \n",
        "                                    is_training=training)\n",
        "  \n",
        "  conv8_2 = tf.layers.conv2d(\n",
        "    inputs=conv8_1_n,\n",
        "    filters=256,\n",
        "    kernel_size=[3, 3],\n",
        "    padding=\"same\",\n",
        "    activation=tf.nn.relu)\n",
        "  \n",
        "  conv8_2_n = tf.contrib.layers.batch_norm(conv8_2,\n",
        "                                    center=True,\n",
        "                                    scale=True, \n",
        "                                    is_training=training)\n",
        "  \n",
        "  residual_5 = conv8_2_n + pool3\n",
        "  \n",
        "  conv9_1 = tf.layers.conv2d(\n",
        "    inputs=residual_5,\n",
        "    filters=256,\n",
        "    kernel_size=[3, 3],\n",
        "    padding=\"same\",\n",
        "    activation=tf.nn.relu)\n",
        "  \n",
        "  conv9_1_n = tf.contrib.layers.batch_norm(conv9_1,\n",
        "                                    center=True,\n",
        "                                    scale=True, \n",
        "                                    is_training=training)\n",
        "  \n",
        "  conv9_2 = tf.layers.conv2d(\n",
        "    inputs=conv9_1_n,\n",
        "    filters=256,\n",
        "    kernel_size=[3, 3],\n",
        "    padding=\"same\",\n",
        "    activation=tf.nn.relu)\n",
        "  \n",
        "  conv9_2_n = tf.contrib.layers.batch_norm(conv9_2,\n",
        "                                    center=True,\n",
        "                                    scale=True, \n",
        "                                    is_training=training)\n",
        "  \n",
        "  residual_6 = conv9_2_n + residual_5\n",
        "  \n",
        "  conv10_1 = tf.layers.conv2d(\n",
        "    inputs=residual_6,\n",
        "    filters=256,\n",
        "    kernel_size=[3, 3],\n",
        "    padding=\"same\",\n",
        "    activation=tf.nn.relu)\n",
        "  \n",
        "  conv10_1_n = tf.contrib.layers.batch_norm(conv10_1,\n",
        "                                    center=True,\n",
        "                                    scale=True, \n",
        "                                    is_training=training)\n",
        "  \n",
        "  pool4 = tf.layers.max_pooling2d(inputs=conv10_1_n, pool_size=[3, 3], strides=2)\n",
        "  \n",
        "  # Dense layer\n",
        "  \n",
        "  pool2_flat = tf.reshape(pool4, [-1, 7*7*256])\n",
        "  dense_l = tf.layers.dense(inputs=pool2_flat, units=1024, activation=tf.nn.relu)\n",
        "  \n",
        "  # Logits Layer\n",
        "  \n",
        "  logits = tf.layers.dense(inputs=dense_l, units=max_num_categories)\n",
        "  \n",
        "  return logits"
      ],
      "execution_count": 0,
      "outputs": []
    },
    {
      "metadata": {
        "id": "q89XfUjXcO1S",
        "colab_type": "text"
      },
      "cell_type": "markdown",
      "source": [
        "### Entrenamiento de skResNet"
      ]
    },
    {
      "metadata": {
        "id": "qn00RoAVcL79",
        "colab_type": "code",
        "colab": {
          "autoexec": {
            "startup": false,
            "wait_interval": 0
          },
          "base_uri": "https://localhost:8080/",
          "height": 199
        },
        "outputId": "ce61ecca-d1a5-4684-9ef3-f54aa99b23b7",
        "executionInfo": {
          "status": "ok",
          "timestamp": 1528412056477,
          "user_tz": 240,
          "elapsed": 12502,
          "user": {
            "displayName": "Martín Cornejo-Saavedra",
            "photoUrl": "https://lh3.googleusercontent.com/a/default-user=s128",
            "userId": "100137397923643336617"
          }
        }
      },
      "cell_type": "code",
      "source": [
        "loss_array_res, train_acc_res, test_acc_res = train_net(skResNet, 10, 1, 0.001)"
      ],
      "execution_count": 32,
      "outputs": [
        {
          "output_type": "stream",
          "text": [
            "step 0, training set accuracy 0\n",
            "test set accuracy 0.18000000566244126\n",
            "step 10, training set accuracy 0.8\n",
            "test set accuracy 0.5200000017881393\n",
            "step 20, training set accuracy 0.4\n",
            "test set accuracy 0.44000001102685926\n",
            "step 30, training set accuracy 1\n",
            "test set accuracy 0.5400000154972077\n",
            "step 40, training set accuracy 0.7\n",
            "test set accuracy 0.7199999988079071\n"
          ],
          "name": "stdout"
        }
      ]
    },
    {
      "metadata": {
        "id": "TmxmnN4cdFjh",
        "colab_type": "code",
        "colab": {
          "autoexec": {
            "startup": false,
            "wait_interval": 0
          },
          "base_uri": "https://localhost:8080/",
          "height": 735
        },
        "outputId": "e3e1a72c-a6c3-4424-8a7c-d98756f7a650",
        "executionInfo": {
          "status": "ok",
          "timestamp": 1528412093404,
          "user_tz": 240,
          "elapsed": 1335,
          "user": {
            "displayName": "Martín Cornejo-Saavedra",
            "photoUrl": "https://lh3.googleusercontent.com/a/default-user=s128",
            "userId": "100137397923643336617"
          }
        }
      },
      "cell_type": "code",
      "source": [
        "x_axis_res = np.linspace(1, len(loss_array_res), num=len(loss_array_res))\n",
        "\n",
        "plt.figure()\n",
        "plt.plot(x_axis, loss_array_res, 'b-*')\n",
        "plt.title(\"Loss cada 100 batches - skResNet\")\n",
        "plt.xlabel(\"Centenas de batches\")\n",
        "plt.ylabel(\"Cross Entropy Mean\")\n",
        "plt.savefig('loss.pdf')\n",
        "\n",
        "plt.figure()\n",
        "plt.plot(x_axis,train_acc_res, 'g-*')\n",
        "plt.plot(x_axis,test_acc_res, 'b-*')\n",
        "plt.legend([\"Train\", \"Test\"])\n",
        "plt.title(\"Accurracy - skResNet\")\n",
        "plt.xlabel(\"Centenas de batches\")\n",
        "plt.ylabel(\"Accurray [%]\")\n",
        "plt.savefig('accurracy.pdf')\n",
        "\n",
        "# files.download('loss_res.pdf')\n",
        "# files.download('accurracy_res.pdf')"
      ],
      "execution_count": 33,
      "outputs": [
        {
          "output_type": "display_data",
          "data": {
            "image/png": "[encoded data removed]",
            "text/plain": [
              "<matplotlib.figure.Figure at 0x7fa7a5ecefd0>"
            ]
          },
          "metadata": {
            "tags": []
          }
        },
        {
          "output_type": "display_data",
          "data": {
            "image/png": "[encoded data removed]",
            "text/plain": [
              "<matplotlib.figure.Figure at 0x7fa7a62bf610>"
            ]
          },
          "metadata": {
            "tags": []
          }
        }
      ]
    }
  ]
}