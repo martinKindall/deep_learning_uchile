{
  "nbformat": 4,
  "nbformat_minor": 0,
  "metadata": {
    "colab": {
      "name": "Tarea2_deep_learning.ipynb",
      "version": "0.3.2",
      "views": {},
      "default_view": {},
      "provenance": [],
      "collapsed_sections": [
        "JyMSjf1nOQli"
      ]
    },
    "kernelspec": {
      "name": "python2",
      "display_name": "Python 2"
    },
    "accelerator": "GPU"
  },
  "cells": [
    {
      "metadata": {
        "id": "XUpfM3SuDS6k",
        "colab_type": "text"
      },
      "cell_type": "markdown",
      "source": [
        "# Tarea 2 : Clasificación y búsqueda por similitud de sketches usando redes convolucionales\n",
        "\n",
        "# CC6204 Deep Learning, Universidad de Chile <br/> Hoja de respuestas \n",
        "\n",
        "## Nombre: Martín Cornejo Saavedra\n",
        "Fecha para completar la tarea: 17 de junio de 2018"
      ]
    },
    {
      "metadata": {
        "id": "hrwjSdk5A53q",
        "colab_type": "code",
        "colab": {
          "autoexec": {
            "startup": false,
            "wait_interval": 0
          }
        }
      },
      "cell_type": "code",
      "source": [
        "!apt-get update -qq 2>&1 > /dev/null\n",
        "!apt-get install -y -qq software-properties-common python-software-properties module-init-tools\n",
        "!add-apt-repository -y ppa:alessandro-strada/ppa 2>&1 > /dev/null\n",
        "!apt-get update -qq 2>&1 > /dev/null\n",
        "!apt-get -y install -qq google-drive-ocamlfuse fuse"
      ],
      "execution_count": 0,
      "outputs": []
    },
    {
      "metadata": {
        "id": "SkSB_RByBEOx",
        "colab_type": "code",
        "colab": {
          "autoexec": {
            "startup": false,
            "wait_interval": 0
          },
          "base_uri": "https://localhost:8080/",
          "height": 128
        },
        "outputId": "8e805908-ee2d-414a-864d-f8fcbbf8147d",
        "executionInfo": {
          "status": "ok",
          "timestamp": 1532479572559,
          "user_tz": 240,
          "elapsed": 22735,
          "user": {
            "displayName": "Martín Cornejo-Saavedra",
            "photoUrl": "https://lh3.googleusercontent.com/a/default-user=s128",
            "userId": "100137397923643336617"
          }
        }
      },
      "cell_type": "code",
      "source": [
        "!pip install -U -q PyDrive ## you will have install for every colab session\n",
        "\n",
        "from pydrive.auth import GoogleAuth\n",
        "from pydrive.drive import GoogleDrive\n",
        "from google.colab import auth\n",
        "from oauth2client.client import GoogleCredentials\n",
        "\n",
        "# 1. Authenticate and create the PyDrive client.\n",
        "auth.authenticate_user()\n",
        "\n",
        "\n",
        "creds = GoogleCredentials.get_application_default()\n",
        "import getpass\n",
        "# Work around misordering of STREAM and STDIN in Jupyter.\n",
        "# https://github.com/jupyter/notebook/issues/3159\n",
        "prompt = !google-drive-ocamlfuse -headless -id={creds.client_id} -secret={creds.client_secret} < /dev/null 2>&1 | grep URL\n",
        "vcode = getpass.getpass(prompt[0] + '\\n\\nEnter verification code: ')\n",
        "!echo {vcode} | google-drive-ocamlfuse -headless -id={creds.client_id} -secret={creds.client_secret}"
      ],
      "execution_count": 4,
      "outputs": [
        {
          "output_type": "stream",
          "text": [
            "Please, open the following URL in a web browser: https://accounts.google.com/o/oauth2/auth?client_id=32555940559.apps.googleusercontent.com&redirect_uri=urn%3Aietf%3Awg%3Aoauth%3A2.0%3Aoob&scope=https%3A%2F%2Fwww.googleapis.com%2Fauth%2Fdrive&response_type=code&access_type=offline&approval_prompt=force\n",
            "\n",
            "Enter verification code: ··········\n",
            "Please, open the following URL in a web browser: https://accounts.google.com/o/oauth2/auth?client_id=32555940559.apps.googleusercontent.com&redirect_uri=urn%3Aietf%3Awg%3Aoauth%3A2.0%3Aoob&scope=https%3A%2F%2Fwww.googleapis.com%2Fauth%2Fdrive&response_type=code&access_type=offline&approval_prompt=force\n",
            "Please enter the verification code: Access token retrieved correctly.\n"
          ],
          "name": "stdout"
        }
      ]
    },
    {
      "metadata": {
        "id": "X0ZnhWN63WV4",
        "colab_type": "code",
        "colab": {
          "autoexec": {
            "startup": false,
            "wait_interval": 0
          }
        }
      },
      "cell_type": "code",
      "source": [
        "from google.colab import files"
      ],
      "execution_count": 0,
      "outputs": []
    },
    {
      "metadata": {
        "id": "zHhRuFxZBUmL",
        "colab_type": "code",
        "colab": {
          "autoexec": {
            "startup": false,
            "wait_interval": 0
          },
          "base_uri": "https://localhost:8080/",
          "height": 563
        },
        "outputId": "ae3465b0-8d02-49fc-ac42-c3ec44af706d",
        "executionInfo": {
          "status": "ok",
          "timestamp": 1532479594877,
          "user_tz": 240,
          "elapsed": 4725,
          "user": {
            "displayName": "Martín Cornejo-Saavedra",
            "photoUrl": "https://lh3.googleusercontent.com/a/default-user=s128",
            "userId": "100137397923643336617"
          }
        }
      },
      "cell_type": "code",
      "source": [
        "# Create a directory and mount Google Drive using that directory.\n",
        "!mkdir -p drive\n",
        "!google-drive-ocamlfuse drive\n",
        "\n",
        "print 'Files in Drive:'\n",
        "!ls drive/"
      ],
      "execution_count": 6,
      "outputs": [
        {
          "output_type": "stream",
          "text": [
            "Files in Drive:\n",
            "20151228_165036.mp4\n",
            "20171116_120745.jpg\n",
            "20171201_123953.jpg\n",
            "20180113_125053.mp4\n",
            "20180213_144113.jpg\n",
            "articulo22\n",
            "BORRADOR - CORNEJO SAAVEDRA (2).docx\n",
            "BORRADOR - CORNEJO SAAVEDRA (2).docx.odt\n",
            "Colab Notebooks\n",
            "CV_Martin_Cornejo.pdf\n",
            "data_quickdraw\n",
            "Deep_learning\n",
            "Distribución - copia.docx\n",
            "distribuciòn.pdf\n",
            "Electrónica.odt\n",
            "familia\n",
            "fotos\n",
            "Fotos\n",
            "Gastos_2.ods\n",
            "Gastos.odt\n",
            "grecia.rar\n",
            "IMG_20170910_221649_346.jpg\n",
            "libros\n",
            "memes\n",
            "presupuesto deglosado maria carolina saavedra.docx\n",
            "presupuesto deglosado maria carolina saavedra.docx.odt\n",
            "primer_sem_magister\n",
            "registro.pdf\n",
            "TOEFL\n"
          ],
          "name": "stdout"
        }
      ]
    },
    {
      "metadata": {
        "id": "rZjPsrt_EnFd",
        "colab_type": "code",
        "colab": {
          "autoexec": {
            "startup": false,
            "wait_interval": 0
          }
        }
      },
      "cell_type": "code",
      "source": [
        "import tensorflow as tf\n",
        "\n",
        "import matplotlib.pyplot as plt\n",
        "import numpy as np\n",
        "\n",
        "from skimage.draw import line as drawLine\n",
        "\n",
        "import pdb\n",
        "import random\n",
        "import os\n",
        "import json"
      ],
      "execution_count": 0,
      "outputs": []
    },
    {
      "metadata": {
        "id": "lwllwdwMuZiE",
        "colab_type": "code",
        "colab": {
          "autoexec": {
            "startup": false,
            "wait_interval": 0
          },
          "base_uri": "https://localhost:8080/",
          "height": 35
        },
        "outputId": "bda886d2-fe84-4337-e0f4-f6b653802703",
        "executionInfo": {
          "status": "ok",
          "timestamp": 1532479610407,
          "user_tz": 240,
          "elapsed": 1070,
          "user": {
            "displayName": "Martín Cornejo-Saavedra",
            "photoUrl": "https://lh3.googleusercontent.com/a/default-user=s128",
            "userId": "100137397923643336617"
          }
        }
      },
      "cell_type": "code",
      "source": [
        "tf.test.gpu_device_name()"
      ],
      "execution_count": 8,
      "outputs": [
        {
          "output_type": "execute_result",
          "data": {
            "text/plain": [
              "'/device:GPU:0'"
            ]
          },
          "metadata": {
            "tags": []
          },
          "execution_count": 8
        }
      ]
    },
    {
      "metadata": {
        "id": "Lb00DHDgGWBC",
        "colab_type": "text"
      },
      "cell_type": "markdown",
      "source": [
        "## Construcción del conjunto de datos"
      ]
    },
    {
      "metadata": {
        "id": "DWHsEQiWDRr4",
        "colab_type": "code",
        "colab": {
          "autoexec": {
            "startup": false,
            "wait_interval": 0
          }
        }
      },
      "cell_type": "code",
      "source": [
        "#raw_categories = !gsutil ls -r \"gs://quickdraw_dataset/full/simplified/*\"\n",
        "\n",
        "max_num_categories = 100\n",
        "train_samples_per_cat = 1000\n",
        "test_samples_per_cat = 50"
      ],
      "execution_count": 0,
      "outputs": []
    },
    {
      "metadata": {
        "id": "qpowWwTV8Z8M",
        "colab_type": "text"
      },
      "cell_type": "markdown",
      "source": [
        "### Importar dataset previamente construido"
      ]
    },
    {
      "metadata": {
        "id": "6x-2A0Lb8Zb4",
        "colab_type": "code",
        "colab": {
          "autoexec": {
            "startup": false,
            "wait_interval": 0
          }
        }
      },
      "cell_type": "code",
      "source": [
        "!cp drive/data_quickdraw/train.tar.gz train.tar.gz \n",
        "!cp drive/data_quickdraw/test.tar.gz test.tar.gz "
      ],
      "execution_count": 0,
      "outputs": []
    },
    {
      "metadata": {
        "id": "pN-1qhcpADi8",
        "colab_type": "code",
        "colab": {
          "autoexec": {
            "startup": false,
            "wait_interval": 0
          },
          "base_uri": "https://localhost:8080/",
          "height": 35
        },
        "outputId": "48de44bf-071f-4274-cf60-0929988cecf9",
        "executionInfo": {
          "status": "ok",
          "timestamp": 1532479730208,
          "user_tz": 240,
          "elapsed": 26528,
          "user": {
            "displayName": "Martín Cornejo-Saavedra",
            "photoUrl": "https://lh3.googleusercontent.com/a/default-user=s128",
            "userId": "100137397923643336617"
          }
        }
      },
      "cell_type": "code",
      "source": [
        "!tar xzf train.tar.gz\n",
        "!tar xzf test.tar.gz\n",
        "!ls"
      ],
      "execution_count": 11,
      "outputs": [
        {
          "output_type": "stream",
          "text": [
            "datalab  drive\ttest  test.tar.gz  train  train.tar.gz\r\n"
          ],
          "name": "stdout"
        }
      ]
    },
    {
      "metadata": {
        "id": "RXpprCsr760t",
        "colab_type": "text"
      },
      "cell_type": "markdown",
      "source": [
        "### Importar modelo previamente entrenado"
      ]
    },
    {
      "metadata": {
        "id": "V2AHPdwi7-JI",
        "colab_type": "code",
        "colab": {
          "autoexec": {
            "startup": false,
            "wait_interval": 0
          },
          "base_uri": "https://localhost:8080/",
          "height": 199
        },
        "outputId": "973fa166-74a1-4918-ee1d-948a9dfb57cf",
        "executionInfo": {
          "status": "ok",
          "timestamp": 1532485327965,
          "user_tz": 240,
          "elapsed": 7449,
          "user": {
            "displayName": "Martín Cornejo-Saavedra",
            "photoUrl": "https://lh3.googleusercontent.com/a/default-user=s128",
            "userId": "100137397923643336617"
          }
        }
      },
      "cell_type": "code",
      "source": [
        "importar_res_net = True\n",
        "!rm -rf training/\n",
        "if (importar_res_net):\n",
        "  !cp drive/data_quickdraw/training.zip training.zip\n",
        "  !unzip training.zip\n",
        "else:\n",
        "  !cp drive/data_quickdraw/training_sknet.zip training_sknet.zip\n",
        "  !unzip training_sknet.zip\n",
        "!ls"
      ],
      "execution_count": 71,
      "outputs": [
        {
          "output_type": "stream",
          "text": [
            "Archive:  training.zip\r\n",
            "   creating: training/\r\n",
            "  inflating: training/checkpoint     \r\n",
            "  inflating: training/snap-skresnet.ckpt.index  \n",
            "  inflating: training/snap-data      \n",
            "  inflating: training/snap-skresnet.ckpt.data-00000-of-00001  \n",
            "  inflating: training/snap-skresnet.ckpt.meta  \n",
            "datalab   features_path    test\t\ttraining\t    train.tar.gz\n",
            "drive\t  features_resnet  test.tar.gz\ttraining_sknet.zip\n",
            "features  features.zip\t   train\ttraining.zip\n"
          ],
          "name": "stdout"
        }
      ]
    },
    {
      "metadata": {
        "id": "2SHWwUA3Jngh",
        "colab_type": "text"
      },
      "cell_type": "markdown",
      "source": [
        "### Elegimos 100 categorias al azar y las descargamos (realizar sólo una vez)"
      ]
    },
    {
      "metadata": {
        "id": "Io7kpyNfGHi0",
        "colab_type": "code",
        "colab": {
          "autoexec": {
            "startup": false,
            "wait_interval": 0
          }
        }
      },
      "cell_type": "code",
      "source": [
        "for idx, raw_cat in enumerate(raw_categories):\n",
        "  raw_categories[idx] = raw_cat.replace(\" \", \"\\ \")   # para que bash reconozca el espacio en la descarga\n",
        "\n",
        "random_categories = []\n",
        "\n",
        "while True:\n",
        "  rand_cat = random.randint(0, len(raw_categories)-1)\n",
        "  if rand_cat not in random_categories:\n",
        "    random_categories.append(rand_cat)\n",
        "  if len(random_categories) is max_num_categories:\n",
        "    break"
      ],
      "execution_count": 0,
      "outputs": []
    },
    {
      "metadata": {
        "id": "22Mt8lBUEX_1",
        "colab_type": "code",
        "colab": {
          "autoexec": {
            "startup": false,
            "wait_interval": 0
          },
          "base_uri": "https://localhost:8080/",
          "height": 54
        },
        "outputId": "3d1becad-39cc-4d69-e91d-68639b97b709",
        "executionInfo": {
          "status": "ok",
          "timestamp": 1528832412754,
          "user_tz": 240,
          "elapsed": 2862,
          "user": {
            "displayName": "Martín Cornejo-Saavedra",
            "photoUrl": "https://lh3.googleusercontent.com/a/default-user=s128",
            "userId": "100137397923643336617"
          }
        }
      },
      "cell_type": "code",
      "source": [
        "#!mkdir quick_draw_data\n",
        "#os.chdir(\"/content/quick_draw_data\")\n",
        "!mkdir training"
      ],
      "execution_count": 5,
      "outputs": [
        {
          "output_type": "stream",
          "text": [
            "mkdir: cannot create directory ‘training’: File exists\n",
            "datalab  training\n"
          ],
          "name": "stdout"
        }
      ]
    },
    {
      "metadata": {
        "id": "Z97Ar-OjVPh0",
        "colab_type": "code",
        "colab": {
          "autoexec": {
            "startup": false,
            "wait_interval": 0
          }
        }
      },
      "cell_type": "code",
      "source": [
        "str_random_cat = []\n",
        "\n",
        "os.system(\"mkdir train\")\n",
        "os.system(\"mkdir test\")\n",
        "\n",
        "for category in random_categories:\n",
        "  aux = raw_categories[category].replace(\"gs://quickdraw_dataset/full/simplified/\", \"\")\n",
        "  aux = aux.replace(\".ndjson\", \"\")\n",
        "  str_random_cat.append(aux)"
      ],
      "execution_count": 0,
      "outputs": []
    },
    {
      "metadata": {
        "id": "cynXyLqxHDtu",
        "colab_type": "code",
        "colab": {
          "autoexec": {
            "startup": false,
            "wait_interval": 0
          },
          "base_uri": "https://localhost:8080/",
          "height": 108
        },
        "outputId": "ddb86132-c19f-4707-8403-f1469ccb5906",
        "executionInfo": {
          "status": "ok",
          "timestamp": 1528644257987,
          "user_tz": 240,
          "elapsed": 12736,
          "user": {
            "displayName": "Martín Cornejo-Saavedra",
            "photoUrl": "https://lh3.googleusercontent.com/a/default-user=s128",
            "userId": "100137397923643336617"
          }
        }
      },
      "cell_type": "code",
      "source": [
        "for idx, category in enumerate(random_categories):\n",
        "  os.system(\"gsutil cp \" + raw_categories[category] + \" .\")\n",
        "  print(\"La categoria \" + str(idx+1) + \" copiada es \" + raw_categories[category])"
      ],
      "execution_count": 9,
      "outputs": [
        {
          "output_type": "stream",
          "text": [
            "La categoria 1 copiada es gs://quickdraw_dataset/full/simplified/donut.ndjson\n",
            "La categoria 2 copiada es gs://quickdraw_dataset/full/simplified/fan.ndjson\n",
            "La categoria 3 copiada es gs://quickdraw_dataset/full/simplified/blackberry.ndjson\n",
            "La categoria 4 copiada es gs://quickdraw_dataset/full/simplified/helmet.ndjson\n",
            "La categoria 5 copiada es gs://quickdraw_dataset/full/simplified/airplane.ndjson\n"
          ],
          "name": "stdout"
        }
      ]
    },
    {
      "metadata": {
        "id": "WpO2Vyh9JtfB",
        "colab_type": "code",
        "colab": {
          "autoexec": {
            "startup": false,
            "wait_interval": 0
          },
          "base_uri": "https://localhost:8080/",
          "height": 35
        },
        "outputId": "f5715fdf-43ee-4c7f-9b4f-7931f8b6a07f",
        "executionInfo": {
          "status": "ok",
          "timestamp": 1528644261708,
          "user_tz": 240,
          "elapsed": 1658,
          "user": {
            "displayName": "Martín Cornejo-Saavedra",
            "photoUrl": "https://lh3.googleusercontent.com/a/default-user=s128",
            "userId": "100137397923643336617"
          }
        }
      },
      "cell_type": "code",
      "source": [
        "categories = !ls\n",
        "print(len(categories))\n",
        "\n",
        "for cat in str_random_cat:\n",
        "  if (cat + \".ndjson\").replace(\"\\ \", \" \") not in categories:\n",
        "    print(\"falta \" + cat)"
      ],
      "execution_count": 10,
      "outputs": [
        {
          "output_type": "stream",
          "text": [
            "8\n"
          ],
          "name": "stdout"
        }
      ]
    },
    {
      "metadata": {
        "id": "NV6uyw8wFK30",
        "colab_type": "text"
      },
      "cell_type": "markdown",
      "source": [
        "### Se convierte la data en formato json a bitmaps de 128x128 y se guardan en formato .txt"
      ]
    },
    {
      "metadata": {
        "id": "pE7tDx5TYQyT",
        "colab_type": "code",
        "colab": {
          "autoexec": {
            "startup": false,
            "wait_interval": 0
          }
        }
      },
      "cell_type": "code",
      "source": [
        "def parse_line(ndjson_line):\n",
        "  \"\"\"Parse an ndjson line and return ink (as np array) and classname.\"\"\"\n",
        "  sample = json.loads(ndjson_line)\n",
        "  class_name = sample[\"word\"]\n",
        "  if not class_name:\n",
        "    print (\"Empty classname\")\n",
        "    return None, None\n",
        "  inkarray = sample[\"drawing\"]\n",
        "\n",
        "  div_scale = 2\n",
        "  \n",
        "  for idx, stroke in enumerate(inkarray):\n",
        "    if len(stroke[0]) != len(stroke[1]):\n",
        "      print(\"Inconsistent number of x and y coordinates.\")\n",
        "      return None, None\n",
        "    \n",
        "    for idy, x_coord in enumerate(stroke[0]):\n",
        "      inkarray[idx][0][idy] /= div_scale\n",
        "      inkarray[idx][1][idy] /= div_scale\n",
        "  \n",
        "  return inkarray, class_name\n",
        "\n",
        "def convert_data(trainingdata_dir,\n",
        "                 observations_per_class,\n",
        "                 output_folder,\n",
        "                 offset=0):\n",
        "  \n",
        "  file_handles = []\n",
        "  # Open all input files.\n",
        "  for filename in sorted(tf.gfile.ListDirectory(trainingdata_dir)):\n",
        "    if not filename.endswith(\".ndjson\"):\n",
        "      #print(\"Skipping\", filename)\n",
        "      continue\n",
        "    file_handles.append(\n",
        "        tf.gfile.GFile(os.path.join(trainingdata_dir, filename), \"r\"))\n",
        "    if offset:  # Fast forward all files to skip the offset.\n",
        "      count = 0\n",
        "      for _ in file_handles[-1]:\n",
        "        count += 1\n",
        "        if count == offset:\n",
        "          break\n",
        "\n",
        "    \n",
        "  reading_order = list(range(len(file_handles)))\n",
        "          \n",
        "  class_names = []  \n",
        "  class_names_pairs = []\n",
        "    \n",
        "  for idx in reading_order:\n",
        "    for pictureNum in range(observations_per_class):\n",
        "      line = file_handles[idx].readline()\n",
        "      ink = None\n",
        "      \n",
        "      while ink is None:\n",
        "        ink, class_name = parse_line(line)\n",
        "        if ink is None:\n",
        "          print (\"Couldn't parse ink from '\" + line + \"'.\")\n",
        "\n",
        "      drawing = np.zeros((128, 128), dtype=np.uint8)\n",
        "      \n",
        "      if class_name not in class_names:\n",
        "        class_names.append(class_name)  \n",
        "        class_names_pairs.append((idx, class_name))      \n",
        "        os.system(\"mkdir \" + output_folder + str(idx))\n",
        "        print(str(idx) + \";\" + class_name)\n",
        "\n",
        "      for linea in ink:\n",
        "        for idy in range(len(linea[0])-1):\n",
        "          rr, cc = drawLine(linea[1][idy], linea[0][idy], linea[1][idy+1], linea[0][idy+1])\n",
        "          drawing[rr, cc] = 1\n",
        "\n",
        "      np.savetxt(output_folder + str(idx) + \"/\" + str(pictureNum) + \".txt\", drawing, fmt=\"%d\", delimiter=\" \")\n",
        "\n",
        "  return class_names_pairs"
      ],
      "execution_count": 0,
      "outputs": []
    },
    {
      "metadata": {
        "id": "Y-WnhKa1ubKQ",
        "colab_type": "code",
        "colab": {
          "autoexec": {
            "startup": false,
            "wait_interval": 0
          },
          "base_uri": "https://localhost:8080/",
          "height": 108
        },
        "outputId": "b002cf39-6277-4348-f14b-0dd7fa7574bf",
        "executionInfo": {
          "status": "ok",
          "timestamp": 1528644333264,
          "user_tz": 240,
          "elapsed": 4358,
          "user": {
            "displayName": "Martín Cornejo-Saavedra",
            "photoUrl": "https://lh3.googleusercontent.com/a/default-user=s128",
            "userId": "100137397923643336617"
          }
        }
      },
      "cell_type": "code",
      "source": [
        "class_names_train = convert_data(\".\",\n",
        "             train_samples_per_cat,\n",
        "             \"train/\")"
      ],
      "execution_count": 16,
      "outputs": [
        {
          "output_type": "stream",
          "text": [
            "0;airplane\n",
            "1;blackberry\n",
            "2;donut\n",
            "3;fan\n",
            "4;helmet\n"
          ],
          "name": "stdout"
        }
      ]
    },
    {
      "metadata": {
        "id": "pOQBSBqN9Qzx",
        "colab_type": "code",
        "colab": {
          "autoexec": {
            "startup": false,
            "wait_interval": 0
          },
          "base_uri": "https://localhost:8080/",
          "height": 108
        },
        "outputId": "830ad8c3-6dc0-46b0-b420-82181f7955cc",
        "executionInfo": {
          "status": "ok",
          "timestamp": 1528644334868,
          "user_tz": 240,
          "elapsed": 1019,
          "user": {
            "displayName": "Martín Cornejo-Saavedra",
            "photoUrl": "https://lh3.googleusercontent.com/a/default-user=s128",
            "userId": "100137397923643336617"
          }
        }
      },
      "cell_type": "code",
      "source": [
        "class_names_test = convert_data(\".\",\n",
        "             test_samples_per_cat,\n",
        "             \"test/\",\n",
        "             train_samples_per_cat)"
      ],
      "execution_count": 17,
      "outputs": [
        {
          "output_type": "stream",
          "text": [
            "0;airplane\n",
            "1;blackberry\n",
            "2;donut\n",
            "3;fan\n",
            "4;helmet\n"
          ],
          "name": "stdout"
        }
      ]
    },
    {
      "metadata": {
        "id": "Azx2iVCgzBaV",
        "colab_type": "code",
        "colab": {
          "autoexec": {
            "startup": false,
            "wait_interval": 0
          },
          "base_uri": "https://localhost:8080/",
          "height": 683
        },
        "outputId": "d2854578-74df-407d-bd0c-efa8eb0f4473",
        "executionInfo": {
          "status": "ok",
          "timestamp": 1528557000776,
          "user_tz": 240,
          "elapsed": 1453,
          "user": {
            "displayName": "Martín Cornejo-Saavedra",
            "photoUrl": "https://lh3.googleusercontent.com/a/default-user=s128",
            "userId": "100137397923643336617"
          }
        }
      },
      "cell_type": "code",
      "source": [
        "test_imagen = np.loadtxt(\"test/3/9.txt\")\n",
        "plt.imshow(test_imagen)\n",
        "plt.show()\n",
        "\n",
        "train_imagen = np.loadtxt(\"train/3/99.txt\")\n",
        "plt.imshow(train_imagen)\n",
        "plt.show()"
      ],
      "execution_count": 14,
      "outputs": [
        {
          "output_type": "display_data",
          "data": {
            "image/png": "[encoded data removed]",
            "text/plain": [
              "<matplotlib.figure.Figure at 0x7f1787248090>"
            ]
          },
          "metadata": {
            "tags": []
          }
        },
        {
          "output_type": "display_data",
          "data": {
            "image/png": "[encoded data removed]",
            "text/plain": [
              "<matplotlib.figure.Figure at 0x7f1781550cd0>"
            ]
          },
          "metadata": {
            "tags": []
          }
        }
      ]
    },
    {
      "metadata": {
        "id": "XFkxamZo9GZG",
        "colab_type": "text"
      },
      "cell_type": "markdown",
      "source": [
        "### Descargar Dataset"
      ]
    },
    {
      "metadata": {
        "id": "hn2SEWbuNrHl",
        "colab_type": "code",
        "colab": {
          "autoexec": {
            "startup": false,
            "wait_interval": 0
          }
        }
      },
      "cell_type": "code",
      "source": [
        "!tar czf train.tar.gz train/\n",
        "!tar czf test.tar.gz test/\n",
        "files.download('train.tar.gz') \n",
        "files.download('test.tar.gz') "
      ],
      "execution_count": 0,
      "outputs": []
    },
    {
      "metadata": {
        "id": "JyMSjf1nOQli",
        "colab_type": "text"
      },
      "cell_type": "markdown",
      "source": [
        "### Se crea una clase para extraer datos de entrenamiento"
      ]
    },
    {
      "metadata": {
        "id": "q4dPgoCvOP9j",
        "colab_type": "code",
        "colab": {
          "autoexec": {
            "startup": false,
            "wait_interval": 0
          }
        }
      },
      "cell_type": "code",
      "source": [
        "class QuickDataset():\n",
        "  def __init__(self, data_path, samples_per_cat):            \n",
        "    self.samples = samples_per_cat\n",
        "    self.data_path = data_path + \"/\"    \n",
        "  \n",
        "  def get_batch(self, batch_size):\n",
        "    x_lista = []\n",
        "    y_lista = []    \n",
        "    \n",
        "    for _ in range(batch_size):\n",
        "      cat = np.random.randint(max_num_categories)\n",
        "      sample = np.random.randint(self.samples)\n",
        "      \n",
        "      train_input = np.loadtxt(self.data_path + str(cat) + \"/\" + str(sample) + \".txt\")\n",
        "      x_lista.append(np.resize(train_input, (1, 16384))[0])\n",
        "      y_lista.append(cat)\n",
        "  \n",
        "    return x_lista, y_lista\n",
        "    \n",
        "train_dataset = QuickDataset(\"train\", train_samples_per_cat)\n",
        "test_dataset = QuickDataset(\"test\", test_samples_per_cat)"
      ],
      "execution_count": 0,
      "outputs": []
    },
    {
      "metadata": {
        "id": "mXt86OpEaGCI",
        "colab_type": "text"
      },
      "cell_type": "markdown",
      "source": [
        "### Función de entrenamiento"
      ]
    },
    {
      "metadata": {
        "id": "kuih0U8haI4K",
        "colab_type": "code",
        "colab": {
          "autoexec": {
            "startup": false,
            "wait_interval": 0
          }
        }
      },
      "cell_type": "code",
      "source": [
        "def train_net(dnn_graph, batch_size, n_epochs, learning_rate, snapshot_path, loadPrev = False, layer_scopes=[]):\n",
        "  \n",
        "  x = tf.placeholder(tf.float16, shape=(None, 128*128))\n",
        "  y_ = tf.placeholder(tf.int64, shape=(None))\n",
        "  y_conv = dnn_graph(x, True)\n",
        "  \n",
        "  with tf.name_scope('accurracy'):\n",
        "  \n",
        "    cross_entropy = tf.nn.sparse_softmax_cross_entropy_with_logits(labels=y_,\n",
        "                                                              logits=y_conv)\n",
        "    cross_entropy = tf.reduce_mean(cross_entropy)\n",
        "\n",
        "    train_step = tf.train.GradientDescentOptimizer(learning_rate)\n",
        "    train_step = train_step.minimize(cross_entropy)\n",
        "\n",
        "    correct_prediction = tf.equal(tf.argmax(y_conv, 1), y_)\n",
        "    correct_prediction = tf.cast(correct_prediction, tf.float32)\n",
        "    accuracy = tf.reduce_mean(correct_prediction)\n",
        "\n",
        "  loss_array = []\n",
        "  train_acc = []\n",
        "  test_acc = []\n",
        "  \n",
        "  batches_per_epoch = max_num_categories * train_samples_per_cat / batch_size\n",
        "  \n",
        "  test_batches_per_epoch = max_num_categories * test_samples_per_cat / batch_size\n",
        "  \n",
        "  with tf.Session() as sess:              \n",
        "    \n",
        "    if loadPrev:\n",
        "      reuse_vars = []\n",
        "      \n",
        "      for cusScope in layer_scopes:\n",
        "        reuse_vars += tf.get_collection(tf.GraphKeys.GLOBAL_VARIABLES,\n",
        "                                     scope=cusScope)      \n",
        "      #pdb.set_trace()\n",
        "      reuse_vars_dict = dict([(var.op.name, var) for var in reuse_vars])\n",
        "      saver = tf.train.Saver(reuse_vars_dict)\n",
        "      saver.restore(sess, snapshot_path)\n",
        "    else:     \n",
        "      init = tf.global_variables_initializer()\n",
        "      saver = tf.train.Saver()\n",
        "      init.run()   \n",
        "    \n",
        "    for idz in range(n_epochs * batches_per_epoch + 1):\n",
        "      batch = train_dataset.get_batch(batch_size)\n",
        "        \n",
        "      if idz % 20 == 0:\n",
        "        train_accuracy = accuracy.eval(session=sess, feed_dict={x: batch[0], y_: batch[1]})\n",
        "        print('step %d, training set accuracy %g' % (idz, train_accuracy))\n",
        "        loss_array.append(cross_entropy.eval(feed_dict={x: batch[0], y_: batch[1]}))\n",
        "        #train_acc.append(train_accuracy)\n",
        "\n",
        "      if idz % 200 == 0 and idz > 0:        \n",
        "        test_acc_aux = []\n",
        "        for idy in range(test_batches_per_epoch): \n",
        "          test_batch = test_dataset.get_batch(batch_size)\n",
        "          test_acc_aux.append(accuracy.eval(feed_dict={x: test_batch[0], y_: test_batch[1]}))  \n",
        "\n",
        "        test_acc_mean = sum(test_acc_aux)/len(test_acc_aux)  \n",
        "        print('test set accuracy ' + str(test_acc_mean))\n",
        "        #test_acc.append(test_acc_mean)\n",
        "        \n",
        "        saved_path = saver.save(sess, snapshot_path)\n",
        "        #!cp -a training drive/data_quickdraw\n",
        "        !zip -r training.zip training/\n",
        "        !cp training.zip drive/data_quickdraw/training.zip\n",
        "\n",
        "      sess.run(train_step, feed_dict={x: batch[0], y_: batch[1]})\n",
        "  \n",
        "    saved_path = saver.save(sess, snapshot_path)\n",
        "    #!cp -a training drive/data_quickdraw\n",
        "    !zip -r training.zip training/\n",
        "    !cp training.zip drive/data_quickdraw/training.zip\n",
        "    \n",
        "  return loss_array, train_acc, test_acc"
      ],
      "execution_count": 0,
      "outputs": []
    },
    {
      "metadata": {
        "id": "gYUHVu3iFXTM",
        "colab_type": "text"
      },
      "cell_type": "markdown",
      "source": [
        "## Construcción y entrenamiento de la skNet"
      ]
    },
    {
      "metadata": {
        "id": "qeY5sZVQRGRL",
        "colab_type": "text"
      },
      "cell_type": "markdown",
      "source": [
        "### Construcción del grafo"
      ]
    },
    {
      "metadata": {
        "id": "fSiarO2jzL3g",
        "colab_type": "code",
        "colab": {
          "autoexec": {
            "startup": false,
            "wait_interval": 0
          }
        }
      },
      "cell_type": "code",
      "source": [
        "def skNet(x, training=False, features=False):\n",
        "  with tf.name_scope('skNet'):\n",
        "    x_image = tf.reshape(x, [-1, 128, 128, 1])       \n",
        " \n",
        "    conv1_1 = tf.layers.conv2d(\n",
        "      inputs=x_image,\n",
        "      filters=64,\n",
        "      kernel_size=[3, 3],\n",
        "      padding=\"same\",\n",
        "      activation=tf.nn.relu,\n",
        "      name=\"conv1\",\n",
        "    reuse=tf.AUTO_REUSE,\n",
        "    trainable=True)\n",
        "\n",
        "    conv1_1_n = tf.contrib.layers.batch_norm(conv1_1,\n",
        "                                      center=True,\n",
        "                                      scale=True, \n",
        "                                      is_training=training,\n",
        "                                            scope=\"convb1\",\n",
        "                                            reuse=tf.AUTO_REUSE)\n",
        "\n",
        "    conv1_2 = tf.layers.conv2d(\n",
        "      inputs=conv1_1_n,\n",
        "      filters=64,\n",
        "      kernel_size=[3, 3],\n",
        "      padding=\"same\",\n",
        "      activation=tf.nn.relu,\n",
        "      name=\"conv2\",\n",
        "    reuse=tf.AUTO_REUSE,\n",
        "    trainable=True)\n",
        "\n",
        "    conv1_2_n = tf.contrib.layers.batch_norm(conv1_2,\n",
        "                                        center=True,\n",
        "                                        scale=True, \n",
        "                                        is_training=training,\n",
        "                                            scope=\"convb2\",\n",
        "                                            reuse=tf.AUTO_REUSE)\n",
        "\n",
        "    pool1 = tf.layers.max_pooling2d(inputs=conv1_2_n, pool_size=[3, 3], strides=2)\n",
        "\n",
        "    conv2_1 = tf.layers.conv2d(\n",
        "      inputs=pool1,\n",
        "      filters=128,\n",
        "      kernel_size=[3, 3],\n",
        "      padding=\"same\",\n",
        "      activation=tf.nn.relu,\n",
        "      name=\"conv3\",\n",
        "    reuse=tf.AUTO_REUSE,\n",
        "    trainable=True)\n",
        "\n",
        "    conv2_1_n = tf.contrib.layers.batch_norm(conv2_1,\n",
        "                                        center=True,\n",
        "                                        scale=True, \n",
        "                                        is_training=training,\n",
        "                                            scope=\"convb3\",\n",
        "                                            reuse=tf.AUTO_REUSE)\n",
        "\n",
        "    conv2_2 = tf.layers.conv2d(\n",
        "        inputs=conv2_1_n,\n",
        "        filters=128,\n",
        "        kernel_size=[3, 3],\n",
        "        padding=\"same\",\n",
        "        activation=tf.nn.relu,\n",
        "        name=\"conv4\",\n",
        "    reuse=tf.AUTO_REUSE,\n",
        "    trainable=True)\n",
        "\n",
        "    conv2_2_n = tf.contrib.layers.batch_norm(conv2_2,\n",
        "                                        center=True,\n",
        "                                        scale=True, \n",
        "                                        is_training=training,\n",
        "                                            scope=\"convb4\",\n",
        "                                            reuse=tf.AUTO_REUSE)\n",
        "\n",
        "    pool2 = tf.layers.max_pooling2d(inputs=conv2_2_n, pool_size=[3, 3], strides=2)\n",
        "\n",
        "    conv3_1 = tf.layers.conv2d(\n",
        "        inputs=pool2,\n",
        "        filters=128,\n",
        "        kernel_size=[3, 3],\n",
        "        padding=\"same\",\n",
        "        activation=tf.nn.relu,\n",
        "        name=\"conv5\",\n",
        "    reuse=tf.AUTO_REUSE,\n",
        "    trainable=True)\n",
        "\n",
        "    conv3_1_n = tf.contrib.layers.batch_norm(conv3_1,\n",
        "                                        center=True,\n",
        "                                        scale=True, \n",
        "                                        is_training=training,\n",
        "                                            scope=\"convb5\",\n",
        "                                            reuse=tf.AUTO_REUSE)\n",
        "\n",
        "    conv3_2 = tf.layers.conv2d(\n",
        "        inputs=conv3_1_n,\n",
        "        filters=128,\n",
        "        kernel_size=[3, 3],\n",
        "        padding=\"same\",\n",
        "        activation=tf.nn.relu,\n",
        "        name=\"conv6\",\n",
        "    reuse=tf.AUTO_REUSE,\n",
        "    trainable=True)\n",
        "\n",
        "    conv3_2_n = tf.contrib.layers.batch_norm(conv3_2,\n",
        "                                        center=True,\n",
        "                                        scale=True, \n",
        "                                        is_training=training,\n",
        "                                            scope=\"convb6\",\n",
        "                                            reuse=tf.AUTO_REUSE)\n",
        "\n",
        "    pool3 = tf.layers.max_pooling2d(inputs=conv3_2_n, pool_size=[3, 3], strides=2)\n",
        "\n",
        "    conv4_1 = tf.layers.conv2d(\n",
        "        inputs=pool3,\n",
        "        filters=256,\n",
        "        kernel_size=[3, 3],\n",
        "        padding=\"same\",\n",
        "        activation=tf.nn.relu,\n",
        "        name=\"conv7\",\n",
        "    reuse=tf.AUTO_REUSE,\n",
        "    trainable=True)\n",
        "\n",
        "    conv4_1_n = tf.contrib.layers.batch_norm(conv4_1,\n",
        "                                        center=True,\n",
        "                                        scale=True, \n",
        "                                        is_training=training,\n",
        "                                            scope=\"convb7\",\n",
        "                                            reuse=tf.AUTO_REUSE)\n",
        "\n",
        "    conv4_2 = tf.layers.conv2d(\n",
        "        inputs=conv4_1_n,\n",
        "        filters=256,\n",
        "        kernel_size=[3, 3],\n",
        "        padding=\"same\",\n",
        "        activation=tf.nn.relu,\n",
        "        name=\"conv8\",\n",
        "    reuse=tf.AUTO_REUSE,\n",
        "    trainable=True)\n",
        "\n",
        "    conv4_2_n = tf.contrib.layers.batch_norm(conv4_2,\n",
        "                                        center=True,\n",
        "                                        scale=True, \n",
        "                                        is_training=training,\n",
        "                                            scope=\"convb8\",\n",
        "                                            reuse=tf.AUTO_REUSE)\n",
        "\n",
        "    pool4 = tf.layers.max_pooling2d(inputs=conv4_2_n, pool_size=[3, 3], strides=2)\n",
        "\n",
        "    # Dense layer\n",
        "\n",
        "    pool2_flat = tf.reshape(pool4, [-1, 7*7*256])\n",
        "    dense_l = tf.layers.dense(inputs=pool2_flat, units=1024, activation=tf.nn.relu, reuse=tf.AUTO_REUSE, name=\"dense1\")\n",
        "\n",
        "    if (features):\n",
        "      return dense_l\n",
        "    \n",
        "    # Logits Layer\n",
        "\n",
        "    logits = tf.layers.dense(inputs=dense_l, units=max_num_categories, reuse=tf.AUTO_REUSE, name=\"dense2\")\n",
        "  \n",
        "  return logits"
      ],
      "execution_count": 0,
      "outputs": []
    },
    {
      "metadata": {
        "id": "vCs0P712RNJJ",
        "colab_type": "text"
      },
      "cell_type": "markdown",
      "source": [
        "### Entrenamiento de skNet"
      ]
    },
    {
      "metadata": {
        "id": "nJlFunVeHA3g",
        "colab_type": "code",
        "colab": {
          "autoexec": {
            "startup": false,
            "wait_interval": 0
          }
        }
      },
      "cell_type": "code",
      "source": [
        "#tf.reset_default_graph()\n",
        "snapshot_path = \"./training/snap-sknet.ckpt\"\n",
        "list_scopes = [\"conv[12345678]\", \"convb[12345678]\", \"dense[12]\"]\n",
        "loss_array, train_acc, test_acc = train_net(skNet, 200, 1, 0.01, snapshot_path, True, list_scopes)"
      ],
      "execution_count": 0,
      "outputs": []
    },
    {
      "metadata": {
        "id": "-DZLfNAKtMQ0",
        "colab_type": "text"
      },
      "cell_type": "markdown",
      "source": [
        "### Descargar el modelo entrenado (opcional)"
      ]
    },
    {
      "metadata": {
        "id": "K3ZHu3WeIxtP",
        "colab_type": "code",
        "colab": {
          "autoexec": {
            "startup": false,
            "wait_interval": 0
          },
          "base_uri": "https://localhost:8080/",
          "height": 35
        },
        "outputId": "962834f4-bab5-4c5a-fbbc-343afd803436",
        "executionInfo": {
          "status": "ok",
          "timestamp": 1528667700824,
          "user_tz": 240,
          "elapsed": 45763,
          "user": {
            "displayName": "Martín Cornejo-Saavedra",
            "photoUrl": "https://lh3.googleusercontent.com/a/default-user=s128",
            "userId": "100137397923643336617"
          }
        }
      },
      "cell_type": "code",
      "source": [
        "!ls\n",
        "!tar czf training.tar.gz training/ \n",
        "files.download('training.tar.gz') "
      ],
      "execution_count": 52,
      "outputs": [
        {
          "output_type": "stream",
          "text": [
            "datalab  drive\ttest  test.tar.gz  train  training  train.tar.gz\r\n"
          ],
          "name": "stdout"
        }
      ]
    },
    {
      "metadata": {
        "id": "3RVRPf-EtWLK",
        "colab_type": "text"
      },
      "cell_type": "markdown",
      "source": [
        "### Graficar curva Loss y accurracy (en desarrollo)"
      ]
    },
    {
      "metadata": {
        "id": "GMIqhZfsbniH",
        "colab_type": "code",
        "colab": {
          "autoexec": {
            "startup": false,
            "wait_interval": 0
          }
        }
      },
      "cell_type": "code",
      "source": [
        "x_axis = np.linspace(1, len(loss_array), num=len(loss_array))\n",
        "\n",
        "plt.figure()\n",
        "plt.plot(x_axis, loss_array, 'b-*')\n",
        "plt.title(\"Loss cada 100 batches - skNet\")\n",
        "plt.xlabel(\"Centenas de batches\")\n",
        "plt.ylabel(\"Cross Entropy Mean\")\n",
        "plt.savefig('loss.pdf')\n",
        "\n",
        "plt.figure()\n",
        "plt.plot(x_axis,train_acc, 'g-*')\n",
        "plt.plot(x_axis,test_acc, 'b-*')\n",
        "plt.legend([\"Train\", \"Test\"])\n",
        "plt.title(\"Accurracy - skNet\")\n",
        "plt.xlabel(\"Centenas de batches\")\n",
        "plt.ylabel(\"Accurray [%]\")\n",
        "plt.savefig('accurracy.pdf')"
      ],
      "execution_count": 0,
      "outputs": []
    },
    {
      "metadata": {
        "id": "noiUU9T9Wgkm",
        "colab_type": "text"
      },
      "cell_type": "markdown",
      "source": [
        "## Construcción y entrenamiento de la skResNet"
      ]
    },
    {
      "metadata": {
        "id": "z9aoZp_rWlzg",
        "colab_type": "text"
      },
      "cell_type": "markdown",
      "source": [
        "### Construcción del grafo"
      ]
    },
    {
      "metadata": {
        "id": "ST115cKqWiRw",
        "colab_type": "code",
        "colab": {
          "autoexec": {
            "startup": false,
            "wait_interval": 0
          }
        }
      },
      "cell_type": "code",
      "source": [
        "def skResNet(x, training=False, features=False):\n",
        "  with tf.name_scope('reshape'):\n",
        "    x_image = tf.reshape(x, [-1, 128, 128, 1])       \n",
        "\n",
        "  conv1_1 = tf.layers.conv2d(\n",
        "    inputs=x_image,\n",
        "    filters=64,\n",
        "    kernel_size=[3, 3],\n",
        "    padding=\"same\",\n",
        "    activation=tf.nn.relu,\n",
        "    name=\"conv1\",\n",
        "    reuse=tf.AUTO_REUSE,\n",
        "    trainable=True)\n",
        "  \n",
        "  conv1_1_n = tf.contrib.layers.batch_norm(conv1_1,\n",
        "                                    center=True,\n",
        "                                    scale=True, \n",
        "                                    is_training=training,\n",
        "                                            scope=\"conb1\",\n",
        "                                            reuse=tf.AUTO_REUSE)\n",
        "  \n",
        "  conv1_2 = tf.layers.conv2d(\n",
        "    inputs=conv1_1_n,\n",
        "    filters=64,\n",
        "    kernel_size=[3, 3],\n",
        "    padding=\"same\",\n",
        "    activation=tf.nn.relu,\n",
        "      name=\"conv2\",\n",
        "    reuse=tf.AUTO_REUSE,\n",
        "    trainable=True)\n",
        "  \n",
        "  conv1_2_n = tf.contrib.layers.batch_norm(conv1_2,\n",
        "                                    center=True,\n",
        "                                    scale=True, \n",
        "                                    is_training=training,\n",
        "                                            scope=\"conb2\",\n",
        "                                            reuse=tf.AUTO_REUSE)\n",
        "\n",
        "  pool1 = tf.layers.max_pooling2d(inputs=conv1_2_n, pool_size=[3, 3], strides=2)\n",
        "  \n",
        "  conv2_1 = tf.layers.conv2d(\n",
        "    inputs=pool1,\n",
        "    filters=64,\n",
        "    kernel_size=[3, 3],\n",
        "    padding=\"same\",\n",
        "    activation=tf.nn.relu,\n",
        "      name=\"conv3\",\n",
        "    reuse=tf.AUTO_REUSE,\n",
        "    trainable=True)\n",
        "  \n",
        "  conv2_1_n = tf.contrib.layers.batch_norm(conv2_1,\n",
        "                                    center=True,\n",
        "                                    scale=True, \n",
        "                                    is_training=training,\n",
        "                                            scope=\"conb3\",\n",
        "                                            reuse=tf.AUTO_REUSE)\n",
        "  \n",
        "  conv2_2 = tf.layers.conv2d(\n",
        "    inputs=conv2_1_n,\n",
        "    filters=64,\n",
        "    kernel_size=[3, 3],\n",
        "    padding=\"same\",\n",
        "    activation=tf.nn.relu,\n",
        "      name=\"conv4\",\n",
        "    reuse=tf.AUTO_REUSE,\n",
        "    trainable=True)\n",
        "  \n",
        "  conv2_2_n = tf.contrib.layers.batch_norm(conv2_2,\n",
        "                                    center=True,\n",
        "                                    scale=True, \n",
        "                                    is_training=training,\n",
        "                                            scope=\"conb4\",\n",
        "                                            reuse=tf.AUTO_REUSE)\n",
        "  \n",
        "  residual_1 = conv2_2_n + pool1\n",
        "  \n",
        "  conv3_1 = tf.layers.conv2d(\n",
        "    inputs=residual_1,\n",
        "    filters=64,\n",
        "    kernel_size=[3, 3],\n",
        "    padding=\"same\",\n",
        "    activation=tf.nn.relu,\n",
        "      name=\"conv5\",\n",
        "    reuse=tf.AUTO_REUSE,\n",
        "    trainable=True)\n",
        "  \n",
        "  conv3_1_n = tf.contrib.layers.batch_norm(conv3_1,\n",
        "                                    center=True,\n",
        "                                    scale=True, \n",
        "                                    is_training=training,\n",
        "                                            scope=\"conb5\",\n",
        "                                            reuse=tf.AUTO_REUSE)\n",
        "  \n",
        "  conv3_2 = tf.layers.conv2d(\n",
        "    inputs=conv3_1_n,\n",
        "    filters=64,\n",
        "    kernel_size=[3, 3],\n",
        "    padding=\"same\",\n",
        "    activation=tf.nn.relu,\n",
        "      name=\"conv6\",\n",
        "    reuse=tf.AUTO_REUSE,\n",
        "    trainable=True)\n",
        "  \n",
        "  conv3_2_n = tf.contrib.layers.batch_norm(conv3_2,\n",
        "                                    center=True,\n",
        "                                    scale=True, \n",
        "                                    is_training=training,\n",
        "                                            scope=\"conb6\",\n",
        "                                            reuse=tf.AUTO_REUSE)\n",
        "  \n",
        "  residual_2 = conv3_2_n + residual_1\n",
        "  \n",
        "  conv4_1 = tf.layers.conv2d(\n",
        "    inputs=residual_2,\n",
        "    filters=128,\n",
        "    kernel_size=[3, 3],\n",
        "    padding=\"same\",\n",
        "    activation=tf.nn.relu,\n",
        "      name=\"conv7\",\n",
        "    reuse=tf.AUTO_REUSE,\n",
        "    trainable=True)\n",
        "  \n",
        "  conv4_1_n = tf.contrib.layers.batch_norm(conv4_1,\n",
        "                                    center=True,\n",
        "                                    scale=True, \n",
        "                                    is_training=training,\n",
        "                                            scope=\"conb7\",\n",
        "                                            reuse=tf.AUTO_REUSE)\n",
        "  \n",
        "  pool2 = tf.layers.max_pooling2d(inputs=conv4_1_n, pool_size=[3, 3], strides=2)\n",
        "  \n",
        "  conv5_1 = tf.layers.conv2d(\n",
        "    inputs=pool2,\n",
        "    filters=128,\n",
        "    kernel_size=[3, 3],\n",
        "    padding=\"same\",\n",
        "    activation=tf.nn.relu,\n",
        "      name=\"conv8\",\n",
        "    reuse=tf.AUTO_REUSE,\n",
        "    trainable=True)\n",
        "  \n",
        "  conv5_1_n = tf.contrib.layers.batch_norm(conv5_1,\n",
        "                                    center=True,\n",
        "                                    scale=True, \n",
        "                                    is_training=training,\n",
        "                                            scope=\"conb8\",\n",
        "                                            reuse=tf.AUTO_REUSE)\n",
        "  \n",
        "  conv5_2 = tf.layers.conv2d(\n",
        "    inputs=conv5_1_n,\n",
        "    filters=128,\n",
        "    kernel_size=[3, 3],\n",
        "    padding=\"same\",\n",
        "    activation=tf.nn.relu,\n",
        "      name=\"conv9\",\n",
        "    reuse=tf.AUTO_REUSE,\n",
        "    trainable=True)\n",
        "  \n",
        "  conv5_2_n = tf.contrib.layers.batch_norm(conv5_2,\n",
        "                                    center=True,\n",
        "                                    scale=True, \n",
        "                                    is_training=training,\n",
        "                                            scope=\"conb9\",\n",
        "                                            reuse=tf.AUTO_REUSE)\n",
        "  \n",
        "  residual_3 = conv5_2_n + pool2\n",
        "  \n",
        "  conv6_1 = tf.layers.conv2d(\n",
        "    inputs=residual_3,\n",
        "    filters=128,\n",
        "    kernel_size=[3, 3],\n",
        "    padding=\"same\",\n",
        "    activation=tf.nn.relu,\n",
        "      name=\"conva\",\n",
        "    reuse=tf.AUTO_REUSE,\n",
        "    trainable=True)\n",
        "  \n",
        "  conv6_1_n = tf.contrib.layers.batch_norm(conv6_1,\n",
        "                                    center=True,\n",
        "                                    scale=True, \n",
        "                                    is_training=training,\n",
        "                                            scope=\"conba\",\n",
        "                                            reuse=tf.AUTO_REUSE)\n",
        "  \n",
        "  conv6_2 = tf.layers.conv2d(\n",
        "    inputs=conv6_1_n,\n",
        "    filters=128,\n",
        "    kernel_size=[3, 3],\n",
        "    padding=\"same\",\n",
        "    activation=tf.nn.relu,\n",
        "      name=\"convb\",\n",
        "    reuse=tf.AUTO_REUSE,\n",
        "    trainable=True)\n",
        "  \n",
        "  conv6_2_n = tf.contrib.layers.batch_norm(conv6_2,\n",
        "                                    center=True,\n",
        "                                    scale=True, \n",
        "                                    is_training=training,\n",
        "                                            scope=\"conbb\",\n",
        "                                            reuse=tf.AUTO_REUSE)\n",
        "  \n",
        "  residual_4 = conv6_2_n + residual_3\n",
        "  \n",
        "  conv7_1 = tf.layers.conv2d(\n",
        "    inputs=residual_4,\n",
        "    filters=256,\n",
        "    kernel_size=[3, 3],\n",
        "    padding=\"same\",\n",
        "    activation=tf.nn.relu,\n",
        "      name=\"convc\",\n",
        "    reuse=tf.AUTO_REUSE,\n",
        "    trainable=True)\n",
        "  \n",
        "  conv7_1_n = tf.contrib.layers.batch_norm(conv7_1,\n",
        "                                    center=True,\n",
        "                                    scale=True, \n",
        "                                    is_training=training,\n",
        "                                            scope=\"conbc\",\n",
        "                                            reuse=tf.AUTO_REUSE)\n",
        "  \n",
        "  pool3 = tf.layers.max_pooling2d(inputs=conv7_1_n, pool_size=[3, 3], strides=2)\n",
        "  \n",
        "  conv8_1 = tf.layers.conv2d(\n",
        "    inputs=pool3,\n",
        "    filters=256,\n",
        "    kernel_size=[3, 3],\n",
        "    padding=\"same\",\n",
        "    activation=tf.nn.relu,\n",
        "      name=\"convd\",\n",
        "    reuse=tf.AUTO_REUSE,\n",
        "    trainable=True)\n",
        "  \n",
        "  conv8_1_n = tf.contrib.layers.batch_norm(conv8_1,\n",
        "                                    center=True,\n",
        "                                    scale=True, \n",
        "                                    is_training=training,\n",
        "                                            scope=\"conbd\",\n",
        "                                            reuse=tf.AUTO_REUSE)\n",
        "  \n",
        "  conv8_2 = tf.layers.conv2d(\n",
        "    inputs=conv8_1_n,\n",
        "    filters=256,\n",
        "    kernel_size=[3, 3],\n",
        "    padding=\"same\",\n",
        "    activation=tf.nn.relu,\n",
        "      name=\"conve\",\n",
        "    reuse=tf.AUTO_REUSE,\n",
        "    trainable=True)\n",
        "  \n",
        "  conv8_2_n = tf.contrib.layers.batch_norm(conv8_2,\n",
        "                                    center=True,\n",
        "                                    scale=True, \n",
        "                                    is_training=training,\n",
        "                                            scope=\"conbe\",\n",
        "                                            reuse=tf.AUTO_REUSE)\n",
        "  \n",
        "  residual_5 = conv8_2_n + pool3\n",
        "  \n",
        "  conv9_1 = tf.layers.conv2d(\n",
        "    inputs=residual_5,\n",
        "    filters=256,\n",
        "    kernel_size=[3, 3],\n",
        "    padding=\"same\",\n",
        "    activation=tf.nn.relu,\n",
        "      name=\"convf\",\n",
        "    reuse=tf.AUTO_REUSE,\n",
        "    trainable=True)\n",
        "  \n",
        "  conv9_1_n = tf.contrib.layers.batch_norm(conv9_1,\n",
        "                                    center=True,\n",
        "                                    scale=True, \n",
        "                                    is_training=training,\n",
        "                                            scope=\"conbf\",\n",
        "                                            reuse=tf.AUTO_REUSE)\n",
        "  \n",
        "  conv9_2 = tf.layers.conv2d(\n",
        "    inputs=conv9_1_n,\n",
        "    filters=256,\n",
        "    kernel_size=[3, 3],\n",
        "    padding=\"same\",\n",
        "    activation=tf.nn.relu,\n",
        "      name=\"convg\",\n",
        "    reuse=tf.AUTO_REUSE,\n",
        "    trainable=True)\n",
        "  \n",
        "  conv9_2_n = tf.contrib.layers.batch_norm(conv9_2,\n",
        "                                    center=True,\n",
        "                                    scale=True, \n",
        "                                    is_training=training,\n",
        "                                            scope=\"conbg\",\n",
        "                                            reuse=tf.AUTO_REUSE)\n",
        "  \n",
        "  residual_6 = conv9_2_n + residual_5\n",
        "  \n",
        "  conv10_1 = tf.layers.conv2d(\n",
        "    inputs=residual_6,\n",
        "    filters=256,\n",
        "    kernel_size=[3, 3],\n",
        "    padding=\"same\",\n",
        "    activation=tf.nn.relu,\n",
        "      name=\"convh\",\n",
        "    reuse=tf.AUTO_REUSE,\n",
        "    trainable=True)\n",
        "  \n",
        "  conv10_1_n = tf.contrib.layers.batch_norm(conv10_1,\n",
        "                                    center=True,\n",
        "                                    scale=True, \n",
        "                                    is_training=training,\n",
        "                                            scope=\"conbh\",\n",
        "                                            reuse=tf.AUTO_REUSE)\n",
        "  \n",
        "  pool4 = tf.layers.max_pooling2d(inputs=conv10_1_n, pool_size=[3, 3], strides=2)\n",
        "  \n",
        "  # Dense layer\n",
        "  \n",
        "  pool2_flat = tf.reshape(pool4, [-1, 7*7*256])\n",
        "  dense_l = tf.layers.dense(inputs=pool2_flat, units=1024, activation=tf.nn.relu, reuse=tf.AUTO_REUSE, name=\"dense_res_1\")\n",
        "  \n",
        "  if (features):\n",
        "    return dense_l\n",
        "  \n",
        "  dense_dropout = tf.nn.dropout(dense_l, 0.65, name=\"dropout_res\")\n",
        "  \n",
        "  # Logits Layer\n",
        "  \n",
        "  logits = tf.layers.dense(inputs=dense_dropout, units=max_num_categories, reuse=tf.AUTO_REUSE, name=\"dense_res_2\")\n",
        "  \n",
        "  return logits"
      ],
      "execution_count": 0,
      "outputs": []
    },
    {
      "metadata": {
        "id": "q89XfUjXcO1S",
        "colab_type": "text"
      },
      "cell_type": "markdown",
      "source": [
        "### Entrenamiento de skResNet"
      ]
    },
    {
      "metadata": {
        "id": "qn00RoAVcL79",
        "colab_type": "code",
        "colab": {
          "autoexec": {
            "startup": false,
            "wait_interval": 0
          }
        }
      },
      "cell_type": "code",
      "source": [
        "#tf.reset_default_graph()\n",
        "snapshot_path = \"./training/snap-skresnet.ckpt\"\n",
        "list_scopes = [\"conv[123456789abcdefgh]\", \"conb[123456789abcdefgh]\", \"dense_res_[12]\", \"dropout_res\"]\n",
        "loss_array_res, train_acc_res, test_acc_res = train_net(skResNet, 200, 6, 0.01, snapshot_path, True, list_scopes)"
      ],
      "execution_count": 0,
      "outputs": []
    },
    {
      "metadata": {
        "id": "0IfipO4l3DVa",
        "colab_type": "code",
        "colab": {
          "autoexec": {
            "startup": false,
            "wait_interval": 0
          }
        }
      },
      "cell_type": "code",
      "source": [
        "!ls\n",
        "!zip -r training_res.zip training/ \n",
        "files.download('training_res.zip') "
      ],
      "execution_count": 0,
      "outputs": []
    },
    {
      "metadata": {
        "id": "TmxmnN4cdFjh",
        "colab_type": "code",
        "colab": {
          "autoexec": {
            "startup": false,
            "wait_interval": 0
          },
          "base_uri": "https://localhost:8080/",
          "height": 735
        },
        "outputId": "e3e1a72c-a6c3-4424-8a7c-d98756f7a650",
        "executionInfo": {
          "status": "ok",
          "timestamp": 1528412093404,
          "user_tz": 240,
          "elapsed": 1335,
          "user": {
            "displayName": "Martín Cornejo-Saavedra",
            "photoUrl": "https://lh3.googleusercontent.com/a/default-user=s128",
            "userId": "100137397923643336617"
          }
        }
      },
      "cell_type": "code",
      "source": [
        "x_axis_res = np.linspace(1, len(loss_array_res), num=len(loss_array_res))\n",
        "\n",
        "plt.figure()\n",
        "plt.plot(x_axis, loss_array_res, 'b-*')\n",
        "plt.title(\"Loss cada 100 batches - skResNet\")\n",
        "plt.xlabel(\"Centenas de batches\")\n",
        "plt.ylabel(\"Cross Entropy Mean\")\n",
        "plt.savefig('loss.pdf')\n",
        "\n",
        "plt.figure()\n",
        "plt.plot(x_axis,train_acc_res, 'g-*')\n",
        "plt.plot(x_axis,test_acc_res, 'b-*')\n",
        "plt.legend([\"Train\", \"Test\"])\n",
        "plt.title(\"Accurracy - skResNet\")\n",
        "plt.xlabel(\"Centenas de batches\")\n",
        "plt.ylabel(\"Accurray [%]\")\n",
        "plt.savefig('accurracy.pdf')\n",
        "\n",
        "# files.download('loss_res.pdf')\n",
        "# files.download('accurracy_res.pdf')"
      ],
      "execution_count": 33,
      "outputs": [
        {
          "output_type": "display_data",
          "data": {
            "image/png": "[encoded data removed]",
            "text/plain": [
              "<matplotlib.figure.Figure at 0x7fa7a5ecefd0>"
            ]
          },
          "metadata": {
            "tags": []
          }
        },
        {
          "output_type": "display_data",
          "data": {
            "image/png": "[encoded data removed]",
            "text/plain": [
              "<matplotlib.figure.Figure at 0x7fa7a62bf610>"
            ]
          },
          "metadata": {
            "tags": []
          }
        }
      ]
    },
    {
      "metadata": {
        "id": "zwIAKsna0bNm",
        "colab_type": "code",
        "colab": {
          "autoexec": {
            "startup": false,
            "wait_interval": 0
          },
          "base_uri": "https://localhost:8080/",
          "height": 126
        },
        "outputId": "22e0d24e-e76b-46c2-ded5-a02e52fd2769",
        "executionInfo": {
          "status": "ok",
          "timestamp": 1528821855826,
          "user_tz": 240,
          "elapsed": 16371,
          "user": {
            "displayName": "Martín Cornejo-Saavedra",
            "photoUrl": "https://lh3.googleusercontent.com/a/default-user=s128",
            "userId": "100137397923643336617"
          }
        }
      },
      "cell_type": "code",
      "source": [
        "!zip -r training.zip training/\n",
        "!cp training.zip drive/data_quickdraw/training.zip\n",
        "#!ls training"
      ],
      "execution_count": 27,
      "outputs": [
        {
          "output_type": "stream",
          "text": [
            "  adding: training/ (stored 0%)\r\n",
            "  adding: training/checkpoint (deflated 41%)\r\n",
            "  adding: training/snap-skresnet.ckpt.index (deflated 64%)\n",
            "  adding: training/snap-data (deflated 10%)\n",
            "  adding: training/snap-skresnet.ckpt.data-00000-of-00001 (deflated 10%)\n",
            "  adding: training/snap-skresnet.ckpt.meta (deflated 91%)\n"
          ],
          "name": "stdout"
        }
      ]
    },
    {
      "metadata": {
        "id": "Lxwz1e9aGBer",
        "colab_type": "text"
      },
      "cell_type": "markdown",
      "source": [
        "## Búsqueda por similitud en skNet y skResNet"
      ]
    },
    {
      "metadata": {
        "id": "N58_H6RaHi5x",
        "colab_type": "text"
      },
      "cell_type": "markdown",
      "source": [
        "### Se crea clase para obtener los vectores de características de cada imagen y guardarlas en un txt por clase."
      ]
    },
    {
      "metadata": {
        "id": "9ExZxOMx6prO",
        "colab_type": "code",
        "colab": {
          "autoexec": {
            "startup": false,
            "wait_interval": 0
          },
          "base_uri": "https://localhost:8080/",
          "height": 90
        },
        "outputId": "38400066-feed-4b15-f625-283be295e2c2",
        "executionInfo": {
          "status": "ok",
          "timestamp": 1532484794773,
          "user_tz": 240,
          "elapsed": 2683,
          "user": {
            "displayName": "Martín Cornejo-Saavedra",
            "photoUrl": "https://lh3.googleusercontent.com/a/default-user=s128",
            "userId": "100137397923643336617"
          }
        }
      },
      "cell_type": "code",
      "source": [
        "features_path = \"features_resnet/\"\n",
        "# !mkdir features\n",
        "!mkdir features_resnet\n",
        "!ls"
      ],
      "execution_count": 67,
      "outputs": [
        {
          "output_type": "stream",
          "text": [
            "mkdir: cannot create directory ‘features_resnet’: File exists\n",
            "datalab   features_path    test\t\ttraining\n",
            "drive\t  features_resnet  test.tar.gz\ttraining_sknet.zip\n",
            "features  features.zip\t   train\ttrain.tar.gz\n"
          ],
          "name": "stdout"
        }
      ]
    },
    {
      "metadata": {
        "id": "UwWJUGsC6-wy",
        "colab_type": "code",
        "colab": {
          "autoexec": {
            "startup": false,
            "wait_interval": 0
          }
        }
      },
      "cell_type": "code",
      "source": [
        "for idx in range(max_num_categories):\n",
        "  os.system(\"mkdir \" + features_path + str(idx))"
      ],
      "execution_count": 0,
      "outputs": []
    },
    {
      "metadata": {
        "id": "Kp1r0nPmGX5u",
        "colab_type": "code",
        "colab": {
          "autoexec": {
            "startup": false,
            "wait_interval": 0
          }
        }
      },
      "cell_type": "code",
      "source": [
        "class FeatureExtractor():\n",
        "  @staticmethod\n",
        "  def createTxtFeatures(dnn_graph, snapshot_path = \"./training/snap-sknet.ckpt\", layer_scopes = [\"conv[12345678]\", \"convb[12345678]\", \"dense[12]\"], features_path=features_path, feature_file=\"features\"):\n",
        "    data_path = \"test/\"   \n",
        "    \n",
        "    x = tf.placeholder(tf.float16, shape=(None, 128*128))      \n",
        "    features = dnn_graph(x, False, True)     \n",
        "    \n",
        "    with tf.Session() as sess:       \n",
        "      reuse_vars = []\n",
        "\n",
        "      for cusScope in layer_scopes:\n",
        "        reuse_vars += tf.get_collection(tf.GraphKeys.GLOBAL_VARIABLES,\n",
        "                                     scope=cusScope)      \n",
        "\n",
        "      reuse_vars_dict = dict([(var.op.name, var) for var in reuse_vars])\n",
        "      saver = tf.train.Saver(reuse_vars_dict)\n",
        "      saver.restore(sess, snapshot_path)    \n",
        "    \n",
        "      for img_class in range(max_num_categories):\n",
        "        features_aux = []\n",
        "      \n",
        "        for img in range(test_samples_per_cat):\n",
        "          img_input = np.loadtxt(data_path + str(img_class) + \"/\" + str(img) + \".txt\")\n",
        "          img_input = np.resize(img_input, (1, 16384))          \n",
        "\n",
        "          features_aux.append(features.eval(feed_dict={x: img_input})[0])\n",
        "      \n",
        "        np.savetxt(features_path + str(img_class) + \"/\" + feature_file + \".txt\", features_aux, delimiter=' ')\n",
        "      "
      ],
      "execution_count": 0,
      "outputs": []
    },
    {
      "metadata": {
        "id": "wk9pusbyLlvh",
        "colab_type": "code",
        "colab": {
          "autoexec": {
            "startup": false,
            "wait_interval": 0
          },
          "base_uri": "https://localhost:8080/",
          "height": 35
        },
        "outputId": "0a2a75d5-628b-43c7-8df9-655b525f7050",
        "executionInfo": {
          "status": "ok",
          "timestamp": 1532480219078,
          "user_tz": 240,
          "elapsed": 108666,
          "user": {
            "displayName": "Martín Cornejo-Saavedra",
            "photoUrl": "https://lh3.googleusercontent.com/a/default-user=s128",
            "userId": "100137397923643336617"
          }
        }
      },
      "cell_type": "code",
      "source": [
        "FeatureExtractor.createTxtFeatures(skNet)"
      ],
      "execution_count": 24,
      "outputs": [
        {
          "output_type": "stream",
          "text": [
            "INFO:tensorflow:Restoring parameters from ./training/snap-sknet.ckpt\n"
          ],
          "name": "stdout"
        }
      ]
    },
    {
      "metadata": {
        "id": "FI31jfLANsd_",
        "colab_type": "code",
        "colab": {
          "autoexec": {
            "startup": false,
            "wait_interval": 0
          },
          "base_uri": "https://localhost:8080/",
          "height": 35
        },
        "outputId": "a0696e6b-626b-4ed6-a177-e45e97097470",
        "executionInfo": {
          "status": "ok",
          "timestamp": 1532485577729,
          "user_tz": 240,
          "elapsed": 137168,
          "user": {
            "displayName": "Martín Cornejo-Saavedra",
            "photoUrl": "https://lh3.googleusercontent.com/a/default-user=s128",
            "userId": "100137397923643336617"
          }
        }
      },
      "cell_type": "code",
      "source": [
        "# tf.reset_default_graph()\n",
        "snapshot_path = \"./training/snap-skresnet.ckpt\"\n",
        "list_scopes = [\"conv[123456789abcdefgh]\", \"conb[123456789abcdefgh]\", \"dense_res_[12]\", \"dropout_res\"]\n",
        "FeatureExtractor.createTxtFeatures(skResNet, snapshot_path, list_scopes, \"features_resnet/\")"
      ],
      "execution_count": 77,
      "outputs": [
        {
          "output_type": "stream",
          "text": [
            "INFO:tensorflow:Restoring parameters from ./training/snap-skresnet.ckpt\n"
          ],
          "name": "stdout"
        }
      ]
    },
    {
      "metadata": {
        "id": "q2J_ZEoX7zx9",
        "colab_type": "code",
        "colab": {
          "autoexec": {
            "startup": false,
            "wait_interval": 0
          }
        }
      },
      "cell_type": "code",
      "source": [
        "# descargamos los features\n",
        "!zip -r features.zip features/\n",
        "!cp features.zip drive/data_quickdraw/features.zip"
      ],
      "execution_count": 0,
      "outputs": []
    },
    {
      "metadata": {
        "id": "vr-n1hjoQoTC",
        "colab_type": "code",
        "colab": {
          "autoexec": {
            "startup": false,
            "wait_interval": 0
          }
        }
      },
      "cell_type": "code",
      "source": [
        "# resnet\n",
        "!zip -r features_resnet.zip features_resnet/\n",
        "!cp features_resnet.zip drive/data_quickdraw/features_resnet.zip"
      ],
      "execution_count": 0,
      "outputs": []
    },
    {
      "metadata": {
        "id": "YsmB-Dhk5Cfn",
        "colab_type": "text"
      },
      "cell_type": "markdown",
      "source": [
        "### Se calculan los rankings según distancia L2 y luego se calculan los Average Precision junto con el mAP"
      ]
    },
    {
      "metadata": {
        "id": "3k6WcgCi5J_V",
        "colab_type": "code",
        "colab": {
          "autoexec": {
            "startup": false,
            "wait_interval": 0
          }
        }
      },
      "cell_type": "code",
      "source": [
        "class MeanAveragePrecision():\n",
        "  @staticmethod\n",
        "  def getMAP(features_path=\"features/\", feature_file=\"features\"):\n",
        "    listaPrecision = []\n",
        "    \n",
        "    for img_class in range(max_num_categories):\n",
        "      classFeatures = np.loadtxt(features_path + str(img_class) + \"/\" + feature_file + \".txt\")\n",
        "      distance_matrix = []\n",
        "      \n",
        "      for img_class_aux in range(max_num_categories):\n",
        "        classFeaturesAux = np.loadtxt(features_path + str(img_class_aux) + \"/\" + feature_file + \".txt\")\n",
        "        class_distances = []        \n",
        "        \n",
        "        for idj, feature in enumerate(classFeatures):\n",
        "          if (img_class == img_class_aux):   # leave-one-out\n",
        "            classFeaturesAux2 = np.delete(classFeaturesAux, [idj], 0)\n",
        "          else:\n",
        "            classFeaturesAux2 = classFeaturesAux\n",
        "          \n",
        "          differences = classFeaturesAux2 - feature\n",
        "\n",
        "          distances = np.sum(np.power(differences, 2), axis=1).reshape(1, len(differences))\n",
        "          \n",
        "          myFunc = lambda x: {'dist': x, 'class': img_class_aux}\n",
        "          vfunc = np.vectorize(myFunc)\n",
        "          distances_aux_classes = vfunc(distances)\n",
        "          \n",
        "          if (len(class_distances) == 0):\n",
        "            class_distances = distances_aux_classes\n",
        "          else:            \n",
        "            class_distances = np.concatenate((class_distances, distances_aux_classes), axis=0)             \n",
        "#           pdb.set_trace()\n",
        "\n",
        "        if (len(distance_matrix) == 0):\n",
        "          distance_matrix = class_distances\n",
        "        else:\n",
        "          distance_matrix = np.concatenate((distance_matrix, class_distances), axis=1)      \n",
        "#         pdb.set_trace()     \n",
        "  \n",
        "      for idx in range(test_samples_per_cat):\n",
        "        aux_row = distance_matrix[idx, :]\n",
        "        ranking = sorted(aux_row, key=lambda k: k['dist'])   # increasing order\n",
        "#         pdb.set_trace()\n",
        "        accum_precision = 0\n",
        "        relevantes = 0\n",
        "        \n",
        "        for idz, objRanking in enumerate(ranking):\n",
        "          if (objRanking['class'] == img_class):\n",
        "            relevantes += 1\n",
        "            accum_precision += relevantes/(idz+1)\n",
        "        \n",
        "#         pdb.set_trace()\n",
        "        listaPrecision.append(accum_precision*1.0/(test_samples_per_cat-1))\n",
        "      \n",
        "#       print(\"class \" + str(img_class) + \" ready\")\n",
        "      \n",
        "    return sum(listaPrecision)/len(listaPrecision)"
      ],
      "execution_count": 0,
      "outputs": []
    },
    {
      "metadata": {
        "id": "9xuTpJD87PKC",
        "colab_type": "code",
        "colab": {
          "autoexec": {
            "startup": false,
            "wait_interval": 0
          },
          "base_uri": "https://localhost:8080/",
          "height": 35
        },
        "outputId": "b84e8c41-4b10-4265-f219-83b16151226a",
        "executionInfo": {
          "status": "ok",
          "timestamp": 1532488483798,
          "user_tz": 240,
          "elapsed": 1231405,
          "user": {
            "displayName": "Martín Cornejo-Saavedra",
            "photoUrl": "https://lh3.googleusercontent.com/a/default-user=s128",
            "userId": "100137397923643336617"
          }
        }
      },
      "cell_type": "code",
      "source": [
        "map_value = MeanAveragePrecision.getMAP()\n",
        "print(map_value)"
      ],
      "execution_count": 89,
      "outputs": [
        {
          "output_type": "stream",
          "text": [
            "0.0214979591837\n"
          ],
          "name": "stdout"
        }
      ]
    },
    {
      "metadata": {
        "id": "tPvp3PjjNT1Z",
        "colab_type": "code",
        "colab": {
          "autoexec": {
            "startup": false,
            "wait_interval": 0
          },
          "base_uri": "https://localhost:8080/",
          "height": 35
        },
        "outputId": "9aba7524-e270-4a59-a857-ad77b42c3e8d",
        "executionInfo": {
          "status": "ok",
          "timestamp": 1532487221840,
          "user_tz": 240,
          "elapsed": 1152186,
          "user": {
            "displayName": "Martín Cornejo-Saavedra",
            "photoUrl": "https://lh3.googleusercontent.com/a/default-user=s128",
            "userId": "100137397923643336617"
          }
        }
      },
      "cell_type": "code",
      "source": [
        "map_value = MeanAveragePrecision.getMAP(\"features_resnet/\")\n",
        "print(map_value)"
      ],
      "execution_count": 88,
      "outputs": [
        {
          "output_type": "stream",
          "text": [
            "0.018906122449\n"
          ],
          "name": "stdout"
        }
      ]
    }
  ]
}