{
  "nbformat": 4,
  "nbformat_minor": 0,
  "metadata": {
    "colab": {
      "name": "Tarea2_deep_learning.ipynb",
      "version": "0.3.2",
      "views": {},
      "default_view": {},
      "provenance": [],
      "collapsed_sections": []
    },
    "kernelspec": {
      "name": "python2",
      "display_name": "Python 2"
    },
    "accelerator": "GPU"
  },
  "cells": [
    {
      "metadata": {
        "id": "XUpfM3SuDS6k",
        "colab_type": "text"
      },
      "cell_type": "markdown",
      "source": [
        "# Tarea 2 : Clasificación y búsqueda por similitud de sketches usando redes convolucionales\n",
        "\n",
        "# CC6204 Deep Learning, Universidad de Chile <br/> Hoja de respuestas \n",
        "\n",
        "## Nombre: Martín Cornejo Saavedra\n",
        "Fecha para completar la tarea: 17 de junio de 2018"
      ]
    },
    {
      "metadata": {
        "id": "rZjPsrt_EnFd",
        "colab_type": "code",
        "colab": {
          "autoexec": {
            "startup": false,
            "wait_interval": 0
          }
        }
      },
      "cell_type": "code",
      "source": [
        "import tensorflow as tf\n",
        "\n",
        "import matplotlib.pyplot as plt\n",
        "import numpy as np\n",
        "\n",
        "from skimage.draw import line as drawLine\n",
        "\n",
        "import pdb\n",
        "import random\n",
        "import os\n",
        "import json"
      ],
      "execution_count": 0,
      "outputs": []
    },
    {
      "metadata": {
        "id": "lwllwdwMuZiE",
        "colab_type": "code",
        "colab": {
          "autoexec": {
            "startup": false,
            "wait_interval": 0
          },
          "base_uri": "https://localhost:8080/",
          "height": 35
        },
        "outputId": "0a8df1bf-0fc0-41cf-9b15-e48606bf182f",
        "executionInfo": {
          "status": "ok",
          "timestamp": 1528339358910,
          "user_tz": 240,
          "elapsed": 1238,
          "user": {
            "displayName": "Martín Cornejo-Saavedra",
            "photoUrl": "https://lh3.googleusercontent.com/a/default-user=s128",
            "userId": "100137397923643336617"
          }
        }
      },
      "cell_type": "code",
      "source": [
        "tf.test.gpu_device_name()"
      ],
      "execution_count": 2,
      "outputs": [
        {
          "output_type": "execute_result",
          "data": {
            "text/plain": [
              "'/device:GPU:0'"
            ]
          },
          "metadata": {
            "tags": []
          },
          "execution_count": 2
        }
      ]
    },
    {
      "metadata": {
        "id": "Lb00DHDgGWBC",
        "colab_type": "text"
      },
      "cell_type": "markdown",
      "source": [
        "## Construcción del conjunto de datos"
      ]
    },
    {
      "metadata": {
        "id": "DWHsEQiWDRr4",
        "colab_type": "code",
        "colab": {
          "autoexec": {
            "startup": false,
            "wait_interval": 0
          }
        }
      },
      "cell_type": "code",
      "source": [
        "raw_categories = !gsutil ls -r \"gs://quickdraw_dataset/full/simplified/*\""
      ],
      "execution_count": 0,
      "outputs": []
    },
    {
      "metadata": {
        "id": "2SHWwUA3Jngh",
        "colab_type": "text"
      },
      "cell_type": "markdown",
      "source": [
        "### Elegimos 100 categorias al azar y las descargamos"
      ]
    },
    {
      "metadata": {
        "id": "Io7kpyNfGHi0",
        "colab_type": "code",
        "colab": {
          "autoexec": {
            "startup": false,
            "wait_interval": 0
          }
        }
      },
      "cell_type": "code",
      "source": [
        "for idx, raw_cat in enumerate(raw_categories):\n",
        "  raw_categories[idx] = raw_cat.replace(\" \", \"\\ \")   # para que bash reconozca el espacio en la descarga\n",
        "\n",
        "random_categories = []\n",
        "max_num_categories = 5\n",
        "\n",
        "while True:\n",
        "  rand_cat = random.randint(0, len(raw_categories)-1)\n",
        "  if rand_cat not in random_categories:\n",
        "    random_categories.append(rand_cat)\n",
        "  if len(random_categories) is max_num_categories:\n",
        "    break"
      ],
      "execution_count": 0,
      "outputs": []
    },
    {
      "metadata": {
        "id": "22Mt8lBUEX_1",
        "colab_type": "code",
        "colab": {
          "autoexec": {
            "startup": false,
            "wait_interval": 0
          },
          "base_uri": "https://localhost:8080/",
          "height": 35
        },
        "outputId": "9b42436d-37e0-40e4-a57c-00a30c701004",
        "executionInfo": {
          "status": "ok",
          "timestamp": 1528339364312,
          "user_tz": 240,
          "elapsed": 1644,
          "user": {
            "displayName": "Martín Cornejo-Saavedra",
            "photoUrl": "https://lh3.googleusercontent.com/a/default-user=s128",
            "userId": "100137397923643336617"
          }
        }
      },
      "cell_type": "code",
      "source": [
        "!mkdir quick_draw_data\n",
        "os.chdir(\"/content/quick_draw_data\")"
      ],
      "execution_count": 5,
      "outputs": [
        {
          "output_type": "stream",
          "text": [
            "mkdir: cannot create directory ‘quick_draw_data’: File exists\r\n"
          ],
          "name": "stdout"
        }
      ]
    },
    {
      "metadata": {
        "id": "Z97Ar-OjVPh0",
        "colab_type": "code",
        "colab": {
          "autoexec": {
            "startup": false,
            "wait_interval": 0
          }
        }
      },
      "cell_type": "code",
      "source": [
        "str_random_cat = []\n",
        "\n",
        "os.system(\"mkdir train\")\n",
        "os.system(\"mkdir test\")\n",
        "\n",
        "for category in random_categories:\n",
        "  aux = raw_categories[category].replace(\"gs://quickdraw_dataset/full/simplified/\", \"\")\n",
        "  aux = aux.replace(\".ndjson\", \"\")\n",
        "  str_random_cat.append(aux)\n",
        "  os.system(\"mkdir train/\" + aux)\n",
        "  os.system(\"mkdir test/\" + aux)"
      ],
      "execution_count": 0,
      "outputs": []
    },
    {
      "metadata": {
        "id": "cynXyLqxHDtu",
        "colab_type": "code",
        "colab": {
          "autoexec": {
            "startup": false,
            "wait_interval": 0
          },
          "base_uri": "https://localhost:8080/",
          "height": 108
        },
        "outputId": "8ae613c5-96b2-4c4a-f208-fd0ff13f1ea4",
        "executionInfo": {
          "status": "ok",
          "timestamp": 1528339378387,
          "user_tz": 240,
          "elapsed": 13023,
          "user": {
            "displayName": "Martín Cornejo-Saavedra",
            "photoUrl": "https://lh3.googleusercontent.com/a/default-user=s128",
            "userId": "100137397923643336617"
          }
        }
      },
      "cell_type": "code",
      "source": [
        "for idx, category in enumerate(random_categories):\n",
        "  os.system(\"gsutil cp \" + raw_categories[category] + \" .\")\n",
        "  print(\"La categoria \" + str(idx+1) + \" copiada es \" + raw_categories[category])"
      ],
      "execution_count": 7,
      "outputs": [
        {
          "output_type": "stream",
          "text": [
            "La categoria 1 copiada es gs://quickdraw_dataset/full/simplified/cannon.ndjson\n",
            "La categoria 2 copiada es gs://quickdraw_dataset/full/simplified/frog.ndjson\n",
            "La categoria 3 copiada es gs://quickdraw_dataset/full/simplified/frying\\ pan.ndjson\n",
            "La categoria 4 copiada es gs://quickdraw_dataset/full/simplified/The\\ Eiffel\\ Tower.ndjson\n",
            "La categoria 5 copiada es gs://quickdraw_dataset/full/simplified/snail.ndjson\n"
          ],
          "name": "stdout"
        }
      ]
    },
    {
      "metadata": {
        "id": "WpO2Vyh9JtfB",
        "colab_type": "code",
        "colab": {
          "autoexec": {
            "startup": false,
            "wait_interval": 0
          },
          "base_uri": "https://localhost:8080/",
          "height": 35
        },
        "outputId": "5aadd60a-9b56-49de-f06f-a64e543e448c",
        "executionInfo": {
          "status": "ok",
          "timestamp": 1528339380096,
          "user_tz": 240,
          "elapsed": 1690,
          "user": {
            "displayName": "Martín Cornejo-Saavedra",
            "photoUrl": "https://lh3.googleusercontent.com/a/default-user=s128",
            "userId": "100137397923643336617"
          }
        }
      },
      "cell_type": "code",
      "source": [
        "categories = !ls\n",
        "print(len(categories))\n",
        "\n",
        "for cat in str_random_cat:\n",
        "  if (cat + \".ndjson\").replace(\"\\ \", \" \") not in categories:\n",
        "    print(\"falta \" + cat)"
      ],
      "execution_count": 8,
      "outputs": [
        {
          "output_type": "stream",
          "text": [
            "17\n"
          ],
          "name": "stdout"
        }
      ]
    },
    {
      "metadata": {
        "id": "NV6uyw8wFK30",
        "colab_type": "text"
      },
      "cell_type": "markdown",
      "source": [
        "### Se convierte la data en formato json a bitmaps de 128x128 y se guardan en formato .txt"
      ]
    },
    {
      "metadata": {
        "id": "pE7tDx5TYQyT",
        "colab_type": "code",
        "colab": {
          "autoexec": {
            "startup": false,
            "wait_interval": 0
          }
        }
      },
      "cell_type": "code",
      "source": [
        "def parse_line(ndjson_line):\n",
        "  \"\"\"Parse an ndjson line and return ink (as np array) and classname.\"\"\"\n",
        "  sample = json.loads(ndjson_line)\n",
        "  class_name = sample[\"word\"]\n",
        "  if not class_name:\n",
        "    print (\"Empty classname\")\n",
        "    return None, None\n",
        "  inkarray = sample[\"drawing\"]\n",
        "\n",
        "  div_scale = 2\n",
        "  \n",
        "  for idx, stroke in enumerate(inkarray):\n",
        "    if len(stroke[0]) != len(stroke[1]):\n",
        "      print(\"Inconsistent number of x and y coordinates.\")\n",
        "      return None, None\n",
        "    \n",
        "    for idy, x_coord in enumerate(stroke[0]):\n",
        "      inkarray[idx][0][idy] /= div_scale\n",
        "      inkarray[idx][1][idy] /= div_scale\n",
        "  \n",
        "  return inkarray, class_name\n",
        "\n",
        "def convert_data(trainingdata_dir,\n",
        "                 observations_per_class,\n",
        "                 output_folder,\n",
        "                 offset=0):\n",
        "  file_handles = []\n",
        "  # Open all input files.\n",
        "  for filename in sorted(tf.gfile.ListDirectory(trainingdata_dir)):\n",
        "    if not filename.endswith(\".ndjson\"):\n",
        "      #print(\"Skipping\", filename)\n",
        "      continue\n",
        "    file_handles.append(\n",
        "        tf.gfile.GFile(os.path.join(trainingdata_dir, filename), \"r\"))\n",
        "    if offset:  # Fast forward all files to skip the offset.\n",
        "      count = 0\n",
        "      for _ in file_handles[-1]:\n",
        "        count += 1\n",
        "        if count == offset:\n",
        "          break\n",
        "\n",
        "    \n",
        "  reading_order = list(range(len(file_handles)))\n",
        "          \n",
        "  class_names = []  \n",
        "    \n",
        "  for idx in reading_order:\n",
        "    for pictureNum in range(observations_per_class):\n",
        "      line = file_handles[idx].readline()\n",
        "      ink = None\n",
        "      \n",
        "      while ink is None:\n",
        "        ink, class_name = parse_line(line)\n",
        "        if ink is None:\n",
        "          print (\"Couldn't parse ink from '\" + line + \"'.\")\n",
        "\n",
        "      drawing = np.zeros((128, 128), dtype=np.uint8)\n",
        "      \n",
        "      if class_name not in class_names:\n",
        "        class_names.append(class_name)      \n",
        "        os.system(\"mkdir \" + output_folder + str(idx))\n",
        "\n",
        "      for linea in ink:\n",
        "        for idy in range(len(linea[0])-1):\n",
        "          rr, cc = drawLine(linea[1][idy], linea[0][idy], linea[1][idy+1], linea[0][idy+1])\n",
        "          drawing[rr, cc] = 1\n",
        "\n",
        "      np.savetxt(output_folder + str(idx) + \"/\" + str(pictureNum) + \".txt\", drawing, fmt=\"%d\", delimiter=\" \")"
      ],
      "execution_count": 0,
      "outputs": []
    },
    {
      "metadata": {
        "id": "Y-WnhKa1ubKQ",
        "colab_type": "code",
        "colab": {
          "autoexec": {
            "startup": false,
            "wait_interval": 0
          }
        }
      },
      "cell_type": "code",
      "source": [
        "train_samples_per_cat = 50\n",
        "\n",
        "convert_data(\".\",\n",
        "             train_samples_per_cat,\n",
        "             \"train/\")    \n",
        "\n",
        "test_samples_per_cat = 10\n",
        "\n",
        "convert_data(\".\",\n",
        "             test_samples_per_cat,\n",
        "             \"test/\",\n",
        "             train_samples_per_cat)    "
      ],
      "execution_count": 0,
      "outputs": []
    },
    {
      "metadata": {
        "id": "Azx2iVCgzBaV",
        "colab_type": "code",
        "colab": {
          "autoexec": {
            "startup": false,
            "wait_interval": 0
          },
          "base_uri": "https://localhost:8080/",
          "height": 683
        },
        "outputId": "6a44ab91-ba31-4e5a-d50c-ce0bd7c84c5f",
        "executionInfo": {
          "status": "ok",
          "timestamp": 1528339391388,
          "user_tz": 240,
          "elapsed": 1015,
          "user": {
            "displayName": "Martín Cornejo-Saavedra",
            "photoUrl": "https://lh3.googleusercontent.com/a/default-user=s128",
            "userId": "100137397923643336617"
          }
        }
      },
      "cell_type": "code",
      "source": [
        "test_imagen = np.loadtxt(\"test/2/9.txt\")\n",
        "plt.imshow(test_imagen)\n",
        "plt.show()\n",
        "\n",
        "train_imagen = np.loadtxt(\"train/2/49.txt\")\n",
        "plt.imshow(train_imagen)\n",
        "plt.show()"
      ],
      "execution_count": 11,
      "outputs": [
        {
          "output_type": "display_data",
          "data": {
            "image/png": "[encoded data removed]",
            "text/plain": [
              "<matplotlib.figure.Figure at 0x7f0e14ed54d0>"
            ]
          },
          "metadata": {
            "tags": []
          }
        },
        {
          "output_type": "display_data",
          "data": {
            "image/png": "[encoded data removed]",
            "text/plain": [
              "<matplotlib.figure.Figure at 0x7f0e10b3e0d0>"
            ]
          },
          "metadata": {
            "tags": []
          }
        }
      ]
    },
    {
      "metadata": {
        "id": "hn2SEWbuNrHl",
        "colab_type": "code",
        "colab": {
          "autoexec": {
            "startup": false,
            "wait_interval": 0
          },
          "base_uri": "https://localhost:8080/",
          "height": 35
        },
        "outputId": "06a12cbd-c9dd-47c1-8ff5-b571bd386df9",
        "executionInfo": {
          "status": "ok",
          "timestamp": 1528339393620,
          "user_tz": 240,
          "elapsed": 1553,
          "user": {
            "displayName": "Martín Cornejo-Saavedra",
            "photoUrl": "https://lh3.googleusercontent.com/a/default-user=s128",
            "userId": "100137397923643336617"
          }
        }
      },
      "cell_type": "code",
      "source": [
        "!ls test/4"
      ],
      "execution_count": 12,
      "outputs": [
        {
          "output_type": "stream",
          "text": [
            "0.txt  1.txt  2.txt  3.txt  4.txt  5.txt  6.txt  7.txt\t8.txt  9.txt\r\n"
          ],
          "name": "stdout"
        }
      ]
    },
    {
      "metadata": {
        "id": "gYUHVu3iFXTM",
        "colab_type": "text"
      },
      "cell_type": "markdown",
      "source": [
        "### Se construye el grafo de la skNet"
      ]
    },
    {
      "metadata": {
        "id": "fSiarO2jzL3g",
        "colab_type": "code",
        "colab": {
          "autoexec": {
            "startup": false,
            "wait_interval": 0
          }
        }
      },
      "cell_type": "code",
      "source": [
        "def deepnn(x):\n",
        "  with tf.name_scope('reshape'):\n",
        "    x_image = tf.reshape(x, [-1, 128, 128, 1])       \n",
        "\n",
        "  conv1_1 = tf.layers.conv2d(\n",
        "    inputs=x_image,\n",
        "    filters=64,\n",
        "    kernel_size=[3, 3],\n",
        "    padding=\"same\",\n",
        "    activation=tf.nn.relu)\n",
        "  \n",
        "  conv1_2 = tf.layers.conv2d(\n",
        "    inputs=conv1_1,\n",
        "    filters=64,\n",
        "    kernel_size=[3, 3],\n",
        "    padding=\"same\",\n",
        "    activation=tf.nn.relu)\n",
        "\n",
        "  pool1 = tf.layers.max_pooling2d(inputs=conv1_2, pool_size=[3, 3], strides=2)\n",
        "  \n",
        "  conv2_1 = tf.layers.conv2d(\n",
        "    inputs=pool1,\n",
        "    filters=128,\n",
        "    kernel_size=[3, 3],\n",
        "    padding=\"same\",\n",
        "    activation=tf.nn.relu)\n",
        "  \n",
        "  conv2_2 = tf.layers.conv2d(\n",
        "    inputs=conv2_1,\n",
        "    filters=128,\n",
        "    kernel_size=[3, 3],\n",
        "    padding=\"same\",\n",
        "    activation=tf.nn.relu)\n",
        "\n",
        "  pool2 = tf.layers.max_pooling2d(inputs=conv2_2, pool_size=[3, 3], strides=2)\n",
        "  \n",
        "  conv3_1 = tf.layers.conv2d(\n",
        "    inputs=pool2,\n",
        "    filters=128,\n",
        "    kernel_size=[3, 3],\n",
        "    padding=\"same\",\n",
        "    activation=tf.nn.relu)\n",
        "  \n",
        "  conv3_2 = tf.layers.conv2d(\n",
        "    inputs=conv3_1,\n",
        "    filters=128,\n",
        "    kernel_size=[3, 3],\n",
        "    padding=\"same\",\n",
        "    activation=tf.nn.relu)\n",
        "\n",
        "  pool3 = tf.layers.max_pooling2d(inputs=conv3_2, pool_size=[3, 3], strides=2)\n",
        "  \n",
        "#   conv4_1 = tf.layers.conv2d(\n",
        "#     inputs=pool3,\n",
        "#     filters=256,\n",
        "#     kernel_size=[3, 3],\n",
        "#     padding=\"same\",\n",
        "#     activation=tf.nn.relu)\n",
        "  \n",
        "#   conv4_2 = tf.layers.conv2d(\n",
        "#     inputs=conv4_1,\n",
        "#     filters=256,\n",
        "#     kernel_size=[3, 3],\n",
        "#     padding=\"same\",\n",
        "#     activation=tf.nn.relu)\n",
        "\n",
        "#   pool4 = tf.layers.max_pooling2d(inputs=conv4_2, pool_size=[3, 3], strides=2)\n",
        "\n",
        "  # Dense layer\n",
        "  \n",
        "  pool2_flat = tf.reshape(pool3, [-1, 28800])\n",
        "  dense_l = tf.layers.dense(inputs=pool2_flat, units=1024, activation=tf.nn.relu)\n",
        "  \n",
        "  # Logits Layer\n",
        "  \n",
        "  logits = tf.layers.dense(inputs=dense_l, units=max_num_categories)\n",
        "  \n",
        "  return logits\n",
        "\n",
        "\n",
        "def weight_variable(shape):\n",
        "  initial = tf.truncated_normal(shape, stddev=0.1)\n",
        "  return tf.Variable(initial)"
      ],
      "execution_count": 0,
      "outputs": []
    },
    {
      "metadata": {
        "id": "JyMSjf1nOQli",
        "colab_type": "text"
      },
      "cell_type": "markdown",
      "source": [
        "### Se crea una clase para extraer datos de entrenamiento"
      ]
    },
    {
      "metadata": {
        "id": "q4dPgoCvOP9j",
        "colab_type": "code",
        "colab": {
          "autoexec": {
            "startup": false,
            "wait_interval": 0
          }
        }
      },
      "cell_type": "code",
      "source": [
        "class QuickDataset():\n",
        "  def __init__(self):    \n",
        "    self.x = []\n",
        "    self.y = []\n",
        "    \n",
        "    train_data_path = \"train\"\n",
        "    \n",
        "    for idx in range(max_num_categories):\n",
        "      folder = \"/\" + str(idx)\n",
        "  \n",
        "      for idy in range(train_samples_per_cat):\n",
        "           \n",
        "        train_input = np.loadtxt(train_data_path+folder + \"/\" + str(idy) + \".txt\")\n",
        "        self.x.append(np.resize(train_input, (1, 16384))[0])\n",
        "        #self.y.append(np.eye(max_num_categories)[np.array(idx)])\n",
        "        self.y.append(idx)\n",
        "  \n",
        "  def paquetes(self, B):\n",
        "       \n",
        "    n_iters = int(len(self.x)/B)\n",
        "    arr_paquetes = []\n",
        "   \n",
        "    for index in range(n_iters):\n",
        "      arr_paquetes.append(self.elige_batch(self.x,self.y,B))\n",
        "              \n",
        "    self.arr_paquetes = arr_paquetes\n",
        "      \n",
        "    return self.arr_paquetes\n",
        "  \n",
        "  def elige_batch(self, X, Y, b):\n",
        "    N = len(self.x)\n",
        "    x_lista = []\n",
        "    y_lista = []\n",
        "  \n",
        "    for _ in range(b):\n",
        "      i = np.random.randint(N)\n",
        "      x_lista.append(X[i:i+1])\n",
        "      y_lista.append(Y[i:i+1])\n",
        "  \n",
        "    x = np.concatenate(x_lista, axis=0)\n",
        "    y = np.concatenate(y_lista, axis=0)\n",
        "  \n",
        "    return x, y\n",
        "  \n",
        "dataset = QuickDataset()"
      ],
      "execution_count": 0,
      "outputs": []
    },
    {
      "metadata": {
        "id": "nJlFunVeHA3g",
        "colab_type": "code",
        "colab": {
          "autoexec": {
            "startup": false,
            "wait_interval": 0
          },
          "base_uri": "https://localhost:8080/",
          "height": 199
        },
        "outputId": "e88d8800-126e-4fc7-dd2f-931f43ef307b",
        "executionInfo": {
          "status": "ok",
          "timestamp": 1528339609264,
          "user_tz": 240,
          "elapsed": 5068,
          "user": {
            "displayName": "Martín Cornejo-Saavedra",
            "photoUrl": "https://lh3.googleusercontent.com/a/default-user=s128",
            "userId": "100137397923643336617"
          }
        }
      },
      "cell_type": "code",
      "source": [
        "x = tf.placeholder(tf.float16, shape=(None, 128*128))\n",
        "y_ = tf.placeholder(tf.int64, shape=(None))\n",
        "y_conv = deepnn(x)\n",
        "    \n",
        "cross_entropy = tf.nn.sparse_softmax_cross_entropy_with_logits(labels=y_,\n",
        "                                                          logits=y_conv)\n",
        "cross_entropy = tf.reduce_mean(cross_entropy)\n",
        "\n",
        "# hiperparámetros de entrenamiento\n",
        "batch_size = 5\n",
        "n_epochs = 1\n",
        "batches_per_epoch = train_samples_per_cat * max_num_categories / batch_size\n",
        "learning_rate=0.01\n",
        "\n",
        "train_step = tf.train.GradientDescentOptimizer(learning_rate)\n",
        "train_step = train_step.minimize(cross_entropy)\n",
        "\n",
        "correct_prediction = tf.equal(tf.argmax(y_conv, 1), y_)\n",
        "correct_prediction = tf.cast(correct_prediction, tf.float32)\n",
        "accuracy = tf.reduce_mean(correct_prediction)\n",
        "\n",
        "loss_array = []\n",
        "train_acc = []\n",
        "val_acc = []\n",
        "test_acc = []   \n",
        "cnf_matrix = []\n",
        "\n",
        "\n",
        "with tf.Session() as sess:\n",
        "  init = tf.global_variables_initializer()\n",
        "  init.run()    \n",
        "  for idz in range(n_epochs):\n",
        "    batches = dataset.paquetes(batch_size)\n",
        "    \n",
        "    for idx, batch in enumerate(batches): \n",
        "      #pdb.set_trace()\n",
        "      if idx % 5 == 0:\n",
        "        train_accuracy = accuracy.eval(feed_dict={x: batch[0], y_: batch[1]})\n",
        "        print('step %d, training set accuracy %g' % (idx, train_accuracy))      \n",
        "      \n",
        "      sess.run(train_step, feed_dict={x: batch[0], y_: batch[1]})"
      ],
      "execution_count": 26,
      "outputs": [
        {
          "output_type": "stream",
          "text": [
            "step 0, training set accuracy 0.4\n",
            "step 5, training set accuracy 0.4\n",
            "step 10, training set accuracy 0.6\n",
            "step 15, training set accuracy 0.4\n",
            "step 20, training set accuracy 0.2\n",
            "step 25, training set accuracy 0.4\n",
            "step 30, training set accuracy 0.2\n",
            "step 35, training set accuracy 0\n",
            "step 40, training set accuracy 0.2\n",
            "step 45, training set accuracy 0.4\n"
          ],
          "name": "stdout"
        }
      ]
    }
  ]
}