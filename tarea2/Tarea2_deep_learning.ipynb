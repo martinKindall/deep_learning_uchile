{
  "nbformat": 4,
  "nbformat_minor": 0,
  "metadata": {
    "colab": {
      "name": "Tarea2_deep_learning.ipynb",
      "version": "0.3.2",
      "views": {},
      "default_view": {},
      "provenance": [],
      "collapsed_sections": [
        "qeY5sZVQRGRL"
      ]
    },
    "kernelspec": {
      "name": "python2",
      "display_name": "Python 2"
    },
    "accelerator": "GPU"
  },
  "cells": [
    {
      "metadata": {
        "id": "XUpfM3SuDS6k",
        "colab_type": "text"
      },
      "cell_type": "markdown",
      "source": [
        "# Tarea 2 : Clasificación y búsqueda por similitud de sketches usando redes convolucionales\n",
        "\n",
        "# CC6204 Deep Learning, Universidad de Chile <br/> Hoja de respuestas \n",
        "\n",
        "## Nombre: Martín Cornejo Saavedra\n",
        "Fecha para completar la tarea: 17 de junio de 2018"
      ]
    },
    {
      "metadata": {
        "id": "hrwjSdk5A53q",
        "colab_type": "code",
        "colab": {
          "autoexec": {
            "startup": false,
            "wait_interval": 0
          }
        }
      },
      "cell_type": "code",
      "source": [
        "!apt-get update -qq 2>&1 > /dev/null\n",
        "!apt-get install -y -qq software-properties-common python-software-properties module-init-tools\n",
        "!add-apt-repository -y ppa:alessandro-strada/ppa 2>&1 > /dev/null\n",
        "!apt-get update -qq 2>&1 > /dev/null\n",
        "!apt-get -y install -qq google-drive-ocamlfuse fuse"
      ],
      "execution_count": 0,
      "outputs": []
    },
    {
      "metadata": {
        "id": "SkSB_RByBEOx",
        "colab_type": "code",
        "colab": {
          "autoexec": {
            "startup": false,
            "wait_interval": 0
          }
        }
      },
      "cell_type": "code",
      "source": [
        "!pip install -U -q PyDrive ## you will have install for every colab session\n",
        "\n",
        "from pydrive.auth import GoogleAuth\n",
        "from pydrive.drive import GoogleDrive\n",
        "from google.colab import auth\n",
        "from oauth2client.client import GoogleCredentials\n",
        "\n",
        "# 1. Authenticate and create the PyDrive client.\n",
        "auth.authenticate_user()\n",
        "gauth = GoogleAuth()\n",
        "from google.colab import files\n",
        "creds = GoogleCredentials.get_application_default()\n",
        "import getpass\n",
        "# Work around misordering of STREAM and STDIN in Jupyter.\n",
        "# https://github.com/jupyter/notebook/issues/3159\n",
        "prompt = !google-drive-ocamlfuse -headless -id={creds.client_id} -secret={creds.client_secret} < /dev/null 2>&1 | grep URL\n",
        "vcode = getpass.getpass(prompt[0] + '\\n\\nEnter verification code: ')\n",
        "!echo {vcode} | google-drive-ocamlfuse -headless -id={creds.client_id} -secret={creds.client_secret}"
      ],
      "execution_count": 0,
      "outputs": []
    },
    {
      "metadata": {
        "id": "zHhRuFxZBUmL",
        "colab_type": "code",
        "colab": {
          "autoexec": {
            "startup": false,
            "wait_interval": 0
          }
        }
      },
      "cell_type": "code",
      "source": [
        "# Create a directory and mount Google Drive using that directory.\n",
        "!mkdir -p drive\n",
        "!google-drive-ocamlfuse drive\n",
        "\n",
        "print 'Files in Drive:'\n",
        "#!ls drive/"
      ],
      "execution_count": 0,
      "outputs": []
    },
    {
      "metadata": {
        "id": "rZjPsrt_EnFd",
        "colab_type": "code",
        "colab": {
          "autoexec": {
            "startup": false,
            "wait_interval": 0
          }
        }
      },
      "cell_type": "code",
      "source": [
        "import tensorflow as tf\n",
        "\n",
        "import matplotlib.pyplot as plt\n",
        "import numpy as np\n",
        "\n",
        "from skimage.draw import line as drawLine\n",
        "\n",
        "import pdb\n",
        "import random\n",
        "import os\n",
        "import json"
      ],
      "execution_count": 0,
      "outputs": []
    },
    {
      "metadata": {
        "id": "lwllwdwMuZiE",
        "colab_type": "code",
        "colab": {
          "autoexec": {
            "startup": false,
            "wait_interval": 0
          },
          "base_uri": "https://localhost:8080/",
          "height": 35
        },
        "outputId": "e280f2a0-428c-4241-a919-19c2dc314d94",
        "executionInfo": {
          "status": "ok",
          "timestamp": 1528648165838,
          "user_tz": 240,
          "elapsed": 682,
          "user": {
            "displayName": "Martín Cornejo-Saavedra",
            "photoUrl": "https://lh3.googleusercontent.com/a/default-user=s128",
            "userId": "100137397923643336617"
          }
        }
      },
      "cell_type": "code",
      "source": [
        "tf.test.gpu_device_name()"
      ],
      "execution_count": 107,
      "outputs": [
        {
          "output_type": "execute_result",
          "data": {
            "text/plain": [
              "'/device:GPU:0'"
            ]
          },
          "metadata": {
            "tags": []
          },
          "execution_count": 107
        }
      ]
    },
    {
      "metadata": {
        "id": "Lb00DHDgGWBC",
        "colab_type": "text"
      },
      "cell_type": "markdown",
      "source": [
        "## Construcción del conjunto de datos"
      ]
    },
    {
      "metadata": {
        "id": "DWHsEQiWDRr4",
        "colab_type": "code",
        "colab": {
          "autoexec": {
            "startup": false,
            "wait_interval": 0
          }
        }
      },
      "cell_type": "code",
      "source": [
        "raw_categories = !gsutil ls -r \"gs://quickdraw_dataset/full/simplified/*\"\n",
        "\n",
        "max_num_categories = 5\n",
        "train_samples_per_cat = 100\n",
        "test_samples_per_cat = 10"
      ],
      "execution_count": 0,
      "outputs": []
    },
    {
      "metadata": {
        "id": "qpowWwTV8Z8M",
        "colab_type": "text"
      },
      "cell_type": "markdown",
      "source": [
        "### Importar dataset previamente descargado (opcional)"
      ]
    },
    {
      "metadata": {
        "id": "6x-2A0Lb8Zb4",
        "colab_type": "code",
        "colab": {
          "autoexec": {
            "startup": false,
            "wait_interval": 0
          }
        }
      },
      "cell_type": "code",
      "source": [
        "!cp drive/data_quickdraw/train.tar.gz train.tar.gz \n",
        "!cp drive/data_quickdraw/test.tar.gz test.tar.gz "
      ],
      "execution_count": 0,
      "outputs": []
    },
    {
      "metadata": {
        "id": "pN-1qhcpADi8",
        "colab_type": "code",
        "colab": {
          "autoexec": {
            "startup": false,
            "wait_interval": 0
          },
          "base_uri": "https://localhost:8080/",
          "height": 54
        },
        "outputId": "ee618d52-ecc9-43f2-a4e6-094df67aaf21",
        "executionInfo": {
          "status": "ok",
          "timestamp": 1528472550032,
          "user_tz": 240,
          "elapsed": 1762,
          "user": {
            "displayName": "Martín Cornejo-Saavedra",
            "photoUrl": "https://lh3.googleusercontent.com/a/default-user=s128",
            "userId": "100137397923643336617"
          }
        }
      },
      "cell_type": "code",
      "source": [
        "#!tar xzf train.tar.gz\n",
        "#!tar xzf test.tar.gz\n",
        "!ls"
      ],
      "execution_count": 41,
      "outputs": [
        {
          "output_type": "stream",
          "text": [
            "compass.ndjson\tdrive\t\t guitar.ndjson\t    test\t train\r\n",
            "crayon.ndjson\tdumbbell.ndjson  light bulb.ndjson  test.tar.gz  train.tar.gz\r\n"
          ],
          "name": "stdout"
        }
      ]
    },
    {
      "metadata": {
        "id": "2SHWwUA3Jngh",
        "colab_type": "text"
      },
      "cell_type": "markdown",
      "source": [
        "### Elegimos 100 categorias al azar y las descargamos"
      ]
    },
    {
      "metadata": {
        "id": "Io7kpyNfGHi0",
        "colab_type": "code",
        "colab": {
          "autoexec": {
            "startup": false,
            "wait_interval": 0
          }
        }
      },
      "cell_type": "code",
      "source": [
        "for idx, raw_cat in enumerate(raw_categories):\n",
        "  raw_categories[idx] = raw_cat.replace(\" \", \"\\ \")   # para que bash reconozca el espacio en la descarga\n",
        "\n",
        "random_categories = []\n",
        "\n",
        "while True:\n",
        "  rand_cat = random.randint(0, len(raw_categories)-1)\n",
        "  if rand_cat not in random_categories:\n",
        "    random_categories.append(rand_cat)\n",
        "  if len(random_categories) is max_num_categories:\n",
        "    break"
      ],
      "execution_count": 0,
      "outputs": []
    },
    {
      "metadata": {
        "id": "22Mt8lBUEX_1",
        "colab_type": "code",
        "colab": {
          "autoexec": {
            "startup": false,
            "wait_interval": 0
          }
        }
      },
      "cell_type": "code",
      "source": [
        "#!mkdir quick_draw_data\n",
        "#os.chdir(\"/content/quick_draw_data\")\n",
        "#!mkdir training\n",
        "\n",
        "snapshot_path = \"./training/snap.ckpt\""
      ],
      "execution_count": 0,
      "outputs": []
    },
    {
      "metadata": {
        "id": "Z97Ar-OjVPh0",
        "colab_type": "code",
        "colab": {
          "autoexec": {
            "startup": false,
            "wait_interval": 0
          }
        }
      },
      "cell_type": "code",
      "source": [
        "str_random_cat = []\n",
        "\n",
        "os.system(\"mkdir train\")\n",
        "os.system(\"mkdir test\")\n",
        "\n",
        "for category in random_categories:\n",
        "  aux = raw_categories[category].replace(\"gs://quickdraw_dataset/full/simplified/\", \"\")\n",
        "  aux = aux.replace(\".ndjson\", \"\")\n",
        "  str_random_cat.append(aux)"
      ],
      "execution_count": 0,
      "outputs": []
    },
    {
      "metadata": {
        "id": "cynXyLqxHDtu",
        "colab_type": "code",
        "colab": {
          "autoexec": {
            "startup": false,
            "wait_interval": 0
          },
          "base_uri": "https://localhost:8080/",
          "height": 108
        },
        "outputId": "ddb86132-c19f-4707-8403-f1469ccb5906",
        "executionInfo": {
          "status": "ok",
          "timestamp": 1528644257987,
          "user_tz": 240,
          "elapsed": 12736,
          "user": {
            "displayName": "Martín Cornejo-Saavedra",
            "photoUrl": "https://lh3.googleusercontent.com/a/default-user=s128",
            "userId": "100137397923643336617"
          }
        }
      },
      "cell_type": "code",
      "source": [
        "for idx, category in enumerate(random_categories):\n",
        "  os.system(\"gsutil cp \" + raw_categories[category] + \" .\")\n",
        "  print(\"La categoria \" + str(idx+1) + \" copiada es \" + raw_categories[category])"
      ],
      "execution_count": 9,
      "outputs": [
        {
          "output_type": "stream",
          "text": [
            "La categoria 1 copiada es gs://quickdraw_dataset/full/simplified/donut.ndjson\n",
            "La categoria 2 copiada es gs://quickdraw_dataset/full/simplified/fan.ndjson\n",
            "La categoria 3 copiada es gs://quickdraw_dataset/full/simplified/blackberry.ndjson\n",
            "La categoria 4 copiada es gs://quickdraw_dataset/full/simplified/helmet.ndjson\n",
            "La categoria 5 copiada es gs://quickdraw_dataset/full/simplified/airplane.ndjson\n"
          ],
          "name": "stdout"
        }
      ]
    },
    {
      "metadata": {
        "id": "WpO2Vyh9JtfB",
        "colab_type": "code",
        "colab": {
          "autoexec": {
            "startup": false,
            "wait_interval": 0
          },
          "base_uri": "https://localhost:8080/",
          "height": 35
        },
        "outputId": "f5715fdf-43ee-4c7f-9b4f-7931f8b6a07f",
        "executionInfo": {
          "status": "ok",
          "timestamp": 1528644261708,
          "user_tz": 240,
          "elapsed": 1658,
          "user": {
            "displayName": "Martín Cornejo-Saavedra",
            "photoUrl": "https://lh3.googleusercontent.com/a/default-user=s128",
            "userId": "100137397923643336617"
          }
        }
      },
      "cell_type": "code",
      "source": [
        "categories = !ls\n",
        "print(len(categories))\n",
        "\n",
        "for cat in str_random_cat:\n",
        "  if (cat + \".ndjson\").replace(\"\\ \", \" \") not in categories:\n",
        "    print(\"falta \" + cat)"
      ],
      "execution_count": 10,
      "outputs": [
        {
          "output_type": "stream",
          "text": [
            "8\n"
          ],
          "name": "stdout"
        }
      ]
    },
    {
      "metadata": {
        "id": "NV6uyw8wFK30",
        "colab_type": "text"
      },
      "cell_type": "markdown",
      "source": [
        "### Se convierte la data en formato json a bitmaps de 128x128 y se guardan en formato .txt"
      ]
    },
    {
      "metadata": {
        "id": "pE7tDx5TYQyT",
        "colab_type": "code",
        "colab": {
          "autoexec": {
            "startup": false,
            "wait_interval": 0
          }
        }
      },
      "cell_type": "code",
      "source": [
        "def parse_line(ndjson_line):\n",
        "  \"\"\"Parse an ndjson line and return ink (as np array) and classname.\"\"\"\n",
        "  sample = json.loads(ndjson_line)\n",
        "  class_name = sample[\"word\"]\n",
        "  if not class_name:\n",
        "    print (\"Empty classname\")\n",
        "    return None, None\n",
        "  inkarray = sample[\"drawing\"]\n",
        "\n",
        "  div_scale = 2\n",
        "  \n",
        "  for idx, stroke in enumerate(inkarray):\n",
        "    if len(stroke[0]) != len(stroke[1]):\n",
        "      print(\"Inconsistent number of x and y coordinates.\")\n",
        "      return None, None\n",
        "    \n",
        "    for idy, x_coord in enumerate(stroke[0]):\n",
        "      inkarray[idx][0][idy] /= div_scale\n",
        "      inkarray[idx][1][idy] /= div_scale\n",
        "  \n",
        "  return inkarray, class_name\n",
        "\n",
        "def convert_data(trainingdata_dir,\n",
        "                 observations_per_class,\n",
        "                 output_folder,\n",
        "                 offset=0):\n",
        "  \n",
        "  file_handles = []\n",
        "  # Open all input files.\n",
        "  for filename in sorted(tf.gfile.ListDirectory(trainingdata_dir)):\n",
        "    if not filename.endswith(\".ndjson\"):\n",
        "      #print(\"Skipping\", filename)\n",
        "      continue\n",
        "    file_handles.append(\n",
        "        tf.gfile.GFile(os.path.join(trainingdata_dir, filename), \"r\"))\n",
        "    if offset:  # Fast forward all files to skip the offset.\n",
        "      count = 0\n",
        "      for _ in file_handles[-1]:\n",
        "        count += 1\n",
        "        if count == offset:\n",
        "          break\n",
        "\n",
        "    \n",
        "  reading_order = list(range(len(file_handles)))\n",
        "          \n",
        "  class_names = []  \n",
        "  class_names_pairs = []\n",
        "    \n",
        "  for idx in reading_order:\n",
        "    for pictureNum in range(observations_per_class):\n",
        "      line = file_handles[idx].readline()\n",
        "      ink = None\n",
        "      \n",
        "      while ink is None:\n",
        "        ink, class_name = parse_line(line)\n",
        "        if ink is None:\n",
        "          print (\"Couldn't parse ink from '\" + line + \"'.\")\n",
        "\n",
        "      drawing = np.zeros((128, 128), dtype=np.uint8)\n",
        "      \n",
        "      if class_name not in class_names:\n",
        "        class_names.append(class_name)  \n",
        "        class_names_pairs.append((idx, class_name))      \n",
        "        os.system(\"mkdir \" + output_folder + str(idx))\n",
        "        print(str(idx) + \";\" + class_name)\n",
        "\n",
        "      for linea in ink:\n",
        "        for idy in range(len(linea[0])-1):\n",
        "          rr, cc = drawLine(linea[1][idy], linea[0][idy], linea[1][idy+1], linea[0][idy+1])\n",
        "          drawing[rr, cc] = 1\n",
        "\n",
        "      np.savetxt(output_folder + str(idx) + \"/\" + str(pictureNum) + \".txt\", drawing, fmt=\"%d\", delimiter=\" \")\n",
        "#       file = drive.CreateFile({'parents':[{u'id': folder_id}]})\n",
        "#       file.SetContentFile(output_folder + str(idx) + \"/\" + str(pictureNum) + \".txt\")\n",
        "#       file['title'] = str(pictureNum) + \".txt\"\n",
        "#       file.Upload()\n",
        "\n",
        "  return class_names_pairs"
      ],
      "execution_count": 0,
      "outputs": []
    },
    {
      "metadata": {
        "id": "Y-WnhKa1ubKQ",
        "colab_type": "code",
        "colab": {
          "autoexec": {
            "startup": false,
            "wait_interval": 0
          },
          "base_uri": "https://localhost:8080/",
          "height": 108
        },
        "outputId": "b002cf39-6277-4348-f14b-0dd7fa7574bf",
        "executionInfo": {
          "status": "ok",
          "timestamp": 1528644333264,
          "user_tz": 240,
          "elapsed": 4358,
          "user": {
            "displayName": "Martín Cornejo-Saavedra",
            "photoUrl": "https://lh3.googleusercontent.com/a/default-user=s128",
            "userId": "100137397923643336617"
          }
        }
      },
      "cell_type": "code",
      "source": [
        "class_names_train = convert_data(\".\",\n",
        "             train_samples_per_cat,\n",
        "             \"train/\")"
      ],
      "execution_count": 16,
      "outputs": [
        {
          "output_type": "stream",
          "text": [
            "0;airplane\n",
            "1;blackberry\n",
            "2;donut\n",
            "3;fan\n",
            "4;helmet\n"
          ],
          "name": "stdout"
        }
      ]
    },
    {
      "metadata": {
        "id": "pOQBSBqN9Qzx",
        "colab_type": "code",
        "colab": {
          "autoexec": {
            "startup": false,
            "wait_interval": 0
          },
          "base_uri": "https://localhost:8080/",
          "height": 108
        },
        "outputId": "830ad8c3-6dc0-46b0-b420-82181f7955cc",
        "executionInfo": {
          "status": "ok",
          "timestamp": 1528644334868,
          "user_tz": 240,
          "elapsed": 1019,
          "user": {
            "displayName": "Martín Cornejo-Saavedra",
            "photoUrl": "https://lh3.googleusercontent.com/a/default-user=s128",
            "userId": "100137397923643336617"
          }
        }
      },
      "cell_type": "code",
      "source": [
        "class_names_test = convert_data(\".\",\n",
        "             test_samples_per_cat,\n",
        "             \"test/\",\n",
        "             train_samples_per_cat)"
      ],
      "execution_count": 17,
      "outputs": [
        {
          "output_type": "stream",
          "text": [
            "0;airplane\n",
            "1;blackberry\n",
            "2;donut\n",
            "3;fan\n",
            "4;helmet\n"
          ],
          "name": "stdout"
        }
      ]
    },
    {
      "metadata": {
        "id": "Azx2iVCgzBaV",
        "colab_type": "code",
        "colab": {
          "autoexec": {
            "startup": false,
            "wait_interval": 0
          },
          "base_uri": "https://localhost:8080/",
          "height": 683
        },
        "outputId": "d2854578-74df-407d-bd0c-efa8eb0f4473",
        "executionInfo": {
          "status": "ok",
          "timestamp": 1528557000776,
          "user_tz": 240,
          "elapsed": 1453,
          "user": {
            "displayName": "Martín Cornejo-Saavedra",
            "photoUrl": "https://lh3.googleusercontent.com/a/default-user=s128",
            "userId": "100137397923643336617"
          }
        }
      },
      "cell_type": "code",
      "source": [
        "test_imagen = np.loadtxt(\"test/3/9.txt\")\n",
        "plt.imshow(test_imagen)\n",
        "plt.show()\n",
        "\n",
        "train_imagen = np.loadtxt(\"train/3/99.txt\")\n",
        "plt.imshow(train_imagen)\n",
        "plt.show()"
      ],
      "execution_count": 14,
      "outputs": [
        {
          "output_type": "display_data",
          "data": {
            "image/png": "[encoded data removed]",
            "text/plain": [
              "<matplotlib.figure.Figure at 0x7f1787248090>"
            ]
          },
          "metadata": {
            "tags": []
          }
        },
        {
          "output_type": "display_data",
          "data": {
            "image/png": "[encoded data removed]",
            "text/plain": [
              "<matplotlib.figure.Figure at 0x7f1781550cd0>"
            ]
          },
          "metadata": {
            "tags": []
          }
        }
      ]
    },
    {
      "metadata": {
        "id": "XFkxamZo9GZG",
        "colab_type": "text"
      },
      "cell_type": "markdown",
      "source": [
        "### Descargar Dataset"
      ]
    },
    {
      "metadata": {
        "id": "hn2SEWbuNrHl",
        "colab_type": "code",
        "colab": {
          "autoexec": {
            "startup": false,
            "wait_interval": 0
          }
        }
      },
      "cell_type": "code",
      "source": [
        "!tar czf train.tar.gz train/\n",
        "!tar czf test.tar.gz test/\n",
        "files.download('train.tar.gz') \n",
        "files.download('test.tar.gz') "
      ],
      "execution_count": 0,
      "outputs": []
    },
    {
      "metadata": {
        "id": "JyMSjf1nOQli",
        "colab_type": "text"
      },
      "cell_type": "markdown",
      "source": [
        "### Se crea una clase para extraer datos de entrenamiento"
      ]
    },
    {
      "metadata": {
        "id": "q4dPgoCvOP9j",
        "colab_type": "code",
        "colab": {
          "autoexec": {
            "startup": false,
            "wait_interval": 0
          }
        }
      },
      "cell_type": "code",
      "source": [
        "class QuickDataset():\n",
        "  def __init__(self, data_path, samples_per_cat):            \n",
        "    self.samples = samples_per_cat\n",
        "    self.data_path = data_path + \"/\"    \n",
        "  \n",
        "  def get_batch(self, batch_size):\n",
        "    x_lista = []\n",
        "    y_lista = []    \n",
        "    \n",
        "    for _ in range(batch_size):\n",
        "      cat = np.random.randint(max_num_categories)\n",
        "      sample = np.random.randint(self.samples)\n",
        "      \n",
        "      train_input = np.loadtxt(self.data_path + str(cat) + \"/\" + str(sample) + \".txt\")\n",
        "      x_lista.append(np.resize(train_input, (1, 16384))[0])\n",
        "      y_lista.append(cat)\n",
        "  \n",
        "    return x_lista, y_lista\n",
        "    \n",
        "train_dataset = QuickDataset(\"train\", train_samples_per_cat)\n",
        "test_dataset = QuickDataset(\"test\", test_samples_per_cat)"
      ],
      "execution_count": 0,
      "outputs": []
    },
    {
      "metadata": {
        "id": "mXt86OpEaGCI",
        "colab_type": "text"
      },
      "cell_type": "markdown",
      "source": [
        "### Función de entrenamiento"
      ]
    },
    {
      "metadata": {
        "id": "kuih0U8haI4K",
        "colab_type": "code",
        "colab": {
          "autoexec": {
            "startup": false,
            "wait_interval": 0
          }
        }
      },
      "cell_type": "code",
      "source": [
        "def train_net(dnn_graph, batch_size, n_epochs, learning_rate, loadPrev = False):\n",
        "  \n",
        "  x = tf.placeholder(tf.float16, shape=(None, 128*128))\n",
        "  y_ = tf.placeholder(tf.int64, shape=(None))\n",
        "  y_conv = dnn_graph(x, True)\n",
        "  \n",
        "  with tf.name_scope('accurracy'):\n",
        "  \n",
        "    cross_entropy = tf.nn.sparse_softmax_cross_entropy_with_logits(labels=y_,\n",
        "                                                              logits=y_conv)\n",
        "    cross_entropy = tf.reduce_mean(cross_entropy)\n",
        "\n",
        "    train_step = tf.train.GradientDescentOptimizer(learning_rate)\n",
        "    train_step = train_step.minimize(cross_entropy)\n",
        "\n",
        "    correct_prediction = tf.equal(tf.argmax(y_conv, 1), y_)\n",
        "    correct_prediction = tf.cast(correct_prediction, tf.float32)\n",
        "    accuracy = tf.reduce_mean(correct_prediction)\n",
        "\n",
        "  loss_array = []\n",
        "  train_acc = []\n",
        "  test_acc = []\n",
        "  \n",
        "  batches_per_epoch = max_num_categories * train_samples_per_cat / batch_size\n",
        "  \n",
        "  test_batches_per_epoch = max_num_categories * test_samples_per_cat / batch_size\n",
        "  \n",
        "  with tf.Session() as sess:              \n",
        "    \n",
        "    if loadPrev:\n",
        "      reuse_vars = tf.get_collection(tf.GraphKeys.GLOBAL_VARIABLES,\n",
        "                                     scope=\"conv[12345678]\") \n",
        "      reuse_vars += tf.get_collection(tf.GraphKeys.GLOBAL_VARIABLES,\n",
        "                                     scope=\"dense[12]\")       \n",
        "      reuse_vars += tf.get_collection(tf.GraphKeys.GLOBAL_VARIABLES,\n",
        "                                     scope=\"convb[12345678]\") \n",
        "      pdb.set_trace()\n",
        "      reuse_vars_dict = dict([(var.op.name, var) for var in reuse_vars])\n",
        "      saver = tf.train.Saver(reuse_vars_dict)\n",
        "      saver.restore(sess, snapshot_path)\n",
        "    else:     \n",
        "      init = tf.global_variables_initializer()\n",
        "      saver = tf.train.Saver()\n",
        "      init.run()   \n",
        "    \n",
        "    for idz in range(n_epochs * batches_per_epoch):\n",
        "      batch = train_dataset.get_batch(batch_size)\n",
        "        \n",
        "      if idz % (batches_per_epoch/5) == 0:\n",
        "        train_accuracy = accuracy.eval(session=sess, feed_dict={x: batch[0], y_: batch[1]})\n",
        "        print('step %d, training set accuracy %g' % (idz, train_accuracy))\n",
        "        loss_array.append(cross_entropy.eval(feed_dict={x: batch[0], y_: batch[1]}))\n",
        "        train_acc.append(train_accuracy)\n",
        "\n",
        "      if idz % batches_per_epoch == 0 and idz > 0:        \n",
        "        test_acc_aux = []\n",
        "        for idy in range(test_batches_per_epoch): \n",
        "          test_batch = test_dataset.get_batch(batch_size)\n",
        "          test_acc_aux.append(accuracy.eval(feed_dict={x: test_batch[0], y_: test_batch[1]}))  \n",
        "\n",
        "        test_acc_mean = sum(test_acc_aux)/len(test_acc_aux)  \n",
        "        print('test set accuracy ' + str(test_acc_mean))\n",
        "        test_acc.append(test_acc_mean)\n",
        "        \n",
        "        saved_path = saver.save(sess, snapshot_path)\n",
        "\n",
        "      sess.run(train_step, feed_dict={x: batch[0], y_: batch[1]})\n",
        "        \n",
        "  return loss_array, train_acc, test_acc"
      ],
      "execution_count": 0,
      "outputs": []
    },
    {
      "metadata": {
        "id": "gYUHVu3iFXTM",
        "colab_type": "text"
      },
      "cell_type": "markdown",
      "source": [
        "## Construcción y entrenamiento de la skNet"
      ]
    },
    {
      "metadata": {
        "id": "qeY5sZVQRGRL",
        "colab_type": "text"
      },
      "cell_type": "markdown",
      "source": [
        "### Construcción del grafo"
      ]
    },
    {
      "metadata": {
        "id": "fSiarO2jzL3g",
        "colab_type": "code",
        "colab": {
          "autoexec": {
            "startup": false,
            "wait_interval": 0
          }
        }
      },
      "cell_type": "code",
      "source": [
        "def skNet(x, training=False):\n",
        "  with tf.name_scope('skNet'):\n",
        "    x_image = tf.reshape(x, [-1, 128, 128, 1])       \n",
        " \n",
        "    conv1_1 = tf.layers.conv2d(\n",
        "      inputs=x_image,\n",
        "      filters=64,\n",
        "      kernel_size=[3, 3],\n",
        "      padding=\"same\",\n",
        "      activation=tf.nn.relu,\n",
        "      name=\"conv1\",\n",
        "    reuse=tf.AUTO_REUSE,\n",
        "    trainable=True)\n",
        "\n",
        "    conv1_1_n = tf.contrib.layers.batch_norm(conv1_1,\n",
        "                                      center=True,\n",
        "                                      scale=True, \n",
        "                                      is_training=training,\n",
        "                                            scope=\"convb1\",\n",
        "                                            reuse=tf.AUTO_REUSE)\n",
        "\n",
        "    conv1_2 = tf.layers.conv2d(\n",
        "      inputs=conv1_1_n,\n",
        "      filters=64,\n",
        "      kernel_size=[3, 3],\n",
        "      padding=\"same\",\n",
        "      activation=tf.nn.relu,\n",
        "      name=\"conv2\",\n",
        "    reuse=tf.AUTO_REUSE,\n",
        "    trainable=True)\n",
        "\n",
        "    conv1_2_n = tf.contrib.layers.batch_norm(conv1_2,\n",
        "                                        center=True,\n",
        "                                        scale=True, \n",
        "                                        is_training=training,\n",
        "                                            scope=\"convb2\",\n",
        "                                            reuse=tf.AUTO_REUSE)\n",
        "\n",
        "    pool1 = tf.layers.max_pooling2d(inputs=conv1_2_n, pool_size=[3, 3], strides=2)\n",
        "\n",
        "    conv2_1 = tf.layers.conv2d(\n",
        "      inputs=pool1,\n",
        "      filters=128,\n",
        "      kernel_size=[3, 3],\n",
        "      padding=\"same\",\n",
        "      activation=tf.nn.relu,\n",
        "      name=\"conv3\",\n",
        "    reuse=tf.AUTO_REUSE,\n",
        "    trainable=True)\n",
        "\n",
        "    conv2_1_n = tf.contrib.layers.batch_norm(conv2_1,\n",
        "                                        center=True,\n",
        "                                        scale=True, \n",
        "                                        is_training=training,\n",
        "                                            scope=\"convb3\",\n",
        "                                            reuse=tf.AUTO_REUSE)\n",
        "\n",
        "    conv2_2 = tf.layers.conv2d(\n",
        "        inputs=conv2_1_n,\n",
        "        filters=128,\n",
        "        kernel_size=[3, 3],\n",
        "        padding=\"same\",\n",
        "        activation=tf.nn.relu,\n",
        "        name=\"conv4\",\n",
        "    reuse=tf.AUTO_REUSE,\n",
        "    trainable=True)\n",
        "\n",
        "    conv2_2_n = tf.contrib.layers.batch_norm(conv2_2,\n",
        "                                        center=True,\n",
        "                                        scale=True, \n",
        "                                        is_training=training,\n",
        "                                            scope=\"convb4\",\n",
        "                                            reuse=tf.AUTO_REUSE)\n",
        "\n",
        "    pool2 = tf.layers.max_pooling2d(inputs=conv2_2_n, pool_size=[3, 3], strides=2)\n",
        "\n",
        "    conv3_1 = tf.layers.conv2d(\n",
        "        inputs=pool2,\n",
        "        filters=128,\n",
        "        kernel_size=[3, 3],\n",
        "        padding=\"same\",\n",
        "        activation=tf.nn.relu,\n",
        "        name=\"conv5\",\n",
        "    reuse=tf.AUTO_REUSE,\n",
        "    trainable=True)\n",
        "\n",
        "    conv3_1_n = tf.contrib.layers.batch_norm(conv3_1,\n",
        "                                        center=True,\n",
        "                                        scale=True, \n",
        "                                        is_training=training,\n",
        "                                            scope=\"convb5\",\n",
        "                                            reuse=tf.AUTO_REUSE)\n",
        "\n",
        "    conv3_2 = tf.layers.conv2d(\n",
        "        inputs=conv3_1_n,\n",
        "        filters=128,\n",
        "        kernel_size=[3, 3],\n",
        "        padding=\"same\",\n",
        "        activation=tf.nn.relu,\n",
        "        name=\"conv6\",\n",
        "    reuse=tf.AUTO_REUSE,\n",
        "    trainable=True)\n",
        "\n",
        "    conv3_2_n = tf.contrib.layers.batch_norm(conv3_2,\n",
        "                                        center=True,\n",
        "                                        scale=True, \n",
        "                                        is_training=training,\n",
        "                                            scope=\"convb6\",\n",
        "                                            reuse=tf.AUTO_REUSE)\n",
        "\n",
        "    pool3 = tf.layers.max_pooling2d(inputs=conv3_2_n, pool_size=[3, 3], strides=2)\n",
        "\n",
        "    conv4_1 = tf.layers.conv2d(\n",
        "        inputs=pool3,\n",
        "        filters=256,\n",
        "        kernel_size=[3, 3],\n",
        "        padding=\"same\",\n",
        "        activation=tf.nn.relu,\n",
        "        name=\"conv7\",\n",
        "    reuse=tf.AUTO_REUSE,\n",
        "    trainable=True)\n",
        "\n",
        "    conv4_1_n = tf.contrib.layers.batch_norm(conv4_1,\n",
        "                                        center=True,\n",
        "                                        scale=True, \n",
        "                                        is_training=training,\n",
        "                                            scope=\"convb7\",\n",
        "                                            reuse=tf.AUTO_REUSE)\n",
        "\n",
        "    conv4_2 = tf.layers.conv2d(\n",
        "        inputs=conv4_1_n,\n",
        "        filters=256,\n",
        "        kernel_size=[3, 3],\n",
        "        padding=\"same\",\n",
        "        activation=tf.nn.relu,\n",
        "        name=\"conv8\",\n",
        "    reuse=tf.AUTO_REUSE,\n",
        "    trainable=True)\n",
        "\n",
        "    conv4_2_n = tf.contrib.layers.batch_norm(conv4_2,\n",
        "                                        center=True,\n",
        "                                        scale=True, \n",
        "                                        is_training=training,\n",
        "                                            scope=\"convb8\",\n",
        "                                            reuse=tf.AUTO_REUSE)\n",
        "\n",
        "    pool4 = tf.layers.max_pooling2d(inputs=conv4_2_n, pool_size=[3, 3], strides=2)\n",
        "\n",
        "    # Dense layer\n",
        "\n",
        "    pool2_flat = tf.reshape(pool4, [-1, 7*7*256])\n",
        "    dense_l = tf.layers.dense(inputs=pool2_flat, units=1024, activation=tf.nn.relu, reuse=tf.AUTO_REUSE, name=\"dense1\")\n",
        "\n",
        "    # Logits Layer\n",
        "\n",
        "    logits = tf.layers.dense(inputs=dense_l, units=max_num_categories, reuse=tf.AUTO_REUSE, name=\"dense2\")\n",
        "  \n",
        "  return logits"
      ],
      "execution_count": 0,
      "outputs": []
    },
    {
      "metadata": {
        "id": "vCs0P712RNJJ",
        "colab_type": "text"
      },
      "cell_type": "markdown",
      "source": [
        "### Entrenamiento de skNet"
      ]
    },
    {
      "metadata": {
        "id": "nJlFunVeHA3g",
        "colab_type": "code",
        "colab": {
          "autoexec": {
            "startup": false,
            "wait_interval": 0
          },
          "base_uri": "https://localhost:8080/",
          "height": 290
        },
        "outputId": "4e0c2844-14a5-4d7a-9a06-0b1bfe79996b",
        "executionInfo": {
          "status": "ok",
          "timestamp": 1528649129618,
          "user_tz": 240,
          "elapsed": 23884,
          "user": {
            "displayName": "Martín Cornejo-Saavedra",
            "photoUrl": "https://lh3.googleusercontent.com/a/default-user=s128",
            "userId": "100137397923643336617"
          }
        }
      },
      "cell_type": "code",
      "source": [
        "#tf.reset_default_graph()\n",
        "loss_array, train_acc, test_acc = train_net(skNet, 50, 2, 0.01, True)"
      ],
      "execution_count": 135,
      "outputs": [
        {
          "output_type": "stream",
          "text": [
            "> <ipython-input-132-826788b14838>(38)train_net()\n",
            "-> reuse_vars_dict = dict([(var.op.name, var) for var in reuse_vars])\n",
            "(Pdb) c\n",
            "INFO:tensorflow:Restoring parameters from ./training/snap.ckpt\n",
            "step 0, training set accuracy 0.92\n",
            "step 2, training set accuracy 0.8\n",
            "step 4, training set accuracy 0.92\n",
            "step 6, training set accuracy 0.88\n",
            "step 8, training set accuracy 0.96\n",
            "step 10, training set accuracy 0.96\n",
            "test set accuracy 0.8799999952316284\n",
            "step 12, training set accuracy 0.92\n",
            "step 14, training set accuracy 0.96\n",
            "step 16, training set accuracy 0.94\n",
            "step 18, training set accuracy 0.92\n"
          ],
          "name": "stdout"
        }
      ]
    },
    {
      "metadata": {
        "id": "K3ZHu3WeIxtP",
        "colab_type": "code",
        "colab": {
          "autoexec": {
            "startup": false,
            "wait_interval": 0
          },
          "base_uri": "https://localhost:8080/",
          "height": 35
        },
        "outputId": "11635a72-a71b-449b-87cd-62022eb50230",
        "executionInfo": {
          "status": "ok",
          "timestamp": 1528648239290,
          "user_tz": 240,
          "elapsed": 1626,
          "user": {
            "displayName": "Martín Cornejo-Saavedra",
            "photoUrl": "https://lh3.googleusercontent.com/a/default-user=s128",
            "userId": "100137397923643336617"
          }
        }
      },
      "cell_type": "code",
      "source": [
        "!ls training"
      ],
      "execution_count": 112,
      "outputs": [
        {
          "output_type": "stream",
          "text": [
            "checkpoint  snap.ckpt.data-00000-of-00001  snap.ckpt.index  snap.ckpt.meta\r\n"
          ],
          "name": "stdout"
        }
      ]
    },
    {
      "metadata": {
        "id": "GMIqhZfsbniH",
        "colab_type": "code",
        "colab": {
          "autoexec": {
            "startup": false,
            "wait_interval": 0
          },
          "base_uri": "https://localhost:8080/",
          "height": 1698
        },
        "outputId": "4058216a-7c1f-4183-9459-ef9b5b938862",
        "executionInfo": {
          "status": "error",
          "timestamp": 1528475575245,
          "user_tz": 240,
          "elapsed": 1171,
          "user": {
            "displayName": "Martín Cornejo-Saavedra",
            "photoUrl": "https://lh3.googleusercontent.com/a/default-user=s128",
            "userId": "100137397923643336617"
          }
        }
      },
      "cell_type": "code",
      "source": [
        "x_axis = np.linspace(1, len(loss_array), num=len(loss_array))\n",
        "\n",
        "plt.figure()\n",
        "plt.plot(x_axis, loss_array, 'b-*')\n",
        "plt.title(\"Loss cada 100 batches - skNet\")\n",
        "plt.xlabel(\"Centenas de batches\")\n",
        "plt.ylabel(\"Cross Entropy Mean\")\n",
        "plt.savefig('loss.pdf')\n",
        "\n",
        "plt.figure()\n",
        "plt.plot(x_axis,train_acc, 'g-*')\n",
        "plt.plot(x_axis,test_acc, 'b-*')\n",
        "plt.legend([\"Train\", \"Test\"])\n",
        "plt.title(\"Accurracy - skNet\")\n",
        "plt.xlabel(\"Centenas de batches\")\n",
        "plt.ylabel(\"Accurray [%]\")\n",
        "plt.savefig('accurracy.pdf')"
      ],
      "execution_count": 50,
      "outputs": [
        {
          "output_type": "error",
          "ename": "ValueError",
          "evalue": "ignored",
          "traceback": [
            "\u001b[0;31m\u001b[0m",
            "\u001b[0;31mValueError\u001b[0mTraceback (most recent call last)",
            "\u001b[0;32m<ipython-input-50-efda2502121f>\u001b[0m in \u001b[0;36m<module>\u001b[0;34m()\u001b[0m\n\u001b[1;32m     10\u001b[0m \u001b[0mplt\u001b[0m\u001b[0;34m.\u001b[0m\u001b[0mfigure\u001b[0m\u001b[0;34m(\u001b[0m\u001b[0;34m)\u001b[0m\u001b[0;34m\u001b[0m\u001b[0m\n\u001b[1;32m     11\u001b[0m \u001b[0mplt\u001b[0m\u001b[0;34m.\u001b[0m\u001b[0mplot\u001b[0m\u001b[0;34m(\u001b[0m\u001b[0mx_axis\u001b[0m\u001b[0;34m,\u001b[0m\u001b[0mtrain_acc\u001b[0m\u001b[0;34m,\u001b[0m \u001b[0;34m'g-*'\u001b[0m\u001b[0;34m)\u001b[0m\u001b[0;34m\u001b[0m\u001b[0m\n\u001b[0;32m---> 12\u001b[0;31m \u001b[0mplt\u001b[0m\u001b[0;34m.\u001b[0m\u001b[0mplot\u001b[0m\u001b[0;34m(\u001b[0m\u001b[0mx_axis\u001b[0m\u001b[0;34m,\u001b[0m\u001b[0mtest_acc\u001b[0m\u001b[0;34m,\u001b[0m \u001b[0;34m'b-*'\u001b[0m\u001b[0;34m)\u001b[0m\u001b[0;34m\u001b[0m\u001b[0m\n\u001b[0m\u001b[1;32m     13\u001b[0m \u001b[0mplt\u001b[0m\u001b[0;34m.\u001b[0m\u001b[0mlegend\u001b[0m\u001b[0;34m(\u001b[0m\u001b[0;34m[\u001b[0m\u001b[0;34m\"Train\"\u001b[0m\u001b[0;34m,\u001b[0m \u001b[0;34m\"Test\"\u001b[0m\u001b[0;34m]\u001b[0m\u001b[0;34m)\u001b[0m\u001b[0;34m\u001b[0m\u001b[0m\n\u001b[1;32m     14\u001b[0m \u001b[0mplt\u001b[0m\u001b[0;34m.\u001b[0m\u001b[0mtitle\u001b[0m\u001b[0;34m(\u001b[0m\u001b[0;34m\"Accurracy - skNet\"\u001b[0m\u001b[0;34m)\u001b[0m\u001b[0;34m\u001b[0m\u001b[0m\n",
            "\u001b[0;32m/usr/local/lib/python2.7/dist-packages/matplotlib/pyplot.pyc\u001b[0m in \u001b[0;36mplot\u001b[0;34m(*args, **kwargs)\u001b[0m\n\u001b[1;32m   3259\u001b[0m                       mplDeprecation)\n\u001b[1;32m   3260\u001b[0m     \u001b[0;32mtry\u001b[0m\u001b[0;34m:\u001b[0m\u001b[0;34m\u001b[0m\u001b[0m\n\u001b[0;32m-> 3261\u001b[0;31m         \u001b[0mret\u001b[0m \u001b[0;34m=\u001b[0m \u001b[0max\u001b[0m\u001b[0;34m.\u001b[0m\u001b[0mplot\u001b[0m\u001b[0;34m(\u001b[0m\u001b[0;34m*\u001b[0m\u001b[0margs\u001b[0m\u001b[0;34m,\u001b[0m \u001b[0;34m**\u001b[0m\u001b[0mkwargs\u001b[0m\u001b[0;34m)\u001b[0m\u001b[0;34m\u001b[0m\u001b[0m\n\u001b[0m\u001b[1;32m   3262\u001b[0m     \u001b[0;32mfinally\u001b[0m\u001b[0;34m:\u001b[0m\u001b[0;34m\u001b[0m\u001b[0m\n\u001b[1;32m   3263\u001b[0m         \u001b[0max\u001b[0m\u001b[0;34m.\u001b[0m\u001b[0m_hold\u001b[0m \u001b[0;34m=\u001b[0m \u001b[0mwashold\u001b[0m\u001b[0;34m\u001b[0m\u001b[0m\n",
            "\u001b[0;32m/usr/local/lib/python2.7/dist-packages/matplotlib/__init__.pyc\u001b[0m in \u001b[0;36minner\u001b[0;34m(ax, *args, **kwargs)\u001b[0m\n\u001b[1;32m   1715\u001b[0m                     warnings.warn(msg % (label_namer, func.__name__),\n\u001b[1;32m   1716\u001b[0m                                   RuntimeWarning, stacklevel=2)\n\u001b[0;32m-> 1717\u001b[0;31m             \u001b[0;32mreturn\u001b[0m \u001b[0mfunc\u001b[0m\u001b[0;34m(\u001b[0m\u001b[0max\u001b[0m\u001b[0;34m,\u001b[0m \u001b[0;34m*\u001b[0m\u001b[0margs\u001b[0m\u001b[0;34m,\u001b[0m \u001b[0;34m**\u001b[0m\u001b[0mkwargs\u001b[0m\u001b[0;34m)\u001b[0m\u001b[0;34m\u001b[0m\u001b[0m\n\u001b[0m\u001b[1;32m   1718\u001b[0m         \u001b[0mpre_doc\u001b[0m \u001b[0;34m=\u001b[0m \u001b[0minner\u001b[0m\u001b[0;34m.\u001b[0m\u001b[0m__doc__\u001b[0m\u001b[0;34m\u001b[0m\u001b[0m\n\u001b[1;32m   1719\u001b[0m         \u001b[0;32mif\u001b[0m \u001b[0mpre_doc\u001b[0m \u001b[0;32mis\u001b[0m \u001b[0mNone\u001b[0m\u001b[0;34m:\u001b[0m\u001b[0;34m\u001b[0m\u001b[0m\n",
            "\u001b[0;32m/usr/local/lib/python2.7/dist-packages/matplotlib/axes/_axes.pyc\u001b[0m in \u001b[0;36mplot\u001b[0;34m(self, *args, **kwargs)\u001b[0m\n\u001b[1;32m   1370\u001b[0m         \u001b[0mkwargs\u001b[0m \u001b[0;34m=\u001b[0m \u001b[0mcbook\u001b[0m\u001b[0;34m.\u001b[0m\u001b[0mnormalize_kwargs\u001b[0m\u001b[0;34m(\u001b[0m\u001b[0mkwargs\u001b[0m\u001b[0;34m,\u001b[0m \u001b[0m_alias_map\u001b[0m\u001b[0;34m)\u001b[0m\u001b[0;34m\u001b[0m\u001b[0m\n\u001b[1;32m   1371\u001b[0m \u001b[0;34m\u001b[0m\u001b[0m\n\u001b[0;32m-> 1372\u001b[0;31m         \u001b[0;32mfor\u001b[0m \u001b[0mline\u001b[0m \u001b[0;32min\u001b[0m \u001b[0mself\u001b[0m\u001b[0;34m.\u001b[0m\u001b[0m_get_lines\u001b[0m\u001b[0;34m(\u001b[0m\u001b[0;34m*\u001b[0m\u001b[0margs\u001b[0m\u001b[0;34m,\u001b[0m \u001b[0;34m**\u001b[0m\u001b[0mkwargs\u001b[0m\u001b[0;34m)\u001b[0m\u001b[0;34m:\u001b[0m\u001b[0;34m\u001b[0m\u001b[0m\n\u001b[0m\u001b[1;32m   1373\u001b[0m             \u001b[0mself\u001b[0m\u001b[0;34m.\u001b[0m\u001b[0madd_line\u001b[0m\u001b[0;34m(\u001b[0m\u001b[0mline\u001b[0m\u001b[0;34m)\u001b[0m\u001b[0;34m\u001b[0m\u001b[0m\n\u001b[1;32m   1374\u001b[0m             \u001b[0mlines\u001b[0m\u001b[0;34m.\u001b[0m\u001b[0mappend\u001b[0m\u001b[0;34m(\u001b[0m\u001b[0mline\u001b[0m\u001b[0;34m)\u001b[0m\u001b[0;34m\u001b[0m\u001b[0m\n",
            "\u001b[0;32m/usr/local/lib/python2.7/dist-packages/matplotlib/axes/_base.pyc\u001b[0m in \u001b[0;36m_grab_next_args\u001b[0;34m(self, *args, **kwargs)\u001b[0m\n\u001b[1;32m    402\u001b[0m                 \u001b[0mthis\u001b[0m \u001b[0;34m+=\u001b[0m \u001b[0margs\u001b[0m\u001b[0;34m[\u001b[0m\u001b[0;36m0\u001b[0m\u001b[0;34m]\u001b[0m\u001b[0;34m,\u001b[0m\u001b[0;34m\u001b[0m\u001b[0m\n\u001b[1;32m    403\u001b[0m                 \u001b[0margs\u001b[0m \u001b[0;34m=\u001b[0m \u001b[0margs\u001b[0m\u001b[0;34m[\u001b[0m\u001b[0;36m1\u001b[0m\u001b[0;34m:\u001b[0m\u001b[0;34m]\u001b[0m\u001b[0;34m\u001b[0m\u001b[0m\n\u001b[0;32m--> 404\u001b[0;31m             \u001b[0;32mfor\u001b[0m \u001b[0mseg\u001b[0m \u001b[0;32min\u001b[0m \u001b[0mself\u001b[0m\u001b[0;34m.\u001b[0m\u001b[0m_plot_args\u001b[0m\u001b[0;34m(\u001b[0m\u001b[0mthis\u001b[0m\u001b[0;34m,\u001b[0m \u001b[0mkwargs\u001b[0m\u001b[0;34m)\u001b[0m\u001b[0;34m:\u001b[0m\u001b[0;34m\u001b[0m\u001b[0m\n\u001b[0m\u001b[1;32m    405\u001b[0m                 \u001b[0;32myield\u001b[0m \u001b[0mseg\u001b[0m\u001b[0;34m\u001b[0m\u001b[0m\n\u001b[1;32m    406\u001b[0m \u001b[0;34m\u001b[0m\u001b[0m\n",
            "\u001b[0;32m/usr/local/lib/python2.7/dist-packages/matplotlib/axes/_base.pyc\u001b[0m in \u001b[0;36m_plot_args\u001b[0;34m(self, tup, kwargs)\u001b[0m\n\u001b[1;32m    382\u001b[0m             \u001b[0mx\u001b[0m\u001b[0;34m,\u001b[0m \u001b[0my\u001b[0m \u001b[0;34m=\u001b[0m \u001b[0mindex_of\u001b[0m\u001b[0;34m(\u001b[0m\u001b[0mtup\u001b[0m\u001b[0;34m[\u001b[0m\u001b[0;34m-\u001b[0m\u001b[0;36m1\u001b[0m\u001b[0;34m]\u001b[0m\u001b[0;34m)\u001b[0m\u001b[0;34m\u001b[0m\u001b[0m\n\u001b[1;32m    383\u001b[0m \u001b[0;34m\u001b[0m\u001b[0m\n\u001b[0;32m--> 384\u001b[0;31m         \u001b[0mx\u001b[0m\u001b[0;34m,\u001b[0m \u001b[0my\u001b[0m \u001b[0;34m=\u001b[0m \u001b[0mself\u001b[0m\u001b[0;34m.\u001b[0m\u001b[0m_xy_from_xy\u001b[0m\u001b[0;34m(\u001b[0m\u001b[0mx\u001b[0m\u001b[0;34m,\u001b[0m \u001b[0my\u001b[0m\u001b[0;34m)\u001b[0m\u001b[0;34m\u001b[0m\u001b[0m\n\u001b[0m\u001b[1;32m    385\u001b[0m \u001b[0;34m\u001b[0m\u001b[0m\n\u001b[1;32m    386\u001b[0m         \u001b[0;32mif\u001b[0m \u001b[0mself\u001b[0m\u001b[0;34m.\u001b[0m\u001b[0mcommand\u001b[0m \u001b[0;34m==\u001b[0m \u001b[0;34m'plot'\u001b[0m\u001b[0;34m:\u001b[0m\u001b[0;34m\u001b[0m\u001b[0m\n",
            "\u001b[0;32m/usr/local/lib/python2.7/dist-packages/matplotlib/axes/_base.pyc\u001b[0m in \u001b[0;36m_xy_from_xy\u001b[0;34m(self, x, y)\u001b[0m\n\u001b[1;32m    241\u001b[0m         \u001b[0;32mif\u001b[0m \u001b[0mx\u001b[0m\u001b[0;34m.\u001b[0m\u001b[0mshape\u001b[0m\u001b[0;34m[\u001b[0m\u001b[0;36m0\u001b[0m\u001b[0;34m]\u001b[0m \u001b[0;34m!=\u001b[0m \u001b[0my\u001b[0m\u001b[0;34m.\u001b[0m\u001b[0mshape\u001b[0m\u001b[0;34m[\u001b[0m\u001b[0;36m0\u001b[0m\u001b[0;34m]\u001b[0m\u001b[0;34m:\u001b[0m\u001b[0;34m\u001b[0m\u001b[0m\n\u001b[1;32m    242\u001b[0m             raise ValueError(\"x and y must have same first dimension, but \"\n\u001b[0;32m--> 243\u001b[0;31m                              \"have shapes {} and {}\".format(x.shape, y.shape))\n\u001b[0m\u001b[1;32m    244\u001b[0m         \u001b[0;32mif\u001b[0m \u001b[0mx\u001b[0m\u001b[0;34m.\u001b[0m\u001b[0mndim\u001b[0m \u001b[0;34m>\u001b[0m \u001b[0;36m2\u001b[0m \u001b[0;32mor\u001b[0m \u001b[0my\u001b[0m\u001b[0;34m.\u001b[0m\u001b[0mndim\u001b[0m \u001b[0;34m>\u001b[0m \u001b[0;36m2\u001b[0m\u001b[0;34m:\u001b[0m\u001b[0;34m\u001b[0m\u001b[0m\n\u001b[1;32m    245\u001b[0m             raise ValueError(\"x and y can be no greater than 2-D, but have \"\n",
            "\u001b[0;31mValueError\u001b[0m: x and y must have same first dimension, but have shapes (100,) and (0,)"
          ]
        },
        {
          "output_type": "display_data",
          "data": {
            "image/png": "[encoded data removed]",
            "text/plain": [
              "<matplotlib.figure.Figure at 0x7f3dfa5fe8d0>"
            ]
          },
          "metadata": {
            "tags": []
          }
        },
        {
          "output_type": "display_data",
          "data": {
            "image/png": "[encoded data removed]",
            "text/plain": [
              "<matplotlib.figure.Figure at 0x7f3dfa439a90>"
            ]
          },
          "metadata": {
            "tags": []
          }
        }
      ]
    },
    {
      "metadata": {
        "id": "noiUU9T9Wgkm",
        "colab_type": "text"
      },
      "cell_type": "markdown",
      "source": [
        "## Construcción y entrenamiento de la skResNet"
      ]
    },
    {
      "metadata": {
        "id": "z9aoZp_rWlzg",
        "colab_type": "text"
      },
      "cell_type": "markdown",
      "source": [
        "### Construcción del grafo"
      ]
    },
    {
      "metadata": {
        "id": "ST115cKqWiRw",
        "colab_type": "code",
        "colab": {
          "autoexec": {
            "startup": false,
            "wait_interval": 0
          }
        }
      },
      "cell_type": "code",
      "source": [
        "def skResNet(x, training=False):\n",
        "  with tf.name_scope('reshape'):\n",
        "    x_image = tf.reshape(x, [-1, 128, 128, 1])       \n",
        "\n",
        "  conv1_1 = tf.layers.conv2d(\n",
        "    inputs=x_image,\n",
        "    filters=64,\n",
        "    kernel_size=[3, 3],\n",
        "    padding=\"same\",\n",
        "    activation=tf.nn.relu)\n",
        "  \n",
        "  conv1_1_n = tf.contrib.layers.batch_norm(conv1_1,\n",
        "                                    center=True,\n",
        "                                    scale=True, \n",
        "                                    is_training=training)\n",
        "  \n",
        "  conv1_2 = tf.layers.conv2d(\n",
        "    inputs=conv1_1_n,\n",
        "    filters=64,\n",
        "    kernel_size=[3, 3],\n",
        "    padding=\"same\",\n",
        "    activation=tf.nn.relu)\n",
        "  \n",
        "  conv1_2_n = tf.contrib.layers.batch_norm(conv1_2,\n",
        "                                    center=True,\n",
        "                                    scale=True, \n",
        "                                    is_training=training)\n",
        "\n",
        "  pool1 = tf.layers.max_pooling2d(inputs=conv1_2_n, pool_size=[3, 3], strides=2)\n",
        "  \n",
        "  conv2_1 = tf.layers.conv2d(\n",
        "    inputs=pool1,\n",
        "    filters=64,\n",
        "    kernel_size=[3, 3],\n",
        "    padding=\"same\",\n",
        "    activation=tf.nn.relu)\n",
        "  \n",
        "  conv2_1_n = tf.contrib.layers.batch_norm(conv2_1,\n",
        "                                    center=True,\n",
        "                                    scale=True, \n",
        "                                    is_training=training)\n",
        "  \n",
        "  conv2_2 = tf.layers.conv2d(\n",
        "    inputs=conv2_1_n,\n",
        "    filters=64,\n",
        "    kernel_size=[3, 3],\n",
        "    padding=\"same\",\n",
        "    activation=tf.nn.relu)\n",
        "  \n",
        "  conv2_2_n = tf.contrib.layers.batch_norm(conv2_2,\n",
        "                                    center=True,\n",
        "                                    scale=True, \n",
        "                                    is_training=training)\n",
        "  \n",
        "  residual_1 = conv2_2_n + pool1\n",
        "  \n",
        "  conv3_1 = tf.layers.conv2d(\n",
        "    inputs=residual_1,\n",
        "    filters=64,\n",
        "    kernel_size=[3, 3],\n",
        "    padding=\"same\",\n",
        "    activation=tf.nn.relu)\n",
        "  \n",
        "  conv3_1_n = tf.contrib.layers.batch_norm(conv3_1,\n",
        "                                    center=True,\n",
        "                                    scale=True, \n",
        "                                    is_training=training)\n",
        "  \n",
        "  conv3_2 = tf.layers.conv2d(\n",
        "    inputs=conv3_1_n,\n",
        "    filters=64,\n",
        "    kernel_size=[3, 3],\n",
        "    padding=\"same\",\n",
        "    activation=tf.nn.relu)\n",
        "  \n",
        "  conv3_2_n = tf.contrib.layers.batch_norm(conv3_2,\n",
        "                                    center=True,\n",
        "                                    scale=True, \n",
        "                                    is_training=training)\n",
        "  \n",
        "  residual_2 = conv3_2_n + residual_1\n",
        "  \n",
        "  conv4_1 = tf.layers.conv2d(\n",
        "    inputs=residual_2,\n",
        "    filters=128,\n",
        "    kernel_size=[3, 3],\n",
        "    padding=\"same\",\n",
        "    activation=tf.nn.relu)\n",
        "  \n",
        "  conv4_1_n = tf.contrib.layers.batch_norm(conv4_1,\n",
        "                                    center=True,\n",
        "                                    scale=True, \n",
        "                                    is_training=training)\n",
        "  \n",
        "  pool2 = tf.layers.max_pooling2d(inputs=conv4_1_n, pool_size=[3, 3], strides=2)\n",
        "  \n",
        "  conv5_1 = tf.layers.conv2d(\n",
        "    inputs=pool2,\n",
        "    filters=128,\n",
        "    kernel_size=[3, 3],\n",
        "    padding=\"same\",\n",
        "    activation=tf.nn.relu)\n",
        "  \n",
        "  conv5_1_n = tf.contrib.layers.batch_norm(conv5_1,\n",
        "                                    center=True,\n",
        "                                    scale=True, \n",
        "                                    is_training=training)\n",
        "  \n",
        "  conv5_2 = tf.layers.conv2d(\n",
        "    inputs=conv5_1_n,\n",
        "    filters=128,\n",
        "    kernel_size=[3, 3],\n",
        "    padding=\"same\",\n",
        "    activation=tf.nn.relu)\n",
        "  \n",
        "  conv5_2_n = tf.contrib.layers.batch_norm(conv5_2,\n",
        "                                    center=True,\n",
        "                                    scale=True, \n",
        "                                    is_training=training)\n",
        "  \n",
        "  residual_3 = conv5_2_n + pool2\n",
        "  \n",
        "  conv6_1 = tf.layers.conv2d(\n",
        "    inputs=residual_3,\n",
        "    filters=128,\n",
        "    kernel_size=[3, 3],\n",
        "    padding=\"same\",\n",
        "    activation=tf.nn.relu)\n",
        "  \n",
        "  conv6_1_n = tf.contrib.layers.batch_norm(conv6_1,\n",
        "                                    center=True,\n",
        "                                    scale=True, \n",
        "                                    is_training=training)\n",
        "  \n",
        "  conv6_2 = tf.layers.conv2d(\n",
        "    inputs=conv6_1_n,\n",
        "    filters=128,\n",
        "    kernel_size=[3, 3],\n",
        "    padding=\"same\",\n",
        "    activation=tf.nn.relu)\n",
        "  \n",
        "  conv6_2_n = tf.contrib.layers.batch_norm(conv6_2,\n",
        "                                    center=True,\n",
        "                                    scale=True, \n",
        "                                    is_training=training)\n",
        "  \n",
        "  residual_4 = conv6_2_n + residual_3\n",
        "  \n",
        "  conv7_1 = tf.layers.conv2d(\n",
        "    inputs=residual_4,\n",
        "    filters=256,\n",
        "    kernel_size=[3, 3],\n",
        "    padding=\"same\",\n",
        "    activation=tf.nn.relu)\n",
        "  \n",
        "  conv7_1_n = tf.contrib.layers.batch_norm(conv7_1,\n",
        "                                    center=True,\n",
        "                                    scale=True, \n",
        "                                    is_training=training)\n",
        "  \n",
        "  pool3 = tf.layers.max_pooling2d(inputs=conv7_1_n, pool_size=[3, 3], strides=2)\n",
        "  \n",
        "  conv8_1 = tf.layers.conv2d(\n",
        "    inputs=pool3,\n",
        "    filters=256,\n",
        "    kernel_size=[3, 3],\n",
        "    padding=\"same\",\n",
        "    activation=tf.nn.relu)\n",
        "  \n",
        "  conv8_1_n = tf.contrib.layers.batch_norm(conv8_1,\n",
        "                                    center=True,\n",
        "                                    scale=True, \n",
        "                                    is_training=training)\n",
        "  \n",
        "  conv8_2 = tf.layers.conv2d(\n",
        "    inputs=conv8_1_n,\n",
        "    filters=256,\n",
        "    kernel_size=[3, 3],\n",
        "    padding=\"same\",\n",
        "    activation=tf.nn.relu)\n",
        "  \n",
        "  conv8_2_n = tf.contrib.layers.batch_norm(conv8_2,\n",
        "                                    center=True,\n",
        "                                    scale=True, \n",
        "                                    is_training=training)\n",
        "  \n",
        "  residual_5 = conv8_2_n + pool3\n",
        "  \n",
        "  conv9_1 = tf.layers.conv2d(\n",
        "    inputs=residual_5,\n",
        "    filters=256,\n",
        "    kernel_size=[3, 3],\n",
        "    padding=\"same\",\n",
        "    activation=tf.nn.relu)\n",
        "  \n",
        "  conv9_1_n = tf.contrib.layers.batch_norm(conv9_1,\n",
        "                                    center=True,\n",
        "                                    scale=True, \n",
        "                                    is_training=training)\n",
        "  \n",
        "  conv9_2 = tf.layers.conv2d(\n",
        "    inputs=conv9_1_n,\n",
        "    filters=256,\n",
        "    kernel_size=[3, 3],\n",
        "    padding=\"same\",\n",
        "    activation=tf.nn.relu)\n",
        "  \n",
        "  conv9_2_n = tf.contrib.layers.batch_norm(conv9_2,\n",
        "                                    center=True,\n",
        "                                    scale=True, \n",
        "                                    is_training=training)\n",
        "  \n",
        "  residual_6 = conv9_2_n + residual_5\n",
        "  \n",
        "  conv10_1 = tf.layers.conv2d(\n",
        "    inputs=residual_6,\n",
        "    filters=256,\n",
        "    kernel_size=[3, 3],\n",
        "    padding=\"same\",\n",
        "    activation=tf.nn.relu)\n",
        "  \n",
        "  conv10_1_n = tf.contrib.layers.batch_norm(conv10_1,\n",
        "                                    center=True,\n",
        "                                    scale=True, \n",
        "                                    is_training=training)\n",
        "  \n",
        "  pool4 = tf.layers.max_pooling2d(inputs=conv10_1_n, pool_size=[3, 3], strides=2)\n",
        "  \n",
        "  # Dense layer\n",
        "  \n",
        "  pool2_flat = tf.reshape(pool4, [-1, 7*7*256])\n",
        "  dense_l = tf.layers.dense(inputs=pool2_flat, units=1024, activation=tf.nn.relu)\n",
        "  \n",
        "  # Logits Layer\n",
        "  \n",
        "  logits = tf.layers.dense(inputs=dense_l, units=max_num_categories)\n",
        "  \n",
        "  return logits"
      ],
      "execution_count": 0,
      "outputs": []
    },
    {
      "metadata": {
        "id": "q89XfUjXcO1S",
        "colab_type": "text"
      },
      "cell_type": "markdown",
      "source": [
        "### Entrenamiento de skResNet"
      ]
    },
    {
      "metadata": {
        "id": "qn00RoAVcL79",
        "colab_type": "code",
        "colab": {
          "autoexec": {
            "startup": false,
            "wait_interval": 0
          },
          "base_uri": "https://localhost:8080/",
          "height": 1835
        },
        "outputId": "bced5910-ce17-4f78-8e2d-0b193927f691",
        "executionInfo": {
          "status": "ok",
          "timestamp": 1528477708175,
          "user_tz": 240,
          "elapsed": 2103175,
          "user": {
            "displayName": "Martín Cornejo-Saavedra",
            "photoUrl": "https://lh3.googleusercontent.com/a/default-user=s128",
            "userId": "100137397923643336617"
          }
        }
      },
      "cell_type": "code",
      "source": [
        "loss_array_res, train_acc_res, test_acc_res = train_net(skResNet, 200, 1, 0.01)"
      ],
      "execution_count": 52,
      "outputs": [
        {
          "output_type": "stream",
          "text": [
            "step 0, training set accuracy 0.01\n",
            "step 5, training set accuracy 0.045\n",
            "step 10, training set accuracy 0.095\n",
            "step 15, training set accuracy 0.14\n",
            "step 20, training set accuracy 0.17\n",
            "step 25, training set accuracy 0.155\n",
            "step 30, training set accuracy 0.22\n",
            "step 35, training set accuracy 0.22\n",
            "step 40, training set accuracy 0.24\n",
            "step 45, training set accuracy 0.23\n",
            "step 50, training set accuracy 0.26\n",
            "step 55, training set accuracy 0.275\n",
            "step 60, training set accuracy 0.29\n",
            "step 65, training set accuracy 0.325\n",
            "step 70, training set accuracy 0.335\n",
            "step 75, training set accuracy 0.365\n",
            "step 80, training set accuracy 0.385\n",
            "step 85, training set accuracy 0.385\n",
            "step 90, training set accuracy 0.365\n",
            "step 95, training set accuracy 0.465\n",
            "step 100, training set accuracy 0.33\n",
            "step 105, training set accuracy 0.445\n",
            "step 110, training set accuracy 0.41\n",
            "step 115, training set accuracy 0.43\n",
            "step 120, training set accuracy 0.475\n",
            "step 125, training set accuracy 0.425\n",
            "step 130, training set accuracy 0.485\n",
            "step 135, training set accuracy 0.515\n",
            "step 140, training set accuracy 0.415\n",
            "step 145, training set accuracy 0.44\n",
            "step 150, training set accuracy 0.43\n",
            "step 155, training set accuracy 0.465\n",
            "step 160, training set accuracy 0.5\n",
            "step 165, training set accuracy 0.475\n",
            "step 170, training set accuracy 0.465\n",
            "step 175, training set accuracy 0.55\n",
            "step 180, training set accuracy 0.525\n",
            "step 185, training set accuracy 0.5\n",
            "step 190, training set accuracy 0.51\n",
            "step 195, training set accuracy 0.545\n",
            "step 200, training set accuracy 0.545\n",
            "step 205, training set accuracy 0.5\n",
            "step 210, training set accuracy 0.56\n",
            "step 215, training set accuracy 0.525\n",
            "step 220, training set accuracy 0.465\n",
            "step 225, training set accuracy 0.43\n",
            "step 230, training set accuracy 0.605\n",
            "step 235, training set accuracy 0.575\n",
            "step 240, training set accuracy 0.595\n",
            "step 245, training set accuracy 0.52\n",
            "step 250, training set accuracy 0.535\n",
            "step 255, training set accuracy 0.535\n",
            "step 260, training set accuracy 0.585\n",
            "step 265, training set accuracy 0.49\n",
            "step 270, training set accuracy 0.63\n",
            "step 275, training set accuracy 0.645\n",
            "step 280, training set accuracy 0.615\n",
            "step 285, training set accuracy 0.54\n",
            "step 290, training set accuracy 0.545\n",
            "step 295, training set accuracy 0.56\n",
            "step 300, training set accuracy 0.585\n",
            "step 305, training set accuracy 0.6\n",
            "step 310, training set accuracy 0.62\n",
            "step 315, training set accuracy 0.59\n",
            "step 320, training set accuracy 0.605\n",
            "step 325, training set accuracy 0.565\n",
            "step 330, training set accuracy 0.615\n",
            "step 335, training set accuracy 0.575\n",
            "step 340, training set accuracy 0.64\n",
            "step 345, training set accuracy 0.56\n",
            "step 350, training set accuracy 0.645\n",
            "step 355, training set accuracy 0.595\n",
            "step 360, training set accuracy 0.585\n"
          ],
          "name": "stdout"
        },
        {
          "output_type": "stream",
          "text": [
            "step 365, training set accuracy 0.615\n",
            "step 370, training set accuracy 0.605\n",
            "step 375, training set accuracy 0.56\n",
            "step 380, training set accuracy 0.65\n",
            "step 385, training set accuracy 0.645\n",
            "step 390, training set accuracy 0.585\n",
            "step 395, training set accuracy 0.565\n",
            "step 400, training set accuracy 0.665\n",
            "step 405, training set accuracy 0.59\n",
            "step 410, training set accuracy 0.655\n",
            "step 415, training set accuracy 0.59\n",
            "step 420, training set accuracy 0.6\n",
            "step 425, training set accuracy 0.61\n",
            "step 430, training set accuracy 0.61\n",
            "step 435, training set accuracy 0.65\n",
            "step 440, training set accuracy 0.665\n",
            "step 445, training set accuracy 0.61\n",
            "step 450, training set accuracy 0.57\n",
            "step 455, training set accuracy 0.65\n",
            "step 460, training set accuracy 0.69\n",
            "step 465, training set accuracy 0.61\n",
            "step 470, training set accuracy 0.62\n",
            "step 475, training set accuracy 0.715\n",
            "step 480, training set accuracy 0.615\n",
            "step 485, training set accuracy 0.695\n",
            "step 490, training set accuracy 0.63\n",
            "step 495, training set accuracy 0.685\n"
          ],
          "name": "stdout"
        }
      ]
    },
    {
      "metadata": {
        "id": "TmxmnN4cdFjh",
        "colab_type": "code",
        "colab": {
          "autoexec": {
            "startup": false,
            "wait_interval": 0
          },
          "base_uri": "https://localhost:8080/",
          "height": 735
        },
        "outputId": "e3e1a72c-a6c3-4424-8a7c-d98756f7a650",
        "executionInfo": {
          "status": "ok",
          "timestamp": 1528412093404,
          "user_tz": 240,
          "elapsed": 1335,
          "user": {
            "displayName": "Martín Cornejo-Saavedra",
            "photoUrl": "https://lh3.googleusercontent.com/a/default-user=s128",
            "userId": "100137397923643336617"
          }
        }
      },
      "cell_type": "code",
      "source": [
        "x_axis_res = np.linspace(1, len(loss_array_res), num=len(loss_array_res))\n",
        "\n",
        "plt.figure()\n",
        "plt.plot(x_axis, loss_array_res, 'b-*')\n",
        "plt.title(\"Loss cada 100 batches - skResNet\")\n",
        "plt.xlabel(\"Centenas de batches\")\n",
        "plt.ylabel(\"Cross Entropy Mean\")\n",
        "plt.savefig('loss.pdf')\n",
        "\n",
        "plt.figure()\n",
        "plt.plot(x_axis,train_acc_res, 'g-*')\n",
        "plt.plot(x_axis,test_acc_res, 'b-*')\n",
        "plt.legend([\"Train\", \"Test\"])\n",
        "plt.title(\"Accurracy - skResNet\")\n",
        "plt.xlabel(\"Centenas de batches\")\n",
        "plt.ylabel(\"Accurray [%]\")\n",
        "plt.savefig('accurracy.pdf')\n",
        "\n",
        "# files.download('loss_res.pdf')\n",
        "# files.download('accurracy_res.pdf')"
      ],
      "execution_count": 33,
      "outputs": [
        {
          "output_type": "display_data",
          "data": {
            "image/png": "[encoded data removed]",
            "text/plain": [
              "<matplotlib.figure.Figure at 0x7fa7a5ecefd0>"
            ]
          },
          "metadata": {
            "tags": []
          }
        },
        {
          "output_type": "display_data",
          "data": {
            "image/png": "[encoded data removed]",
            "text/plain": [
              "<matplotlib.figure.Figure at 0x7fa7a62bf610>"
            ]
          },
          "metadata": {
            "tags": []
          }
        }
      ]
    }
  ]
}