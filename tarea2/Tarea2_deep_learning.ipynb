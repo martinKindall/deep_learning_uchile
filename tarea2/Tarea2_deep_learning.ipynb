{
  "nbformat": 4,
  "nbformat_minor": 0,
  "metadata": {
    "colab": {
      "name": "Tarea2_deep_learning.ipynb",
      "version": "0.3.2",
      "views": {},
      "default_view": {},
      "provenance": [],
      "collapsed_sections": []
    }
  },
  "cells": [
    {
      "metadata": {
        "id": "XUpfM3SuDS6k",
        "colab_type": "text"
      },
      "cell_type": "markdown",
      "source": [
        "# Tarea 2 : Clasificación y búsqueda por similitud de sketches usando redes convolucionales\n",
        "\n",
        "# CC6204 Deep Learning, Universidad de Chile <br/> Hoja de respuestas \n",
        "\n",
        "## Nombre: Martín Cornejo Saavedra\n",
        "Fecha para completar la tarea: 17 de junio de 2018"
      ]
    },
    {
      "metadata": {
        "id": "rZjPsrt_EnFd",
        "colab_type": "code",
        "colab": {
          "autoexec": {
            "startup": false,
            "wait_interval": 0
          }
        }
      },
      "cell_type": "code",
      "source": [
        "import tensorflow as tf\n",
        "\n",
        "import matplotlib.pyplot as plt\n",
        "import numpy as np\n",
        "\n",
        "import pdb\n",
        "import random\n",
        "import os\n",
        "import json"
      ],
      "execution_count": 0,
      "outputs": []
    },
    {
      "metadata": {
        "id": "Lb00DHDgGWBC",
        "colab_type": "text"
      },
      "cell_type": "markdown",
      "source": [
        "## Construcción del conjunto de datos"
      ]
    },
    {
      "metadata": {
        "id": "DWHsEQiWDRr4",
        "colab_type": "code",
        "colab": {
          "autoexec": {
            "startup": false,
            "wait_interval": 0
          }
        }
      },
      "cell_type": "code",
      "source": [
        "raw_categories = !gsutil ls -r \"gs://quickdraw_dataset/full/simplified/*\""
      ],
      "execution_count": 0,
      "outputs": []
    },
    {
      "metadata": {
        "id": "2SHWwUA3Jngh",
        "colab_type": "text"
      },
      "cell_type": "markdown",
      "source": [
        "### Elegimos 100 categorias al azar y las descargamos"
      ]
    },
    {
      "metadata": {
        "id": "Io7kpyNfGHi0",
        "colab_type": "code",
        "colab": {
          "autoexec": {
            "startup": false,
            "wait_interval": 0
          }
        }
      },
      "cell_type": "code",
      "source": [
        "for idx, raw_cat in enumerate(raw_categories):\n",
        "  raw_categories[idx] = raw_cat.replace(\" \", \"\\ \")   # para que bash reconozca el espacio en la descarga\n",
        "\n",
        "random_categories = []\n",
        "max_num_categories = 5\n",
        "\n",
        "while True:\n",
        "  rand_cat = random.randint(0, len(raw_categories)-1)\n",
        "  if rand_cat not in random_categories:\n",
        "    random_categories.append(rand_cat)\n",
        "  if len(random_categories) is max_num_categories:\n",
        "    break"
      ],
      "execution_count": 0,
      "outputs": []
    },
    {
      "metadata": {
        "id": "22Mt8lBUEX_1",
        "colab_type": "code",
        "colab": {
          "autoexec": {
            "startup": false,
            "wait_interval": 0
          },
          "base_uri": "https://localhost:8080/",
          "height": 34
        },
        "outputId": "08d145c4-1ec0-4ab6-93b2-f6bc1a58fae7",
        "executionInfo": {
          "status": "ok",
          "timestamp": 1527634409339,
          "user_tz": 240,
          "elapsed": 1827,
          "user": {
            "displayName": "Martín Cornejo-Saavedra",
            "photoUrl": "https://lh3.googleusercontent.com/a/default-user=s128",
            "userId": "100137397923643336617"
          }
        }
      },
      "cell_type": "code",
      "source": [
        "!mkdir quick_draw_data\n",
        "os.chdir(\"/content/quick_draw_data\")"
      ],
      "execution_count": 6,
      "outputs": [
        {
          "output_type": "stream",
          "text": [
            "mkdir: cannot create directory ‘quick_draw_data’: File exists\r\n"
          ],
          "name": "stdout"
        }
      ]
    },
    {
      "metadata": {
        "id": "Z97Ar-OjVPh0",
        "colab_type": "code",
        "colab": {
          "autoexec": {
            "startup": false,
            "wait_interval": 0
          }
        }
      },
      "cell_type": "code",
      "source": [
        "str_random_cat = []\n",
        "\n",
        "os.system(\"mkdir train\")\n",
        "os.system(\"mkdir test\")\n",
        "\n",
        "for category in random_categories:\n",
        "  aux = raw_categories[category].replace(\"gs://quickdraw_dataset/full/simplified/\", \"\")\n",
        "  aux = aux.replace(\".ndjson\", \"\")\n",
        "  str_random_cat.append(aux)\n",
        "  os.system(\"mkdir train/\" + aux)\n",
        "  os.system(\"mkdir test/\" + aux)"
      ],
      "execution_count": 0,
      "outputs": []
    },
    {
      "metadata": {
        "id": "cynXyLqxHDtu",
        "colab_type": "code",
        "colab": {
          "autoexec": {
            "startup": false,
            "wait_interval": 0
          },
          "base_uri": "https://localhost:8080/",
          "height": 105
        },
        "outputId": "d9a09fda-5a14-4cf0-9a44-eb6c1048bd78",
        "executionInfo": {
          "status": "ok",
          "timestamp": 1527634465615,
          "user_tz": 240,
          "elapsed": 46977,
          "user": {
            "displayName": "Martín Cornejo-Saavedra",
            "photoUrl": "https://lh3.googleusercontent.com/a/default-user=s128",
            "userId": "100137397923643336617"
          }
        }
      },
      "cell_type": "code",
      "source": [
        "for idx, category in enumerate(random_categories):\n",
        "  os.system(\"gsutil cp \" + raw_categories[category] + \" .\")\n",
        "  print(\"La categoria \" + str(idx+1) + \" copiada es \" + raw_categories[category])"
      ],
      "execution_count": 8,
      "outputs": [
        {
          "output_type": "stream",
          "text": [
            "La categoria 1 copiada es gs://quickdraw_dataset/full/simplified/toilet.ndjson\n",
            "La categoria 2 copiada es gs://quickdraw_dataset/full/simplified/bench.ndjson\n",
            "La categoria 3 copiada es gs://quickdraw_dataset/full/simplified/trombone.ndjson\n",
            "La categoria 4 copiada es gs://quickdraw_dataset/full/simplified/star.ndjson\n",
            "La categoria 5 copiada es gs://quickdraw_dataset/full/simplified/bicycle.ndjson\n"
          ],
          "name": "stdout"
        }
      ]
    },
    {
      "metadata": {
        "id": "WpO2Vyh9JtfB",
        "colab_type": "code",
        "colab": {
          "autoexec": {
            "startup": false,
            "wait_interval": 0
          },
          "base_uri": "https://localhost:8080/",
          "height": 34
        },
        "outputId": "e6e9558b-9d62-4139-c98f-0270b3783be8",
        "executionInfo": {
          "status": "ok",
          "timestamp": 1527634469988,
          "user_tz": 240,
          "elapsed": 1894,
          "user": {
            "displayName": "Martín Cornejo-Saavedra",
            "photoUrl": "https://lh3.googleusercontent.com/a/default-user=s128",
            "userId": "100137397923643336617"
          }
        }
      },
      "cell_type": "code",
      "source": [
        "categories = !ls\n",
        "print(len(categories))\n",
        "\n",
        "for cat in str_random_cat:\n",
        "  if cat not in categories:\n",
        "    print(\"falta \" + cat)"
      ],
      "execution_count": 9,
      "outputs": [
        {
          "output_type": "stream",
          "text": [
            "219\n"
          ],
          "name": "stdout"
        }
      ]
    },
    {
      "metadata": {
        "id": "pE7tDx5TYQyT",
        "colab_type": "code",
        "colab": {
          "autoexec": {
            "startup": false,
            "wait_interval": 0
          }
        }
      },
      "cell_type": "code",
      "source": [
        "def parse_line(ndjson_line):\n",
        "  \"\"\"Parse an ndjson line and return ink (as np array) and classname.\"\"\"\n",
        "  sample = json.loads(ndjson_line)\n",
        "  class_name = sample[\"word\"]\n",
        "  if not class_name:\n",
        "    print (\"Empty classname\")\n",
        "    return None, None\n",
        "  inkarray = sample[\"drawing\"]\n",
        "\n",
        "  div_scale = 2\n",
        "  \n",
        "  for idx, stroke in enumerate(inkarray):\n",
        "    if len(stroke[0]) != len(stroke[1]):\n",
        "      print(\"Inconsistent number of x and y coordinates.\")\n",
        "      return None, None\n",
        "    \n",
        "    for idy, x_coord in enumerate(stroke[0]):\n",
        "      inkarray[idx][0][idy] /= 2\n",
        "      inkarray[idx][1][idy] /= 2\n",
        "      inkarray[idx][1][idy] = 127 - inkarray[idx][1][idy]   # flip en eje y\n",
        "  \n",
        "  return inkarray, class_name\n",
        "\n",
        "def convert_data(trainingdata_dir,\n",
        "                 observations_per_class,\n",
        "                 output_folder,\n",
        "                 classnames,\n",
        "                 output_shards=10,\n",
        "                 offset=0):\n",
        "  \"\"\"Convert training data from ndjson files into tf.Example in tf.Record.\n",
        "  Args:\n",
        "   trainingdata_dir: path to the directory containin the training data.\n",
        "     The training data is stored in that directory as ndjson files.\n",
        "   observations_per_class: the number of items to load per class.\n",
        "   output_file: path where to write the output.\n",
        "   classnames: array with classnames - is auto created if not passed in.\n",
        "   output_shards: the number of shards to write the output in.\n",
        "   offset: the number of items to skip at the beginning of each file.\n",
        "  Returns:\n",
        "    classnames: the class names as strings. classnames[classes[i]] is the\n",
        "      textual representation of the class of the i-th data point.\n",
        "  \"\"\"\n",
        "  \n",
        "  file_handles = []\n",
        "  # Open all input files.\n",
        "  for filename in sorted(tf.gfile.ListDirectory(trainingdata_dir)):\n",
        "    if not filename.endswith(\".ndjson\"):\n",
        "      #print(\"Skipping\", filename)\n",
        "      continue   \n",
        "   \n",
        "    file_handles.append(\n",
        "        tf.gfile.GFile(os.path.join(trainingdata_dir, filename), \"r\"))\n",
        "    if offset:  # Fast forward all files to skip the offset.\n",
        "      count = 0\n",
        "      for _ in file_handles[-1]:\n",
        "        count += 1\n",
        "        if count == offset:\n",
        "          break\n",
        "          \n",
        "  reading_order = range(len(file_handles)) * observations_per_class\n",
        "  random.shuffle(reading_order)\n",
        "\n",
        "  my_dpi = 96.0\n",
        "  plt.figure(figsize=(128/my_dpi, 128/my_dpi), dpi=my_dpi)\n",
        "  \n",
        "  for number in reading_order:\n",
        "    line = file_handles[number].readline()\n",
        "    ink = None\n",
        "    while ink is None:\n",
        "      ink, class_name = parse_line(line)\n",
        "      if ink is None:\n",
        "        print (\"Couldn't parse ink from '\" + line + \"'.\")\n",
        "        \n",
        "    for stroke in ink:\n",
        "      plt.plot(stroke[0], stroke[1], 'k')\n",
        "    \n",
        "    plt.savefig(class_name + '/' + str(number) + '.png', dpi=my_dpi)\n",
        "    plt.clf()"
      ],
      "execution_count": 0,
      "outputs": []
    },
    {
      "metadata": {
        "id": "Y-WnhKa1ubKQ",
        "colab_type": "code",
        "colab": {
          "autoexec": {
            "startup": false,
            "wait_interval": 0
          }
        }
      },
      "cell_type": "code",
      "source": [
        "plt.ioff()\n",
        "\n",
        "train_samples_per_cat = 5\n",
        "\n",
        "convert_data(\".\",\n",
        "             train_samples_per_cat,\n",
        "             \"train/\",\n",
        "             [])    "
      ],
      "execution_count": 0,
      "outputs": []
    },
    {
      "metadata": {
        "id": "fjJvsJn2FkZ7",
        "colab_type": "code",
        "colab": {
          "autoexec": {
            "startup": false,
            "wait_interval": 0
          },
          "base_uri": "https://localhost:8080/",
          "height": 1319
        },
        "outputId": "ec7fdd28-1074-4cb5-a7c0-127730a2119f",
        "executionInfo": {
          "status": "ok",
          "timestamp": 1527635672817,
          "user_tz": 240,
          "elapsed": 1966,
          "user": {
            "displayName": "Martín Cornejo-Saavedra",
            "photoUrl": "https://lh3.googleusercontent.com/a/default-user=s128",
            "userId": "100137397923643336617"
          }
        }
      },
      "cell_type": "code",
      "source": [
        "!ls "
      ],
      "execution_count": 55,
      "outputs": [
        {
          "output_type": "stream",
          "text": [
            "ambulance\t  guitar\t\t     rain.ndjson\r\n",
            "ambulance.ndjson  guitar.ndjson\t\t     rhinoceros\r\n",
            "angel\t\t  hand\t\t\t     rhinoceros.ndjson\r\n",
            "angel.ndjson\t  hand.ndjson\t\t     saxophone\r\n",
            "apple\t\t  harp\t\t\t     saxophone.ndjson\r\n",
            "apple.ndjson\t  harp.ndjson\t\t     school\r\n",
            "ball\t\t  hedgehog\t\t     scorpion\r\n",
            "barn\t\t  hedgehog.ndjson\t     scorpion.ndjson\r\n",
            "barn.ndjson\t  helmet\t\t     shovel\r\n",
            "baseball\t  hospital\t\t     shovel.ndjson\r\n",
            "bat\t\t  hospital.ndjson\t     sign\r\n",
            "bathtub\t\t  hourglass\t\t     sink\r\n",
            "bathtub.ndjson\t  hourglass.ndjson_.gstmp    sink.ndjson\r\n",
            "bench\t\t  house\t\t\t     skull\r\n",
            "bench.ndjson\t  house.ndjson\t\t     skull.ndjson\r\n",
            "bicycle\t\t  house plant\t\t     skyscraper\r\n",
            "bicycle.ndjson\t  house plant.ndjson_.gstmp  skyscraper.ndjson\r\n",
            "blueberry\t  jacket\t\t     smiley\r\n",
            "blueberry.ndjson  jacket.ndjson\t\t     snake\r\n",
            "book\t\t  key\t\t\t     snake.ndjson\r\n",
            "book.ndjson\t  key.ndjson\t\t     snorkel\r\n",
            "bottle\t\t  knife\t\t\t     snorkel.ndjson\r\n",
            "bowtie\t\t  knife.ndjson\t\t     soccer\r\n",
            "bowtie.ndjson\t  lantern\t\t     speedboat\r\n",
            "bracelet\t  lantern.ndjson\t     speedboat.ndjson\r\n",
            "bracelet.ndjson   laptop\t\t     spreadsheet\r\n",
            "bus\t\t  laptop.ndjson\t\t     spreadsheet.ndjson\r\n",
            "cactus\t\t  leaf\t\t\t     squiggle\r\n",
            "cactus.ndjson\t  leaf.ndjson\t\t     squiggle.ndjson\r\n",
            "candle\t\t  lion\t\t\t     stairs\r\n",
            "candle.ndjson\t  lion.ndjson\t\t     stairs.ndjson\r\n",
            "car\t\t  Lisa\t\t\t     star\r\n",
            "car.ndjson\t  lobster\t\t     star.ndjson\r\n",
            "carrot\t\t  lobster.ndjson\t     stop\r\n",
            "carrot.ndjson\t  megaphone\t\t     streetlight\r\n",
            "ceiling\t\t  megaphone.ndjson\t     streetlight.ndjson\r\n",
            "chair\t\t  microphone\t\t     suitcase\r\n",
            "China\t\t  microphone.ndjson\t     suitcase.ndjson\r\n",
            "circle\t\t  Mona\t\t\t     syringe\r\n",
            "circle.ndjson\t  mountain\t\t     syringe.ndjson\r\n",
            "clip\t\t  mountain.ndjson\t     table\r\n",
            "clock\t\t  moustache\t\t     table.ndjson\r\n",
            "clock.ndjson\t  moustache.ndjson\t     teapot\r\n",
            "club\t\t  mouth\t\t\t     teapot.ndjson\r\n",
            "coffee\t\t  mouth.ndjson\t\t     teddy-bear\r\n",
            "computer\t  mushroom\t\t     teddy-bear.ndjson\r\n",
            "computer.ndjson   mushroom.ndjson\t     telephone\r\n",
            "cooler\t\t  nose\t\t\t     telephone.ndjson\r\n",
            "cooler.ndjson\t  nose.ndjson\t\t     tennis\r\n",
            "couch\t\t  ocean\t\t\t     test\r\n",
            "couch.ndjson\t  ocean.ndjson\t\t     The\r\n",
            "cow\t\t  of\t\t\t     The Mona Lisa\r\n",
            "cow.ndjson\t  oven\t\t\t     toilet\r\n",
            "crown\t\t  oven.ndjson\t\t     toilet.ndjson\r\n",
            "crown.ndjson\t  panda\t\t\t     toothbrush\r\n",
            "cup\t\t  panda.ndjson\t\t     toothbrush.ndjson\r\n",
            "cup.ndjson\t  paper\t\t\t     tornado\r\n",
            "donut\t\t  passport\t\t     tornado.ndjson\r\n",
            "donut.ndjson\t  pencil\t\t     train\r\n",
            "ear\t\t  pencil.ndjson\t\t     tree\r\n",
            "ear.ndjson\t  penguin\t\t     tree.ndjson\r\n",
            "face\t\t  penguin.ndjson\t     trombone\r\n",
            "face.ndjson\t  pillow\t\t     trombone.ndjson\r\n",
            "fan\t\t  pillow.ndjson\t\t     underwear\r\n",
            "fan.ndjson\t  pineapple\t\t     underwear.ndjson\r\n",
            "fence\t\t  pineapple.ndjson\t     vase\r\n",
            "fence.ndjson\t  police\t\t     vase.ndjson\r\n",
            "giraffe\t\t  pool\t\t\t     violin\r\n",
            "giraffe.ndjson\t  pool.ndjson\t\t     violin.ndjson\r\n",
            "glass\t\t  quick_draw_data\t     Wall\r\n",
            "golf\t\t  raccoon\t\t     wheel\r\n",
            "grass\t\t  raccoon.ndjson\t     wheel.ndjson\r\n",
            "grass.ndjson\t  racquet\t\t     wine\r\n",
            "Great\t\t  rain\r\n"
          ],
          "name": "stdout"
        }
      ]
    },
    {
      "metadata": {
        "id": "vueM7W3xLqwr",
        "colab_type": "code",
        "colab": {
          "autoexec": {
            "startup": false,
            "wait_interval": 0
          },
          "base_uri": "https://localhost:8080/",
          "height": 34
        },
        "outputId": "4c7f11b7-3f2b-47e8-93b1-990f36beb2d6",
        "executionInfo": {
          "status": "ok",
          "timestamp": 1527636448288,
          "user_tz": 240,
          "elapsed": 2055,
          "user": {
            "displayName": "Martín Cornejo-Saavedra",
            "photoUrl": "https://lh3.googleusercontent.com/a/default-user=s128",
            "userId": "100137397923643336617"
          }
        }
      },
      "cell_type": "code",
      "source": [
        "!ls wheel"
      ],
      "execution_count": 83,
      "outputs": [
        {
          "output_type": "stream",
          "text": [
            "84.svg\t90.png\t90.svg\r\n"
          ],
          "name": "stdout"
        }
      ]
    },
    {
      "metadata": {
        "id": "68FsT3sWI14E",
        "colab_type": "code",
        "colab": {
          "autoexec": {
            "startup": false,
            "wait_interval": 0
          },
          "base_uri": "https://localhost:8080/",
          "height": 367
        },
        "outputId": "aa7f6e63-94ae-4efc-d406-6349421eb98c",
        "executionInfo": {
          "status": "ok",
          "timestamp": 1527636457259,
          "user_tz": 240,
          "elapsed": 1152,
          "user": {
            "displayName": "Martín Cornejo-Saavedra",
            "photoUrl": "https://lh3.googleusercontent.com/a/default-user=s128",
            "userId": "100137397923643336617"
          }
        }
      },
      "cell_type": "code",
      "source": [
        "figure = plt.imread(\"wheel/90.png\")\n",
        "plt.imshow(figure)"
      ],
      "execution_count": 84,
      "outputs": [
        {
          "output_type": "execute_result",
          "data": {
            "text/plain": [
              "<matplotlib.image.AxesImage at 0x7f355ded16d0>"
            ]
          },
          "metadata": {
            "tags": []
          },
          "execution_count": 84
        },
        {
          "output_type": "display_data",
          "data": {
            "image/png": "[encoded data removed]",
            "text/plain": [
              "<matplotlib.figure.Figure at 0x7f355e4e6710>"
            ]
          },
          "metadata": {
            "tags": []
          }
        }
      ]
    }
  ]
}