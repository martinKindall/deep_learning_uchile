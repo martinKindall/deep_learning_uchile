{
  "nbformat": 4,
  "nbformat_minor": 0,
  "metadata": {
    "colab": {
      "name": "Tarea_1_CC6204_2018_Martin_Cornejo",
      "version": "0.3.2",
      "views": {},
      "default_view": {},
      "provenance": [
        {
          "file_id": "1lgdchHUBlqrPYZkBYOH-HIXzoaSkb9hK",
          "timestamp": 1524320794057
        },
        {
          "file_id": "1-7Alg0DzdesaVPVuDghwoXbN0pa8ds1t",
          "timestamp": 1521245040538
        }
      ],
      "collapsed_sections": []
    },
    "kernelspec": {
      "name": "python3",
      "display_name": "Python 3"
    },
    "accelerator": "GPU"
  },
  "cells": [
    {
      "metadata": {
        "id": "4zhjpqvcdo5o",
        "colab_type": "text"
      },
      "cell_type": "markdown",
      "source": [
        "# Tarea 1 <br/> CC6204 Deep Learning, Universidad de Chile <br/> Hoja de respuestas \n",
        "\n",
        "## Nombre: Martín Cornejo Saavedra\n",
        "Fecha para completar la tarea: miercoles 25 de abril de 2018\n"
      ]
    },
    {
      "metadata": {
        "id": "C3RE-PBXwnxB",
        "colab_type": "text"
      },
      "cell_type": "markdown",
      "source": [
        "## Insturcciones:\n",
        "En este notebook debes dejar todo tu código de las partes 1 hasta 8 de la tarea. Debes dejar el código (y todo lo adicional que hayas programado) en las celdas designadas para ello. Las partes que se hacen a mano (o con fórmulas), puedes entregarlas al final o en un archivo separado. En la siguiente celda encontrarás un *check list* de las partes de la tarea. En cada item indica si lo completaste o no en tu entrega ('SI', o 'NO'). Por favor, no marques como 'SI' partes que no hiciste. Adicionalemnte, el lugar en tu código donde completaste cada parte, márcala con un comentario como el siguiente\n",
        "\n",
        "```\n",
        "#### Parte 4a) Método backward\n",
        "```\n",
        "\n",
        "Si bien para algunas partes puede no estar exactamente claro dónde comienza (y termina) cada parte, usa tu criterio para los comentarios. Esto es sólo para ayudarnos a corregir. Nota que las celdas de más abajo no necesariamente siguen el orden del check list. Por ejemplo en la celda donde defines tu clase para la red neuronal se espera agregues código de las partes 2, 3, 7 etc. Todo eso está en una única celda (lo entenderás cuando mires más abajo).\n",
        "\n",
        "Por favor sigue este formato. **Si no sigues el formato te descontaremos puntaje.**"
      ]
    },
    {
      "metadata": {
        "id": "jRUVrysiyuZs",
        "colab_type": "text"
      },
      "cell_type": "markdown",
      "source": [
        "---\n",
        "\n",
        "## Checklist\n",
        "\n",
        "Parte|Completado\n",
        "---:|---:\n",
        "**1) Activación, derivadas, y salida** |\n",
        "1a) Funciones de activación | SI\n",
        "1b) Derivando las funciones de activación | SI\n",
        "1c) Softmax | SI\n",
        "**2) Red neuronal y pasada hacia adelante** |\n",
        "2a) Clase para red neuronal | SI (solo 2 capas fijas, falta hacerlo para N capas)\n",
        "2b) Usando la GPU | SI\n",
        "2c) Pasada hacia adelante | SI\n",
        "2d) Probando tu red con un modelo pre-entrenado | SI (falta accurracy)\n",
        "**3) Más derivadas y backpropagation** |\n",
        "3a) Entropía cruzada | SI\n",
        "3b) Derivando la última capa | SI (falta desarrollo de derivar softmax)\n",
        "3c) Derivando desde las capas escondidas | SI (falta derivar celu, relu, etc..)\n",
        "**4) Backpropagation en nuestra red** |\n",
        "4a) Método backward | SI (falta hacerlo para N capas)\n",
        "4b) Checkeo de gradiente | NO\n",
        "4c) Opcional: incluyendo los parámetros de celu y swish | NO\n",
        "**5) Descenso de gradiente y entrenamiento** |\n",
        "5a) Descenso de gradiente | SI\n",
        "5b) Datos para carga | SI\n",
        "5c) Entrenando la red | SI\n",
        "5d) Graficando la pérdida en el tiempo | SI\n",
        "5e) Entrenando con datos no random | NO\n",
        "**6) Regularización** |\n",
        "6a) Regularización por penalización de norma | Falta implementar el nuevo loss, para eso falta red de capa dinamica\n",
        "6b) Regularización por dropout | NO\n",
        "**7) Optimización** |\n",
        "7a) Inicialización de Xavier | NO\n",
        "7b) Descenso de gradiente con momentum | NO\n",
        "7c) RMSProp | NO\n",
        "7d) Adam | NO\n",
        "7e) Opcional: batch normalization | NO\n",
        "**8) Entrenando sobre MNIST** |\n",
        "8a) Cargando y visualizando datos de MNIST | NO\n",
        "8b) Red neuronal para MNIST | NO\n",
        "8c) Opcional: visualización de entrenamiento y convergencia | NO\n",
        "\n",
        "---"
      ]
    },
    {
      "metadata": {
        "id": "I_kVL7undMBx",
        "colab_type": "code",
        "colab": {
          "autoexec": {
            "startup": false,
            "wait_interval": 0
          }
        }
      },
      "cell_type": "code",
      "source": [
        "# Este notebook está pensado para correr en CoLaboratory. \n",
        "# Comenzamos instalando las librerías necesarias.\n",
        "# Si lo estás ejecutando localmente posiblemente no sea necesario\n",
        "# reinstalar todo.\n",
        "\n",
        "from os import path\n",
        "from wheel.pep425tags import get_abbr_impl, get_impl_ver, get_abi_tag\n",
        "platform = '{}{}-{}'.format(get_abbr_impl(), get_impl_ver(), get_abi_tag())\n",
        "\n",
        "accelerator = 'cu80'\n",
        "\n",
        "!pip install -q http://download.pytorch.org/whl/{accelerator}/torch-0.3.0.post4-{platform}-linux_x86_64.whl torchvision\n",
        "!pip install -q ipdb\n",
        "\n",
        "import os\n",
        "import glob\n",
        "import torch\n",
        "import numpy\n",
        "import pdb\n",
        "import matplotlib.pyplot as plt\n",
        "\n",
        "# Agrega acá todo lo que quieras importar o instalar"
      ],
      "execution_count": 0,
      "outputs": []
    },
    {
      "metadata": {
        "id": "_EhdkSIOFvR9",
        "colab_type": "text"
      },
      "cell_type": "markdown",
      "source": [
        "## Funciones de activación, predicción y pérdida"
      ]
    },
    {
      "metadata": {
        "id": "p80-9lwaUAix",
        "colab_type": "code",
        "colab": {
          "autoexec": {
            "startup": false,
            "wait_interval": 0
          }
        }
      },
      "cell_type": "code",
      "source": [
        "def sig(T):\n",
        "  return torch.reciprocal(1 + torch.exp(-1 * T))\n",
        "\n",
        "def tanh(T):\n",
        "  E = torch.exp(T)\n",
        "  e = torch.exp(-1 * T)\n",
        "  return (E - e) * torch.reciprocal(E + e)"
      ],
      "execution_count": 0,
      "outputs": []
    },
    {
      "metadata": {
        "id": "4VtQWFePbtrF",
        "colab_type": "code",
        "colab": {
          "autoexec": {
            "startup": false,
            "wait_interval": 0
          }
        }
      },
      "cell_type": "code",
      "source": [
        "#### Parte 1a) Funciones de activación\n",
        "\n",
        "def relu(T):\n",
        "    T[T < 0] = 0\n",
        "    return T\n",
        "\n",
        "def swish(T, beta):\n",
        "    return torch.mul(T, sig(torch.mul(T, beta)))\n",
        "\n",
        "def celu(T, alfa):\n",
        "    positive = relu(T)\n",
        "    negative = torch.mul(relu(torch.mul(T, -1)), -1)\n",
        "    celu_T = torch.mul(torch.add(torch.exp(torch.div(negative, alfa)), -1), alfa)\n",
        "\n",
        "    return torch.add(positive, 1, celu_T)"
      ],
      "execution_count": 0,
      "outputs": []
    },
    {
      "metadata": {
        "id": "5hVvsHp-dGk4",
        "colab_type": "code",
        "colab": {
          "autoexec": {
            "startup": false,
            "wait_interval": 0
          }
        },
        "cellView": "code"
      },
      "cell_type": "code",
      "source": [
        "#### Parte 1c) Softmax está implementada solo para tensores en 2-D\n",
        "def softmax(T, dim=0, estable=True):\n",
        "    denom_softmax = torch.div(T, 2)\n",
        "    denom_softmax = torch.exp(denom_softmax)\n",
        "    denom_softmax = torch.mm(denom_softmax, torch.transpose(denom_softmax, 0, 1))\n",
        "    denom_softmax = torch.reciprocal(torch.diag(denom_softmax))\n",
        "\n",
        "    return torch.mm(torch.diag(denom_softmax), T.exp())"
      ],
      "execution_count": 0,
      "outputs": []
    },
    {
      "metadata": {
        "id": "1FKxJiOB7Dbl",
        "colab_type": "code",
        "colab": {
          "autoexec": {
            "startup": false,
            "wait_interval": 0
          }
        }
      },
      "cell_type": "code",
      "source": [
        "#### Parte 3a) Entropía cruzada\n",
        "def cross_ent_loss(Q,P):\n",
        "    dimension = 0\n",
        "    q_log = torch.log(Q)\n",
        "    product = torch.mul(P, torch.reciprocal(q_log))\n",
        "\n",
        "    return -torch.sum(product)/Q.size(dimension)"
      ],
      "execution_count": 0,
      "outputs": []
    },
    {
      "metadata": {
        "id": "2m3i_1ijPLr_",
        "colab_type": "text"
      },
      "cell_type": "markdown",
      "source": [
        "## Clase FFNN, incialización, forward, backward y regularización\n"
      ]
    },
    {
      "metadata": {
        "id": "E79vHyuu4mIZ",
        "colab_type": "code",
        "colab": {
          "autoexec": {
            "startup": false,
            "wait_interval": 0
          }
        }
      },
      "cell_type": "code",
      "source": [
        "#### Parte 2a) Clase para red neuronal\n",
        "class FFNN():\n",
        "  \n",
        "  def __init__(\n",
        "  #    self, F, l_h, l_a, C, \n",
        "  #    wc_par=None, \n",
        "  #    keep_prob=None, \n",
        "  #    init=None,\n",
        "  #    bn=None\n",
        "  #):\n",
        "    self, F, l_h, l_a, C, params=[],\n",
        "    wc_par=None,\n",
        "    keep_prob=[]\n",
        "  ):\n",
        "      if (len(params) > 0):\n",
        "        W_1 = params[0][0]\n",
        "        b_1 = params[0][1]\n",
        "        W_2 = params[1][0]\n",
        "        b_2 = params[1][1]\n",
        "        U = params[2][0]\n",
        "        c_init = params[2][1]\n",
        "        \n",
        "        c_init = c_init.view(1, c_init.size(0))\n",
        "        b_2 = b_2.view(1, b_2.size(0))\n",
        "        b_1 = b_1.view(1, b_1.size(0))\n",
        "        \n",
        "        self.l_a = l_a\n",
        "        self.parametros = [(W_1, b_1), (W_2, b_2), (U, c_init)]\n",
        "\n",
        "      else:\n",
        "        self.F = F\n",
        "        l_h.append(C)\n",
        "        self.l_h = l_h\n",
        "        self.l_a = l_a\n",
        "        self.C = C\n",
        "\n",
        "        self.parametros = []\n",
        "\n",
        "        for idx, neuronas in enumerate(self.l_h):\n",
        "          if (idx == 0):\n",
        "            pesos = torch.randn(F, neuronas)\n",
        "          else:\n",
        "            pesos = torch.randn(self.l_h[idx-1], neuronas)\n",
        "\n",
        "          bias = torch.randn(1, neuronas)\n",
        "          self.parametros.append((pesos, bias))\n",
        "        \n",
        "      self.wc_par = wc_par        \n",
        "      self.keep_prob = keep_prob\n",
        "        \n",
        "        \n",
        "  #### Parte 2b) Usando la GPU\n",
        "  \n",
        "  def toDouble(self):\n",
        "    for idx, param in enumerate(self.parametros):     \n",
        "        self.parametros[idx] = (param[0].double(), param[1].double())\n",
        "  \n",
        "  def gpu(self):\n",
        "    if torch.cuda.is_available():\n",
        "      for idx, param in enumerate(self.parametros):\n",
        "        self.parametros[idx] = (param[0].cuda(), param[1].cuda())\n",
        "  \n",
        "  def cpu(self):\n",
        "    for idx, param in enumerate(self.parametros):\n",
        "        self.parametros[idx] = (param[0].cpu(), param[1].cpu())\n",
        "    \n",
        "    #### Parte 7a) Inicialización de Xavier\n",
        "    #### Parte 7e) Opcional: batch normalization\n",
        "    \n",
        "  \n",
        "  #### Parte 2c) Pasada hacia adelante\n",
        "  def forward(self, x, predict=False):\n",
        "    self.toDouble()\n",
        "    x = x.double()\n",
        "    \n",
        "    if torch.cuda.is_available():\n",
        "      x = x.cuda()\n",
        "      self.gpu()   # redundante, corregir\n",
        "      \n",
        "    else:   \n",
        "      self.cpu()   # redundante, corregir\n",
        "      \n",
        "    if (len(self.keep_prob) == 0 or not predict):\n",
        "      prob_array = torch.ones(3)   # no se apagan neuronas\n",
        "        \n",
        "    # iterar para crear las mascaras de bits segun los largos de las matrices,\n",
        "    # hacerlo dinamico segun el numero de capas\n",
        "    \n",
        "    self.h_array = []\n",
        "    \n",
        "    for idx, f_activacion in enumerate(self.l_a):\n",
        "      if (idx == 0):\n",
        "        self.h_layer = f_activacion(torch.mm(x, self.parametros[idx][0]) + self.parametros[idx][1])\n",
        "      else:\n",
        "        self.h_layer = f_activacion(torch.mm(self.h_layer, self.parametros[idx][0]) + self.parametros[idx][1])\n",
        "      \n",
        "      self.h_array.append(self.h_layer)\n",
        "\n",
        "    y = softmax(torch.mm(self.h_layer, self.parametros[len(self.parametros)-1][0]) + self.parametros[len(self.parametros)-1][1])\n",
        "    self.h_array.append(y)\n",
        "\n",
        "    return y\n",
        "\n",
        "  \n",
        "  #### Parte 4a) Método backward\n",
        "  def chooseDeriv(self, funcion_activacion):\n",
        "    if (funcion_activacion == sig):\n",
        "      return lambda x: torch.mul(x, torch.mul(torch.add(x, -1), -1))\n",
        "    else:\n",
        "      raise Exception('Derivada no implementada')\n",
        "  \n",
        "  def backward(self,x,y,y_pred):\n",
        "    nHidden = len(self.l_a)\n",
        "    gradientes = [0] * (nHidden + 1)\n",
        "    deriv_activaciones = [0] * (nHidden + 1)\n",
        "\n",
        "    # gradientes capa de salida\n",
        "          \n",
        "    #dL_duL = torch.mul(torch.mul(y, torch.add(y_pred, -1)), 1/y_pred.size(0))\n",
        "    dL_duL = torch.mul(torch.add(y_pred, torch.mul(y, -1)), 1/y_pred.size(0))\n",
        "    dL_dU = torch.mm(torch.transpose(self.h_array[nHidden-1], 0, 1), dL_duL)\n",
        "    dL_dc = torch.mm(torch.ones(1, dL_duL.size(0)).double().cuda(), dL_duL)\n",
        "    dL_dh2 = torch.mm(dL_duL, torch.transpose(self.parametros[nHidden][0], 0, 1))\n",
        "      \n",
        "    assert dL_duL.size() == self.h_array[nHidden].size()\n",
        "    assert dL_dU.size() == self.parametros[nHidden][0].size()\n",
        "    assert dL_dc.size(1) == self.parametros[nHidden][1].size(1)\n",
        "    assert dL_dh2.size() == self.h_array[nHidden-1].size()\n",
        "\n",
        "    gradientes[nHidden] = (dL_dU, dL_dc)\n",
        "    deriv_activaciones[nHidden] = dL_dh2\n",
        "\n",
        "    # gradientes capas escondidas\n",
        "\n",
        "    for idx, f_activacion in enumerate(self.l_a):\n",
        "\n",
        "      derivadaActivacion = self.chooseDeriv(self.l_a[nHidden-idx-1])\n",
        "      \n",
        "      dL_du_hidden = torch.mul(deriv_activaciones[nHidden-idx], derivadaActivacion(self.h_array[nHidden-idx-1]))\n",
        "\n",
        "      if (nHidden-1 == idx):\n",
        "        dL_dW = torch.mm(torch.transpose(x, 0, 1), dL_du_hidden)\n",
        "      else:\n",
        "        dL_dW = torch.mm(torch.transpose(self.h_array[nHidden-idx-2], 0, 1), dL_du_hidden)\n",
        "\n",
        "      dL_db = torch.mm(torch.ones(1, dL_du_hidden.size(0)).double().cuda(), dL_du_hidden)\n",
        "      dL_dh_n_1 = torch.mm(dL_du_hidden, torch.transpose(self.parametros[nHidden-idx-1][0], 0, 1))\n",
        "\n",
        "      assert dL_du_hidden.size() == self.h_array[nHidden-idx-1].size()\n",
        "      assert dL_dW.size() == self.parametros[nHidden-idx-1][0].size()\n",
        "      assert dL_db.size(1) == self.parametros[nHidden-idx-1][1].size(1)\n",
        "\n",
        "      if (nHidden-2-idx > -1):   # no comparamos el tamaño de dL/dx, no es relevante\n",
        "        assert dL_dh_n_1.size() == self.h_array[nHidden-2-idx].size()\n",
        "\n",
        "      gradientes[nHidden-idx-1] = (dL_dW, dL_db)\n",
        "      deriv_activaciones[nHidden-idx-1] = dL_dh_n_1\n",
        "         \n",
        "    self.gradientes = gradientes\n",
        "      \n",
        "      \n",
        "  def actualizarParams(self, lr):\n",
        "    \n",
        "    # mover esto al optimizador, para luego poder calcular los nuevos gradientes usando\n",
        "    # wc_par   \n",
        "    \n",
        "    const = 1\n",
        "    \n",
        "    # Parte 6a) agregando weight decay\n",
        "    if (self.wc_par != None):\n",
        "      const = const - lr * self.wc_par\n",
        "    \n",
        "    for idx in range(len(self.l_a) + 1):\n",
        "      W_aux = self.parametros[idx][0] * const - lr * self.gradientes[idx][0]\n",
        "      b_aux = self.parametros[idx][1] * const - lr * self.gradientes[idx][1]\n",
        "\n",
        "      self.parametros[idx] = (W_aux, b_aux)"
      ],
      "execution_count": 0,
      "outputs": []
    },
    {
      "metadata": {
        "id": "lkOpCOUj7a-X",
        "colab_type": "text"
      },
      "cell_type": "markdown",
      "source": [
        "## Probando tu red con un modelo pre-entrenado y visualizando casos incorrectos"
      ]
    },
    {
      "metadata": {
        "id": "WdX6bv6NvTYR",
        "colab_type": "code",
        "colab": {
          "autoexec": {
            "startup": false,
            "wait_interval": 0
          },
          "base_uri": "https://localhost:8080/",
          "height": 158
        },
        "outputId": "c0de4fec-6a41-4799-9305-4c3ea3b97930",
        "executionInfo": {
          "status": "ok",
          "timestamp": 1524348849884,
          "user_tz": 180,
          "elapsed": 726,
          "user": {
            "displayName": "Martín Cornejo-Saavedra",
            "photoUrl": "https://lh3.googleusercontent.com/a/default-user=s128",
            "userId": "100137397923643336617"
          }
        }
      },
      "cell_type": "code",
      "source": [
        "#### Parte 2d) Probando tu red con un modelo pre-entrenado\n",
        "\n",
        "## Clonamos el github\n",
        "\n",
        "#!git clone https://github.com/jorgeperezrojas/cc6204-DeepLearning-DCCUChile.git\n",
        "\n",
        "os.chdir(\"/content/cc6204-DeepLearning-DCCUChile/2018/tareas/tarea1/recursos/varita_magica\")\n",
        "\n",
        "# cargar parametros entrenados a tensores\n",
        "\n",
        "local_download_path = \"modelos/ejemplo\"\n",
        "params = []\n",
        "params.append([numpy.loadtxt(local_download_path+\"/W1.txt\"), numpy.loadtxt(local_download_path+\"/b1.txt\")])\n",
        "params.append([numpy.loadtxt(local_download_path+\"/W2.txt\"), numpy.loadtxt(local_download_path+\"/b2.txt\")])\n",
        "params.append([numpy.loadtxt(local_download_path+\"/U.txt\"), numpy.loadtxt(local_download_path+\"/c.txt\")])\n",
        "\n",
        "params = list(map(lambda x: [torch.from_numpy(x[0]), torch.from_numpy(x[1])], params))\n",
        "#pdb.set_trace()\n",
        "\n",
        "\n",
        "# cargar red neuronal en pase a parametros conocidos\n",
        "\n",
        "test_data_path = \"data/test_set\"\n",
        "test_input = torch.from_numpy(numpy.loadtxt(test_data_path+\"/hechizo-7/019.txt\")).view(1, 4096)\n",
        "red_neuronal = FFNN(0, [], [sig, sig], 10, params)\n",
        "red_neuronal.forward(test_input)"
      ],
      "execution_count": 68,
      "outputs": [
        {
          "output_type": "execute_result",
          "data": {
            "text/plain": [
              "\n",
              "\n",
              "Columns 0 to 5 \n",
              " 4.7710e-02  3.9716e-05  6.6476e-04  8.2011e-10  4.3855e-05  5.6656e-06\n",
              "\n",
              "Columns 6 to 9 \n",
              " 3.6484e-06  1.4471e-04  9.5139e-01  3.8229e-08\n",
              "[torch.cuda.DoubleTensor of size 1x10 (GPU 0)]"
            ]
          },
          "metadata": {
            "tags": []
          },
          "execution_count": 68
        }
      ]
    },
    {
      "metadata": {
        "id": "Obsa_DTEq2lk",
        "colab_type": "code",
        "colab": {
          "autoexec": {
            "startup": false,
            "wait_interval": 0
          },
          "base_uri": "https://localhost:8080/",
          "height": 717
        },
        "outputId": "5af87ff7-22e6-4f15-b3bd-59999653857f",
        "executionInfo": {
          "status": "ok",
          "timestamp": 1524322656795,
          "user_tz": 180,
          "elapsed": 1020,
          "user": {
            "displayName": "Martín Cornejo-Saavedra",
            "photoUrl": "https://lh3.googleusercontent.com/a/default-user=s128",
            "userId": "100137397923643336617"
          }
        }
      },
      "cell_type": "code",
      "source": [
        "test_input_err_1 = torch.from_numpy(numpy.loadtxt(test_data_path+\"/hechizo-9/019.txt\")).double().cuda().view(64, 64)\n",
        "plt.imshow(test_input_err_1)\n",
        "print(\"El siguiente hechizo pertenece a la clase 9 pero fue clasificado como clase 1:\")\n",
        "plt.show()\n",
        "test_input_err_2 = torch.from_numpy(numpy.loadtxt(test_data_path+\"/hechizo-7/019.txt\")).double().cuda().view(64, 64)\n",
        "plt.imshow(test_input_err_2)\n",
        "print(\"El siguiente hechizo pertenece a la clase 7 pero fue clasificado como clase 8:\")"
      ],
      "execution_count": 8,
      "outputs": [
        {
          "output_type": "stream",
          "text": [
            "El siguiente hechizo pertenece a la clase 9 pero fue clasificado como clase 1:\n"
          ],
          "name": "stdout"
        },
        {
          "output_type": "display_data",
          "data": {
            "image/png": "[encoded data removed]",
            "text/plain": [
              "<matplotlib.figure.Figure at 0x7f0536487438>"
            ]
          },
          "metadata": {
            "tags": []
          }
        },
        {
          "output_type": "stream",
          "text": [
            "El siguiente hechizo pertenece a la clase 7 pero fue clasificado como clase 8:\n"
          ],
          "name": "stdout"
        },
        {
          "output_type": "display_data",
          "data": {
            "image/png": "[encoded data removed]",
            "text/plain": [
              "<matplotlib.figure.Figure at 0x7f05362f9780>"
            ]
          },
          "metadata": {
            "tags": []
          }
        }
      ]
    },
    {
      "metadata": {
        "id": "7KdiE3RDwERd",
        "colab_type": "text"
      },
      "cell_type": "markdown",
      "source": [
        "## Checkeo de gradiente"
      ]
    },
    {
      "metadata": {
        "id": "7zcMfV-XwMb9",
        "colab_type": "code",
        "colab": {
          "autoexec": {
            "startup": false,
            "wait_interval": 0
          }
        }
      },
      "cell_type": "code",
      "source": [
        "#### Parte 4b) Chequeo de gradiente"
      ],
      "execution_count": 0,
      "outputs": []
    },
    {
      "metadata": {
        "id": "oG-I7Oyl-qsd",
        "colab_type": "text"
      },
      "cell_type": "markdown",
      "source": [
        "## Descenso de gradiente, momentum, RMSProp y Adam\n"
      ]
    },
    {
      "metadata": {
        "id": "TUkJA9Qm2GKY",
        "colab_type": "code",
        "colab": {
          "autoexec": {
            "startup": false,
            "wait_interval": 0
          }
        }
      },
      "cell_type": "code",
      "source": [
        "#### Parte 5a) Descenso de gradiente\n",
        "class SGD():\n",
        "  def __init__(self, red, lr):\n",
        "    self.red = red\n",
        "    self.lr = lr\n",
        "  \n",
        "  def step(self):\n",
        "    self.red.actualizarParams(self.lr)\n",
        "    \n",
        "#### Parte 7b) Descenso de gradiente con momentum\n",
        "class SGD2():\n",
        "  def __init__(self, red, lr, momentum=0.9):\n",
        "    pass\n",
        "  \n",
        "  def step():\n",
        "    pass"
      ],
      "execution_count": 0,
      "outputs": []
    },
    {
      "metadata": {
        "id": "QfT8N2KY9NLI",
        "colab_type": "code",
        "colab": {
          "autoexec": {
            "startup": false,
            "wait_interval": 0
          }
        }
      },
      "cell_type": "code",
      "source": [
        "#### Parte 7c) RMSProp\n",
        "class RMSProp():\n",
        "  def __init__(self, red, lr=0.001, beta=0.9, epsilon=1e-8):\n",
        "    pass\n",
        "  \n",
        "  def step():\n",
        "    pass"
      ],
      "execution_count": 0,
      "outputs": []
    },
    {
      "metadata": {
        "id": "Snfzj9U89XJj",
        "colab_type": "code",
        "colab": {
          "autoexec": {
            "startup": false,
            "wait_interval": 0
          }
        }
      },
      "cell_type": "code",
      "source": [
        "#### Parte 7d) Adam\n",
        "class Adam():\n",
        "  def __init__(self, red, lr=0.001, beta1=0.9, beta2=0.999, epsilon=1e-8):\n",
        "    pass\n",
        "  \n",
        "  def step():\n",
        "    pass"
      ],
      "execution_count": 0,
      "outputs": []
    },
    {
      "metadata": {
        "id": "vpCfOvvbLdoq",
        "colab_type": "text"
      },
      "cell_type": "markdown",
      "source": [
        "## Datos random para carga\n"
      ]
    },
    {
      "metadata": {
        "id": "U6o4TjFZa3gJ",
        "colab_type": "code",
        "colab": {
          "autoexec": {
            "startup": false,
            "wait_interval": 0
          }
        }
      },
      "cell_type": "code",
      "source": [
        "#### Parte 5b) Datos para carga\n",
        "class RandomDataset():\n",
        "  def __init__(self, N, F, C):\n",
        "    x = torch.rand(N, F)\n",
        "    self.x = torch.bernoulli(x).double().cuda()\n",
        "    self.y = torch.from_numpy(numpy.eye(C)[numpy.random.choice(C, N)]).double().cuda()\n",
        "    self.large = N\n",
        "  \n",
        "  def __len__(self):\n",
        "    return self.large\n",
        "  \n",
        "  def __getitem__(self, i):\n",
        "    return (self.x[i,:], self.y[i,:])\n",
        "  \n",
        "  def paquetes(self, B):\n",
        "       \n",
        "    if not hasattr(self, 'arr_paquetes'):\n",
        "      n_iters = int(self.x.size(0)/B)\n",
        "      arr_paquetes = []  \n",
        "   \n",
        "      for index in range(n_iters):\n",
        "        arr_paquetes.append(self.elige_batch(self.x,self.y,B))\n",
        "              \n",
        "      self.arr_paquetes = arr_paquetes\n",
        "      \n",
        "    return self.arr_paquetes\n",
        "    \n",
        "  # Para elegir el siguiente batch (uno al azar) desde los datos de entrada\n",
        "  def elige_batch(self, X, Y, b):\n",
        "    N = X.size()[0]\n",
        "    x_lista = []\n",
        "    y_lista = []\n",
        "  \n",
        "    for _ in range(b):\n",
        "      i = numpy.random.randint(N)\n",
        "      x_lista.append(X[i:i+1])\n",
        "      y_lista.append(Y[i:i+1])      \n",
        "  \n",
        "    x = torch.cat(x_lista, dim=0)\n",
        "    y = torch.cat(y_lista, dim=0)\n",
        "    #pdb.set_trace()\n",
        "  \n",
        "    return x,y\n",
        "    "
      ],
      "execution_count": 0,
      "outputs": []
    },
    {
      "metadata": {
        "id": "ccVnn9kLS1Rl",
        "colab_type": "text"
      },
      "cell_type": "markdown",
      "source": [
        "## Loop de entrenamiento"
      ]
    },
    {
      "metadata": {
        "id": "Y5MNS3x0Sk9i",
        "colab_type": "code",
        "colab": {
          "autoexec": {
            "startup": false,
            "wait_interval": 0
          }
        }
      },
      "cell_type": "code",
      "source": [
        "#### Parte 5c) Entrenando la red\n",
        "def entrenar_FFNN(red_neuronal, dataset, optimizador, epochs, B):\n",
        "  \n",
        "  perdidas = []\n",
        "  \n",
        "  for e in range(1,epochs+1):\n",
        "    for x,y in dataset.paquetes(B):\n",
        "      y_pred = red_neuronal.forward(x)\n",
        "      #pdb.set_trace()\n",
        "      loss = cross_ent_loss(y_pred,y)\n",
        "      \n",
        "      #6a) Regularización por penalización de norma\n",
        "      if (red_neuronal.wc_par != None):\n",
        "        loss += penalizacionNorma(red_neuronal.params, B)\n",
        "            \n",
        "      perdidas.append(loss)\n",
        "      \n",
        "      red_neuronal.backward(x, y, y_pred)\n",
        "      optimizador.step()  \n",
        "    \n",
        "  return red_neuronal, perdidas  \n",
        "\n",
        "def penalizacionNorma(arrayMatrix, B):\n",
        "  return 0"
      ],
      "execution_count": 0,
      "outputs": []
    },
    {
      "metadata": {
        "id": "4u53x0fETEq2",
        "colab_type": "text"
      },
      "cell_type": "markdown",
      "source": [
        "## Entrenando con datos random y graficando la pérdida"
      ]
    },
    {
      "metadata": {
        "id": "s4jgU-fDUPUD",
        "colab_type": "code",
        "colab": {
          "autoexec": {
            "startup": false,
            "wait_interval": 0
          },
          "base_uri": "https://localhost:8080/",
          "height": 1113
        },
        "outputId": "368d774c-4d0a-4c68-c356-e3b4eef10ed8",
        "executionInfo": {
          "status": "ok",
          "timestamp": 1524350423729,
          "user_tz": 180,
          "elapsed": 44380,
          "user": {
            "displayName": "Martín Cornejo-Saavedra",
            "photoUrl": "https://lh3.googleusercontent.com/a/default-user=s128",
            "userId": "100137397923643336617"
          }
        }
      },
      "cell_type": "code",
      "source": [
        "#### Parte 5d) Graficando la pérdida en el tiempo\n",
        "\n",
        "features = 10\n",
        "clases = 3\n",
        "dataset = RandomDataset(1000,features,clases)\n",
        "\n",
        "redes = [\n",
        "    FFNN(features, [5, 5, 10, 5], [sig, sig, sig, sig], clases),\n",
        "    FFNN(features, [15, 15, 10], [sig, sig, sig], clases),\n",
        "    FFNN(features, [50, 50, 10], [sig, sig, sig], clases)\n",
        "]\n",
        "\n",
        "for idx, red_neuronal in enumerate(redes):\n",
        "\n",
        "  red_neuronal.gpu()\n",
        "\n",
        "  optimizador = SGD(red_neuronal, 0.001) \n",
        "\n",
        "  epochs = 30\n",
        "  batch = 10\n",
        "  red_neuronal, perdidas = entrenar_FFNN(red_neuronal, dataset, optimizador, epochs, batch)\n",
        "\n",
        "  plt.figure()\n",
        "  plt.plot(numpy.linspace(1, len(perdidas), len(perdidas)), perdidas, 'g.')\n",
        "  plt.title(\"Funcion de costo vs iteraciones: Red \"+str(idx+1))\n",
        "  plt.xlabel(\"Iteracion\")\n",
        "  plt.ylabel(\"Perdida\")\n",
        "  #pdb.set_trace()\n",
        "  \n",
        "True"
      ],
      "execution_count": 93,
      "outputs": [
        {
          "output_type": "execute_result",
          "data": {
            "text/plain": [
              "True"
            ]
          },
          "metadata": {
            "tags": []
          },
          "execution_count": 93
        },
        {
          "output_type": "display_data",
          "data": {
            "image/png": "[encoded data removed]",
            "text/plain": [
              "<matplotlib.figure.Figure at 0x7f05364605f8>"
            ]
          },
          "metadata": {
            "tags": []
          }
        },
        {
          "output_type": "display_data",
          "data": {
            "image/png": "[encoded data removed]",
            "text/plain": [
              "<matplotlib.figure.Figure at 0x7f04ffe17320>"
            ]
          },
          "metadata": {
            "tags": []
          }
        },
        {
          "output_type": "display_data",
          "data": {
            "image/png": "[encoded data removed]",
            "text/plain": [
              "<matplotlib.figure.Figure at 0x7f05005eaa90>"
            ]
          },
          "metadata": {
            "tags": []
          }
        }
      ]
    },
    {
      "metadata": {
        "id": "hWkGbQPHmaFN",
        "colab_type": "text"
      },
      "cell_type": "markdown",
      "source": [
        "## Entrenando con datos de varita mágica\n",
        "\n"
      ]
    },
    {
      "metadata": {
        "id": "7PJ_w-4UMeU9",
        "colab_type": "code",
        "colab": {
          "autoexec": {
            "startup": false,
            "wait_interval": 0
          }
        }
      },
      "cell_type": "code",
      "source": [
        "#### Parte 5e) Entrenando con datos no random"
      ],
      "execution_count": 0,
      "outputs": []
    },
    {
      "metadata": {
        "id": "VTjXiZcTHZgm",
        "colab_type": "text"
      },
      "cell_type": "markdown",
      "source": [
        "## Cargando datos de MNIST"
      ]
    },
    {
      "metadata": {
        "id": "YE1iMUNfIT1r",
        "colab_type": "code",
        "colab": {
          "autoexec": {
            "startup": false,
            "wait_interval": 0
          }
        }
      },
      "cell_type": "code",
      "source": [
        "#### Parte 8a) Cargando y visualizando datos de MNIST\n",
        "\n",
        "# Importamos las clases necesarias\n",
        "\n",
        "from torchvision.datasets import MNIST\n",
        "from torch.utils.data import DataLoader\n",
        "from torchvision.transforms import ToTensor\n",
        "from matplotlib.pyplot import imshow, figure, subplots\n",
        "\n",
        "# Descarga y almacena el conjunto de entrenamiento y prueba de MNIST\n",
        "# Además aplica una transformación para convertir todas las imágenes a \n",
        "# tensores de pytroch\n",
        "\n",
        "train_data = MNIST('mnist', train=True, download=True, transform=ToTensor())\n",
        "test_data = MNIST('mnist', train=False, transform=ToTensor())\n",
        "\n",
        "print('Cantidad de ejemplos de entrenamiento: ' + str(len(train_data)))\n",
        "print('Cantidad de ejemplos de prueba: ' + str(len(test_data)))\n",
        "\n",
        "# Muestra 3 ejemplos al azar usando un DataLoader\n",
        "\n",
        "dataloader = DataLoader(train_data, shuffle=True)\n",
        "n_ejemplos = 3\n",
        "\n",
        "fig, axs = subplots(nrows=n_ejemplos, sharey=True, figsize=(3,n_ejemplos*3))\n",
        "\n",
        "for i, batch in enumerate(dataloader):\n",
        "  if i == n_ejemplos:\n",
        "    break\n",
        "    \n",
        "  img, d = batch\n",
        "  axs[i].set_title(\"target: \" + str(d.numpy()))\n",
        "  axs[i].imshow(img.view(28,28).numpy())"
      ],
      "execution_count": 0,
      "outputs": []
    },
    {
      "metadata": {
        "id": "ob9VdT3NKEBP",
        "colab_type": "text"
      },
      "cell_type": "markdown",
      "source": [
        "## Red neuronal para MNIST"
      ]
    },
    {
      "metadata": {
        "id": "0qWEfhdhUM_P",
        "colab_type": "code",
        "colab": {
          "autoexec": {
            "startup": false,
            "wait_interval": 0
          }
        }
      },
      "cell_type": "code",
      "source": [
        "#### Parte 8b) Red neuronal para MNIST"
      ],
      "execution_count": 0,
      "outputs": []
    },
    {
      "metadata": {
        "id": "bjpfhhL9URCy",
        "colab_type": "code",
        "colab": {
          "autoexec": {
            "startup": false,
            "wait_interval": 0
          }
        }
      },
      "cell_type": "code",
      "source": [
        "#### Parte 8c) Visualización de entrenamiento y convergencia"
      ],
      "execution_count": 0,
      "outputs": []
    },
    {
      "metadata": {
        "id": "JF7GV3X4WRSY",
        "colab_type": "text"
      },
      "cell_type": "markdown",
      "source": [
        "---\n",
        "\n",
        "## Apéndice: partes a mano"
      ]
    },
    {
      "metadata": {
        "id": "B5nWf6E7WbHf",
        "colab_type": "text"
      },
      "cell_type": "markdown",
      "source": [
        "### Parte 1b) Derivando las funciones de activación"
      ]
    },
    {
      "metadata": {
        "id": "quUwCy0nWhKp",
        "colab_type": "text"
      },
      "cell_type": "markdown",
      "source": [
        "\n",
        "\\begin{equation}\n",
        "\\frac{\\partial\\ \\text{relu}(x)}{\\partial x} =\n",
        "\\left\\{\n",
        "\t\\begin{array}{ll}\n",
        "\t\t1  & \\mbox{si } x \\geq 0 \\\\\n",
        "\t\t0  & \\mbox{~} \n",
        "\t\\end{array}\n",
        "\\right. \n",
        "\\end{equation}\n",
        "<br>\n",
        "\n",
        "Dado $ \\sigma (x) = sigmoid(x)$, tenemos que:\n",
        "\n",
        "\\begin{eqnarray}\n",
        "\\frac{\\partial\\ \\text{swish}(x, \\beta)}{\\partial x} & = \\sigma (\\beta x) + \\beta x \\cdot \\sigma (\\beta x)(1-\\sigma (\\beta x)) \\\\\n",
        "& = \\sigma (\\beta x) + \\beta x \\cdot \\sigma (\\beta x) - \\beta x \\cdot \\sigma (\\beta x)^{2}  \\\\\n",
        "&= \\beta \\cdot swish(x, \\beta) + \\sigma (\\beta x)(1 - \\beta \\cdot swish(x, \\beta))\\\\\n",
        "\\\\\n",
        "\\frac{\\partial\\ \\text{swish}(x, \\beta)}{\\partial \\beta} & =  \n",
        "x^2 \\sigma (\\beta x)(1 - \\sigma (\\beta x))\\\\\n",
        "\\end{eqnarray}\n",
        "<br><br>\n",
        "\n",
        "\\begin{eqnarray}\n",
        "\\frac{\\partial\\ \\text{celu}(x, \\alpha)}{\\partial x} & =  \n",
        "\\left\\{\n",
        "\t\\begin{array}{ll}\n",
        "\t\t1  & \\mbox{si } x \\geq 0 \\\\\n",
        "\t\texp (\\frac{x}{\\alpha})  & \\mbox{~} \n",
        "\t\\end{array}\n",
        "\\right. \\\\\n",
        "\\\\\n",
        "\\frac{\\partial\\ \\text{celu}(x, \\alpha)}{\\partial \\alpha} & = \n",
        "\\left\\{\n",
        "\t\\begin{array}{ll}\n",
        "\t\t0  & \\mbox{si } x \\geq 0 \\\\\n",
        "\t\texp (\\frac{x}{\\alpha})(1 - \\frac{x}{\\alpha}) - 1  & \\mbox{~} \n",
        "\t\\end{array}\n",
        "\\right. \\\\\n",
        "\\end{eqnarray}"
      ]
    },
    {
      "metadata": {
        "id": "rTWKAEHkoE3K",
        "colab_type": "text"
      },
      "cell_type": "markdown",
      "source": [
        "### Parte 1c) Softmax"
      ]
    },
    {
      "metadata": {
        "id": "WRk-15ANoLX-",
        "colab_type": "text"
      },
      "cell_type": "markdown",
      "source": [
        "Dada la funcion `softmax` sabemos que cada elemento de la secuencia $\\text{softmax}(x_1,\\ldots,x_n)$ tiene la forma\n",
        "\n",
        "\\begin{equation}\n",
        "s_i = \\frac{e^{x_i}}{\\sum_{j=1}^{n}e^{x_j}}\n",
        "\\end{equation}\n",
        "\n",
        "Luego, para cada elemento de la secuencia $\\text{softmax}(x_1-M,\\ldots,x_n-M)$ se tiene\n",
        "\n",
        "\\begin{equation}\n",
        "s_i = \\frac{e^{x_i-M}}{\\sum_{j=1}^{n}e^{x_j-M}} = \\frac{e^{-M}e^{x_i}}{\\sum_{j=1}^{n}e^{-M}e^{x_j}} = \\frac{e^{-M}e^{x_i}}{e^{-M}\\sum_{j=1}^{n}e^{x_j}} = \\frac{e^{x_i}}{\\sum_{j=1}^{n}e^{x_j}}\n",
        "\\end{equation}\n",
        "\n",
        "Demostrando que $\\text{softmax}(x_1-M,\\ldots,x_n-M) = \\text{softmax}(x_1,\\ldots,x_n)$."
      ]
    },
    {
      "metadata": {
        "id": "dORBkUQ4Wh1z",
        "colab_type": "text"
      },
      "cell_type": "markdown",
      "source": [
        "### Parte 3b) Derviando la última capa"
      ]
    },
    {
      "metadata": {
        "id": "NZlKnTVrWp8y",
        "colab_type": "text"
      },
      "cell_type": "markdown",
      "source": [
        "\\begin{equation}\n",
        "\\frac{\\partial \\cal L}{\\partial u^{(L)}} = \\frac{\\partial \\cal L}{\\partial ŷ} \\cdot \\frac{\\partial ŷ}{\\partial u^{(L)}} \\\\\n",
        "\\end{equation}\n",
        "\n",
        "Usando la notación de Einstein tenemos que:\n",
        "\n",
        "\\begin{eqnarray}\n",
        "(\\frac{\\partial\\cal L}{\\partial U})_{ij} &= \\frac{\\partial\\cal L}{\\partial u^{(L)}_{kl}} \\frac{\\partial u^{(L)}_{kl}}{\\partial U_{ij}} \\\\\n",
        "\\end{eqnarray}\n",
        "\n",
        "Luego,\n",
        "\n",
        "\\begin{equation}\n",
        "\\frac{\\partial u^{(L)}_{kl}}{\\partial U_{ij}} = \\frac{\\partial (h^{(L)}_{kr}U_{rl} + c_{l})}{\\partial U_{ij}} = \\left\\{\n",
        "    \\begin{array}{}\n",
        "\t\th^{(L)}_{ki}  & \\mbox{si } r = i,\\ l = j \\\\\n",
        "\t\t0  & \\mbox{~}\n",
        "    \\end{array}\n",
        "\\right.\n",
        "\\end{equation}\n",
        "\n",
        "Entonces,\n",
        "\n",
        "\\begin{eqnarray}\n",
        "(\\frac{\\partial\\cal L}{\\partial U})_{ij} &= \\frac{\\partial\\cal L}{\\partial u^{(L)}_{kl}} h^{(L)}_{ki} = \\frac{\\partial\\cal L}{\\partial u^{(L)}_{kj}} h^{(L)}_{ki} \\\\\n",
        "\\\\\n",
        "& \\boxed{ \\frac{\\partial\\cal L}{\\partial U} = (h^{(L)})^{T} \\frac{\\partial\\cal L}{\\partial u^{(L)}} }\n",
        "\\end{eqnarray}\n",
        "\n",
        "Análogamente\n",
        "\n",
        "\\begin{equation}\n",
        "\\frac{\\partial u^{(L)}_{kl}}{\\partial c_{i}} = \\frac{\\partial (h^{(L)}_{kr}U_{rl} + c_{l})}{\\partial c_{i}} = \\left\\{\n",
        "    \\begin{array}{}\n",
        "\t\t1  & \\mbox{si } l = j \\\\\n",
        "\t\t0  & \\mbox{~}\n",
        "    \\end{array}\n",
        "\\right.\n",
        "\\end{equation}\n",
        "\n",
        "\\begin{eqnarray}\n",
        "(\\frac{\\partial\\cal L}{\\partial c})_{i} &= \\frac{\\partial\\cal L}{\\partial u^{(L)}_{ki}} \\cdot 1\n",
        "\\end{eqnarray}\n",
        "\n",
        "\\begin{equation}\n",
        "\\boxed{ \\frac{\\partial\\cal L}{\\partial c} = [1 \\ldots 1] \\frac{\\partial\\cal L}{\\partial u^{(L)}} }\n",
        "\\end{equation}\n",
        "\n",
        "Donde $[1 \\ldots 1]$ es un vector de unos de largo correspondiente al numero de fila del resultado de $\\frac{\\partial\\cal L}{\\partial u^{(L)}}$ \n",
        "\n",
        "Finalmente,\n",
        "\n",
        "\\begin{equation}\n",
        "\\frac{\\partial u^{(L)}_{kl}}{\\partial h^{(L)}_{ij}} = \\frac{\\partial (h^{(L)}_{kr}U_{rl} + c_{l})}{\\partial h^{(L)}_{ij}} = \\left\\{\n",
        "    \\begin{array}{}\n",
        "\t\tU_{jl}  & \\mbox{si } k = i,\\ r = j \\\\\n",
        "\t\t0  & \\mbox{~}\n",
        "    \\end{array}\n",
        "\\right.\n",
        "\\end{equation}\n",
        "\n",
        "\\begin{eqnarray}\n",
        "(\\frac{\\partial\\cal L}{\\partial h^{(L)}})_{ij} &= \\frac{\\partial\\cal L}{\\partial u^{(L)}_{kl}} U_{jl} = \\frac{\\partial\\cal L}{\\partial u^{(L)}_{il}} U_{lj}^{T} \\\\\n",
        "\\\\\n",
        "& \\boxed{ \\frac{\\partial\\cal L}{\\partial h^{(L)}} = \\frac{\\partial\\cal L}{\\partial u^{(L)}} U^{T} }\n",
        "\\end{eqnarray}"
      ]
    },
    {
      "metadata": {
        "id": "hPowZjVDWrrL",
        "colab_type": "text"
      },
      "cell_type": "markdown",
      "source": [
        "### Parte 3c) Derivando desde las capas escondidas"
      ]
    },
    {
      "metadata": {
        "id": "WhJJTBD7Wx-s",
        "colab_type": "text"
      },
      "cell_type": "markdown",
      "source": [
        "\\begin{equation}\n",
        "\\frac{\\partial\\cal L}{\\partial u^{(k)}} = \\frac{\\partial\\cal L}{\\partial h^{(k)}} \\frac{\\partial\\cal h^{(k)}}{\\partial u^{(k)}} \\\\\n",
        "\\end{equation}\n",
        "\n",
        "Para __sigmoid__ tenemos la siguiente derivada:\n",
        "\\begin{equation}\n",
        "h^{(k)} = sig(u^{(k)})\n",
        "\\\\\n",
        "\\frac{\\partial\\cal h^{(k)}}{\\partial u^{(k)}} = h^{(k)}(1 - h^{(k)})\n",
        "\\end{equation}\n",
        "<br><br>\n",
        "\n",
        "Las siguientes derivadas pueden obtenerse independiente de la forma de la función de activación y son análogas a las calculadas en la última capa:\n",
        "<br><br>\n",
        "\\begin{equation}\n",
        "\\frac{\\partial\\cal L}{\\partial W^{(k)}} = (h^{(k)})^{T} \\frac{\\partial\\cal L}{\\partial u^{(k)}} \\\\\n",
        "\\end{equation}\n",
        "<br><br>\n",
        "\n",
        "\\begin{equation}\n",
        "\\frac{\\partial\\cal L}{\\partial b^{(k)}} = [1 \\ldots 1] \\frac{\\partial\\cal L}{\\partial u^{(k)}} \\\\\n",
        "\\end{equation}\n",
        "<br><br>\n",
        "\n",
        "\\begin{equation}\n",
        "\\frac{\\partial\\cal L}{\\partial h^{(k-1)}} = \\frac{\\partial\\cal L}{\\partial u^{(k)}} (W^{(k)})^T \\\\\n",
        "\\end{equation}"
      ]
    },
    {
      "metadata": {
        "id": "kwqO70d2W2if",
        "colab_type": "text"
      },
      "cell_type": "markdown",
      "source": [
        "### Otras derivadas (derivadas opcionales de celu y swish, de batch normalization, etc.)"
      ]
    },
    {
      "metadata": {
        "id": "J-VAm34vXBAs",
        "colab_type": "text"
      },
      "cell_type": "markdown",
      "source": [
        "### Parte 6a) Weight Decay"
      ]
    },
    {
      "metadata": {
        "id": "SJleLECLOer_",
        "colab_type": "text"
      },
      "cell_type": "markdown",
      "source": [
        "$w_{ij_{n+1}} = (1 - \\frac{\\lambda \\alpha }{N})w_{ij_{n}} - \\lambda \\frac{\\partial \\cal L}{\\partial w_{ij_{n}}}$"
      ]
    }
  ]
}