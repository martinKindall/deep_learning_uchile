{
  "nbformat": 4,
  "nbformat_minor": 0,
  "metadata": {
    "colab": {
      "name": "Respuestas_Tarea_1_Partes_1_2_CC6402_2018.ipynb",
      "version": "0.3.2",
      "views": {},
      "default_view": {},
      "provenance": [],
      "collapsed_sections": []
    },
    "kernelspec": {
      "display_name": "Python 3",
      "language": "python",
      "name": "python3"
    },
    "accelerator": "GPU"
  },
  "cells": [
    {
      "metadata": {
        "id": "iCszeuRk0NuH",
        "colab_type": "text"
      },
      "cell_type": "markdown",
      "source": [
        "# Tarea 1 <br/> CC6204 Deep Learning, Universidad de Chile  <br/> Hoja de respuestas partes 1 y 2 \n",
        "## Nombre: Martin Cornejo Saavedra\n",
        "Fecha sugerida para completar esta parte: 23 de marzo de 2018"
      ]
    },
    {
      "metadata": {
        "id": "ac_XrA2QDGYt",
        "colab_type": "code",
        "colab": {
          "autoexec": {
            "startup": false,
            "wait_interval": 0
          }
        }
      },
      "cell_type": "code",
      "source": [
        "# instalacion de los paquetes necesarios\n",
        "\n",
        "from os import path\n",
        "from wheel.pep425tags import get_abbr_impl, get_impl_ver, get_abi_tag\n",
        "platform = '{}{}-{}'.format(get_abbr_impl(), get_impl_ver(), get_abi_tag())\n",
        "\n",
        "accelerator = 'cu80'\n",
        "\n",
        "!pip install -q http://download.pytorch.org/whl/{accelerator}/torch-0.3.0.post4-{platform}-linux_x86_64.whl torchvision\n",
        "!pip install -q ipdb\n",
        "\n",
        "# para manejar archivos de Drive\n",
        "\n",
        "!pip install -U -q PyDrive\n",
        "import os\n",
        "from pydrive.auth import GoogleAuth\n",
        "from pydrive.drive import GoogleDrive\n",
        "from google.colab import auth\n",
        "from oauth2client.client import GoogleCredentials\n",
        "\n",
        "## Nos debemos autentificar como usuarios\n",
        "auth.authenticate_user()\n",
        "gauth = GoogleAuth()\n",
        "gauth.credentials = GoogleCredentials.get_application_default()\n",
        "drive = GoogleDrive(gauth)\n",
        "\n",
        "import glob\n",
        "import torch\n",
        "import pdb"
      ],
      "execution_count": 0,
      "outputs": []
    },
    {
      "metadata": {
        "id": "Uq9u0IfT0VRp",
        "colab_type": "text"
      },
      "cell_type": "markdown",
      "source": [
        "# Parte 1: Funciones de activación, derivadas y función de salida"
      ]
    },
    {
      "metadata": {
        "id": "DMw80P8o0qrJ",
        "colab_type": "text"
      },
      "cell_type": "markdown",
      "source": [
        "## 1a) Funciones de activación"
      ]
    },
    {
      "metadata": {
        "id": "tDhcNbNT0YNr",
        "colab_type": "code",
        "colab": {
          "autoexec": {
            "startup": false,
            "wait_interval": 0
          }
        }
      },
      "cell_type": "code",
      "source": [
        "def relu(T):\n",
        "    T[T < 0] = 0\n",
        "    return T\n",
        "\n",
        "def sig(T):\n",
        "    return torch.reciprocal(1 + torch.exp(-1 * T))\n",
        "\n",
        "def swish(T, beta):\n",
        "    return torch.mul(T, sig(torch.mul(T, beta)))\n",
        "\n",
        "def celu(T, alfa):\n",
        "    positive = relu(T)\n",
        "    negative = torch.mul(relu(torch.mul(T, -1)), -1)\n",
        "    celu_T = torch.mul(torch.add(torch.exp(torch.div(negative, alfa)), -1), alfa)\n",
        "\n",
        "    return torch.add(positive, 1, celu_T)"
      ],
      "execution_count": 0,
      "outputs": []
    },
    {
      "metadata": {
        "id": "S_StkJsV07L3",
        "colab_type": "text"
      },
      "cell_type": "markdown",
      "source": [
        "## 1b) Derivando las funciones de activación"
      ]
    },
    {
      "metadata": {
        "id": "UXyOWjYi1Do8",
        "colab_type": "text"
      },
      "cell_type": "markdown",
      "source": [
        "\n",
        "\\begin{equation}\n",
        "\\frac{\\partial\\ \\text{relu}(x)}{\\partial x} =\n",
        "\\left\\{\n",
        "\t\\begin{array}{ll}\n",
        "\t\t1  & \\mbox{si } x \\geq 0 \\\\\n",
        "\t\t0  & \\mbox{~} \n",
        "\t\\end{array}\n",
        "\\right. \n",
        "\\end{equation}\n",
        "<br>\n",
        "\n",
        "Dado $ \\sigma (x) = sigmoid(x)$, tenemos que:\n",
        "\n",
        "\\begin{eqnarray}\n",
        "\\frac{\\partial\\ \\text{swish}(x, \\beta)}{\\partial x} & = \\sigma (\\beta x) + \\beta x \\cdot \\sigma (\\beta x)(1-\\sigma (\\beta x)) \\\\\n",
        "& = \\sigma (\\beta x) + \\beta x \\cdot \\sigma (\\beta x) - \\beta x \\cdot \\sigma (\\beta x)^{2}  \\\\\n",
        "&= \\beta \\cdot swish(x, \\beta) + \\sigma (\\beta x)(1 - \\beta \\cdot swish(x, \\beta))\\\\\n",
        "\\\\\n",
        "\\frac{\\partial\\ \\text{swish}(x, \\beta)}{\\partial \\beta} & =  \n",
        "x^2 \\sigma (\\beta x)(1 - \\sigma (\\beta x))\\\\\n",
        "\\end{eqnarray}\n",
        "<br><br>\n",
        "\n",
        "\\begin{eqnarray}\n",
        "\\frac{\\partial\\ \\text{celu}(x, \\alpha)}{\\partial x} & =  \n",
        "\\left\\{\n",
        "\t\\begin{array}{ll}\n",
        "\t\t1  & \\mbox{si } x \\geq 0 \\\\\n",
        "\t\texp (\\frac{x}{\\alpha})  & \\mbox{~} \n",
        "\t\\end{array}\n",
        "\\right. \\\\\n",
        "\\\\\n",
        "\\frac{\\partial\\ \\text{celu}(x, \\alpha)}{\\partial \\alpha} & = \n",
        "\\left\\{\n",
        "\t\\begin{array}{ll}\n",
        "\t\t0  & \\mbox{si } x \\geq 0 \\\\\n",
        "\t\texp (\\frac{x}{\\alpha})(1 - \\frac{x}{\\alpha}) - 1  & \\mbox{~} \n",
        "\t\\end{array}\n",
        "\\right. \\\\\n",
        "\\end{eqnarray}"
      ]
    },
    {
      "metadata": {
        "id": "e_0dTh7l1bas",
        "colab_type": "text"
      },
      "cell_type": "markdown",
      "source": [
        "## 1c) Softmax\n",
        "\n",
        "Dada la funcion `softmax` sabemos que cada elemento de la secuencia $\\text{softmax}(x_1,\\ldots,x_n)$ tiene la forma\n",
        "\n",
        "\\begin{equation}\n",
        "s_i = \\frac{e^{x_i}}{\\sum_{j=1}^{n}e^{x_j}}\n",
        "\\end{equation}\n",
        "\n",
        "Luego, para cada elemento de la secuencia $\\text{softmax}(x_1-M,\\ldots,x_n-M)$ se tiene\n",
        "\n",
        "\\begin{equation}\n",
        "s_i = \\frac{e^{x_i-M}}{\\sum_{j=1}^{n}e^{x_j-M}} = \\frac{e^{-M}e^{x_i}}{\\sum_{j=1}^{n}e^{-M}e^{x_j}} = \\frac{e^{-M}e^{x_i}}{e^{-M}\\sum_{j=1}^{n}e^{x_j}} = \\frac{e^{x_i}}{\\sum_{j=1}^{n}e^{x_j}}\n",
        "\\end{equation}\n",
        "\n",
        "Demostrando que $\\text{softmax}(x_1-M,\\ldots,x_n-M) = \\text{softmax}(x_1,\\ldots,x_n)$."
      ]
    },
    {
      "metadata": {
        "id": "jDg2sU7D1dIY",
        "colab_type": "code",
        "colab": {
          "autoexec": {
            "startup": false,
            "wait_interval": 0
          }
        }
      },
      "cell_type": "code",
      "source": [
        "# por ahora softmax estara implementada solo para tensores en 2-D\n",
        "def softmax(T, dim=0, estable=True):\n",
        "    denom_softmax = torch.div(T, 2)\n",
        "    denom_softmax = torch.exp(denom_softmax)\n",
        "    denom_softmax = torch.mm(denom_softmax, torch.transpose(denom_softmax, 0, 1))\n",
        "    denom_softmax = torch.reciprocal(torch.diag(denom_softmax))\n",
        "\n",
        "    return torch.mm(torch.diag(denom_softmax), T.exp())"
      ],
      "execution_count": 0,
      "outputs": []
    },
    {
      "metadata": {
        "id": "662XLsDA9XXI",
        "colab_type": "text"
      },
      "cell_type": "markdown",
      "source": [
        "# Parte 2: Red neuronal y pasada hacia adelante (forward)"
      ]
    },
    {
      "metadata": {
        "id": "fTUm9ZbX9bRA",
        "colab_type": "text"
      },
      "cell_type": "markdown",
      "source": [
        "## 2a) Clase para red neuronal, 2b) Usando la GPU, 2c) Pasada hacia adelante"
      ]
    },
    {
      "metadata": {
        "id": "f_jeuYbv9WhK",
        "colab_type": "code",
        "colab": {
          "autoexec": {
            "startup": false,
            "wait_interval": 0
          }
        }
      },
      "cell_type": "code",
      "source": [
        "class FFNN():\n",
        "    def __init__(self, F, l_h, l_a, C):\n",
        "        self.F = F\n",
        "        self.l_h = l_h\n",
        "        self.l_a = l_a\n",
        "        self.C = C\n",
        "\n",
        "        self.W_1 = torch.randn(F, l_h[0])\n",
        "        self.b_1 = torch.zeros(1, l_h[0])\n",
        "\n",
        "        self.W_2 = torch.randn(l_h[0], l_h[1])\n",
        "        self.b_2 = torch.zeros(1, l_h[1])\n",
        "\n",
        "        self.U = torch.randn(l_h[1], C)\n",
        "        self.c_init = torch.zeros(1, C)\n",
        "  \n",
        "    def gpu(self):\n",
        "        if torch.cuda.is_available():\n",
        "            self.W_1 = self.W_1.cuda()\n",
        "            self.b_1 = self.b_1.cuda()\n",
        "            self.W_2 = self.W_2.cuda()\n",
        "            self.b_2 = self.b_2.cuda()\n",
        "            self.U = self.U.cuda()\n",
        "            self.c_init = self.c_init.cuda()\n",
        "  \n",
        "    def cpu(self):\n",
        "        self.W_1 = self.W_1.cpu()\n",
        "        self.b_1 = self.b_1.cpu()\n",
        "        self.W_2 = self.W_2.cpu()\n",
        "        self.b_2 = self.b_2.cpu()\n",
        "        self.U = self.U.cpu()\n",
        "        self.c_init = self.c_init.cpu()\n",
        "  \n",
        "    def forward(self, x):\n",
        "        if torch.cuda.is_available():\n",
        "          x = x.cuda()\n",
        "          self.gpu()   # redundante, corregir\n",
        "          \n",
        "        h_1 = sig(torch.mm(x, self.W_1) + self.b_1)\n",
        "        h_2 = sig(torch.mm(h_1, self.W_2) + self.b_2)\n",
        "        y = softmax(torch.mm(h_2, self.U) + self.c_init)\n",
        "        pdb.set_trace()\n",
        "\n",
        "        return y"
      ],
      "execution_count": 0,
      "outputs": []
    },
    {
      "metadata": {
        "id": "Bgf5Xx-34Pa1",
        "colab_type": "text"
      },
      "cell_type": "markdown",
      "source": [
        "## 2d) Probando tu red con un modelo pre-entrenado"
      ]
    },
    {
      "metadata": {
        "id": "twyLtUUnDok7",
        "colab_type": "code",
        "colab": {
          "autoexec": {
            "startup": false,
            "wait_interval": 0
          },
          "output_extras": [
            {
              "item_id": 5
            }
          ],
          "base_uri": "https://localhost:8080/",
          "height": 252
        },
        "outputId": "c2b9178d-f7da-45ec-a9e7-aad17f895191",
        "executionInfo": {
          "status": "ok",
          "timestamp": 1521814355698,
          "user_tz": 180,
          "elapsed": 2321,
          "user": {
            "displayName": "Martín Cornejo-Saavedra",
            "photoUrl": "https://lh3.googleusercontent.com/a/default-user=s128",
            "userId": "100137397923643336617"
          }
        }
      },
      "cell_type": "code",
      "source": [
        "# cargar modelo desde Drive\n",
        "\n",
        "local_download_path = os.path.expanduser('~/data_drive')\n",
        "try:\n",
        "  os.makedirs(local_download_path)\n",
        "except: pass\n",
        "\n",
        "folder_id = \"1kuqGFqjqfDXcppXrRmPHCVUJzE7LRS1a\"\n",
        "\n",
        "file_list = drive.ListFile(\n",
        "    {'q': \"'{}' in parents\".format(folder_id)}).GetList()\n",
        "\n",
        "for f in file_list:\n",
        "  # Creamos los archivos y los descargamos\n",
        "  # pdb.set_trace()\n",
        "  mimetypes = {\n",
        "      # Drive Document files as PDF\n",
        "        'application/vnd.google-apps.document': 'application/pdf',\n",
        "\n",
        "      # Drive Sheets files as MS Excel files.\n",
        "        'application/vnd.google-apps.spreadsheet': 'application/vnd.openxmlformats-officedocument.spreadsheetml.sheet',\n",
        "      \n",
        "      # Drive folders\n",
        "        'application/vnd.google-apps.folder': 'N/A'\n",
        "\n",
        "      # see https://developers.google.com/drive/v3/web/mime-types\n",
        "  }\n",
        "  download_mimetype = None\n",
        "  print('title: %s, id: %s' % (f['title'], f['id']))\n",
        "  fname = os.path.join(local_download_path, f['title'])\n",
        "  print('downloading to {}'.format(fname))\n",
        "  #f_ = drive.CreateFile({'id': f['id']})\n",
        "  #f_.GetContentFile(fname)\n",
        "  \n",
        "  # la carpeta tambien aparecen en la lista, pero no la queremos descargar\n",
        "  # por eso cuando encontramos el tipo vnd.google-apps.folder lo saltamos\n",
        "  if f['mimeType'] in mimetypes:\n",
        "    continue\n",
        "  else:\n",
        "    f.GetContentFile(fname)"
      ],
      "execution_count": 39,
      "outputs": [
        {
          "output_type": "stream",
          "text": [
            "title: parametros_entrenados, id: 11qtO6OniHzVw5r5u_NAXbZP_dmNBQeL_\n",
            "downloading to /content/data_drive/parametros_entrenados\n",
            "title: W1.txt, id: 1WWPWOOG2tG3ju0dMkwq_ef6d3Lnm-W6F\n",
            "downloading to /content/data_drive/W1.txt\n",
            "title: U.txt, id: 1Jy8gbxmcxnAMQ-5kBTq044oR6tyZ_3Px\n",
            "downloading to /content/data_drive/U.txt\n",
            "title: b1.txt, id: 1KElNyYOVpaxw-mjegytrjg0RYUevDqjD\n",
            "downloading to /content/data_drive/b1.txt\n",
            "title: W2.txt, id: 1U8MqeA47K5Xy-HGiWggJuv7eiv3F5Hm8\n",
            "downloading to /content/data_drive/W2.txt\n",
            "title: b2.txt, id: 1eVE0NIfDVrFixBXOIUDuevd6Lp-887QF\n",
            "downloading to /content/data_drive/b2.txt\n",
            "title: c.txt, id: 1JfuB_nyAFvvI_VhV5e_rQ3Lm_rJdmbxx\n",
            "downloading to /content/data_drive/c.txt\n"
          ],
          "name": "stdout"
        }
      ]
    },
    {
      "metadata": {
        "id": "dJUAEgvVQZ1Q",
        "colab_type": "code",
        "colab": {
          "autoexec": {
            "startup": false,
            "wait_interval": 0
          }
        }
      },
      "cell_type": "code",
      "source": [
        "# cargar parametros entrenados a tensores\n",
        "import glob\n",
        "import numpy\n",
        "params = []\n",
        "\n",
        "for data_path in glob.glob(local_download_path + \"/*.txt\"):\n",
        "    params.append(numpy.loadtxt(data_path))\n"
      ],
      "execution_count": 0,
      "outputs": []
    },
    {
      "metadata": {
        "id": "2zppplXd4QXa",
        "colab_type": "code",
        "colab": {
          "autoexec": {
            "startup": false,
            "wait_interval": 0
          },
          "output_extras": [
            {
              "item_id": 1
            }
          ],
          "base_uri": "https://localhost:8080/",
          "height": 51
        },
        "outputId": "eeab231b-a643-49f5-ab50-5a0e21a08efb",
        "executionInfo": {
          "status": "ok",
          "timestamp": 1521814483677,
          "user_tz": 180,
          "elapsed": 752,
          "user": {
            "displayName": "Martín Cornejo-Saavedra",
            "photoUrl": "https://lh3.googleusercontent.com/a/default-user=s128",
            "userId": "100137397923643336617"
          }
        }
      },
      "cell_type": "code",
      "source": [
        "os.chdir(\"/content/data_drive\")\n",
        "#!rm -R /content/Deep_learning/\n",
        "!ls\n",
        "\n",
        "#red_neuronal = FFNN(4096, [15,15], ['algo'], 10)\n",
        "#red_neuronal.forward(torch.randn(3,4096))\n",
        "\n"
      ],
      "execution_count": 50,
      "outputs": [
        {
          "output_type": "stream",
          "text": [
            "b1.txt\tc.txt\t\t\t\t\t\t U.txt\t W2.txt\r\n",
            "b2.txt\tRespuestas_Tarea_1_Partes_1_2_CC6402_2018.ipynb  W1.txt\r\n"
          ],
          "name": "stdout"
        }
      ]
    },
    {
      "metadata": {
        "id": "SLeq3y8FE3SU",
        "colab_type": "code",
        "colab": {
          "autoexec": {
            "startup": false,
            "wait_interval": 0
          }
        }
      },
      "cell_type": "code",
      "source": [
        "# Tu código visualizando los ejemplos incorrectos acá"
      ],
      "execution_count": 0,
      "outputs": []
    }
  ]
}