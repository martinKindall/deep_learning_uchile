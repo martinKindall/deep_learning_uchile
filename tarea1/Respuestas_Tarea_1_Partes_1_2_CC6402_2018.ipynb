{
 "cells": [
  {
   "cell_type": "markdown",
   "metadata": {
    "colab_type": "text",
    "id": "iCszeuRk0NuH"
   },
   "source": [
    "# Tarea 1 <br/> CC6204 Deep Learning, Universidad de Chile  <br/> Hoja de respuestas partes 1 y 2 \n",
    "## Nombre: Martin Cornejo Saavedra\n",
    "Fecha sugerida para completar esta parte: 23 de marzo de 2018"
   ]
  },
  {
   "cell_type": "code",
   "execution_count": 0,
   "metadata": {
    "colab": {
     "autoexec": {
      "startup": false,
      "wait_interval": 0
     }
    },
    "colab_type": "code",
    "id": "ac_XrA2QDGYt"
   },
   "outputs": [],
   "source": [
    "# instalacion de los paquetes necesarios\n",
    "\n",
    "from os import path\n",
    "from wheel.pep425tags import get_abbr_impl, get_impl_ver, get_abi_tag\n",
    "platform = '{}{}-{}'.format(get_abbr_impl(), get_impl_ver(), get_abi_tag())\n",
    "\n",
    "accelerator = 'cu80'\n",
    "\n",
    "!pip install -q http://download.pytorch.org/whl/{accelerator}/torch-0.3.0.post4-{platform}-linux_x86_64.whl torchvision\n",
    "!pip install -q ipdb\n",
    "\n",
    "# para manejar archivos de Drive\n",
    "\n",
    "!pip install -U -q PyDrive\n",
    "import os\n",
    "from pydrive.auth import GoogleAuth\n",
    "from pydrive.drive import GoogleDrive\n",
    "from google.colab import auth\n",
    "from oauth2client.client import GoogleCredentials\n",
    "\n",
    "## Nos debemos autentificar como usuarios\n",
    "auth.authenticate_user()\n",
    "gauth = GoogleAuth()\n",
    "gauth.credentials = GoogleCredentials.get_application_default()\n",
    "drive = GoogleDrive(gauth)\n",
    "\n",
    "import glob\n",
    "import torch\n",
    "import numpy\n",
    "import pdb\n"
   ]
  },
  {
   "cell_type": "markdown",
   "metadata": {
    "colab_type": "text",
    "id": "Uq9u0IfT0VRp"
   },
   "source": [
    "# Parte 1: Funciones de activación, derivadas y función de salida"
   ]
  },
  {
   "cell_type": "markdown",
   "metadata": {
    "colab_type": "text",
    "id": "DMw80P8o0qrJ"
   },
   "source": [
    "## 1a) Funciones de activación"
   ]
  },
  {
   "cell_type": "code",
   "execution_count": 0,
   "metadata": {
    "colab": {
     "autoexec": {
      "startup": false,
      "wait_interval": 0
     }
    },
    "colab_type": "code",
    "id": "tDhcNbNT0YNr"
   },
   "outputs": [],
   "source": [
    "def relu(T):\n",
    "    T[T < 0] = 0\n",
    "    return T\n",
    "\n",
    "def sig(T):\n",
    "    return torch.reciprocal(1 + torch.exp(-1 * T))\n",
    "\n",
    "def swish(T, beta):\n",
    "    return torch.mul(T, sig(torch.mul(T, beta)))\n",
    "\n",
    "def celu(T, alfa):\n",
    "    positive = relu(T)\n",
    "    negative = torch.mul(relu(torch.mul(T, -1)), -1)\n",
    "    celu_T = torch.mul(torch.add(torch.exp(torch.div(negative, alfa)), -1), alfa)\n",
    "\n",
    "    return torch.add(positive, 1, celu_T)"
   ]
  },
  {
   "cell_type": "markdown",
   "metadata": {
    "colab_type": "text",
    "id": "S_StkJsV07L3"
   },
   "source": [
    "## 1b) Derivando las funciones de activación"
   ]
  },
  {
   "cell_type": "markdown",
   "metadata": {
    "colab_type": "text",
    "id": "UXyOWjYi1Do8"
   },
   "source": [
    "\n",
    "\\begin{equation}\n",
    "\\frac{\\partial\\ \\text{relu}(x)}{\\partial x} =\n",
    "\\left\\{\n",
    "\t\\begin{array}{ll}\n",
    "\t\t1  & \\mbox{si } x \\geq 0 \\\\\n",
    "\t\t0  & \\mbox{~} \n",
    "\t\\end{array}\n",
    "\\right. \n",
    "\\end{equation}\n",
    "<br>\n",
    "\n",
    "Dado $ \\sigma (x) = sigmoid(x)$, tenemos que:\n",
    "\n",
    "\\begin{eqnarray}\n",
    "\\frac{\\partial\\ \\text{swish}(x, \\beta)}{\\partial x} & = \\sigma (\\beta x) + \\beta x \\cdot \\sigma (\\beta x)(1-\\sigma (\\beta x)) \\\\\n",
    "& = \\sigma (\\beta x) + \\beta x \\cdot \\sigma (\\beta x) - \\beta x \\cdot \\sigma (\\beta x)^{2}  \\\\\n",
    "&= \\beta \\cdot swish(x, \\beta) + \\sigma (\\beta x)(1 - \\beta \\cdot swish(x, \\beta))\\\\\n",
    "\\\\\n",
    "\\frac{\\partial\\ \\text{swish}(x, \\beta)}{\\partial \\beta} & =  \n",
    "x^2 \\sigma (\\beta x)(1 - \\sigma (\\beta x))\\\\\n",
    "\\end{eqnarray}\n",
    "<br><br>\n",
    "\n",
    "\\begin{eqnarray}\n",
    "\\frac{\\partial\\ \\text{celu}(x, \\alpha)}{\\partial x} & =  \n",
    "\\left\\{\n",
    "\t\\begin{array}{ll}\n",
    "\t\t1  & \\mbox{si } x \\geq 0 \\\\\n",
    "\t\texp (\\frac{x}{\\alpha})  & \\mbox{~} \n",
    "\t\\end{array}\n",
    "\\right. \\\\\n",
    "\\\\\n",
    "\\frac{\\partial\\ \\text{celu}(x, \\alpha)}{\\partial \\alpha} & = \n",
    "\\left\\{\n",
    "\t\\begin{array}{ll}\n",
    "\t\t0  & \\mbox{si } x \\geq 0 \\\\\n",
    "\t\texp (\\frac{x}{\\alpha})(1 - \\frac{x}{\\alpha}) - 1  & \\mbox{~} \n",
    "\t\\end{array}\n",
    "\\right. \\\\\n",
    "\\end{eqnarray}"
   ]
  },
  {
   "cell_type": "markdown",
   "metadata": {
    "colab_type": "text",
    "id": "e_0dTh7l1bas"
   },
   "source": [
    "## 1c) Softmax\n",
    "\n",
    "Dada la funcion `softmax` sabemos que cada elemento de la secuencia $\\text{softmax}(x_1,\\ldots,x_n)$ tiene la forma\n",
    "\n",
    "\\begin{equation}\n",
    "s_i = \\frac{e^{x_i}}{\\sum_{j=1}^{n}e^{x_j}}\n",
    "\\end{equation}\n",
    "\n",
    "Luego, para cada elemento de la secuencia $\\text{softmax}(x_1-M,\\ldots,x_n-M)$ se tiene\n",
    "\n",
    "\\begin{equation}\n",
    "s_i = \\frac{e^{x_i-M}}{\\sum_{j=1}^{n}e^{x_j-M}} = \\frac{e^{-M}e^{x_i}}{\\sum_{j=1}^{n}e^{-M}e^{x_j}} = \\frac{e^{-M}e^{x_i}}{e^{-M}\\sum_{j=1}^{n}e^{x_j}} = \\frac{e^{x_i}}{\\sum_{j=1}^{n}e^{x_j}}\n",
    "\\end{equation}\n",
    "\n",
    "Demostrando que $\\text{softmax}(x_1-M,\\ldots,x_n-M) = \\text{softmax}(x_1,\\ldots,x_n)$."
   ]
  },
  {
   "cell_type": "code",
   "execution_count": 0,
   "metadata": {
    "colab": {
     "autoexec": {
      "startup": false,
      "wait_interval": 0
     }
    },
    "colab_type": "code",
    "id": "jDg2sU7D1dIY"
   },
   "outputs": [],
   "source": [
    "# por ahora softmax estara implementada solo para tensores en 2-D\n",
    "def softmax(T, dim=0, estable=True):\n",
    "    denom_softmax = torch.div(T, 2)\n",
    "    denom_softmax = torch.exp(denom_softmax)\n",
    "    denom_softmax = torch.mm(denom_softmax, torch.transpose(denom_softmax, 0, 1))\n",
    "    denom_softmax = torch.reciprocal(torch.diag(denom_softmax))\n",
    "\n",
    "    return torch.mm(torch.diag(denom_softmax), T.exp())"
   ]
  },
  {
   "cell_type": "markdown",
   "metadata": {
    "colab_type": "text",
    "id": "662XLsDA9XXI"
   },
   "source": [
    "# Parte 2: Red neuronal y pasada hacia adelante (forward)"
   ]
  },
  {
   "cell_type": "markdown",
   "metadata": {
    "colab_type": "text",
    "id": "fTUm9ZbX9bRA"
   },
   "source": [
    "## 2a) Clase para red neuronal, 2b) Usando la GPU, 2c) Pasada hacia adelante"
   ]
  },
  {
   "cell_type": "code",
   "execution_count": 0,
   "metadata": {
    "colab": {
     "autoexec": {
      "startup": false,
      "wait_interval": 0
     }
    },
    "colab_type": "code",
    "id": "f_jeuYbv9WhK"
   },
   "outputs": [],
   "source": [
    "class FFNN():\n",
    "    def __init__(self, F, l_h, l_a, C, params=[]):\n",
    "      if (len(params) > 0):\n",
    "        self.W_1 = params[0][0]\n",
    "        self.b_1 = params[0][1]\n",
    "        self.W_2 = params[1][0]\n",
    "        self.b_2 = params[1][1]\n",
    "        self.U = params[2][0]\n",
    "        self.c_init = params[2][1]\n",
    "\n",
    "      else:\n",
    "        self.F = F\n",
    "        self.l_h = l_h\n",
    "        self.l_a = l_a\n",
    "        self.C = C\n",
    "\n",
    "        self.W_1 = torch.randn(F, l_h[0])\n",
    "        self.b_1 = torch.zeros(1, l_h[0])\n",
    "\n",
    "        self.W_2 = torch.randn(l_h[0], l_h[1])\n",
    "        self.b_2 = torch.zeros(1, l_h[1])\n",
    "\n",
    "        self.U = torch.randn(l_h[1], C)\n",
    "        self.c_init = torch.zeros(1, C)\n",
    "          \n",
    "  \n",
    "    def gpu(self):\n",
    "      if torch.cuda.is_available():\n",
    "        self.W_1 = self.W_1.cuda()\n",
    "        self.b_1 = self.b_1.cuda()\n",
    "        self.W_2 = self.W_2.cuda()\n",
    "        self.b_2 = self.b_2.cuda()\n",
    "        self.U = self.U.cuda()\n",
    "        self.c_init = self.c_init.cuda()\n",
    "  \n",
    "    def cpu(self):\n",
    "      self.W_1 = self.W_1.cpu()\n",
    "      self.b_1 = self.b_1.cpu()\n",
    "      self.W_2 = self.W_2.cpu()\n",
    "      self.b_2 = self.b_2.cpu()\n",
    "      self.U = self.U.cpu()\n",
    "      self.c_init = self.c_init.cpu()\n",
    "  \n",
    "    def forward(self, x):\n",
    "      if torch.cuda.is_available():\n",
    "        x = x.cuda()\n",
    "        self.gpu()   # redundante, corregir\n",
    "      \n",
    "      h_1 = sig(torch.mm(x, self.W_1) + self.b_1)\n",
    "      h_2 = sig(torch.mm(h_1, self.W_2) + self.b_2)\n",
    "      y = softmax(torch.mm(h_2, self.U) + self.c_init)\n",
    "\n",
    "      return y"
   ]
  },
  {
   "cell_type": "markdown",
   "metadata": {
    "colab_type": "text",
    "id": "Bgf5Xx-34Pa1"
   },
   "source": [
    "## 2d) Probando tu red con un modelo pre-entrenado"
   ]
  },
  {
   "cell_type": "code",
   "execution_count": 44,
   "metadata": {
    "colab": {
     "autoexec": {
      "startup": false,
      "wait_interval": 0
     },
     "base_uri": "https://localhost:8080/",
     "height": 34,
     "output_extras": [
      {
       "item_id": 1
      }
     ]
    },
    "colab_type": "code",
    "executionInfo": {
     "elapsed": 877,
     "status": "ok",
     "timestamp": 1521834995662,
     "user": {
      "displayName": "Martín Cornejo-Saavedra",
      "photoUrl": "https://lh3.googleusercontent.com/a/default-user=s128",
      "userId": "100137397923643336617"
     },
     "user_tz": 180
    },
    "id": "twyLtUUnDok7",
    "outputId": "9753406a-558e-4421-dc36-a5c023a9e9ed"
   },
   "outputs": [
    {
     "name": "stdout",
     "output_type": "stream",
     "text": [
      "data  modelos  varita.pdf\r\n"
     ]
    }
   ],
   "source": [
    "## Clonamos el github\n",
    "\n",
    "#!git clone https://github.com/jorgeperezrojas/cc6204-DeepLearning-DCCUChile.git\n",
    "\n",
    "os.chdir(\"/content/cc6204-DeepLearning-DCCUChile/2018/tareas/tarea1/recursos/varita_magica\")"
   ]
  },
  {
   "cell_type": "code",
   "execution_count": 112,
   "metadata": {
    "colab": {
     "autoexec": {
      "startup": false,
      "wait_interval": 0
     },
     "base_uri": "https://localhost:8080/",
     "height": 151,
     "output_extras": [
      {
       "item_id": 1
      }
     ]
    },
    "colab_type": "code",
    "executionInfo": {
     "elapsed": 652,
     "status": "ok",
     "timestamp": 1521836500201,
     "user": {
      "displayName": "Martín Cornejo-Saavedra",
      "photoUrl": "https://lh3.googleusercontent.com/a/default-user=s128",
      "userId": "100137397923643336617"
     },
     "user_tz": 180
    },
    "id": "dJUAEgvVQZ1Q",
    "outputId": "4436ba37-90c3-45a1-83ab-256152a6e05f"
   },
   "outputs": [
    {
     "data": {
      "text/plain": [
       "\n",
       "\n",
       "Columns 0 to 5 \n",
       " 9.9813e-01  1.5828e-03  2.7570e-04  6.2942e-10  4.2164e-10  3.0463e-07\n",
       "\n",
       "Columns 6 to 9 \n",
       " 1.3270e-12  1.0802e-08  1.2021e-05  2.3639e-11\n",
       "[torch.cuda.DoubleTensor of size 1x10 (GPU 0)]"
      ]
     },
     "execution_count": 112,
     "metadata": {
      "tags": []
     },
     "output_type": "execute_result"
    }
   ],
   "source": [
    "# cargar parametros entrenados a tensores\n",
    "\n",
    "local_download_path = \"modelos/ejemplo\"\n",
    "params = []\n",
    "params.append([numpy.loadtxt(local_download_path+\"/W1.txt\"), numpy.loadtxt(local_download_path+\"/b1.txt\")])\n",
    "params.append([numpy.loadtxt(local_download_path+\"/W2.txt\"), numpy.loadtxt(local_download_path+\"/b2.txt\")])\n",
    "params.append([numpy.loadtxt(local_download_path+\"/U.txt\"), numpy.loadtxt(local_download_path+\"/c.txt\")])\n",
    "\n",
    "params = list(map(lambda x: [torch.from_numpy(x[0]), torch.from_numpy(x[1])], params))\n",
    "#pdb.set_trace()\n",
    "\n",
    "\n",
    "# cargar red neuronal en pase a parametros conocidos\n",
    "\n",
    "test_data_path = \"data/train_set\"\n",
    "test_input = torch.from_numpy(numpy.loadtxt(test_data_path+\"/hechizo-0/090.txt\")).double().cuda().view(1, 4096)\n",
    "red_neuronal = FFNN(0, [], ['algo'], 10, params)\n",
    "red_neuronal.forward(test_input)"
   ]
  },
  {
   "cell_type": "code",
   "execution_count": 0,
   "metadata": {
    "colab": {
     "autoexec": {
      "startup": false,
      "wait_interval": 0
     }
    },
    "colab_type": "code",
    "id": "SLeq3y8FE3SU"
   },
   "outputs": [],
   "source": [
    "# Tu código visualizando los ejemplos incorrectos acá"
   ]
  },
  {
   "cell_type": "markdown",
   "metadata": {},
   "source": [
    "# Parte 3: Más derivadas y back propagation"
   ]
  },
  {
   "cell_type": "markdown",
   "metadata": {},
   "source": [
    "## 3a) Entropía Cruzada"
   ]
  },
  {
   "cell_type": "code",
   "execution_count": 1,
   "metadata": {},
   "outputs": [],
   "source": [
    "def cross_ent_loss(Q,P):\n",
    "    dimension = 0\n",
    "    q_log = torch.log(Q)\n",
    "    product = torch.mul(P, torch.reciprocal(q_log))\n",
    "\n",
    "    return torch.sum(product)/Q.size(dimension)"
   ]
  },
  {
   "cell_type": "markdown",
   "metadata": {},
   "source": [
    "## 3b) Derivando la última capa"
   ]
  },
  {
   "cell_type": "markdown",
   "metadata": {},
   "source": [
    "\\begin{equation}\n",
    "\\frac{\\partial \\cal L}{\\partial u^{(L)}} = \\frac{\\partial \\cal L}{\\partial ŷ} \\cdot \\frac{\\partial ŷ}{\\partial u^{(L)}} \\\\\n",
    "\\frac{\\partial \\cal L}{\\partial ŷ} = \\frac{\\partial CE(ŷ, y)}{\\partial ŷ} = \\frac{1}{N} \\sum_i \\frac{\\partial CE(ŷ_i, y_i)}{\\partial ŷ_i} = -\\frac{1}{N} \\sum_{i,x} \\frac{y(x)}{ŷ(x)}\n",
    "\\end{equation}"
   ]
  },
  {
   "cell_type": "code",
   "execution_count": null,
   "metadata": {},
   "outputs": [],
   "source": []
  }
 ],
 "metadata": {
  "accelerator": "GPU",
  "colab": {
   "collapsed_sections": [],
   "default_view": {},
   "name": "Respuestas_Tarea_1_Partes_1_2_CC6402_2018.ipynb",
   "provenance": [],
   "version": "0.3.2",
   "views": {}
  },
  "kernelspec": {
   "display_name": "Python 3",
   "language": "python",
   "name": "python3"
  },
  "language_info": {
   "codemirror_mode": {
    "name": "ipython",
    "version": 3
   },
   "file_extension": ".py",
   "mimetype": "text/x-python",
   "name": "python",
   "nbconvert_exporter": "python",
   "pygments_lexer": "ipython3",
   "version": "3.5.2"
  }
 },
 "nbformat": 4,
 "nbformat_minor": 1
}
