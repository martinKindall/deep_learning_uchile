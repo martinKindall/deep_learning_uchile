{
  "nbformat": 4,
  "nbformat_minor": 0,
  "metadata": {
    "colab": {
      "name": "Respuestas_Tarea_1_Partes_1_2_CC6402_2018",
      "version": "0.3.2",
      "views": {},
      "default_view": {},
      "provenance": []
    },
    "kernelspec": {
      "name": "python3",
      "display_name": "Python 3"
    }
  },
  "cells": [
    {
      "metadata": {
        "id": "iCszeuRk0NuH",
        "colab_type": "text"
      },
      "cell_type": "markdown",
      "source": [
        "# Tarea 1 <br/> CC6204 Deep Learning, Universidad de Chile  <br/> Hoja de respuestas partes 1 y 2 \n",
        "## Nombre: \n",
        "Fecha sugerida para completar esta parte: 23 de marzo de 2018"
      ]
    },
    {
      "metadata": {
        "id": "Uq9u0IfT0VRp",
        "colab_type": "text"
      },
      "cell_type": "markdown",
      "source": [
        "# Parte 1: Funciones de activación, derivadas y función de salida"
      ]
    },
    {
      "metadata": {
        "id": "DMw80P8o0qrJ",
        "colab_type": "text"
      },
      "cell_type": "markdown",
      "source": [
        "## 1a) Funciones de activación"
      ]
    },
    {
      "metadata": {
        "id": "tDhcNbNT0YNr",
        "colab_type": "code",
        "colab": {
          "autoexec": {
            "startup": false,
            "wait_interval": 0
          }
        }
      },
      "cell_type": "code",
      "source": [
        "# Tu código acá\n",
        "\n",
        "def relu(T):\n",
        "  pass\n",
        "\n",
        "def swish(T, ):\n",
        "  pass\n",
        "\n",
        "def celu(T, ):\n",
        "  pass"
      ],
      "execution_count": 0,
      "outputs": []
    },
    {
      "metadata": {
        "id": "S_StkJsV07L3",
        "colab_type": "text"
      },
      "cell_type": "markdown",
      "source": [
        "## 1b) Derivando las funciones de activación"
      ]
    },
    {
      "metadata": {
        "id": "UXyOWjYi1Do8",
        "colab_type": "text"
      },
      "cell_type": "markdown",
      "source": [
        "\n",
        "\\begin{equation}\n",
        "\\frac{\\partial\\ \\text{relu}(x)}{\\partial x} = \\ldots \\\\\n",
        "\\end{equation}\n",
        "<br><br>\n",
        "\n",
        "\\begin{eqnarray}\n",
        "\\frac{\\partial\\ \\text{swish}(x, \\ldots)}{\\partial x} & = & \\ldots \\\\\n",
        "\\frac{\\partial\\ \\text{swish}(x, \\ldots)}{\\partial \\ldots} & = & \\ldots \\\\\n",
        "\\end{eqnarray}\n",
        "<br><br>\n",
        "\n",
        "\\begin{eqnarray}\n",
        "\\frac{\\partial\\ \\text{celu}(x, \\ldots)}{\\partial x} & = & \\ldots \\\\\n",
        "\\frac{\\partial\\ \\text{celu}(x, \\ldots)}{\\partial \\ldots} & = & \\ldots \\\\\n",
        "\\end{eqnarray}"
      ]
    },
    {
      "metadata": {
        "id": "aLn-enev1RQg",
        "colab_type": "text"
      },
      "cell_type": "markdown",
      "source": [
        "(Las deducciones correspondientes puedes entregarlas en otro archivo, o incluirlas directamente arriba.)"
      ]
    },
    {
      "metadata": {
        "id": "e_0dTh7l1bas",
        "colab_type": "text"
      },
      "cell_type": "markdown",
      "source": [
        "## 1c) Softmax"
      ]
    },
    {
      "metadata": {
        "id": "NjIyp2nL1le5",
        "colab_type": "text"
      },
      "cell_type": "markdown",
      "source": [
        "(La demostración puedes entregarla en otro archivo o incluirla directamente acá)"
      ]
    },
    {
      "metadata": {
        "id": "jDg2sU7D1dIY",
        "colab_type": "code",
        "colab": {
          "autoexec": {
            "startup": false,
            "wait_interval": 0
          }
        }
      },
      "cell_type": "code",
      "source": [
        "# Tu código acá\n",
        "\n",
        "def softmax(T, dim=0, estable=True):\n",
        "  pass"
      ],
      "execution_count": 0,
      "outputs": []
    },
    {
      "metadata": {
        "id": "662XLsDA9XXI",
        "colab_type": "text"
      },
      "cell_type": "markdown",
      "source": [
        "# Parte 2: Red neuronal y pasada hacia adelante (forward)"
      ]
    },
    {
      "metadata": {
        "id": "fTUm9ZbX9bRA",
        "colab_type": "text"
      },
      "cell_type": "markdown",
      "source": [
        "## 2a) Clase para red neuronal, 2b) Usando la GPU, 2c) Pasada hacia adelante"
      ]
    },
    {
      "metadata": {
        "id": "f_jeuYbv9WhK",
        "colab_type": "code",
        "colab": {
          "autoexec": {
            "startup": false,
            "wait_interval": 0
          }
        }
      },
      "cell_type": "code",
      "source": [
        "# Tu código debiera continuar así \n",
        "\n",
        "class FFNN():\n",
        "  def __init__(self, F, l_h, l_a, C):\n",
        "    pass\n",
        "  \n",
        "  def gpu(self):\n",
        "    pass\n",
        "  \n",
        "  def cpu(self):\n",
        "    pass\n",
        "  \n",
        "  def forward(self, x):\n",
        "    # Usar parámetros y funciones de activación\n",
        "    # El valor de retorno debiera ser y = softmax(capa_de_salida)\n",
        "    pass"
      ],
      "execution_count": 0,
      "outputs": []
    },
    {
      "metadata": {
        "id": "Bgf5Xx-34Pa1",
        "colab_type": "text"
      },
      "cell_type": "markdown",
      "source": [
        "## 2d) Probando tu red con un modelo pre-entrenado"
      ]
    },
    {
      "metadata": {
        "id": "2zppplXd4QXa",
        "colab_type": "code",
        "colab": {
          "autoexec": {
            "startup": false,
            "wait_interval": 0
          }
        }
      },
      "cell_type": "code",
      "source": [
        "# Tu código acá"
      ],
      "execution_count": 0,
      "outputs": []
    },
    {
      "metadata": {
        "id": "SLeq3y8FE3SU",
        "colab_type": "code",
        "colab": {
          "autoexec": {
            "startup": false,
            "wait_interval": 0
          }
        }
      },
      "cell_type": "code",
      "source": [
        "# Tu código visualizando los ejemplos incorrectos acá"
      ],
      "execution_count": 0,
      "outputs": []
    }
  ]
}