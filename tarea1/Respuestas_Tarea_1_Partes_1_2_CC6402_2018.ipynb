{
 "cells": [
  {
   "cell_type": "markdown",
   "metadata": {
    "colab_type": "text",
    "id": "iCszeuRk0NuH"
   },
   "source": [
    "# Tarea 1 <br/> CC6204 Deep Learning, Universidad de Chile  <br/> Hoja de respuestas partes 1, 2, 3, 4 y 5\n",
    "## Nombre: Martin Cornejo Saavedra\n",
    "Fecha sugerida para completar esta parte: 23 de marzo de 2018"
   ]
  },
  {
   "cell_type": "code",
   "execution_count": 0,
   "metadata": {
    "colab": {
     "autoexec": {
      "startup": false,
      "wait_interval": 0
     }
    },
    "colab_type": "code",
    "id": "ac_XrA2QDGYt"
   },
   "outputs": [],
   "source": [
    "# instalacion de los paquetes necesarios\n",
    "\n",
    "from os import path\n",
    "from wheel.pep425tags import get_abbr_impl, get_impl_ver, get_abi_tag\n",
    "platform = '{}{}-{}'.format(get_abbr_impl(), get_impl_ver(), get_abi_tag())\n",
    "\n",
    "accelerator = 'cu80'\n",
    "\n",
    "!pip install -q http://download.pytorch.org/whl/{accelerator}/torch-0.3.0.post4-{platform}-linux_x86_64.whl torchvision\n",
    "!pip install -q ipdb\n",
    "\n",
    "import os\n",
    "import glob\n",
    "import torch\n",
    "import numpy\n",
    "import pdb\n",
    "import matplotlib.pyplot as plt\n"
   ]
  },
  {
   "cell_type": "markdown",
   "metadata": {
    "colab_type": "text",
    "id": "Uq9u0IfT0VRp"
   },
   "source": [
    "# Parte 1: Funciones de activación, derivadas y función de salida"
   ]
  },
  {
   "cell_type": "markdown",
   "metadata": {
    "colab_type": "text",
    "id": "DMw80P8o0qrJ"
   },
   "source": [
    "## 1a) Funciones de activación"
   ]
  },
  {
   "cell_type": "code",
   "execution_count": 0,
   "metadata": {
    "colab": {
     "autoexec": {
      "startup": false,
      "wait_interval": 0
     }
    },
    "colab_type": "code",
    "id": "tDhcNbNT0YNr"
   },
   "outputs": [],
   "source": [
    "def relu(T):\n",
    "    T[T < 0] = 0\n",
    "    return T\n",
    "\n",
    "def sig(T):\n",
    "    return torch.reciprocal(1 + torch.exp(-1 * T))\n",
    "\n",
    "def swish(T, beta):\n",
    "    return torch.mul(T, sig(torch.mul(T, beta)))\n",
    "\n",
    "def celu(T, alfa):\n",
    "    positive = relu(T)\n",
    "    negative = torch.mul(relu(torch.mul(T, -1)), -1)\n",
    "    celu_T = torch.mul(torch.add(torch.exp(torch.div(negative, alfa)), -1), alfa)\n",
    "\n",
    "    return torch.add(positive, 1, celu_T)"
   ]
  },
  {
   "cell_type": "markdown",
   "metadata": {
    "colab_type": "text",
    "id": "S_StkJsV07L3"
   },
   "source": [
    "## 1b) Derivando las funciones de activación"
   ]
  },
  {
   "cell_type": "markdown",
   "metadata": {
    "colab_type": "text",
    "id": "UXyOWjYi1Do8"
   },
   "source": [
    "\n",
    "\\begin{equation}\n",
    "\\frac{\\partial\\ \\text{relu}(x)}{\\partial x} =\n",
    "\\left\\{\n",
    "\t\\begin{array}{ll}\n",
    "\t\t1  & \\mbox{si } x \\geq 0 \\\\\n",
    "\t\t0  & \\mbox{~} \n",
    "\t\\end{array}\n",
    "\\right. \n",
    "\\end{equation}\n",
    "<br>\n",
    "\n",
    "Dado $ \\sigma (x) = sigmoid(x)$, tenemos que:\n",
    "\n",
    "\\begin{eqnarray}\n",
    "\\frac{\\partial\\ \\text{swish}(x, \\beta)}{\\partial x} & = \\sigma (\\beta x) + \\beta x \\cdot \\sigma (\\beta x)(1-\\sigma (\\beta x)) \\\\\n",
    "& = \\sigma (\\beta x) + \\beta x \\cdot \\sigma (\\beta x) - \\beta x \\cdot \\sigma (\\beta x)^{2}  \\\\\n",
    "&= \\beta \\cdot swish(x, \\beta) + \\sigma (\\beta x)(1 - \\beta \\cdot swish(x, \\beta))\\\\\n",
    "\\\\\n",
    "\\frac{\\partial\\ \\text{swish}(x, \\beta)}{\\partial \\beta} & =  \n",
    "x^2 \\sigma (\\beta x)(1 - \\sigma (\\beta x))\\\\\n",
    "\\end{eqnarray}\n",
    "<br><br>\n",
    "\n",
    "\\begin{eqnarray}\n",
    "\\frac{\\partial\\ \\text{celu}(x, \\alpha)}{\\partial x} & =  \n",
    "\\left\\{\n",
    "\t\\begin{array}{ll}\n",
    "\t\t1  & \\mbox{si } x \\geq 0 \\\\\n",
    "\t\texp (\\frac{x}{\\alpha})  & \\mbox{~} \n",
    "\t\\end{array}\n",
    "\\right. \\\\\n",
    "\\\\\n",
    "\\frac{\\partial\\ \\text{celu}(x, \\alpha)}{\\partial \\alpha} & = \n",
    "\\left\\{\n",
    "\t\\begin{array}{ll}\n",
    "\t\t0  & \\mbox{si } x \\geq 0 \\\\\n",
    "\t\texp (\\frac{x}{\\alpha})(1 - \\frac{x}{\\alpha}) - 1  & \\mbox{~} \n",
    "\t\\end{array}\n",
    "\\right. \\\\\n",
    "\\end{eqnarray}"
   ]
  },
  {
   "cell_type": "markdown",
   "metadata": {
    "colab_type": "text",
    "id": "e_0dTh7l1bas"
   },
   "source": [
    "## 1c) Softmax\n",
    "\n",
    "Dada la funcion `softmax` sabemos que cada elemento de la secuencia $\\text{softmax}(x_1,\\ldots,x_n)$ tiene la forma\n",
    "\n",
    "\\begin{equation}\n",
    "s_i = \\frac{e^{x_i}}{\\sum_{j=1}^{n}e^{x_j}}\n",
    "\\end{equation}\n",
    "\n",
    "Luego, para cada elemento de la secuencia $\\text{softmax}(x_1-M,\\ldots,x_n-M)$ se tiene\n",
    "\n",
    "\\begin{equation}\n",
    "s_i = \\frac{e^{x_i-M}}{\\sum_{j=1}^{n}e^{x_j-M}} = \\frac{e^{-M}e^{x_i}}{\\sum_{j=1}^{n}e^{-M}e^{x_j}} = \\frac{e^{-M}e^{x_i}}{e^{-M}\\sum_{j=1}^{n}e^{x_j}} = \\frac{e^{x_i}}{\\sum_{j=1}^{n}e^{x_j}}\n",
    "\\end{equation}\n",
    "\n",
    "Demostrando que $\\text{softmax}(x_1-M,\\ldots,x_n-M) = \\text{softmax}(x_1,\\ldots,x_n)$."
   ]
  },
  {
   "cell_type": "code",
   "execution_count": 0,
   "metadata": {
    "colab": {
     "autoexec": {
      "startup": false,
      "wait_interval": 0
     }
    },
    "colab_type": "code",
    "id": "jDg2sU7D1dIY"
   },
   "outputs": [],
   "source": [
    "# por ahora softmax estara implementada solo para tensores en 2-D\n",
    "def softmax(T, dim=0, estable=True):\n",
    "    denom_softmax = torch.div(T, 2)\n",
    "    denom_softmax = torch.exp(denom_softmax)\n",
    "    denom_softmax = torch.mm(denom_softmax, torch.transpose(denom_softmax, 0, 1))\n",
    "    denom_softmax = torch.reciprocal(torch.diag(denom_softmax))\n",
    "\n",
    "    return torch.mm(torch.diag(denom_softmax), T.exp())"
   ]
  },
  {
   "cell_type": "markdown",
   "metadata": {
    "colab_type": "text",
    "id": "662XLsDA9XXI"
   },
   "source": [
    "# Parte 2: Red neuronal y pasada hacia adelante (forward)"
   ]
  },
  {
   "cell_type": "markdown",
   "metadata": {
    "colab_type": "text",
    "id": "fTUm9ZbX9bRA"
   },
   "source": [
    "## 2a) Clase para red neuronal, 2b) Usando la GPU, 2c) Pasada hacia adelante"
   ]
  },
  {
   "cell_type": "code",
   "execution_count": 0,
   "metadata": {
    "colab": {
     "autoexec": {
      "startup": false,
      "wait_interval": 0
     }
    },
    "colab_type": "code",
    "id": "f_jeuYbv9WhK"
   },
   "outputs": [],
   "source": [
    "class FFNN():\n",
    "    def __init__(self, F, l_h, l_a, C, params=[]):\n",
    "      if (len(params) > 0):\n",
    "        self.W_1 = params[0][0]\n",
    "        self.b_1 = params[0][1]\n",
    "        self.W_2 = params[1][0]\n",
    "        self.b_2 = params[1][1]\n",
    "        self.U = params[2][0]\n",
    "        self.c_init = params[2][1]\n",
    "        self.l_a = l_a\n",
    "\n",
    "      else:\n",
    "        self.F = F\n",
    "        self.l_h = l_h\n",
    "        self.l_a = l_a\n",
    "        self.C = C\n",
    "\n",
    "        self.W_1 = torch.randn(F, l_h[0])\n",
    "        self.b_1 = torch.zeros(1, l_h[0])\n",
    "\n",
    "        self.W_2 = torch.randn(l_h[0], l_h[1])\n",
    "        self.b_2 = torch.zeros(1, l_h[1])\n",
    "\n",
    "        self.U = torch.randn(l_h[1], C)\n",
    "        self.c_init = torch.zeros(1, C)\n",
    "          \n",
    "  \n",
    "    def gpu(self):\n",
    "      if torch.cuda.is_available():\n",
    "        self.W_1 = self.W_1.cuda()\n",
    "        self.b_1 = self.b_1.cuda()\n",
    "        self.W_2 = self.W_2.cuda()\n",
    "        self.b_2 = self.b_2.cuda()\n",
    "        self.U = self.U.cuda()\n",
    "        self.c_init = self.c_init.cuda()\n",
    "  \n",
    "    def cpu(self):\n",
    "      self.W_1 = self.W_1.cpu()\n",
    "      self.b_1 = self.b_1.cpu()\n",
    "      self.W_2 = self.W_2.cpu()\n",
    "      self.b_2 = self.b_2.cpu()\n",
    "      self.U = self.U.cpu()\n",
    "      self.c_init = self.c_init.cpu()\n",
    "  \n",
    "    def forward(self, x):\n",
    "      if torch.cuda.is_available():\n",
    "        x = x.cuda()\n",
    "        self.gpu()   # redundante, corregir\n",
    "      \n",
    "      h_1 = self.l_a[0](torch.mm(x, self.W_1) + self.b_1)\n",
    "      h_2 = self.l_a[1](torch.mm(h_1, self.W_2) + self.b_2)\n",
    "      y = softmax(torch.mm(h_2, self.U) + self.c_init)\n",
    "\n",
    "      return y"
   ]
  },
  {
   "cell_type": "markdown",
   "metadata": {
    "colab_type": "text",
    "id": "Bgf5Xx-34Pa1"
   },
   "source": [
    "## 2d) Probando tu red con un modelo pre-entrenado"
   ]
  },
  {
   "cell_type": "code",
   "execution_count": 370,
   "metadata": {
    "colab": {
     "autoexec": {
      "startup": false,
      "wait_interval": 0
     },
     "base_uri": "https://localhost:8080/",
     "height": 35
    },
    "colab_type": "code",
    "executionInfo": {
     "elapsed": 1904,
     "status": "ok",
     "timestamp": 1523237480506,
     "user": {
      "displayName": "Martín Cornejo-Saavedra",
      "photoUrl": "https://lh3.googleusercontent.com/a/default-user=s128",
      "userId": "100137397923643336617"
     },
     "user_tz": 180
    },
    "id": "twyLtUUnDok7",
    "outputId": "b7112c10-cff0-4351-aadf-84657da8355d"
   },
   "outputs": [
    {
     "name": "stdout",
     "output_type": "stream",
     "text": [
      "fatal: destination path 'cc6204-DeepLearning-DCCUChile' already exists and is not an empty directory.\r\n"
     ]
    }
   ],
   "source": [
    "## Clonamos el github\n",
    "\n",
    "!git clone https://github.com/jorgeperezrojas/cc6204-DeepLearning-DCCUChile.git\n",
    "\n",
    "os.chdir(\"/content/cc6204-DeepLearning-DCCUChile/2018/tareas/tarea1/recursos/varita_magica\")"
   ]
  },
  {
   "cell_type": "code",
   "execution_count": 371,
   "metadata": {
    "colab": {
     "autoexec": {
      "startup": false,
      "wait_interval": 0
     },
     "base_uri": "https://localhost:8080/",
     "height": 158
    },
    "colab_type": "code",
    "executionInfo": {
     "elapsed": 3980,
     "status": "ok",
     "timestamp": 1523237484821,
     "user": {
      "displayName": "Martín Cornejo-Saavedra",
      "photoUrl": "https://lh3.googleusercontent.com/a/default-user=s128",
      "userId": "100137397923643336617"
     },
     "user_tz": 180
    },
    "id": "dJUAEgvVQZ1Q",
    "outputId": "e1cca9eb-c9f2-4da3-c8da-4d262b6741cd"
   },
   "outputs": [
    {
     "data": {
      "text/plain": [
       "\n",
       "\n",
       "Columns 0 to 5 \n",
       " 4.7710e-02  3.9716e-05  6.6476e-04  8.2011e-10  4.3855e-05  5.6656e-06\n",
       "\n",
       "Columns 6 to 9 \n",
       " 3.6484e-06  1.4471e-04  9.5139e-01  3.8229e-08\n",
       "[torch.cuda.DoubleTensor of size 1x10 (GPU 0)]"
      ]
     },
     "execution_count": 371,
     "metadata": {
      "tags": []
     },
     "output_type": "execute_result"
    }
   ],
   "source": [
    "# cargar parametros entrenados a tensores\n",
    "\n",
    "local_download_path = \"modelos/ejemplo\"\n",
    "params = []\n",
    "params.append([numpy.loadtxt(local_download_path+\"/W1.txt\"), numpy.loadtxt(local_download_path+\"/b1.txt\")])\n",
    "params.append([numpy.loadtxt(local_download_path+\"/W2.txt\"), numpy.loadtxt(local_download_path+\"/b2.txt\")])\n",
    "params.append([numpy.loadtxt(local_download_path+\"/U.txt\"), numpy.loadtxt(local_download_path+\"/c.txt\")])\n",
    "\n",
    "params = list(map(lambda x: [torch.from_numpy(x[0]), torch.from_numpy(x[1])], params))\n",
    "#pdb.set_trace()\n",
    "\n",
    "\n",
    "# cargar red neuronal en pase a parametros conocidos\n",
    "\n",
    "test_data_path = \"data/test_set\"\n",
    "test_input = torch.from_numpy(numpy.loadtxt(test_data_path+\"/hechizo-7/019.txt\")).double().cuda().view(1, 4096)\n",
    "red_neuronal = FFNN(0, [], [sig, sig], 10, params)\n",
    "red_neuronal.forward(test_input)"
   ]
  },
  {
   "cell_type": "markdown",
   "metadata": {
    "colab_type": "text",
    "id": "xYDpUKB96B6e"
   },
   "source": [
    "## Ejemplos erroneos"
   ]
  },
  {
   "cell_type": "code",
   "execution_count": 372,
   "metadata": {
    "colab": {
     "autoexec": {
      "startup": false,
      "wait_interval": 0
     },
     "base_uri": "https://localhost:8080/",
     "height": 717
    },
    "colab_type": "code",
    "executionInfo": {
     "elapsed": 1030,
     "status": "ok",
     "timestamp": 1523237488236,
     "user": {
      "displayName": "Martín Cornejo-Saavedra",
      "photoUrl": "https://lh3.googleusercontent.com/a/default-user=s128",
      "userId": "100137397923643336617"
     },
     "user_tz": 180
    },
    "id": "SLeq3y8FE3SU",
    "outputId": "b2b88462-ffd9-48e3-f9b0-bec3f6f0f05e"
   },
   "outputs": [
    {
     "name": "stdout",
     "output_type": "stream",
     "text": [
      "El siguiente hechizo pertenece a la clase 9 pero fue clasificado como clase 1:\n"
     ]
    },
    {
     "data": {
      "image/png": "[encoded data removed]",
      "text/plain": [
       "<matplotlib.figure.Figure at 0x7fb3c8e47e80>"
      ]
     },
     "metadata": {
      "tags": []
     },
     "output_type": "display_data"
    },
    {
     "name": "stdout",
     "output_type": "stream",
     "text": [
      "El siguiente hechizo pertenece a la clase 7 pero fue clasificado como clase 8:\n"
     ]
    },
    {
     "data": {
      "image/png": "[encoded data removed]",
      "text/plain": [
       "<matplotlib.figure.Figure at 0x7fb40219a8d0>"
      ]
     },
     "metadata": {
      "tags": []
     },
     "output_type": "display_data"
    }
   ],
   "source": [
    "test_input_err_1 = torch.from_numpy(numpy.loadtxt(test_data_path+\"/hechizo-9/019.txt\")).double().cuda().view(64, 64)\n",
    "plt.imshow(test_input_err_1)\n",
    "print(\"El siguiente hechizo pertenece a la clase 9 pero fue clasificado como clase 1:\")\n",
    "plt.show()\n",
    "test_input_err_2 = torch.from_numpy(numpy.loadtxt(test_data_path+\"/hechizo-7/019.txt\")).double().cuda().view(64, 64)\n",
    "plt.imshow(test_input_err_2)\n",
    "print(\"El siguiente hechizo pertenece a la clase 7 pero fue clasificado como clase 8:\")"
   ]
  },
  {
   "cell_type": "markdown",
   "metadata": {
    "colab_type": "text",
    "id": "9PSoJf8z5-Bp"
   },
   "source": [
    "# Parte 3: Más derivadas y back propagation"
   ]
  },
  {
   "cell_type": "markdown",
   "metadata": {
    "colab_type": "text",
    "id": "s93JeYT05-Bq"
   },
   "source": [
    "## 3a) Entropía Cruzada"
   ]
  },
  {
   "cell_type": "code",
   "execution_count": 0,
   "metadata": {
    "colab": {
     "autoexec": {
      "startup": false,
      "wait_interval": 0
     }
    },
    "colab_type": "code",
    "id": "MsPKTlei5-Bq"
   },
   "outputs": [],
   "source": [
    "def cross_ent_loss(Q,P):\n",
    "    dimension = 0\n",
    "    q_log = torch.log(Q)\n",
    "    product = torch.mul(P, torch.reciprocal(q_log))\n",
    "\n",
    "    return -torch.sum(product)/Q.size(dimension)"
   ]
  },
  {
   "cell_type": "markdown",
   "metadata": {
    "colab_type": "text",
    "id": "f8SZPzBz5-Bt"
   },
   "source": [
    "## 3b) Derivando la última capa"
   ]
  },
  {
   "cell_type": "markdown",
   "metadata": {
    "colab_type": "text",
    "id": "1NKDSLGk5-Bu"
   },
   "source": [
    "\\begin{equation}\n",
    "\\frac{\\partial \\cal L}{\\partial u^{(L)}} = \\frac{\\partial \\cal L}{\\partial ŷ} \\cdot \\frac{\\partial ŷ}{\\partial u^{(L)}} \\\\\n",
    "\\end{equation}"
   ]
  },
  {
   "cell_type": "code",
   "execution_count": 0,
   "metadata": {
    "colab": {
     "autoexec": {
      "startup": false,
      "wait_interval": 0
     }
    },
    "colab_type": "code",
    "id": "xuBMxoXR5-Bu"
   },
   "outputs": [],
   "source": [
    "B = 5; C = 10\n",
    "\n",
    "y = torch.ones(B,C)\n",
    "y_pred = torch.ones(B,C)\n",
    "\n",
    "# Acá tu trozo de código. \n",
    "# Primero agregamos algunas variables dummy para chequear \n",
    "# que al menos las dimensiones están correctas\n",
    "\n",
    "dimL = 15\n",
    "\n",
    "hL = torch.ones(B,dimL)\n",
    "U = torch.ones(dimL,C)\n",
    "c_bias = torch.ones(C)\n",
    "\n",
    "uL = hL.mm(U).add(c_bias)\n",
    "\n",
    "# Notamos que por regla de la cadena, \n",
    "# dL_duL = dL_dypred * dypred_duL\n",
    "# el primer termino de la derecha es la derivada\n",
    "# de cross entropy \n",
    "# el segundo termino de la derecha es la derivada de softmax\n",
    "\n",
    "dL_duL = torch.mul(torch.mul(y, torch.add(y_pred, -1)), 1/y_pred.size(0))\n",
    "\n",
    "# El gradiente debe coincidir en dimensiones con la variable\n",
    "\n",
    "assert dL_duL.size() == uL.size()"
   ]
  },
  {
   "cell_type": "markdown",
   "metadata": {
    "colab_type": "text",
    "id": "P5ATR2G75-By"
   },
   "source": [
    "## 3b) Derivando la última capa (continuación)"
   ]
  },
  {
   "cell_type": "markdown",
   "metadata": {
    "colab_type": "text",
    "id": "E_tFjoNn5-B0"
   },
   "source": [
    "Usando la notación de Einstein tenemos que:\n",
    "\n",
    "\\begin{eqnarray}\n",
    "(\\frac{\\partial\\cal L}{\\partial U})_{ij} &= \\frac{\\partial\\cal L}{\\partial u^{(L)}_{kl}} \\frac{\\partial u^{(L)}_{kl}}{\\partial U_{ij}} \\\\\n",
    "\\end{eqnarray}\n",
    "\n",
    "Luego,\n",
    "\n",
    "\\begin{equation}\n",
    "\\frac{\\partial u^{(L)}_{kl}}{\\partial U_{ij}} = \\frac{\\partial (h^{(L)}_{kr}U_{rl} + c_{l})}{\\partial U_{ij}} = \\left\\{\n",
    "    \\begin{array}{}\n",
    "\t\th^{(L)}_{ki}  & \\mbox{si } r = i,\\ l = j \\\\\n",
    "\t\t0  & \\mbox{~}\n",
    "    \\end{array}\n",
    "\\right.\n",
    "\\end{equation}\n",
    "\n",
    "Entonces,\n",
    "\n",
    "\\begin{eqnarray}\n",
    "(\\frac{\\partial\\cal L}{\\partial U})_{ij} &= \\frac{\\partial\\cal L}{\\partial u^{(L)}_{kl}} h^{(L)}_{ki} = \\frac{\\partial\\cal L}{\\partial u^{(L)}_{kj}} h^{(L)}_{ki} \\\\\n",
    "\\\\\n",
    "& \\boxed{ \\frac{\\partial\\cal L}{\\partial U} = (h^{(L)})^{T} \\frac{\\partial\\cal L}{\\partial u^{(L)}} }\n",
    "\\end{eqnarray}\n",
    "\n",
    "Análogamente\n",
    "\n",
    "\\begin{equation}\n",
    "\\frac{\\partial u^{(L)}_{kl}}{\\partial c_{i}} = \\frac{\\partial (h^{(L)}_{kr}U_{rl} + c_{l})}{\\partial c_{i}} = \\left\\{\n",
    "    \\begin{array}{}\n",
    "\t\t1  & \\mbox{si } l = j \\\\\n",
    "\t\t0  & \\mbox{~}\n",
    "    \\end{array}\n",
    "\\right.\n",
    "\\end{equation}\n",
    "\n",
    "\\begin{eqnarray}\n",
    "(\\frac{\\partial\\cal L}{\\partial c})_{i} &= \\frac{\\partial\\cal L}{\\partial u^{(L)}_{ki}} \\cdot 1\n",
    "\\end{eqnarray}\n",
    "\n",
    "\\begin{equation}\n",
    "\\boxed{ \\frac{\\partial\\cal L}{\\partial c} = [1 \\ldots 1] \\frac{\\partial\\cal L}{\\partial u^{(L)}} }\n",
    "\\end{equation}\n",
    "\n",
    "Donde $[1 \\ldots 1]$ es un vector de unos de largo correspondiente al numero de fila del resultado de $\\frac{\\partial\\cal L}{\\partial u^{(L)}}$ \n",
    "\n",
    "Finalmente,\n",
    "\n",
    "\\begin{equation}\n",
    "\\frac{\\partial u^{(L)}_{kl}}{\\partial h^{(L)}_{ij}} = \\frac{\\partial (h^{(L)}_{kr}U_{rl} + c_{l})}{\\partial h^{(L)}_{ij}} = \\left\\{\n",
    "    \\begin{array}{}\n",
    "\t\tU_{jl}  & \\mbox{si } k = i,\\ r = j \\\\\n",
    "\t\t0  & \\mbox{~}\n",
    "    \\end{array}\n",
    "\\right.\n",
    "\\end{equation}\n",
    "\n",
    "\\begin{eqnarray}\n",
    "(\\frac{\\partial\\cal L}{\\partial h^{(L)}})_{ij} &= \\frac{\\partial\\cal L}{\\partial u^{(L)}_{kl}} U_{jl} = \\frac{\\partial\\cal L}{\\partial u^{(L)}_{il}} U_{lj}^{T} \\\\\n",
    "\\\\\n",
    "& \\boxed{ \\frac{\\partial\\cal L}{\\partial h^{(L)}} = \\frac{\\partial\\cal L}{\\partial u^{(L)}} U^{T} }\n",
    "\\end{eqnarray}"
   ]
  },
  {
   "cell_type": "code",
   "execution_count": 0,
   "metadata": {
    "colab": {
     "autoexec": {
      "startup": false,
      "wait_interval": 0
     }
    },
    "colab_type": "code",
    "id": "L7iN-pjO5-B1"
   },
   "outputs": [],
   "source": [
    "dL_dU = torch.mm(torch.transpose(hL, 0, 1), dL_duL)\n",
    "\n",
    "dL_dc = torch.mm(torch.ones(1, dL_duL.size(0)), dL_duL)\n",
    "\n",
    "dL_dhL = torch.mm(dL_duL, torch.transpose(U, 0, 1))\n",
    "\n",
    "# El gradiente debe coincidir en dimensiones con las variables\n",
    "\n",
    "assert dL_dU.size() == U.size()\n",
    "assert dL_dc.size(1) == c_bias.size(0)\n",
    "assert dL_dhL.size() == hL.size()"
   ]
  },
  {
   "cell_type": "markdown",
   "metadata": {
    "colab_type": "text",
    "id": "pFp2e-sr5-B7"
   },
   "source": [
    "## 3c) Derivando desde las capas escondidas"
   ]
  },
  {
   "cell_type": "markdown",
   "metadata": {
    "colab_type": "text",
    "id": "EvkTqmN15-B7"
   },
   "source": [
    "\\begin{equation}\n",
    "\\frac{\\partial\\cal L}{\\partial u^{(k)}} = \\frac{\\partial\\cal L}{\\partial h^{(k)}} \\frac{\\partial\\cal h^{(k)}}{\\partial u^{(k)}} \\\\\n",
    "\\end{equation}\n",
    "\n",
    "Para __sigmoid__ tenemos la siguiente derivada:\n",
    "\\begin{equation}\n",
    "h^{(k)} = sig(u^{(k)})\n",
    "\\\\\n",
    "\\frac{\\partial\\cal h^{(k)}}{\\partial u^{(k)}} = h^{(k)}(1 - h^{(k)})\n",
    "\\end{equation}\n",
    "<br><br>\n",
    "\n",
    "Las siguientes derivadas pueden obtenerse independiente de la forma de la función de activación y son análogas a las calculadas en la última capa:\n",
    "<br><br>\n",
    "\\begin{equation}\n",
    "\\frac{\\partial\\cal L}{\\partial W^{(k)}} = (h^{(k)})^{T} \\frac{\\partial\\cal L}{\\partial u^{(k)}} \\\\\n",
    "\\end{equation}\n",
    "<br><br>\n",
    "\n",
    "\\begin{equation}\n",
    "\\frac{\\partial\\cal L}{\\partial b^{(k)}} = [1 \\ldots 1] \\frac{\\partial\\cal L}{\\partial u^{(k)}} \\\\\n",
    "\\end{equation}\n",
    "<br><br>\n",
    "\n",
    "\\begin{equation}\n",
    "\\frac{\\partial\\cal L}{\\partial h^{(k-1)}} = \\frac{\\partial\\cal L}{\\partial u^{(k)}} (W^{(k)})^T \\\\\n",
    "\\end{equation}"
   ]
  },
  {
   "cell_type": "code",
   "execution_count": 0,
   "metadata": {
    "colab": {
     "autoexec": {
      "startup": false,
      "wait_interval": 0
     }
    },
    "colab_type": "code",
    "id": "4Zi63qOT5-B9"
   },
   "outputs": [],
   "source": [
    "# Acá tu trozo de código. \n",
    "# Primero agregamos algunas variables dummy para chequear \n",
    "# que al menos las dimensiones están correctas\n",
    "\n",
    "dimk = 20\n",
    "dimkm1 = 15\n",
    "\n",
    "hk = torch.ones(B,dimk)\n",
    "Wk = torch.ones(dimk,dimkm1)\n",
    "bk = torch.ones(dimkm1)\n",
    "\n",
    "uk = hk.mm(Wk).add(bk)\n",
    "\n",
    "dL_dhkm1 = torch.ones(B,dimkm1)\n",
    "\n",
    "# Ahora tu fórmula para el gradiente.\n",
    "# Esto debes repetirlo para relu, celu, y swish\n",
    "\n",
    "# para sigmoid\n",
    "dL_duk_sig = torch.mul(dL_dhkm1, torch.mul(hL, torch.mul(torch.add(hL, -1), -1)))\n",
    "\n",
    "# para relu\n",
    "dL_duk_rel = None\n",
    "\n",
    "# para celu\n",
    "dL_duk_celu = None\n",
    "\n",
    "# para swish\n",
    "dL_duk_swish = None\n",
    "\n",
    "# se elige una funcion de activacion\n",
    "dL_duk = dL_duk_sig\n",
    "\n",
    "# estas derivadas se calculan de la misma forma para cualquier funcion de activacion\n",
    "\n",
    "dL_dWk = torch.mm(torch.transpose(hk, 0, 1), dL_duk)\n",
    "dL_dbk = torch.mm(torch.ones(1, dL_duk.size(0)), dL_duk)\n",
    "dL_dhk = torch.mm(dL_duk, torch.transpose(Wk, 0, 1))\n",
    "\n",
    "# El gradiente debe coincidir en dimensiones con las variables\n",
    "\n",
    "assert dL_duk.size() == uk.size()\n",
    "assert dL_dWk.size() == Wk.size()\n",
    "assert dL_dbk.size(1) == bk.size(0)\n",
    "assert dL_dhk.size() == hk.size()"
   ]
  },
  {
   "cell_type": "markdown",
   "metadata": {
    "colab_type": "text",
    "id": "WGiXt9nd5-B_"
   },
   "source": [
    "# Parte 4: Backpropagation en nuestra red"
   ]
  },
  {
   "cell_type": "markdown",
   "metadata": {
    "colab_type": "text",
    "id": "Bz1Eg9Q15-CA"
   },
   "source": [
    "## 4a) Método `backward`"
   ]
  },
  {
   "cell_type": "code",
   "execution_count": 0,
   "metadata": {
    "colab": {
     "autoexec": {
      "startup": false,
      "wait_interval": 0
     }
    },
    "colab_type": "code",
    "id": "DBPnt65T5-CC"
   },
   "outputs": [],
   "source": [
    "class FFNN():\n",
    "    def __init__(self, F, l_h, l_a, C, params=[]):\n",
    "      if (len(params) > 0):\n",
    "        self.W_1 = params[0][0]\n",
    "        self.b_1 = params[0][1]\n",
    "        self.W_2 = params[1][0]\n",
    "        self.b_2 = params[1][1]\n",
    "        self.U = params[2][0]\n",
    "        self.c_init = params[2][1]\n",
    "        \n",
    "        self.c_init = self.c_init.view(1, self.c_init.size(0))\n",
    "        self.b_2 = self.b_2.view(1, self.b_2.size(0))\n",
    "        self.b_1 = self.b_1.view(1, self.b_1.size(0))\n",
    "        \n",
    "        self.l_a = l_a\n",
    "\n",
    "      else:\n",
    "        self.F = F\n",
    "        self.l_h = l_h\n",
    "        self.l_a = l_a\n",
    "        self.C = C\n",
    "\n",
    "        self.W_1 = torch.randn(F, l_h[0])\n",
    "        self.b_1 = torch.zeros(1, l_h[0])\n",
    "\n",
    "        self.W_2 = torch.randn(l_h[0], l_h[1])\n",
    "        self.b_2 = torch.zeros(1, l_h[1])\n",
    "\n",
    "        self.U = torch.randn(l_h[1], C)\n",
    "        self.c_init = torch.zeros(1, C)\n",
    "          \n",
    "  \n",
    "    def gpu(self):\n",
    "      if torch.cuda.is_available():\n",
    "        self.W_1 = self.W_1.double().cuda()\n",
    "        self.b_1 = self.b_1.double().cuda()\n",
    "        self.W_2 = self.W_2.double().cuda()\n",
    "        self.b_2 = self.b_2.double().cuda()\n",
    "        self.U = self.U.double().cuda()\n",
    "        self.c_init = self.c_init.double().cuda()\n",
    "  \n",
    "    def cpu(self):\n",
    "      self.W_1 = self.W_1.cpu()\n",
    "      self.b_1 = self.b_1.cpu()\n",
    "      self.W_2 = self.W_2.cpu()\n",
    "      self.b_2 = self.b_2.cpu()\n",
    "      self.U = self.U.cpu()\n",
    "      self.c_init = self.c_init.cpu()\n",
    "  \n",
    "    def forward(self, x):\n",
    "      if torch.cuda.is_available():\n",
    "        x = x.double().cuda()\n",
    "        self.gpu()   # redundante, corregir\n",
    "      \n",
    "      #pdb.set_trace()\n",
    "      self.h_1 = self.l_a[0](torch.mm(x, self.W_1) + self.b_1)\n",
    "      self.h_2 = self.l_a[1](torch.mm(self.h_1, self.W_2) + self.b_2)\n",
    "      y = softmax(torch.mm(self.h_2, self.U) + self.c_init)\n",
    "\n",
    "      return y\n",
    "  \n",
    "    def backward(self, x, y, y_pred):\n",
    "      \n",
    "      gradientes = {}\n",
    "      \n",
    "      # gradientes capa de salida\n",
    "      \n",
    "      dimL = self.b_2.size(0)\n",
    "      uL = self.h_2.mm(self.U).add(self.c_init)\n",
    "      \n",
    "      #dL_duL = torch.mul(torch.mul(y, torch.add(y_pred, -1)), 1/y_pred.size(0))\n",
    "      dL_duL = torch.mul(torch.add(y_pred, torch.mul(y, -1)), 1/y_pred.size(0))\n",
    "      dL_dU = torch.mm(torch.transpose(self.h_2, 0, 1), dL_duL)\n",
    "      dL_dc = torch.mm(torch.ones(1, dL_duL.size(0)).double().cuda(), dL_duL)\n",
    "      dL_dh2 = torch.mm(dL_duL, torch.transpose(self.U, 0, 1))\n",
    "      \n",
    "      assert dL_duL.size() == uL.size()\n",
    "      assert dL_dU.size() == self.U.size()\n",
    "      \n",
    "      #pdb.set_trace()\n",
    "      \n",
    "      assert dL_dc.size(1) == self.c_init.size(1)\n",
    "      assert dL_dh2.size() == self.h_2.size()\n",
    "\n",
    "      # gradientes segunda capa escondida\n",
    "      \n",
    "      u2 = self.h_1.mm(self.W_2).add(self.b_2)  \n",
    "\n",
    "      # para sigmoid\n",
    "      dL_du2_sig = torch.mul(dL_dh2, torch.mul(self.h_2, torch.mul(torch.add(self.h_2, -1), -1)))\n",
    "  \n",
    "      # para relu\n",
    "      dL_duk_rel = None\n",
    "\n",
    "      # para celu\n",
    "      dL_duk_celu = None\n",
    "\n",
    "      # para swish\n",
    "      dL_duk_swish = None\n",
    "\n",
    "      # se elige una funcion de activacion\n",
    "      dL_du2 = dL_du2_sig\n",
    "\n",
    "      dL_dW2 = torch.mm(torch.transpose(self.h_1, 0, 1), dL_du2)\n",
    "      dL_db2 = torch.mm(torch.ones(1, dL_du2.size(0)).double().cuda(), dL_du2)\n",
    "      dL_dh1 = torch.mm(dL_du2, torch.transpose(self.W_2, 0, 1))\n",
    "\n",
    "      assert dL_du2.size() == u2.size()\n",
    "      assert dL_dW2.size() == self.W_2.size()\n",
    "      assert dL_db2.size(1) == self.b_2.size(1)\n",
    "      assert dL_dh1.size() == self.h_1.size()\n",
    "      \n",
    "      # gradientes primera capa escondida\n",
    "      \n",
    "      u1 = x.mm(self.W_1).add(self.b_1)  \n",
    "\n",
    "      # para sigmoid\n",
    "      dL_du1_sig = torch.mul(dL_dh1, torch.mul(self.h_1, torch.mul(torch.add(self.h_1, -1), -1)))\n",
    "  \n",
    "      # para relu\n",
    "      dL_duk_rel = None\n",
    "\n",
    "      # para celu\n",
    "      dL_duk_celu = None\n",
    "\n",
    "      # para swish\n",
    "      dL_duk_swish = None\n",
    "\n",
    "      dL_du1 = dL_du1_sig\n",
    "\n",
    "      dL_dW1 = torch.mm(torch.transpose(x, 0, 1), dL_du1)\n",
    "      dL_db1 = torch.mm(torch.ones(1, dL_du1.size(0)).double().cuda(), dL_du1)\n",
    "      dL_dx = torch.mm(dL_du1, torch.transpose(self.W_1, 0, 1))\n",
    "\n",
    "      assert dL_du1.size() == u1.size()\n",
    "      assert dL_dW1.size() == self.W_1.size()\n",
    "      assert dL_db1.size(1) == self.b_1.size(1)\n",
    "      assert dL_dx.size() == x.size()\n",
    "      \n",
    "      for gradiente in ['dL_db1', 'dL_dW1', 'dL_db2', 'dL_dW2', 'dL_dc', 'dL_dU']:\n",
    "        gradientes[gradiente] = eval(gradiente)\n",
    "      \n",
    "      self.gradientes = gradientes\n",
    "    \n",
    "    def actualizarParams(self, lr):\n",
    "      self.W_1 = self.W_1 - lr * self.gradientes['dL_dW1']\n",
    "      self.b_1 = self.b_1 - lr * self.gradientes['dL_db1']\n",
    "\n",
    "      self.W_2 = self.W_2 - lr * self.gradientes['dL_dW2']\n",
    "      self.b_2 = self.b_2 - lr * self.gradientes['dL_db2']\n",
    "\n",
    "      self.U = self.U - lr * self.gradientes['dL_dU']\n",
    "      self.c_init = self.c_init - lr * self.gradientes['dL_dc']"
   ]
  },
  {
   "cell_type": "markdown",
   "metadata": {
    "colab_type": "text",
    "id": "njIqFC7LSDpz"
   },
   "source": [
    "## 4b) Checkeo de gradiente"
   ]
  },
  {
   "cell_type": "markdown",
   "metadata": {
    "colab_type": "text",
    "id": "qK_gEjYSSI5E"
   },
   "source": [
    "# Parte 5: Descenso de gradiente y entrenamiento"
   ]
  },
  {
   "cell_type": "markdown",
   "metadata": {
    "colab_type": "text",
    "id": "VI-zZtO7SmD2"
   },
   "source": [
    "## 5a) Descenso de gradiente (estocástico)"
   ]
  },
  {
   "cell_type": "code",
   "execution_count": 0,
   "metadata": {
    "colab": {
     "autoexec": {
      "startup": false,
      "wait_interval": 0
     }
    },
    "colab_type": "code",
    "id": "uAyl1_s0SpUQ"
   },
   "outputs": [],
   "source": [
    "class SGD():\n",
    "  def __init__(self, red, lr):\n",
    "    self.red = red\n",
    "    self.lr = lr\n",
    "  \n",
    "  def step(self):\n",
    "    self.red.actualizarParams(self.lr)"
   ]
  },
  {
   "cell_type": "markdown",
   "metadata": {
    "colab_type": "text",
    "id": "Jkmkfc50xhls"
   },
   "source": [
    "## 5b) Datos para carga"
   ]
  },
  {
   "cell_type": "code",
   "execution_count": 0,
   "metadata": {
    "colab": {
     "autoexec": {
      "startup": false,
      "wait_interval": 0
     }
    },
    "colab_type": "code",
    "id": "rjjQYqqWxiYX"
   },
   "outputs": [],
   "source": [
    "class RandomDataset():\n",
    "  def __init__(self, N, F, C):\n",
    "    x = torch.rand(N, F)\n",
    "    self.x = torch.bernoulli(x).double().cuda()\n",
    "    self.y = torch.from_numpy(numpy.eye(C)[numpy.random.choice(C, N)]).double().cuda()\n",
    "    self.large = N\n",
    "  \n",
    "  def __len__(self):\n",
    "    return self.large\n",
    "  \n",
    "  def __getitem__(self, i):\n",
    "    return (self.x[i,:], self.y[i,:])\n",
    "  \n",
    "  def paquetes(self, B):\n",
    "       \n",
    "    if not hasattr(self, 'arr_paquetes'):\n",
    "      n_iters = int(self.x.size(0)/B)\n",
    "      arr_paquetes = []  \n",
    "   \n",
    "      for index in range(n_iters):\n",
    "        arr_paquetes.append(self.elige_batch(self.x,self.y,B))\n",
    "              \n",
    "      self.arr_paquetes = arr_paquetes\n",
    "      \n",
    "    return self.arr_paquetes\n",
    "    \n",
    "  # Para elegir el siguiente batch (uno al azar) desde los datos de entrada\n",
    "  def elige_batch(self, X, Y, b):\n",
    "    N = X.size()[0]\n",
    "    x_lista = []\n",
    "    y_lista = []\n",
    "  \n",
    "    for _ in range(b):\n",
    "      i = numpy.random.randint(N)\n",
    "      x_lista.append(X[i:i+1])\n",
    "      y_lista.append(Y[i:i+1])      \n",
    "  \n",
    "    x = torch.cat(x_lista, dim=0)\n",
    "    y = torch.cat(y_lista, dim=0)\n",
    "    #pdb.set_trace()\n",
    "  \n",
    "    return x,y"
   ]
  },
  {
   "cell_type": "markdown",
   "metadata": {
    "colab_type": "text",
    "id": "xl8T_PlW-NnK"
   },
   "source": [
    "## 5c) Entrenando la red"
   ]
  },
  {
   "cell_type": "code",
   "execution_count": 0,
   "metadata": {
    "colab": {
     "autoexec": {
      "startup": false,
      "wait_interval": 0
     }
    },
    "colab_type": "code",
    "id": "sq9wZ7vY-j8p"
   },
   "outputs": [],
   "source": [
    "def entrenar_FFNN(red_neuronal, dataset, optimizador, epochs, B):\n",
    "  \n",
    "  perdidas = []\n",
    "  \n",
    "  for e in range(1,epochs+1):\n",
    "    for x,y in dataset.paquetes(B):\n",
    "      y_pred = red_neuronal.forward(x)\n",
    "      #pdb.set_trace()\n",
    "      perdidas.append(cross_ent_loss(y_pred,y))\n",
    "      \n",
    "      red_neuronal.backward(x, y, y_pred)\n",
    "      optimizador.step()  \n",
    "    \n",
    "  return red_neuronal, perdidas  "
   ]
  },
  {
   "cell_type": "markdown",
   "metadata": {
    "colab_type": "text",
    "id": "eI4eTIzrbwOJ"
   },
   "source": [
    "## 5d) Graficando la pérdida en el tiempo"
   ]
  },
  {
   "cell_type": "code",
   "execution_count": 381,
   "metadata": {
    "colab": {
     "autoexec": {
      "startup": false,
      "wait_interval": 0
     },
     "base_uri": "https://localhost:8080/",
     "height": 1113
    },
    "colab_type": "code",
    "executionInfo": {
     "elapsed": 31433,
     "status": "ok",
     "timestamp": 1523237527525,
     "user": {
      "displayName": "Martín Cornejo-Saavedra",
      "photoUrl": "https://lh3.googleusercontent.com/a/default-user=s128",
      "userId": "100137397923643336617"
     },
     "user_tz": 180
    },
    "id": "DNxjPUaBbx4N",
    "outputId": "9902b78c-acd6-494e-d7b5-e8e0ca6cd71c"
   },
   "outputs": [
    {
     "data": {
      "text/plain": [
       "True"
      ]
     },
     "execution_count": 381,
     "metadata": {
      "tags": []
     },
     "output_type": "execute_result"
    },
    {
     "data": {
      "image/png": "[encoded data removed]",
      "text/plain": [
       "<matplotlib.figure.Figure at 0x7fb3c8da0390>"
      ]
     },
     "metadata": {
      "tags": []
     },
     "output_type": "display_data"
    },
    {
     "data": {
      "image/png": "[encoded data removed]",
      "text/plain": [
       "<matplotlib.figure.Figure at 0x7fb40220b7f0>"
      ]
     },
     "metadata": {
      "tags": []
     },
     "output_type": "display_data"
    },
    {
     "data": {
      "image/png": "[encoded data removed]",
      "text/plain": [
       "<matplotlib.figure.Figure at 0x7fb3c7301e48>"
      ]
     },
     "metadata": {
      "tags": []
     },
     "output_type": "display_data"
    }
   ],
   "source": [
    "#red_entrenada, perdida = entrenar_FFNN(red, dataset, optimizador, 20, 4)\n",
    "\n",
    "#red_neuronal = FFNN(0, [], ['algo'], 10, params)\n",
    "import matplotlib.pyplot as plt\n",
    "features = 10\n",
    "clases = 3\n",
    "dataset = RandomDataset(1000,features,clases)\n",
    "\n",
    "redes = [\n",
    "    FFNN(features, [5, 5], [sig, sig], clases),\n",
    "    FFNN(features, [15, 15], [sig, sig], clases),\n",
    "    FFNN(features, [50, 50], [sig, sig], clases)\n",
    "]\n",
    "\n",
    "for idx, red_neuronal in enumerate(redes):\n",
    "\n",
    "  red_neuronal.gpu()\n",
    "\n",
    "  optimizador = SGD(red_neuronal, 0.001) \n",
    "\n",
    "  epochs = 30\n",
    "  batch = 10\n",
    "  red_neuronal, perdidas = entrenar_FFNN(red_neuronal, dataset, optimizador, epochs, batch)\n",
    "\n",
    "  plt.figure()\n",
    "  plt.plot(numpy.linspace(1, len(perdidas), len(perdidas)), perdidas, 'g.')\n",
    "  plt.title(\"Funcion de costo vs iteraciones: Red \"+str(idx+1))\n",
    "  plt.xlabel(\"Iteracion\")\n",
    "  plt.ylabel(\"Perdida\")\n",
    "  #pdb.set_trace()\n",
    "  \n",
    "True"
   ]
  },
  {
   "cell_type": "markdown",
   "metadata": {
    "colab_type": "text",
    "id": "Ld9Hmi6rLzcb"
   },
   "source": []
  }
 ],
 "metadata": {
  "accelerator": "GPU",
  "colab": {
   "collapsed_sections": [],
   "default_view": {},
   "name": "Respuestas_Tarea_1_Partes_1_2_CC6402_2018.ipynb",
   "provenance": [],
   "version": "0.3.2",
   "views": {}
  },
  "kernelspec": {
   "display_name": "Python 3",
   "language": "python",
   "name": "python3"
  },
  "language_info": {
   "codemirror_mode": {
    "name": "ipython",
    "version": 3
   },
   "file_extension": ".py",
   "mimetype": "text/x-python",
   "name": "python",
   "nbconvert_exporter": "python",
   "pygments_lexer": "ipython3",
   "version": "3.5.2"
  }
 },
 "nbformat": 4,
 "nbformat_minor": 1
}
