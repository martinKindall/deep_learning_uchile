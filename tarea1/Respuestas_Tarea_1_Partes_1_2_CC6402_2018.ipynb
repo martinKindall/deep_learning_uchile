{
 "cells": [
  {
   "cell_type": "markdown",
   "metadata": {
    "colab_type": "text",
    "id": "iCszeuRk0NuH"
   },
   "source": [
    "# Tarea 1 <br/> CC6204 Deep Learning, Universidad de Chile  <br/> Hoja de respuestas partes 1 y 2 \n",
    "## Nombre: Martin Cornejo Saavedra\n",
    "Fecha sugerida para completar esta parte: 23 de marzo de 2018"
   ]
  },
  {
   "cell_type": "markdown",
   "metadata": {
    "colab_type": "text",
    "id": "Uq9u0IfT0VRp"
   },
   "source": [
    "# Parte 1: Funciones de activación, derivadas y función de salida"
   ]
  },
  {
   "cell_type": "markdown",
   "metadata": {
    "colab_type": "text",
    "id": "DMw80P8o0qrJ"
   },
   "source": [
    "## 1a) Funciones de activación"
   ]
  },
  {
   "cell_type": "code",
   "execution_count": 0,
   "metadata": {
    "colab": {
     "autoexec": {
      "startup": false,
      "wait_interval": 0
     }
    },
    "colab_type": "code",
    "id": "tDhcNbNT0YNr"
   },
   "outputs": [],
   "source": [
    "# Tu código acá\n",
    "\n",
    "def relu(T):\n",
    "    S = torch.abs(T)\n",
    "    return torch.div(torch.add(T, 1, S), 2)\n",
    "\n",
    "def sig(T):\n",
    "    return torch.reciprocal(1 + torch.exp(-1 * T))\t\n",
    "\n",
    "def swish(T, beta):\n",
    "    return torch.mul(T, sig(torch.mul(T, beta)))\n",
    "\n",
    "def celu(T, ):\n",
    "  pass"
   ]
  },
  {
   "cell_type": "markdown",
   "metadata": {
    "colab_type": "text",
    "id": "S_StkJsV07L3"
   },
   "source": [
    "## 1b) Derivando las funciones de activación"
   ]
  },
  {
   "cell_type": "markdown",
   "metadata": {
    "colab_type": "text",
    "id": "UXyOWjYi1Do8"
   },
   "source": [
    "\n",
    "\\begin{equation}\n",
    "\\frac{\\partial\\ \\text{relu}(x)}{\\partial x} = \\ldots \\\\\n",
    "\\end{equation}\n",
    "<br><br>\n",
    "\n",
    "\\begin{eqnarray}\n",
    "\\frac{\\partial\\ \\text{swish}(x, \\ldots)}{\\partial x} & = & \\ldots \\\\\n",
    "\\frac{\\partial\\ \\text{swish}(x, \\ldots)}{\\partial \\ldots} & = & \\ldots \\\\\n",
    "\\end{eqnarray}\n",
    "<br><br>\n",
    "\n",
    "\\begin{eqnarray}\n",
    "\\frac{\\partial\\ \\text{celu}(x, \\ldots)}{\\partial x} & = & \\ldots \\\\\n",
    "\\frac{\\partial\\ \\text{celu}(x, \\ldots)}{\\partial \\ldots} & = & \\ldots \\\\\n",
    "\\end{eqnarray}"
   ]
  },
  {
   "cell_type": "markdown",
   "metadata": {
    "colab_type": "text",
    "id": "aLn-enev1RQg"
   },
   "source": [
    "(Las deducciones correspondientes puedes entregarlas en otro archivo, o incluirlas directamente arriba.)"
   ]
  },
  {
   "cell_type": "markdown",
   "metadata": {
    "colab_type": "text",
    "id": "e_0dTh7l1bas"
   },
   "source": [
    "## 1c) Softmax"
   ]
  },
  {
   "cell_type": "markdown",
   "metadata": {
    "colab_type": "text",
    "id": "NjIyp2nL1le5"
   },
   "source": [
    "(La demostración puedes entregarla en otro archivo o incluirla directamente acá)"
   ]
  },
  {
   "cell_type": "code",
   "execution_count": 0,
   "metadata": {
    "colab": {
     "autoexec": {
      "startup": false,
      "wait_interval": 0
     }
    },
    "colab_type": "code",
    "id": "jDg2sU7D1dIY"
   },
   "outputs": [],
   "source": [
    "# Tu código acá\n",
    "\n",
    "def softmax(T, dim=0, estable=True):\n",
    "  pass"
   ]
  },
  {
   "cell_type": "markdown",
   "metadata": {
    "colab_type": "text",
    "id": "662XLsDA9XXI"
   },
   "source": [
    "# Parte 2: Red neuronal y pasada hacia adelante (forward)"
   ]
  },
  {
   "cell_type": "markdown",
   "metadata": {
    "colab_type": "text",
    "id": "fTUm9ZbX9bRA"
   },
   "source": [
    "## 2a) Clase para red neuronal, 2b) Usando la GPU, 2c) Pasada hacia adelante"
   ]
  },
  {
   "cell_type": "code",
   "execution_count": 0,
   "metadata": {
    "colab": {
     "autoexec": {
      "startup": false,
      "wait_interval": 0
     }
    },
    "colab_type": "code",
    "id": "f_jeuYbv9WhK"
   },
   "outputs": [],
   "source": [
    "# Tu código debiera continuar así \n",
    "\n",
    "class FFNN():\n",
    "  def __init__(self, F, l_h, l_a, C):\n",
    "    pass\n",
    "  \n",
    "  def gpu(self):\n",
    "    pass\n",
    "  \n",
    "  def cpu(self):\n",
    "    pass\n",
    "  \n",
    "  def forward(self, x):\n",
    "    # Usar parámetros y funciones de activación\n",
    "    # El valor de retorno debiera ser y = softmax(capa_de_salida)\n",
    "    pass"
   ]
  },
  {
   "cell_type": "markdown",
   "metadata": {
    "colab_type": "text",
    "id": "Bgf5Xx-34Pa1"
   },
   "source": [
    "## 2d) Probando tu red con un modelo pre-entrenado"
   ]
  },
  {
   "cell_type": "code",
   "execution_count": 0,
   "metadata": {
    "colab": {
     "autoexec": {
      "startup": false,
      "wait_interval": 0
     }
    },
    "colab_type": "code",
    "id": "2zppplXd4QXa"
   },
   "outputs": [],
   "source": [
    "# Tu código acá"
   ]
  },
  {
   "cell_type": "code",
   "execution_count": 0,
   "metadata": {
    "colab": {
     "autoexec": {
      "startup": false,
      "wait_interval": 0
     }
    },
    "colab_type": "code",
    "id": "SLeq3y8FE3SU"
   },
   "outputs": [],
   "source": [
    "# Tu código visualizando los ejemplos incorrectos acá"
   ]
  }
 ],
 "metadata": {
  "colab": {
   "default_view": {},
   "name": "Respuestas_Tarea_1_Partes_1_2_CC6402_2018",
   "provenance": [],
   "version": "0.3.2",
   "views": {}
  },
  "kernelspec": {
   "display_name": "Python 3",
   "language": "python",
   "name": "python3"
  },
  "language_info": {
   "codemirror_mode": {
    "name": "ipython",
    "version": 3
   },
   "file_extension": ".py",
   "mimetype": "text/x-python",
   "name": "python",
   "nbconvert_exporter": "python",
   "pygments_lexer": "ipython3",
   "version": "3.5.2"
  }
 },
 "nbformat": 4,
 "nbformat_minor": 1
}
